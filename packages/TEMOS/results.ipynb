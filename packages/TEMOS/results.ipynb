{
  "cells": [
    {
      "cell_type": "markdown",
      "id": "92691434",
      "metadata": {
        "id": "92691434"
      },
      "source": []
    },
    {
      "cell_type": "code",
      "source": [
        "from google.colab import drive\n",
        "drive.mount('/content/drive')"
      ],
      "metadata": {
        "colab": {
          "base_uri": "https://localhost:8080/"
        },
        "id": "DmXRJBI0PnuF",
        "outputId": "d709d27a-692a-4000-abfb-ee77b4142165"
      },
      "id": "DmXRJBI0PnuF",
      "execution_count": 1,
      "outputs": [
        {
          "output_type": "stream",
          "name": "stdout",
          "text": [
            "Mounted at /content/drive\n"
          ]
        }
      ]
    },
    {
      "cell_type": "code",
      "source": [
        "%cd /content/drive/MyDrive/vid tokenization/asymov/packages/TEMOS"
      ],
      "metadata": {
        "colab": {
          "base_uri": "https://localhost:8080/"
        },
        "id": "OKGR7gxGP4qG",
        "outputId": "440d14ba-6f3b-45d6-aa42-10aa54a36972"
      },
      "id": "OKGR7gxGP4qG",
      "execution_count": 2,
      "outputs": [
        {
          "output_type": "stream",
          "name": "stdout",
          "text": [
            "/content/drive/MyDrive/vid tokenization/asymov/packages/TEMOS\n"
          ]
        }
      ]
    },
    {
      "cell_type": "code",
      "execution_count": 3,
      "id": "d5186114",
      "metadata": {
        "ExecuteTime": {
          "end_time": "2022-09-21T17:50:34.303375Z",
          "start_time": "2022-09-21T17:50:34.296381Z"
        },
        "id": "d5186114"
      },
      "outputs": [],
      "source": [
        "import os\n",
        "import pdb\n",
        "import pickle\n",
        "import json\n",
        "import pandas as pd\n",
        "from tqdm import tqdm"
      ]
    },
    {
      "cell_type": "code",
      "execution_count": 18,
      "id": "4500e1db",
      "metadata": {
        "ExecuteTime": {
          "end_time": "2022-09-21T18:03:19.761753Z",
          "start_time": "2022-09-21T18:03:19.745755Z"
        },
        "id": "4500e1db"
      },
      "outputs": [],
      "source": [
        "# \n",
        "import sys\n",
        "sys.path.append('../../')\n",
        "from importlib import reload\n",
        "import viz\n",
        "reload(viz)\n",
        "from viz import ground_truth_construction as gt_const"
      ]
    },
    {
      "cell_type": "markdown",
      "id": "e1a7986a",
      "metadata": {
        "id": "e1a7986a"
      },
      "source": [
        "### Sample sequence from KIT Motion Language dataset and visualize it"
      ]
    },
    {
      "cell_type": "markdown",
      "id": "19568c2d",
      "metadata": {
        "id": "19568c2d"
      },
      "source": [
        "#### Load full dataset\n",
        "`xyz_data = {'00001': Joint positions, ... }` <br>\n",
        "`seqid_ann = {'00001': [<ann1>, <ann2>, ...], ...}`"
      ]
    },
    {
      "cell_type": "code",
      "execution_count": 7,
      "id": "2625cd07",
      "metadata": {
        "id": "2625cd07"
      },
      "outputs": [],
      "source": [
        "xyz_data, seq_ann = None, None \n",
        "with open('datasets/xyz_data.pkl', 'rb') as infile:\n",
        "    xyz_data = pickle.load(infile)\n",
        "\n",
        "with open('datasets/seqid_ann.pkl', 'rb') as infile:\n",
        "    seqid_ann = pickle.load(infile)    \n",
        "print('# Seqs. (jpos) = ', len(xyz_data.keys()))    \n",
        "print('# Seqs. (annotation) = ', len(seqid_ann.keys()))"
      ]
    },
    {
      "cell_type": "code",
      "execution_count": 11,
      "id": "3ffd9d93",
      "metadata": {
        "ExecuteTime": {
          "end_time": "2022-09-21T18:06:42.623594Z",
          "start_time": "2022-09-21T18:03:38.731925Z"
        },
        "colab": {
          "base_uri": "https://localhost:8080/"
        },
        "id": "3ffd9d93",
        "outputId": "7d26dcf8-93bb-4203-c0ea-86a651ee7bd0"
      },
      "outputs": [
        {
          "output_type": "stream",
          "name": "stdout",
          "text": [
            "----------------------------------------------------\n"
          ]
        },
        {
          "output_type": "stream",
          "name": "stderr",
          "text": [
            "Ground Truth construction: 100%|██████████| 1/1 [00:00<00:00, 1125.38it/s]"
          ]
        },
        {
          "output_type": "stream",
          "name": "stdout",
          "text": [
            "----------------------------------------------------\n"
          ]
        },
        {
          "output_type": "stream",
          "name": "stderr",
          "text": [
            "\n",
            "joint2img: 100%|██████████| 1/1 [00:18<00:00, 18.42s/it]\n",
            "img2vid: 100%|██████████| 1/1 [00:00<00:00,  1.13it/s]"
          ]
        },
        {
          "output_type": "stream",
          "name": "stdout",
          "text": [
            "----------------------------------------------------\n"
          ]
        },
        {
          "output_type": "stream",
          "name": "stderr",
          "text": [
            "\n"
          ]
        }
      ],
      "source": [
        "seq_names = ['00002']\n",
        "data_path = xyz_data\n",
        "frames_dir = './temp_gt/'\n",
        "gt_const(seq_names, data_path, 'kitml', gt_downsample_ratio=0.25, fps=25.0, frames_dir=frames_dir, force=False)"
      ]
    },
    {
      "cell_type": "markdown",
      "id": "48eaefda",
      "metadata": {
        "id": "48eaefda"
      },
      "source": [
        "## Visualize GT clusters  "
      ]
    },
    {
      "cell_type": "markdown",
      "source": [
        "Dataframe containing keys: \n",
        "`['y', 'cluster', 'frame_index', 'seq_name', 'feat_vec', 'dist', 'keypoints3d']`\n",
        "\n",
        "Here, `keypoints3d = xyz_data[seq_name][frame_idx]`"
      ],
      "metadata": {
        "id": "JzZ5PJgFRe46"
      },
      "id": "JzZ5PJgFRe46"
    },
    {
      "cell_type": "code",
      "execution_count": 16,
      "id": "c8536679",
      "metadata": {
        "colab": {
          "base_uri": "https://localhost:8080/",
          "height": 641
        },
        "id": "c8536679",
        "outputId": "8bddb076-0a5b-4304-bb04-eaafc2c1f3a5"
      },
      "outputs": [
        {
          "output_type": "execute_result",
          "data": {
            "text/plain": [
              "          y  cluster  frame_index seq_name  \\\n",
              "0      68.0        0          168    00114   \n",
              "1       2.0        1          165    00006   \n",
              "2      69.0        2           44    00119   \n",
              "3     847.0        3          214    01430   \n",
              "4      67.0        4          108    00113   \n",
              "..      ...      ...          ...      ...   \n",
              "995  1385.0      995         4640    02578   \n",
              "996  1391.0      996          492    02593   \n",
              "997  1436.0      997          924    02760   \n",
              "998  1768.0      998         1766    03910   \n",
              "999  1611.0      999          504    03375   \n",
              "\n",
              "                                              feat_vec      dist  \\\n",
              "0    [[-0.019726163, 0.4989538, 0.21889676, -0.0354...  0.128534   \n",
              "1    [[-0.038962323, 0.5037246, 0.21353464, -0.0953...  0.165377   \n",
              "2    [[-0.0329172, 0.49330732, 0.1931918, -0.019863...  0.162608   \n",
              "3    [[0.23490477, 0.500374, 0.0033735204, 0.224125...  0.047033   \n",
              "4    [[-0.028904036, 0.49127173, 0.22740656, -0.046...  0.172544   \n",
              "..                                                 ...       ...   \n",
              "995  [[-0.035916295, 0.50658745, -0.3017668, 0.0043...  0.756799   \n",
              "996  [[-0.068250306, 0.50639766, 0.21633554, -0.354...  2.482215   \n",
              "997  [[-0.23774035, 0.35952774, -0.38667053, -0.135...  0.950359   \n",
              "998  [[-0.003549873, 0.48991072, -0.28980905, 0.321...  1.654377   \n",
              "999  [[-0.09711679, 0.48128742, -0.30349648, -0.300...  2.869924   \n",
              "\n",
              "                                           keypoints3d  \n",
              "0    [[0.0, 0.0, 0.0], [-0.015732681375141055, 0.32...  \n",
              "1    [[0.0, 0.0, 0.0], [-0.05641918991773309, 0.320...  \n",
              "2    [[0.0, 0.0, 0.0], [0.013054035749192394, 0.324...  \n",
              "3    [[0.0, 0.0, 0.0], [-0.010779240215670782, 0.32...  \n",
              "4    [[0.0, 0.0, 0.0], [-0.017358693474534448, 0.32...  \n",
              "..                                                 ...  \n",
              "995  [[0.0, 0.0, 0.0], [0.040259269737020986, 0.322...  \n",
              "996  [[0.0, 0.0, 0.0], [-0.2862112857684167, 0.1527...  \n",
              "997  [[0.0, 0.0, 0.0], [0.10185693537732732, 0.3070...  \n",
              "998  [[0.0, 0.0, 0.0], [0.32499790258032135, -0.011...  \n",
              "999  [[0.0, 0.0, 0.0], [-0.2031924306295423, -0.245...  \n",
              "\n",
              "[1000 rows x 7 columns]"
            ],
            "text/html": [
              "\n",
              "  <div id=\"df-60f948cd-ed0e-490a-a43c-cc2ec0cc3e2b\">\n",
              "    <div class=\"colab-df-container\">\n",
              "      <div>\n",
              "<style scoped>\n",
              "    .dataframe tbody tr th:only-of-type {\n",
              "        vertical-align: middle;\n",
              "    }\n",
              "\n",
              "    .dataframe tbody tr th {\n",
              "        vertical-align: top;\n",
              "    }\n",
              "\n",
              "    .dataframe thead th {\n",
              "        text-align: right;\n",
              "    }\n",
              "</style>\n",
              "<table border=\"1\" class=\"dataframe\">\n",
              "  <thead>\n",
              "    <tr style=\"text-align: right;\">\n",
              "      <th></th>\n",
              "      <th>y</th>\n",
              "      <th>cluster</th>\n",
              "      <th>frame_index</th>\n",
              "      <th>seq_name</th>\n",
              "      <th>feat_vec</th>\n",
              "      <th>dist</th>\n",
              "      <th>keypoints3d</th>\n",
              "    </tr>\n",
              "  </thead>\n",
              "  <tbody>\n",
              "    <tr>\n",
              "      <th>0</th>\n",
              "      <td>68.0</td>\n",
              "      <td>0</td>\n",
              "      <td>168</td>\n",
              "      <td>00114</td>\n",
              "      <td>[[-0.019726163, 0.4989538, 0.21889676, -0.0354...</td>\n",
              "      <td>0.128534</td>\n",
              "      <td>[[0.0, 0.0, 0.0], [-0.015732681375141055, 0.32...</td>\n",
              "    </tr>\n",
              "    <tr>\n",
              "      <th>1</th>\n",
              "      <td>2.0</td>\n",
              "      <td>1</td>\n",
              "      <td>165</td>\n",
              "      <td>00006</td>\n",
              "      <td>[[-0.038962323, 0.5037246, 0.21353464, -0.0953...</td>\n",
              "      <td>0.165377</td>\n",
              "      <td>[[0.0, 0.0, 0.0], [-0.05641918991773309, 0.320...</td>\n",
              "    </tr>\n",
              "    <tr>\n",
              "      <th>2</th>\n",
              "      <td>69.0</td>\n",
              "      <td>2</td>\n",
              "      <td>44</td>\n",
              "      <td>00119</td>\n",
              "      <td>[[-0.0329172, 0.49330732, 0.1931918, -0.019863...</td>\n",
              "      <td>0.162608</td>\n",
              "      <td>[[0.0, 0.0, 0.0], [0.013054035749192394, 0.324...</td>\n",
              "    </tr>\n",
              "    <tr>\n",
              "      <th>3</th>\n",
              "      <td>847.0</td>\n",
              "      <td>3</td>\n",
              "      <td>214</td>\n",
              "      <td>01430</td>\n",
              "      <td>[[0.23490477, 0.500374, 0.0033735204, 0.224125...</td>\n",
              "      <td>0.047033</td>\n",
              "      <td>[[0.0, 0.0, 0.0], [-0.010779240215670782, 0.32...</td>\n",
              "    </tr>\n",
              "    <tr>\n",
              "      <th>4</th>\n",
              "      <td>67.0</td>\n",
              "      <td>4</td>\n",
              "      <td>108</td>\n",
              "      <td>00113</td>\n",
              "      <td>[[-0.028904036, 0.49127173, 0.22740656, -0.046...</td>\n",
              "      <td>0.172544</td>\n",
              "      <td>[[0.0, 0.0, 0.0], [-0.017358693474534448, 0.32...</td>\n",
              "    </tr>\n",
              "    <tr>\n",
              "      <th>...</th>\n",
              "      <td>...</td>\n",
              "      <td>...</td>\n",
              "      <td>...</td>\n",
              "      <td>...</td>\n",
              "      <td>...</td>\n",
              "      <td>...</td>\n",
              "      <td>...</td>\n",
              "    </tr>\n",
              "    <tr>\n",
              "      <th>995</th>\n",
              "      <td>1385.0</td>\n",
              "      <td>995</td>\n",
              "      <td>4640</td>\n",
              "      <td>02578</td>\n",
              "      <td>[[-0.035916295, 0.50658745, -0.3017668, 0.0043...</td>\n",
              "      <td>0.756799</td>\n",
              "      <td>[[0.0, 0.0, 0.0], [0.040259269737020986, 0.322...</td>\n",
              "    </tr>\n",
              "    <tr>\n",
              "      <th>996</th>\n",
              "      <td>1391.0</td>\n",
              "      <td>996</td>\n",
              "      <td>492</td>\n",
              "      <td>02593</td>\n",
              "      <td>[[-0.068250306, 0.50639766, 0.21633554, -0.354...</td>\n",
              "      <td>2.482215</td>\n",
              "      <td>[[0.0, 0.0, 0.0], [-0.2862112857684167, 0.1527...</td>\n",
              "    </tr>\n",
              "    <tr>\n",
              "      <th>997</th>\n",
              "      <td>1436.0</td>\n",
              "      <td>997</td>\n",
              "      <td>924</td>\n",
              "      <td>02760</td>\n",
              "      <td>[[-0.23774035, 0.35952774, -0.38667053, -0.135...</td>\n",
              "      <td>0.950359</td>\n",
              "      <td>[[0.0, 0.0, 0.0], [0.10185693537732732, 0.3070...</td>\n",
              "    </tr>\n",
              "    <tr>\n",
              "      <th>998</th>\n",
              "      <td>1768.0</td>\n",
              "      <td>998</td>\n",
              "      <td>1766</td>\n",
              "      <td>03910</td>\n",
              "      <td>[[-0.003549873, 0.48991072, -0.28980905, 0.321...</td>\n",
              "      <td>1.654377</td>\n",
              "      <td>[[0.0, 0.0, 0.0], [0.32499790258032135, -0.011...</td>\n",
              "    </tr>\n",
              "    <tr>\n",
              "      <th>999</th>\n",
              "      <td>1611.0</td>\n",
              "      <td>999</td>\n",
              "      <td>504</td>\n",
              "      <td>03375</td>\n",
              "      <td>[[-0.09711679, 0.48128742, -0.30349648, -0.300...</td>\n",
              "      <td>2.869924</td>\n",
              "      <td>[[0.0, 0.0, 0.0], [-0.2031924306295423, -0.245...</td>\n",
              "    </tr>\n",
              "  </tbody>\n",
              "</table>\n",
              "<p>1000 rows × 7 columns</p>\n",
              "</div>\n",
              "      <button class=\"colab-df-convert\" onclick=\"convertToInteractive('df-60f948cd-ed0e-490a-a43c-cc2ec0cc3e2b')\"\n",
              "              title=\"Convert this dataframe to an interactive table.\"\n",
              "              style=\"display:none;\">\n",
              "        \n",
              "  <svg xmlns=\"http://www.w3.org/2000/svg\" height=\"24px\"viewBox=\"0 0 24 24\"\n",
              "       width=\"24px\">\n",
              "    <path d=\"M0 0h24v24H0V0z\" fill=\"none\"/>\n",
              "    <path d=\"M18.56 5.44l.94 2.06.94-2.06 2.06-.94-2.06-.94-.94-2.06-.94 2.06-2.06.94zm-11 1L8.5 8.5l.94-2.06 2.06-.94-2.06-.94L8.5 2.5l-.94 2.06-2.06.94zm10 10l.94 2.06.94-2.06 2.06-.94-2.06-.94-.94-2.06-.94 2.06-2.06.94z\"/><path d=\"M17.41 7.96l-1.37-1.37c-.4-.4-.92-.59-1.43-.59-.52 0-1.04.2-1.43.59L10.3 9.45l-7.72 7.72c-.78.78-.78 2.05 0 2.83L4 21.41c.39.39.9.59 1.41.59.51 0 1.02-.2 1.41-.59l7.78-7.78 2.81-2.81c.8-.78.8-2.07 0-2.86zM5.41 20L4 18.59l7.72-7.72 1.47 1.35L5.41 20z\"/>\n",
              "  </svg>\n",
              "      </button>\n",
              "      \n",
              "  <style>\n",
              "    .colab-df-container {\n",
              "      display:flex;\n",
              "      flex-wrap:wrap;\n",
              "      gap: 12px;\n",
              "    }\n",
              "\n",
              "    .colab-df-convert {\n",
              "      background-color: #E8F0FE;\n",
              "      border: none;\n",
              "      border-radius: 50%;\n",
              "      cursor: pointer;\n",
              "      display: none;\n",
              "      fill: #1967D2;\n",
              "      height: 32px;\n",
              "      padding: 0 0 0 0;\n",
              "      width: 32px;\n",
              "    }\n",
              "\n",
              "    .colab-df-convert:hover {\n",
              "      background-color: #E2EBFA;\n",
              "      box-shadow: 0px 1px 2px rgba(60, 64, 67, 0.3), 0px 1px 3px 1px rgba(60, 64, 67, 0.15);\n",
              "      fill: #174EA6;\n",
              "    }\n",
              "\n",
              "    [theme=dark] .colab-df-convert {\n",
              "      background-color: #3B4455;\n",
              "      fill: #D2E3FC;\n",
              "    }\n",
              "\n",
              "    [theme=dark] .colab-df-convert:hover {\n",
              "      background-color: #434B5C;\n",
              "      box-shadow: 0px 1px 3px 1px rgba(0, 0, 0, 0.15);\n",
              "      filter: drop-shadow(0px 1px 2px rgba(0, 0, 0, 0.3));\n",
              "      fill: #FFFFFF;\n",
              "    }\n",
              "  </style>\n",
              "\n",
              "      <script>\n",
              "        const buttonEl =\n",
              "          document.querySelector('#df-60f948cd-ed0e-490a-a43c-cc2ec0cc3e2b button.colab-df-convert');\n",
              "        buttonEl.style.display =\n",
              "          google.colab.kernel.accessAllowed ? 'block' : 'none';\n",
              "\n",
              "        async function convertToInteractive(key) {\n",
              "          const element = document.querySelector('#df-60f948cd-ed0e-490a-a43c-cc2ec0cc3e2b');\n",
              "          const dataTable =\n",
              "            await google.colab.kernel.invokeFunction('convertToInteractive',\n",
              "                                                     [key], {});\n",
              "          if (!dataTable) return;\n",
              "\n",
              "          const docLinkHtml = 'Like what you see? Visit the ' +\n",
              "            '<a target=\"_blank\" href=https://colab.research.google.com/notebooks/data_table.ipynb>data table notebook</a>'\n",
              "            + ' to learn more about interactive tables.';\n",
              "          element.innerHTML = '';\n",
              "          dataTable['output_type'] = 'display_data';\n",
              "          await google.colab.output.renderOutput(dataTable, element);\n",
              "          const docLink = document.createElement('div');\n",
              "          docLink.innerHTML = docLinkHtml;\n",
              "          element.appendChild(docLink);\n",
              "        }\n",
              "      </script>\n",
              "    </div>\n",
              "  </div>\n",
              "  "
            ]
          },
          "metadata": {},
          "execution_count": 16
        }
      ],
      "source": [
        "proxy_center_info_path = 'datasets/proxy_centers_tr_complete_1000.pkl'\n",
        "with open(proxy_center_info_path, 'rb') as infile:\n",
        "    df = pickle.load(infile)\n",
        "df"
      ]
    },
    {
      "cell_type": "code",
      "source": [
        "type(df)"
      ],
      "metadata": {
        "colab": {
          "base_uri": "https://localhost:8080/"
        },
        "id": "pQKTubBtxh0I",
        "outputId": "1930b1e7-a5c7-4968-e32c-1d855900e406"
      },
      "id": "pQKTubBtxh0I",
      "execution_count": 69,
      "outputs": [
        {
          "output_type": "execute_result",
          "data": {
            "text/plain": [
              "pandas.core.frame.DataFrame"
            ]
          },
          "metadata": {},
          "execution_count": 69
        }
      ]
    },
    {
      "cell_type": "code",
      "source": [
        "\n",
        "reload(viz)\n",
        "from viz import cluster2vid"
      ],
      "metadata": {
        "id": "UvSqc_sGZyEF"
      },
      "id": "UvSqc_sGZyEF",
      "execution_count": 38,
      "outputs": []
    },
    {
      "cell_type": "code",
      "source": [
        "frames_dir = './temp_gt_clusters/'\n",
        "cluster2vid(list(range(5)), 'kitml', df, xyz_data, frames_dir, duration=0.5)"
      ],
      "metadata": {
        "colab": {
          "base_uri": "https://localhost:8080/"
        },
        "id": "a4kmzt6eZ0mv",
        "outputId": "c86bcd68-48a2-4f8e-dcaf-267ca660bc3c"
      },
      "id": "a4kmzt6eZ0mv",
      "execution_count": 39,
      "outputs": [
        {
          "name": "stdout",
          "output_type": "stream",
          "text": [
            "> /content/drive/MyDrive/vid tokenization/asymov/viz.py(803)cluster2vid()\n",
            "-> if type(data_path) == str:\n",
            "(Pdb) unt 812\n",
            "> /content/drive/MyDrive/vid tokenization/asymov/viz.py(813)cluster2vid()\n",
            "-> if type(proxy_center_info_path) == str:\n",
            "(Pdb) gt_fps\n",
            "100.0\n",
            "(Pdb) support_frames_count\n",
            "24\n",
            "(Pdb) unt 824\n"
          ]
        },
        {
          "output_type": "stream",
          "name": "stderr",
          "text": [
            "clusters: 100%|██████████| 5/5 [00:00<00:00, 2285.72it/s]\n"
          ]
        },
        {
          "name": "stdout",
          "output_type": "stream",
          "text": [
            "> /content/drive/MyDrive/vid tokenization/asymov/viz.py(825)cluster2vid()\n",
            "-> viz_seq([str(i) for i in clusters_idx], seqs, ospj(frames_dir, str(cluster_idx)), sk_type, fps, force)\n",
            "(Pdb) [i.shape for i in seqs]\n",
            "[(13, 21, 3), (13, 21, 3), (13, 21, 3), (13, 21, 3), (13, 21, 3)]\n",
            "(Pdb) c\n"
          ]
        },
        {
          "output_type": "stream",
          "name": "stderr",
          "text": [
            "joint2img: 100%|██████████| 5/5 [00:07<00:00,  1.44s/it]\n",
            "img2vid: 100%|██████████| 5/5 [00:00<00:00,  5.90it/s]\n"
          ]
        }
      ]
    },
    {
      "cell_type": "markdown",
      "source": [
        "## Visualize reconstruction with GT clusters  "
      ],
      "metadata": {
        "id": "A0W7GFh2Rp-k"
      },
      "id": "A0W7GFh2Rp-k"
    },
    {
      "cell_type": "markdown",
      "source": [
        "### sampling sequences by inferencing model\n"
      ],
      "metadata": {
        "id": "s0puTUPNivz4"
      },
      "id": "s0puTUPNivz4"
    },
    {
      "cell_type": "code",
      "source": [
        "#@title\n",
        "!pip install pytorch_lightning --upgrade\n",
        "!pip install torchmetrics==0.7\n",
        "!pip install hydra-core --upgrade\n",
        "!pip install hydra_colorlog --upgrade\n",
        "!pip install shortuuid\n",
        "!pip install tqdm\n",
        "!pip install pandas\n",
        "!pip install transformers\n",
        "!pip install psutil\n",
        "!pip install einops\n",
        "!pip install wandb"
      ],
      "metadata": {
        "cellView": "form",
        "id": "pXKYVFqAjTAz"
      },
      "id": "pXKYVFqAjTAz",
      "execution_count": null,
      "outputs": []
    },
    {
      "cell_type": "markdown",
      "source": [
        "No api yet to inference a single sequence, won't be tough to have one though.\n",
        "\n",
        "For now, just create a a file in kit-splits containing the names of sequences to inference"
      ],
      "metadata": {
        "id": "W6EQRE_Z71Ub"
      },
      "id": "W6EQRE_Z71Ub"
    },
    {
      "cell_type": "markdown",
      "source": [
        "Pay attention to logging info"
      ],
      "metadata": {
        "id": "EHdafw4a-kza"
      },
      "id": "EHdafw4a-kza"
    },
    {
      "cell_type": "code",
      "execution_count": 58,
      "id": "050f15c0",
      "metadata": {
        "colab": {
          "base_uri": "https://localhost:8080/"
        },
        "id": "050f15c0",
        "outputId": "8b367ad1-d825-499c-f3b6-e53378d9736d"
      },
      "outputs": [
        {
          "output_type": "stream",
          "name": "stdout",
          "text": [
            "sample_asymov.py:24: UserWarning: \n",
            "The version_base parameter is not specified.\n",
            "Please specify a compatability version level, or None.\n",
            "Will assume defaults for version 1.1\n",
            "  @hydra.main(config_path=\"configs\", config_name=\"sample_asymov\")\n",
            "/usr/local/lib/python3.7/dist-packages/hydra/_internal/hydra.py:127: UserWarning: Future Hydra versions will no longer change working directory at job runtime by default.\n",
            "See https://hydra.cc/docs/next/upgrades/1.1_to_1.2/changes_to_job_working_dir/ for more information.\n",
            "  configure_logging=with_log_configuration,\n",
            "[\u001b[36m21/09/22 20:00:26\u001b[0m][\u001b[34m__main__\u001b[0m][\u001b[32mINFO\u001b[0m] - Sample script. The outputs will be stored in:\u001b[0m\n",
            "[\u001b[36m21/09/22 20:00:26\u001b[0m][\u001b[34m__main__\u001b[0m][\u001b[32mINFO\u001b[0m] - /content/drive/MyDrive/vid tokenization/asymov/packages/TEMOS/outputs/kit-xyz-motion-word/asymov_legit/382wpogn/samples/neutral_visu\u001b[0m\n",
            "Global seed set to 1234\n",
            "[\u001b[36m21/09/22 20:00:26\u001b[0m][\u001b[34m__main__\u001b[0m][\u001b[32mINFO\u001b[0m] - Loading data module\u001b[0m\n",
            "[\u001b[36m21/09/22 20:00:26\u001b[0m][\u001b[34m__main__\u001b[0m][\u001b[32mINFO\u001b[0m] - Data module 'kit-xyz-motion-word' loaded\u001b[0m\n",
            "[\u001b[36m21/09/22 20:00:26\u001b[0m][\u001b[34m__main__\u001b[0m][\u001b[32mINFO\u001b[0m] - Loading model\u001b[0m\n",
            "[\u001b[36m21/09/22 20:00:26\u001b[0m][\u001b[34m__main__\u001b[0m][\u001b[32mINFO\u001b[0m] - Using checkpoint /content/drive/MyDrive/vid tokenization/asymov/packages/TEMOS/outputs/kit-xyz-motion-word/asymov_legit/382wpogn/checkpoints/latest-epoch=177.ckpt\u001b[0m\n",
            "/usr/local/lib/python3.7/dist-packages/torchmetrics/text/bleu.py:89: UserWarning: Input order of targets and preds were changed to predictions firsts and targets second in v0.7. Warning will be removed in v0.8.\n",
            "  \"Input order of targets and preds were changed to predictions firsts and targets second in v0.7.\"\n",
            "[\u001b[36m21/09/22 20:00:29\u001b[0m][\u001b[34m__main__\u001b[0m][\u001b[32mINFO\u001b[0m] - Model 'asymov' loaded\u001b[0m\n",
            "Device mismatch when loading checkpoint !\n",
            "[\u001b[36m21/09/22 20:00:30\u001b[0m][\u001b[34m__main__\u001b[0m][\u001b[32mINFO\u001b[0m] - Model weights restored.\u001b[0m\n",
            "[\u001b[36m21/09/22 20:00:30\u001b[0m][\u001b[34m__main__\u001b[0m][\u001b[32mINFO\u001b[0m] - Model in eval mode.\u001b[0m\n",
            "Loading KIT motion word visu: 100% 14/14 [00:08<00:00,  1.72it/s]\n",
            "[\u001b[36m21/09/22 20:00:39\u001b[0m][\u001b[34mtemos.data.kit_motion_word\u001b[0m][\u001b[32mINFO\u001b[0m] - There are 0 sequences rejected by the sampler (0.0%).\u001b[0m\n",
            "Processing 00034: 100% 14/14 [00:05<00:00,  2.70it/s]\n",
            "[\u001b[36m21/09/22 20:00:44\u001b[0m][\u001b[34m__main__\u001b[0m][\u001b[32mINFO\u001b[0m] - All the sampling are done\u001b[0m\n",
            "[\u001b[36m21/09/22 20:00:44\u001b[0m][\u001b[34m__main__\u001b[0m][\u001b[32mINFO\u001b[0m] - All the sampling are done. You can find them here:\n",
            "/content/drive/MyDrive/vid tokenization/asymov/packages/TEMOS/outputs/kit-xyz-motion-word/asymov_legit/382wpogn/samples/neutral_visu\u001b[0m\n"
          ]
        }
      ],
      "source": [
        "folder = \"'outputs/kit-xyz-motion-word/asymov_legit/382wpogn'\"\n",
        "ckpt_name=\"'latest-epoch\\=177.ckpt'\"\n",
        "split=\"'visu'\"\n",
        "!HYDRA_FULL_ERROR=1 python sample_asymov.py folder=$folder ckpt_name=$ckpt_name split=$split"
      ]
    },
    {
      "cell_type": "markdown",
      "source": [
        "### reconstructing sampled sequences"
      ],
      "metadata": {
        "id": "JyhLYtSnojtj"
      },
      "id": "JyhLYtSnojtj"
    },
    {
      "cell_type": "code",
      "source": [
        "reload(viz)\n",
        "from viz import reconstruction\n",
        "from pathlib import Path"
      ],
      "metadata": {
        "id": "ZEoF3aGN6C2o"
      },
      "id": "ZEoF3aGN6C2o",
      "execution_count": 88,
      "outputs": []
    },
    {
      "cell_type": "code",
      "source": [
        "filters = ['none', 'uniform', 'spline']\n",
        "seq_names = ['00034']\n",
        "cluster_data = 'xyz'\n",
        "cluster2keypoint_mapping_path = Path(f'datasets/proxy_centers_{cluster_data}.pkl')\n",
        "frame2cluster_mapping_dir = Path('outputs/kit-xyz-motion-word/asymov_legit/382wpogn/samples/neutral_visu')\n",
        "frames_dir = Path('temp_reconstructions')\n",
        "reconstruction('very_naive', filters, seq_names, xyz_data, 'kitml', frames_dir=frames_dir, \n",
        "                    cluster2keypoint_mapping_path=cluster2keypoint_mapping_path, frame2cluster_mapping_dir=frame2cluster_mapping_dir)"
      ],
      "metadata": {
        "colab": {
          "base_uri": "https://localhost:8080/"
        },
        "id": "F6XOOUy355nr",
        "outputId": "d82e5244-862a-42fd-f018-5b75a6ffc1a5"
      },
      "id": "F6XOOUy355nr",
      "execution_count": 89,
      "outputs": [
        {
          "output_type": "stream",
          "name": "stdout",
          "text": [
            "----------------------------------------------------\n"
          ]
        },
        {
          "output_type": "stream",
          "name": "stderr",
          "text": [
            "very_naive reconstruction - 00034: 100%|██████████| 1/1 [00:00<00:00, 82.38it/s]\n"
          ]
        },
        {
          "output_type": "stream",
          "name": "stdout",
          "text": [
            "----------------------------------------------------\n",
            "Using none filter\n"
          ]
        },
        {
          "output_type": "stream",
          "name": "stderr",
          "text": [
            "                                                                  "
          ]
        },
        {
          "output_type": "stream",
          "name": "stdout",
          "text": [
            "very_naive_none mpjpe:  0.35701823112450976\n"
          ]
        },
        {
          "output_type": "stream",
          "name": "stderr",
          "text": [
            "joint2img: 100%|██████████| 1/1 [00:30<00:00, 30.19s/it]\n",
            "img2vid: 100%|██████████| 1/1 [00:00<00:00,  1.06it/s]\n"
          ]
        },
        {
          "output_type": "stream",
          "name": "stdout",
          "text": [
            "----------------------------------------------------\n",
            "Using uniform filter\n"
          ]
        },
        {
          "output_type": "stream",
          "name": "stderr",
          "text": [
            "                                                                  "
          ]
        },
        {
          "output_type": "stream",
          "name": "stdout",
          "text": [
            "very_naive_uniform mpjpe:  0.3505214708041701\n"
          ]
        },
        {
          "output_type": "stream",
          "name": "stderr",
          "text": [
            "joint2img: 100%|██████████| 1/1 [00:27<00:00, 27.04s/it]\n",
            "img2vid: 100%|██████████| 1/1 [00:00<00:00,  1.02it/s]\n"
          ]
        },
        {
          "output_type": "stream",
          "name": "stdout",
          "text": [
            "----------------------------------------------------\n",
            "Using spline filter\n"
          ]
        },
        {
          "output_type": "stream",
          "name": "stderr",
          "text": [
            "                                                                  "
          ]
        },
        {
          "output_type": "stream",
          "name": "stdout",
          "text": [
            "very_naive_spline mpjpe:  0.35095427435875515\n"
          ]
        },
        {
          "output_type": "stream",
          "name": "stderr",
          "text": [
            "joint2img: 100%|██████████| 1/1 [00:26<00:00, 26.58s/it]\n",
            "img2vid: 100%|██████████| 1/1 [00:00<00:00,  1.00it/s]"
          ]
        },
        {
          "output_type": "stream",
          "name": "stdout",
          "text": [
            "----------------------------------------------------\n",
            "----------------------------------------------------\n"
          ]
        },
        {
          "output_type": "stream",
          "name": "stderr",
          "text": [
            "\n"
          ]
        },
        {
          "output_type": "execute_result",
          "data": {
            "text/plain": [
              "{'filter': 0.35095427435875515}"
            ]
          },
          "metadata": {},
          "execution_count": 89
        }
      ]
    },
    {
      "cell_type": "code",
      "source": [
        "method='naive' #or {'very_naive', 'naive_no_rep'}\n",
        "filters = ['none']\n",
        "cluster2frame_mapping_path = Path(f'datasets/proxy_centers_complete_{cluster_data}.pkl')\n",
        "contiguous_frame2cluster_mapping_path = frame2cluster_mapping_dir / 'contiguous_frame2cluster_mapping.pkl'\n",
        "reconstruction(method, filters, seq_names, xyz_data, 'kitml', frames_dir=frames_dir, \n",
        "                    cluster2frame_mapping_path=cluster2frame_mapping_path, contiguous_frame2cluster_mapping_path=contiguous_frame2cluster_mapping_path)\n",
        "    "
      ],
      "metadata": {
        "colab": {
          "base_uri": "https://localhost:8080/"
        },
        "id": "oG33DFtt_oYf",
        "outputId": "a97ebb0d-ec87-4a15-c3a9-adda5901e3ff"
      },
      "id": "oG33DFtt_oYf",
      "execution_count": 90,
      "outputs": [
        {
          "output_type": "stream",
          "name": "stdout",
          "text": [
            "----------------------------------------------------\n"
          ]
        },
        {
          "output_type": "stream",
          "name": "stderr",
          "text": [
            "naive reconstruction - 00034: 100%|██████████| 1/1 [00:00<00:00, 29.39it/s]\n"
          ]
        },
        {
          "output_type": "stream",
          "name": "stdout",
          "text": [
            "----------------------------------------------------\n",
            "Using none filter\n"
          ]
        },
        {
          "output_type": "stream",
          "name": "stderr",
          "text": [
            "                                                                  "
          ]
        },
        {
          "output_type": "stream",
          "name": "stdout",
          "text": [
            "naive_none mpjpe:  0.35712912277670533\n"
          ]
        },
        {
          "output_type": "stream",
          "name": "stderr",
          "text": [
            "joint2img: 100%|██████████| 1/1 [00:31<00:00, 31.92s/it]\n",
            "img2vid: 100%|██████████| 1/1 [00:01<00:00,  1.04s/it]\n"
          ]
        },
        {
          "output_type": "stream",
          "name": "stdout",
          "text": [
            "----------------------------------------------------\n",
            "----------------------------------------------------\n"
          ]
        },
        {
          "output_type": "execute_result",
          "data": {
            "text/plain": [
              "{'filter': 0.35712912277670533}"
            ]
          },
          "metadata": {},
          "execution_count": 90
        }
      ]
    },
    {
      "cell_type": "markdown",
      "source": [
        "#### reconstructing all sequences in a split\n",
        "\n",
        "This will generate for all reconstruction techniques for all filters, can edit lines "
      ],
      "metadata": {
        "id": "Pq1AGM4p7xgD"
      },
      "id": "Pq1AGM4p7xgD"
    },
    {
      "cell_type": "code",
      "execution_count": 76,
      "id": "0c95d39c",
      "metadata": {
        "colab": {
          "base_uri": "https://localhost:8080/"
        },
        "id": "0c95d39c",
        "outputId": "09fecf10-a80b-4b5a-a651-dde4546af06b"
      },
      "outputs": [
        {
          "output_type": "stream",
          "name": "stdout",
          "text": [
            "reconstruct.py:25: UserWarning: \n",
            "The version_base parameter is not specified.\n",
            "Please specify a compatability version level, or None.\n",
            "Will assume defaults for version 1.1\n",
            "  @hydra.main(config_path=\"configs\", config_name=\"reconstruct\")\n",
            "/usr/local/lib/python3.7/dist-packages/hydra/_internal/defaults_list.py:251: UserWarning: In 'reconstruct': Defaults list is missing `_self_`. See https://hydra.cc/docs/upgrades/1.0_to_1.1/default_composition_order for more information\n",
            "  warnings.warn(msg, UserWarning)\n",
            "/usr/local/lib/python3.7/dist-packages/hydra/_internal/hydra.py:127: UserWarning: Future Hydra versions will no longer change working directory at job runtime by default.\n",
            "See https://hydra.cc/docs/next/upgrades/1.1_to_1.2/changes_to_job_working_dir/ for more information.\n",
            "  configure_logging=with_log_configuration,\n",
            "[2022-09-21 21:22:16,645][__main__][INFO] - Predicted data is taken from: \n",
            "[2022-09-21 21:22:16,647][__main__][INFO] - /content/drive/MyDrive/vid tokenization/asymov/packages/TEMOS/outputs/kit-xyz-motion-word/asymov_legit/382wpogn/samples/neutral_gtest\n",
            "[2022-09-21 21:22:16,651][__main__][INFO] - Total sequences: 14\n",
            "[2022-09-21 21:22:16,651][__main__][INFO] - Visualizing sequences: 14\n",
            "[2022-09-21 21:22:16,653][__main__][INFO] - Output FPS: 25.0\n",
            "[2022-09-21 21:22:16,655][__main__][INFO] - Reconstructed visualizations will be stored in:\n",
            "[2022-09-21 21:22:16,655][__main__][INFO] - /content/drive/MyDrive/vid tokenization/asymov/packages/TEMOS/outputs/kit-xyz-motion-word/asymov_legit/382wpogn/samples/neutral_gtest/reconstructions_25.0\n",
            "[2022-09-21 21:22:16,656][__main__][INFO] - Ground truth visualizations will be stored in:\n",
            "[2022-09-21 21:22:16,656][__main__][INFO] - /content/drive/MyDrive/vid tokenization/asymov/packages/TEMOS/datasets/constructions_25.0\n",
            "----------------------------------------------------\n",
            "very_naive reconstruction - 02996: 100% 14/14 [00:00<00:00, 1097.10it/s]\n",
            "----------------------------------------------------\n",
            "Using none filter\n",
            "very_naive_none mpjpe:  0.36478521770883726\n",
            "joint2img: 0it [00:00, ?it/s]\n",
            "img2vid: 0it [00:00, ?it/s]\n",
            "----------------------------------------------------\n",
            "Using uniform filter\n",
            "very_naive_uniform mpjpe:  0.35606903506521764\n",
            "joint2img: 0it [00:00, ?it/s]\n",
            "img2vid: 0it [00:00, ?it/s]\n",
            "----------------------------------------------------\n",
            "Using spline filter\n",
            "very_naive_spline mpjpe:  0.35659119135638495\n",
            "joint2img: 0it [00:00, ?it/s]\n",
            "img2vid: 0it [00:00, ?it/s]\n",
            "----------------------------------------------------\n",
            "----------------------------------------------------\n",
            "----------------------------------------------------\n",
            "naive reconstruction - 02996: 100% 14/14 [00:00<00:00, 47.60it/s]\n",
            "----------------------------------------------------\n",
            "Using none filter\n",
            "naive_none mpjpe:  0.37943831966608205\n",
            "joint2img: 100% 7/7 [01:35<00:00, 13.58s/it]\n",
            "img2vid: 100% 7/7 [00:07<00:00,  1.00s/it]\n",
            "----------------------------------------------------\n",
            "Using uniform filter\n",
            "naive_uniform mpjpe:  0.3701490707100595\n",
            "joint2img: 100% 7/7 [01:41<00:00, 14.48s/it]\n",
            "img2vid: 100% 7/7 [00:06<00:00,  1.10it/s]\n",
            "----------------------------------------------------\n",
            "Using spline filter\n",
            "naive_spline mpjpe:  0.370704754138753\n",
            "joint2img: 100% 7/7 [01:44<00:00, 14.95s/it]\n",
            "img2vid: 100% 7/7 [00:07<00:00,  1.10s/it]\n",
            "----------------------------------------------------\n",
            "----------------------------------------------------\n",
            "----------------------------------------------------\n",
            "naive_no_rep reconstruction - 02996: 100% 14/14 [00:00<00:00, 58.90it/s]\n",
            "----------------------------------------------------\n",
            "Using none filter\n",
            "naive_no_rep_none mpjpe:  0.37944572343296545\n",
            "joint2img: 100% 7/7 [01:42<00:00, 14.70s/it]\n",
            "img2vid: 100% 7/7 [00:06<00:00,  1.09it/s]\n",
            "----------------------------------------------------\n",
            "Using uniform filter\n",
            "naive_no_rep_uniform mpjpe:  0.3701415808865634\n",
            "joint2img: 100% 7/7 [01:41<00:00, 14.43s/it]\n",
            "img2vid: 100% 7/7 [00:06<00:00,  1.04it/s]\n",
            "----------------------------------------------------\n",
            "Using spline filter\n",
            "naive_no_rep_spline mpjpe:  0.37069757058604663\n",
            "joint2img: 100% 7/7 [01:35<00:00, 13.68s/it]\n",
            "img2vid: 100% 7/7 [00:13<00:00,  1.90s/it]\n",
            "----------------------------------------------------\n",
            "----------------------------------------------------\n",
            "----------------------------------------------------\n",
            "Ground Truth construction: 100% 14/14 [00:00<00:00, 5662.51it/s]\n",
            "----------------------------------------------------\n",
            "joint2img: 100% 3/3 [01:06<00:00, 22.18s/it]\n",
            "img2vid: 100% 3/3 [00:04<00:00,  1.48s/it]\n",
            "----------------------------------------------------\n"
          ]
        }
      ],
      "source": [
        "# can also get from the logging output of inference\n",
        "# 'outputs/<dataname>/<experiment_name>/<runid>/samples/neutral_<split>'\n",
        "folder = \"'outputs/kit-xyz-motion-word/asymov_legit/382wpogn/samples/neutral_gtest'\"\n",
        "cluster_data=\"'xyz'\"\n",
        "ckpt_name=\"'latest-epoch\\=177.ckpt'\"\n",
        "split=\"'visu'\" # note different from the split used in folder variable name \n",
        "# (to show the usage of split to only reconstruct a subset of the sampled sequences)\n",
        "fps=25.0\n",
        "\n",
        "!HYDRA_FULL_ERROR=1 python reconstruct.py folder={folder} cluster_data={cluster_data} viz_gt_dir='constructions_{fps}' viz_dir='reconstructions_{fps}' split={split} visualize_gt=true\n"
      ]
    },
    {
      "cell_type": "markdown",
      "source": [
        "## Show"
      ],
      "metadata": {
        "id": "53o_6TY6C9S4"
      },
      "id": "53o_6TY6C9S4"
    },
    {
      "cell_type": "code",
      "source": [
        "import IPython\n",
        "from ipywidgets import Output, GridspecLayout\n",
        "from IPython import display\n",
        "\n",
        "from IPython.display import Video\n",
        "from IPython.display import HTML\n",
        "import os\n",
        "import json\n",
        "from pathlib import Path\n",
        "from tqdm import tqdm\n",
        "\n",
        "folder='outputs/kit-xyz-motion-word/asymov_legit/382wpogn/samples/neutral_gtest'\n",
        "splitpath=Path('datasets/kit-splits/recons')\n",
        "with splitpath.open(\"r\") as file_split:\n",
        "    seq_names = list(map(str.strip, file_split.readlines()))\n",
        "\n",
        "num_cols = 10\n",
        "grid = GridspecLayout(len(seq_names), num_cols)\n",
        "\n",
        "for row,seq_name in tqdm(enumerate(seq_names), position=0):\n",
        "    # seq_name = seq\n",
        "    path_ground = f'datasets/constructions_25.0/{seq_name}/video.mp4'\n",
        "    path_very_naive = f'{folder}/reconstructions_25.0/very_naive/{seq_name}/video.mp4'\n",
        "    path_very_naive_u = f'{folder}/reconstructions_25.0/very_naive_uniform/{seq_name}/video.mp4'\n",
        "    path_very_naive_s = f'{folder}/reconstructions_25.0/very_naive_spline/{seq_name}/video.mp4'\n",
        "    path_naive = f'{folder}/reconstructions_25.0/naive/{seq_name}/video.mp4'\n",
        "    path_naive_u = f'{folder}/reconstructions_25.0/naive_uniform/{seq_name}/video.mp4'\n",
        "    path_naive_s = f'{folder}/reconstructions_25.0/naive_spline/{seq_name}/video.mp4'\n",
        "    path_naive_no_rep = f'{folder}/reconstructions_25.0/naive_no_rep/{seq_name}/video.mp4'\n",
        "    path_naive_no_rep_u = f'{folder}/reconstructions_25.0/naive_no_rep_uniform/{seq_name}/video.mp4'\n",
        "    path_naive_no_rep_s = f'{folder}/reconstructions_25.0/naive_no_rep_spline/{seq_name}/video.mp4'\n",
        "    paths = [path_ground, \n",
        "             path_very_naive, path_very_naive_u, path_very_naive_s, \n",
        "             path_naive, path_naive_u, path_naive_s,\n",
        "             path_naive_no_rep, path_naive_no_rep_u, path_naive_no_rep_s\n",
        "             ]\n",
        "    \n",
        "    # annpath = Path(f'dataset/kit/{seq_name}_annotations.json')\n",
        "    # anndata = json.load(annpath.open())\n",
        "    # out = Output()\n",
        "    # with out:\n",
        "    #     display.display(display.Pretty(anndata))\n",
        "    # grid[row, 0] = out\n",
        "    \n",
        "    for col, filepath in enumerate(paths):\n",
        "        out = Output()\n",
        "        with out:\n",
        "            display.display(display.Video(filepath, embed=True, width=200))\n",
        "        grid[row, col] = out\n",
        "\n",
        "grid\n",
        "# [path_ground, \n",
        "# path_very_naive, path_very_naive_u, path_very_naive_s, \n",
        "# path_naive, path_naive_u, path_naive_s,\n",
        "# path_naive_no_rep, path_naive_no_rep_u, path_naive_no_rep_s\n",
        "# ]"
      ],
      "metadata": {
        "id": "0Fi8l36WC-Hq"
      },
      "id": "0Fi8l36WC-Hq",
      "execution_count": null,
      "outputs": []
    }
  ],
  "metadata": {
    "hide_input": false,
    "kernelspec": {
      "display_name": "Python 3 (ipykernel)",
      "language": "python",
      "name": "python3"
    },
    "language_info": {
      "codemirror_mode": {
        "name": "ipython",
        "version": 3
      },
      "file_extension": ".py",
      "mimetype": "text/x-python",
      "name": "python",
      "nbconvert_exporter": "python",
      "pygments_lexer": "ipython3",
      "version": "3.8.12"
    },
    "toc": {
      "base_numbering": 1,
      "nav_menu": {},
      "number_sections": true,
      "sideBar": true,
      "skip_h1_title": false,
      "title_cell": "Table of Contents",
      "title_sidebar": "Contents",
      "toc_cell": false,
      "toc_position": {},
      "toc_section_display": true,
      "toc_window_display": false
    },
    "varInspector": {
      "cols": {
        "lenName": 16,
        "lenType": 16,
        "lenVar": 40
      },
      "kernels_config": {
        "python": {
          "delete_cmd_postfix": "",
          "delete_cmd_prefix": "del ",
          "library": "var_list.py",
          "varRefreshCmd": "print(var_dic_list())"
        },
        "r": {
          "delete_cmd_postfix": ") ",
          "delete_cmd_prefix": "rm(",
          "library": "var_list.r",
          "varRefreshCmd": "cat(var_dic_list()) "
        }
      },
      "types_to_exclude": [
        "module",
        "function",
        "builtin_function_or_method",
        "instance",
        "_Feature"
      ],
      "window_display": false
    },
    "vscode": {
      "interpreter": {
        "hash": "457d13a14d7a209c6e3cfe5a8b12afe825d33ed179b44a52b161e968e9de9659"
      }
    },
    "colab": {
      "provenance": [],
      "collapsed_sections": [],
      "toc_visible": true
    }
  },
  "nbformat": 4,
  "nbformat_minor": 5
}