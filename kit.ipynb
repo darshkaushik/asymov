{
  "cells": [
    {
      "cell_type": "markdown",
      "metadata": {
        "id": "wJx8-gmBaaCp"
      },
      "source": [
        "#one-time"
      ]
    },
    {
      "cell_type": "code",
      "execution_count": null,
      "metadata": {
        "colab": {
          "base_uri": "https://localhost:8080/"
        },
        "id": "KdWdq0Z3DAgV",
        "outputId": "90b551bd-a35b-424e-cfff-1219e554316d"
      },
      "outputs": [
        {
          "name": "stdout",
          "output_type": "stream",
          "text": [
            "/content/drive/Shareddrives/vid tokenization/aistpp_subset\n"
          ]
        }
      ],
      "source": [
        "%cd '/content/drive/Shareddrives/vid tokenization/aistpp_subset'"
      ]
    },
    {
      "cell_type": "code",
      "execution_count": null,
      "metadata": {
        "id": "wcShn9A6HSKd"
      },
      "outputs": [],
      "source": [
        "!unzip -o 'Shared with Darsh.zip'"
      ]
    },
    {
      "cell_type": "code",
      "execution_count": null,
      "metadata": {
        "colab": {
          "base_uri": "https://localhost:8080/"
        },
        "id": "-Ut1KJMDaoQX",
        "outputId": "a200b4f0-cc1c-44b1-f66d-0a2e8ad0694c"
      },
      "outputs": [
        {
          "name": "stdout",
          "output_type": "stream",
          "text": [
            "/content/drive/Shareddrives/vid tokenization\n"
          ]
        }
      ],
      "source": [
        "%cd '/content/drive/Shareddrives/vid tokenization'"
      ]
    },
    {
      "cell_type": "code",
      "execution_count": null,
      "metadata": {
        "colab": {
          "base_uri": "https://localhost:8080/"
        },
        "id": "xKb13AmgE0r3",
        "outputId": "890722da-33b0-46bc-cd03-c248d55535c9"
      },
      "outputs": [
        {
          "name": "stdout",
          "output_type": "stream",
          "text": [
            "--2022-01-16 12:19:24--  https://motion-annotation.humanoids.kit.edu/downloads/4/\n",
            "Resolving motion-annotation.humanoids.kit.edu (motion-annotation.humanoids.kit.edu)... 141.3.88.189\n",
            "Connecting to motion-annotation.humanoids.kit.edu (motion-annotation.humanoids.kit.edu)|141.3.88.189|:443... connected.\n",
            "WARNING: cannot verify motion-annotation.humanoids.kit.edu's certificate, issued by ‘CN=KIT-CA,O=Karlsruhe Institute of Technology,L=Karlsruhe,ST=Baden-Wuerttemberg,C=DE’:\n",
            "  Issued certificate has expired.\n",
            "HTTP request sent, awaiting response... 302 Found\n",
            "Location: /static/downloads/2017-06-22.zip [following]\n",
            "--2022-01-16 12:19:25--  https://motion-annotation.humanoids.kit.edu/static/downloads/2017-06-22.zip\n",
            "Reusing existing connection to motion-annotation.humanoids.kit.edu:443.\n",
            "HTTP request sent, awaiting response... 200 OK\n",
            "Length: 4159992190 (3.9G) [application/zip]\n",
            "Saving to: ‘2017-06-22.zip’\n",
            "\n",
            "2017-06-22.zip      100%[===================>]   3.87G  24.4MB/s    in 2m 30s  \n",
            "\n",
            "2022-01-16 12:21:55 (26.5 MB/s) - ‘2017-06-22.zip’ saved [4159992190/4159992190]\n",
            "\n"
          ]
        }
      ],
      "source": [
        "!wget -O 2017-06-22.zip --no-check-certificate https://motion-annotation.humanoids.kit.edu/downloads/4/"
      ]
    },
    {
      "cell_type": "code",
      "execution_count": null,
      "metadata": {
        "id": "NONe4bQy5mGh"
      },
      "outputs": [],
      "source": [
        "import os\n",
        "l=[]\n",
        "for root, dirs, files in os.walk('.'): \n",
        "    l=(sorted(files))\n",
        "l"
      ]
    },
    {
      "cell_type": "code",
      "execution_count": null,
      "metadata": {
        "colab": {
          "base_uri": "https://localhost:8080/"
        },
        "id": "3fgUX06aWTPZ",
        "outputId": "22560941-a4c5-4580-a554-41d7a23d61fb"
      },
      "outputs": [
        {
          "name": "stdout",
          "output_type": "stream",
          "text": [
            "Cloning into 'Complextext2animation'...\n",
            "remote: Enumerating objects: 109, done.\u001b[K\n",
            "remote: Counting objects: 100% (109/109), done.\u001b[K\n",
            "remote: Compressing objects: 100% (95/95), done.\u001b[K\n",
            "remote: Total 109 (delta 40), reused 59 (delta 9), pack-reused 0\u001b[K\n",
            "Receiving objects: 100% (109/109), 172.22 KiB | 4.78 MiB/s, done.\n",
            "Resolving deltas: 100% (40/40), done.\n"
          ]
        }
      ],
      "source": [
        "!git clone https://github.com/anindita127/Complextext2animation.git"
      ]
    },
    {
      "cell_type": "code",
      "execution_count": null,
      "metadata": {
        "id": "w1pJRBw6vcCH"
      },
      "outputs": [],
      "source": [
        "%cd '/content/drive/Shareddrives/vid tokenization/asymov/kit-molan/'\n",
        "!unzip kit_molan_dataset.zip"
      ]
    },
    {
      "cell_type": "code",
      "execution_count": null,
      "metadata": {
        "colab": {
          "base_uri": "https://localhost:8080/"
        },
        "id": "BfFx77473zDX",
        "outputId": "75c3f583-b879-4ce5-90f1-1973256270a2"
      },
      "outputs": [
        {
          "name": "stdout",
          "output_type": "stream",
          "text": [
            "/content/drive/Shareddrives/vid tokenization/asymov\n"
          ]
        }
      ],
      "source": [
        "%cd '/content/drive/Shareddrives/vid tokenization/asymov/'\n",
        "from tqdm import tqdm\n",
        "import packages.Complextext2animation.src.data as d\n",
        "reload(d)\n",
        "\n",
        "data_dir = '/content/drive/Shareddrives/vid tokenization/asymov/kit-molan/dataset/'\n",
        "Kk = d.KITMocap(path2data=data_dir, preProcess_flag=False)"
      ]
    },
    {
      "cell_type": "code",
      "execution_count": null,
      "metadata": {
        "id": "NTW9-2Pc1m9Y"
      },
      "outputs": [],
      "source": [
        "import os\n",
        "from pathlib import Path\n",
        "all_seq=[]\n",
        "for tup in os.walk(data_dir):\n",
        "    for filename in (sorted(tup[2])):\n",
        "        if Path(filename).suffix == '.xml':\n",
        "            all_seq.append(filename.split('_')[0])\n",
        "# all_seq"
      ]
    },
    {
      "cell_type": "code",
      "execution_count": null,
      "metadata": {
        "colab": {
          "base_uri": "https://localhost:8080/"
        },
        "id": "MZ3oEejL2wXa",
        "outputId": "332b1bce-22e3-4088-fe22-1dc6c6314a99"
      },
      "outputs": [
        {
          "name": "stderr",
          "output_type": "stream",
          "text": [
            "100%|██████████| 2271/2271 [04:27<00:00,  8.50it/s]\n"
          ]
        }
      ],
      "source": [
        "dict={}\n",
        "for i in tqdm(all_seq):\n",
        "    fp = Path(ospj(data_dir, f'{i}_mmm.xml'))\n",
        "    xyz_data, _, _, root_pos, _ = Kk.mmm2quat(fp)\n",
        "    xyz_data = xyz_data - np.transpose(root_pos.numpy(), axes=(1,0,2))\n",
        "    assert xyz_data.shape[1:]==(21,3)\n",
        "    dict[i] = xyz_data"
      ]
    },
    {
      "cell_type": "code",
      "execution_count": null,
      "metadata": {
        "id": "CPvWXg3rLMKt"
      },
      "outputs": [],
      "source": [
        "dict['00001']"
      ]
    },
    {
      "cell_type": "code",
      "execution_count": null,
      "metadata": {
        "id": "HdTBD6B660q2"
      },
      "outputs": [],
      "source": [
        "import pickle\n",
        "with open('/content/drive/Shareddrives/vid tokenization/asymov/kit-molan/xyz_data.pkl', 'wb') as handle:\n",
        "    pickle.dump(dict, handle)\n"
      ]
    },
    {
      "cell_type": "code",
      "execution_count": null,
      "metadata": {
        "id": "6hyWup9TK385"
      },
      "outputs": [],
      "source": [
        "with open('/content/drive/Shareddrives/vid tokenization/asymov/kit-molan/xyz_data.pkl', 'rb') as handle:\n",
        "    ss = pickle.load(handle)\n",
        "subset = dict(list(ss.items())[:10])\n",
        "subset.keys(), subset"
      ]
    },
    {
      "cell_type": "code",
      "execution_count": null,
      "metadata": {
        "id": "f-zKRcarf6IV"
      },
      "outputs": [],
      "source": [
        "with open('/content/drive/Shareddrives/vid tokenization/asymov/kit-molan/xyz_subset_data.pkl', 'wb') as handle:\n",
        "    pickle.dump(subset, handle)"
      ]
    },
    {
      "cell_type": "code",
      "execution_count": null,
      "metadata": {
        "colab": {
          "base_uri": "https://localhost:8080/",
          "height": 36
        },
        "id": "T7hcULSDL457",
        "outputId": "72bf4c14-9f3a-42b4-b95e-3038c511d0fd"
      },
      "outputs": [
        {
          "data": {
            "application/vnd.google.colaboratory.intrinsic+json": {
              "type": "string"
            },
            "text/plain": [
              "'00298'"
            ]
          },
          "execution_count": 79,
          "metadata": {},
          "output_type": "execute_result"
        }
      ],
      "source": [
        "str('00298').zfill(5)"
      ]
    },
    {
      "cell_type": "code",
      "execution_count": null,
      "metadata": {
        "id": "Vph5zpq-ARzl"
      },
      "outputs": [],
      "source": [
        "data.to_csv('/content/drive/Shareddrives/vid tokenization/asymov/kit-molan/xyz_data.csv', index=False)"
      ]
    },
    {
      "cell_type": "markdown",
      "metadata": {
        "id": "KIbygZcuOTlC"
      },
      "source": [
        "##data split"
      ]
    },
    {
      "cell_type": "code",
      "execution_count": null,
      "metadata": {
        "id": "Sg5TLaTgOnF5"
      },
      "outputs": [],
      "source": [
        "import random\n",
        "import pickle\n",
        "import json\n",
        "\n",
        "data_dir = '/content/drive/Shareddrives/vid tokenization/asymov/kit-molan'\n",
        "split = (0.6, 0.2)\n",
        "seed=0\n",
        "\n",
        "with open(os.path.join(data_dir,'xyz_data.pkl'), 'rb') as handle:\n",
        "    xyz_data = pickle.load(handle)\n",
        "\n",
        "all_seq = list(xyz_data.keys())\n",
        "# print(f'\\n\\n\\nall_seq = {len(all_seq)}\\n\\n\\n')\n",
        "with open(os.path.join(data_dir, 'ignore_list.txt'), \"r\") as f:\n",
        "    bad_vids = [_[:-1] for _ in f.readlines()]\n",
        "# print(f'\\n\\n\\nbad_vids = {len(bad_vids)}\\n\\n\\n')\n",
        "all_seq = [_ for _ in all_seq if _ not in bad_vids]\n",
        "# print(f'\\n\\n\\nall_seq without bad_vids = {len(all_seq)}\\n\\n\\n')\n",
        "\n",
        "length = len(all_seq)\n",
        "# pdb.set_trace()\n",
        "end_train = int(length*split[0])\n",
        "start_dev = end_train\n",
        "end_dev = int(start_dev + length*split[1])\n",
        "start_test = end_dev\n",
        "\n",
        "\n",
        "random.seed(seed)\n",
        "random.shuffle(all_seq)\n",
        "train_split = all_seq[:end_train]\n",
        "# print(f'\\n\\n\\ntrain_split = {len(self.train_split)}\\n\\n\\n')\n",
        "validation_split = all_seq[start_dev:end_dev]\n",
        "# print(f'\\n\\n\\nvalidation_split = {len(self.validation_split)}\\n\\n\\n')\n",
        "test_split = all_seq[end_dev:]\n",
        "# print(f'\\n\\n\\test_split = {len(self.test_split)}\\n\\n\\n')\n",
        "data_split = {'train':train_split, 'val':validation_split, 'test':test_split}\n",
        "\n",
        "with open('/content/drive/Shareddrives/vid tokenization/asymov/kit-molan/xyz_data_split.json', 'w') as handle:\n",
        "    json.dump(data_split, handle, indent =4)"
      ]
    },
    {
      "cell_type": "code",
      "execution_count": null,
      "metadata": {
        "colab": {
          "base_uri": "https://localhost:8080/"
        },
        "id": "1HJv58EmWHFg",
        "outputId": "1bd96bb7-57c4-465c-943d-91e667ed1edd"
      },
      "outputs": [
        {
          "data": {
            "text/plain": [
              "{'test': ['00019', '00015'],\n",
              " 'train': ['00017', '00018', '00002', '00014', '00005', '00010'],\n",
              " 'val': ['00003', '00001']}"
            ]
          },
          "execution_count": 25,
          "metadata": {},
          "output_type": "execute_result"
        }
      ],
      "source": [
        "with open(os.path.join(data_dir,'xyz_subset_data_split.json'), 'r') as handle:\n",
        "    subset_data_split = json.load(handle)\n",
        "subset_data_split"
      ]
    },
    {
      "cell_type": "code",
      "execution_count": null,
      "metadata": {
        "colab": {
          "base_uri": "https://localhost:8080/"
        },
        "id": "NGmKRXk8W-oE",
        "outputId": "605cfad2-d69a-4e6a-d748-13e02e4120df"
      },
      "outputs": [
        {
          "data": {
            "text/plain": [
              "(['00017', '00018', '00002', '00014', '00005', '00010'],\n",
              " ['00003', '00001'],\n",
              " ['00019', '00015'])"
            ]
          },
          "execution_count": 24,
          "metadata": {},
          "output_type": "execute_result"
        }
      ],
      "source": [
        "train_split, validation_split, test_split = subset_data_split['train'], subset_data_split['val'], subset_data_split['test']\n",
        "train_split, validation_split, test_split"
      ]
    },
    {
      "cell_type": "markdown",
      "metadata": {
        "id": "n62HeTtObX_m"
      },
      "source": [
        "##ignore_list"
      ]
    },
    {
      "cell_type": "code",
      "execution_count": null,
      "metadata": {
        "id": "Oj4HM6yuOSIF"
      },
      "outputs": [],
      "source": [
        "with open('/content/drive/Shareddrives/vid tokenization/asymov/kit-molan/xyz_data.pkl', 'rb') as handle:\n",
        "    xyz_data = pickle.load(handle)\n",
        "# list(xyz_data.items())[0][1]"
      ]
    },
    {
      "cell_type": "code",
      "execution_count": null,
      "metadata": {
        "colab": {
          "base_uri": "https://localhost:8080/"
        },
        "id": "iMkDrRZ8K4Z0",
        "outputId": "f2b44dc4-306f-4e4b-e3c3-849a42af59ff"
      },
      "outputs": [
        {
          "data": {
            "text/html": [
              "\n",
              "  <div id=\"df-a535b5da-3135-4ed8-8667-900b91ae8817\">\n",
              "    <div class=\"colab-df-container\">\n",
              "      <div>\n",
              "<style scoped>\n",
              "    .dataframe tbody tr th:only-of-type {\n",
              "        vertical-align: middle;\n",
              "    }\n",
              "\n",
              "    .dataframe tbody tr th {\n",
              "        vertical-align: top;\n",
              "    }\n",
              "\n",
              "    .dataframe thead th {\n",
              "        text-align: right;\n",
              "    }\n",
              "</style>\n",
              "<table border=\"1\" class=\"dataframe\">\n",
              "  <thead>\n",
              "    <tr style=\"text-align: right;\">\n",
              "      <th></th>\n",
              "      <th>0</th>\n",
              "      <th>1</th>\n",
              "    </tr>\n",
              "  </thead>\n",
              "  <tbody>\n",
              "    <tr>\n",
              "      <th>1689</th>\n",
              "      <td>02935</td>\n",
              "      <td>20</td>\n",
              "    </tr>\n",
              "    <tr>\n",
              "      <th>1848</th>\n",
              "      <td>03212</td>\n",
              "      <td>10</td>\n",
              "    </tr>\n",
              "    <tr>\n",
              "      <th>1855</th>\n",
              "      <td>03229</td>\n",
              "      <td>10</td>\n",
              "    </tr>\n",
              "    <tr>\n",
              "      <th>1968</th>\n",
              "      <td>03446</td>\n",
              "      <td>21</td>\n",
              "    </tr>\n",
              "    <tr>\n",
              "      <th>2003</th>\n",
              "      <td>03507</td>\n",
              "      <td>21</td>\n",
              "    </tr>\n",
              "  </tbody>\n",
              "</table>\n",
              "</div>\n",
              "      <button class=\"colab-df-convert\" onclick=\"convertToInteractive('df-a535b5da-3135-4ed8-8667-900b91ae8817')\"\n",
              "              title=\"Convert this dataframe to an interactive table.\"\n",
              "              style=\"display:none;\">\n",
              "        \n",
              "  <svg xmlns=\"http://www.w3.org/2000/svg\" height=\"24px\"viewBox=\"0 0 24 24\"\n",
              "       width=\"24px\">\n",
              "    <path d=\"M0 0h24v24H0V0z\" fill=\"none\"/>\n",
              "    <path d=\"M18.56 5.44l.94 2.06.94-2.06 2.06-.94-2.06-.94-.94-2.06-.94 2.06-2.06.94zm-11 1L8.5 8.5l.94-2.06 2.06-.94-2.06-.94L8.5 2.5l-.94 2.06-2.06.94zm10 10l.94 2.06.94-2.06 2.06-.94-2.06-.94-.94-2.06-.94 2.06-2.06.94z\"/><path d=\"M17.41 7.96l-1.37-1.37c-.4-.4-.92-.59-1.43-.59-.52 0-1.04.2-1.43.59L10.3 9.45l-7.72 7.72c-.78.78-.78 2.05 0 2.83L4 21.41c.39.39.9.59 1.41.59.51 0 1.02-.2 1.41-.59l7.78-7.78 2.81-2.81c.8-.78.8-2.07 0-2.86zM5.41 20L4 18.59l7.72-7.72 1.47 1.35L5.41 20z\"/>\n",
              "  </svg>\n",
              "      </button>\n",
              "      \n",
              "  <style>\n",
              "    .colab-df-container {\n",
              "      display:flex;\n",
              "      flex-wrap:wrap;\n",
              "      gap: 12px;\n",
              "    }\n",
              "\n",
              "    .colab-df-convert {\n",
              "      background-color: #E8F0FE;\n",
              "      border: none;\n",
              "      border-radius: 50%;\n",
              "      cursor: pointer;\n",
              "      display: none;\n",
              "      fill: #1967D2;\n",
              "      height: 32px;\n",
              "      padding: 0 0 0 0;\n",
              "      width: 32px;\n",
              "    }\n",
              "\n",
              "    .colab-df-convert:hover {\n",
              "      background-color: #E2EBFA;\n",
              "      box-shadow: 0px 1px 2px rgba(60, 64, 67, 0.3), 0px 1px 3px 1px rgba(60, 64, 67, 0.15);\n",
              "      fill: #174EA6;\n",
              "    }\n",
              "\n",
              "    [theme=dark] .colab-df-convert {\n",
              "      background-color: #3B4455;\n",
              "      fill: #D2E3FC;\n",
              "    }\n",
              "\n",
              "    [theme=dark] .colab-df-convert:hover {\n",
              "      background-color: #434B5C;\n",
              "      box-shadow: 0px 1px 3px 1px rgba(0, 0, 0, 0.15);\n",
              "      filter: drop-shadow(0px 1px 2px rgba(0, 0, 0, 0.3));\n",
              "      fill: #FFFFFF;\n",
              "    }\n",
              "  </style>\n",
              "\n",
              "      <script>\n",
              "        const buttonEl =\n",
              "          document.querySelector('#df-a535b5da-3135-4ed8-8667-900b91ae8817 button.colab-df-convert');\n",
              "        buttonEl.style.display =\n",
              "          google.colab.kernel.accessAllowed ? 'block' : 'none';\n",
              "\n",
              "        async function convertToInteractive(key) {\n",
              "          const element = document.querySelector('#df-a535b5da-3135-4ed8-8667-900b91ae8817');\n",
              "          const dataTable =\n",
              "            await google.colab.kernel.invokeFunction('convertToInteractive',\n",
              "                                                     [key], {});\n",
              "          if (!dataTable) return;\n",
              "\n",
              "          const docLinkHtml = 'Like what you see? Visit the ' +\n",
              "            '<a target=\"_blank\" href=https://colab.research.google.com/notebooks/data_table.ipynb>data table notebook</a>'\n",
              "            + ' to learn more about interactive tables.';\n",
              "          element.innerHTML = '';\n",
              "          dataTable['output_type'] = 'display_data';\n",
              "          await google.colab.output.renderOutput(dataTable, element);\n",
              "          const docLink = document.createElement('div');\n",
              "          docLink.innerHTML = docLinkHtml;\n",
              "          element.appendChild(docLink);\n",
              "        }\n",
              "      </script>\n",
              "    </div>\n",
              "  </div>\n",
              "  "
            ],
            "text/plain": [
              "          0   1\n",
              "1689  02935  20\n",
              "1848  03212  10\n",
              "1855  03229  10\n",
              "1968  03446  21\n",
              "2003  03507  21"
            ]
          },
          "execution_count": 19,
          "metadata": {},
          "output_type": "execute_result"
        }
      ],
      "source": [
        "frames = pd.DataFrame([(i[0],i[1].shape[0]) for i in list(xyz_data.items())])\n",
        "frames[frames[1]<=70]"
      ]
    },
    {
      "cell_type": "code",
      "execution_count": null,
      "metadata": {
        "colab": {
          "base_uri": "https://localhost:8080/"
        },
        "id": "IRGxHi4bOpah",
        "outputId": "62661e1b-1e33-4e2b-e030-a2a9953daf32"
      },
      "outputs": [
        {
          "data": {
            "text/plain": [
              "['02935', '03212', '03229', '03446', '03507']"
            ]
          },
          "execution_count": 10,
          "metadata": {},
          "output_type": "execute_result"
        }
      ],
      "source": [
        "small = list(frames[frames[1]<=64][0])\n",
        "small"
      ]
    },
    {
      "cell_type": "code",
      "execution_count": null,
      "metadata": {
        "colab": {
          "base_uri": "https://localhost:8080/"
        },
        "id": "bAxEcad0eEci",
        "outputId": "1992f41c-6e6a-4680-e647-dde73165f607"
      },
      "outputs": [
        {
          "data": {
            "text/plain": [
              "['02935', '03212', '03229', '03446', '03507']"
            ]
          },
          "execution_count": 20,
          "metadata": {},
          "output_type": "execute_result"
        }
      ],
      "source": [
        "with open('/content/drive/Shareddrives/vid tokenization/asymov/kit-molan/ignore_list.txt', \"r\") as f:\n",
        "    filter_file = [_[:-1] for _ in f.readlines()]\n",
        "filter_file"
      ]
    },
    {
      "cell_type": "code",
      "execution_count": null,
      "metadata": {
        "colab": {
          "base_uri": "https://localhost:8080/"
        },
        "id": "aEI4kz3Ge0ku",
        "outputId": "112b094e-f14b-495e-fb76-09d884960490"
      },
      "outputs": [
        {
          "data": {
            "text/plain": [
              "dict_keys(['00001', '00002', '00003', '00005', '00010', '00014', '00015', '00017', '00018', '00019'])"
            ]
          },
          "execution_count": 25,
          "metadata": {},
          "output_type": "execute_result"
        }
      ],
      "source": [
        "dict(list(xyz_data.items())[:10]).keys()"
      ]
    },
    {
      "cell_type": "markdown",
      "metadata": {
        "id": "tx3Tx_pAbFL8"
      },
      "source": [
        "#setup\n"
      ]
    },
    {
      "cell_type": "code",
      "execution_count": null,
      "metadata": {
        "colab": {
          "base_uri": "https://localhost:8080/"
        },
        "id": "svdBrKXjZ-qv",
        "outputId": "93b80112-7395-4618-91bc-712e88812c4e"
      },
      "outputs": [
        {
          "name": "stdout",
          "output_type": "stream",
          "text": [
            "Drive already mounted at /content/drive; to attempt to forcibly remount, call drive.mount(\"/content/drive\", force_remount=True).\n"
          ]
        }
      ],
      "source": [
        "from google.colab import drive\n",
        "drive.mount('/content/drive')"
      ]
    },
    {
      "cell_type": "code",
      "execution_count": null,
      "metadata": {
        "colab": {
          "base_uri": "https://localhost:8080/"
        },
        "id": "_gOis6pk0DOj",
        "outputId": "bdff1375-90f8-4523-db5b-87186f64a7d8"
      },
      "outputs": [
        {
          "name": "stdout",
          "output_type": "stream",
          "text": [
            "Requirement already satisfied: transformers in /usr/local/lib/python3.7/dist-packages (4.16.2)\n",
            "Requirement already satisfied: argunparse in /usr/local/lib/python3.7/dist-packages (0.1.2)\n",
            "Requirement already satisfied: wordsegment in /usr/local/lib/python3.7/dist-packages (1.3.1)\n",
            "Requirement already satisfied: huggingface-hub<1.0,>=0.1.0 in /usr/local/lib/python3.7/dist-packages (from transformers) (0.4.0)\n",
            "Requirement already satisfied: tokenizers!=0.11.3,>=0.10.1 in /usr/local/lib/python3.7/dist-packages (from transformers) (0.11.5)\n",
            "Requirement already satisfied: requests in /usr/local/lib/python3.7/dist-packages (from transformers) (2.23.0)\n",
            "Requirement already satisfied: numpy>=1.17 in /usr/local/lib/python3.7/dist-packages (from transformers) (1.21.5)\n",
            "Requirement already satisfied: regex!=2019.12.17 in /usr/local/lib/python3.7/dist-packages (from transformers) (2019.12.20)\n",
            "Requirement already satisfied: tqdm>=4.27 in /usr/local/lib/python3.7/dist-packages (from transformers) (4.62.3)\n",
            "Requirement already satisfied: packaging>=20.0 in /usr/local/lib/python3.7/dist-packages (from transformers) (21.3)\n",
            "Requirement already satisfied: pyyaml>=5.1 in /usr/local/lib/python3.7/dist-packages (from transformers) (6.0)\n",
            "Requirement already satisfied: sacremoses in /usr/local/lib/python3.7/dist-packages (from transformers) (0.0.47)\n",
            "Requirement already satisfied: filelock in /usr/local/lib/python3.7/dist-packages (from transformers) (3.4.2)\n",
            "Requirement already satisfied: importlib-metadata in /usr/local/lib/python3.7/dist-packages (from transformers) (4.11.0)\n",
            "Requirement already satisfied: typing-extensions>=3.7.4.3 in /usr/local/lib/python3.7/dist-packages (from huggingface-hub<1.0,>=0.1.0->transformers) (4.1.1)\n",
            "Requirement already satisfied: pyparsing!=3.0.5,>=2.0.2 in /usr/local/lib/python3.7/dist-packages (from packaging>=20.0->transformers) (3.0.7)\n",
            "Requirement already satisfied: version-query in /usr/local/lib/python3.7/dist-packages (from argunparse) (1.1.0)\n",
            "Requirement already satisfied: zipp>=0.5 in /usr/local/lib/python3.7/dist-packages (from importlib-metadata->transformers) (3.7.0)\n",
            "Requirement already satisfied: urllib3!=1.25.0,!=1.25.1,<1.26,>=1.21.1 in /usr/local/lib/python3.7/dist-packages (from requests->transformers) (1.24.3)\n",
            "Requirement already satisfied: certifi>=2017.4.17 in /usr/local/lib/python3.7/dist-packages (from requests->transformers) (2021.10.8)\n",
            "Requirement already satisfied: idna<3,>=2.5 in /usr/local/lib/python3.7/dist-packages (from requests->transformers) (2.10)\n",
            "Requirement already satisfied: chardet<4,>=3.0.2 in /usr/local/lib/python3.7/dist-packages (from requests->transformers) (3.0.4)\n",
            "Requirement already satisfied: click in /usr/local/lib/python3.7/dist-packages (from sacremoses->transformers) (7.1.2)\n",
            "Requirement already satisfied: six in /usr/local/lib/python3.7/dist-packages (from sacremoses->transformers) (1.15.0)\n",
            "Requirement already satisfied: joblib in /usr/local/lib/python3.7/dist-packages (from sacremoses->transformers) (1.1.0)\n",
            "Requirement already satisfied: semver~=2.9 in /usr/local/lib/python3.7/dist-packages (from version-query->argunparse) (2.13.0)\n",
            "Requirement already satisfied: GitPython~=3.0 in /usr/local/lib/python3.7/dist-packages (from version-query->argunparse) (3.1.26)\n",
            "Requirement already satisfied: setuptools>=45.1 in /usr/local/lib/python3.7/dist-packages (from version-query->argunparse) (57.4.0)\n",
            "Requirement already satisfied: gitdb<5,>=4.0.1 in /usr/local/lib/python3.7/dist-packages (from GitPython~=3.0->version-query->argunparse) (4.0.9)\n",
            "Requirement already satisfied: smmap<6,>=3.0.1 in /usr/local/lib/python3.7/dist-packages (from gitdb<5,>=4.0.1->GitPython~=3.0->version-query->argunparse) (5.0.0)\n",
            "Collecting git+https://github.com/PyTorchLightning/pytorch-lightning\n",
            "  Cloning https://github.com/PyTorchLightning/pytorch-lightning to /tmp/pip-req-build-zfpucen3\n",
            "  Running command git clone -q https://github.com/PyTorchLightning/pytorch-lightning /tmp/pip-req-build-zfpucen3\n",
            "  Running command git submodule update --init --recursive -q\n",
            "  From https://github.com/PyTorchLightning/lightning-tutorials\n",
            "   * branch            290fb466de1fcc2ac6025f74b56906592911e856 -> FETCH_HEAD\n",
            "  Installing build dependencies ... \u001b[?25l\u001b[?25hdone\n",
            "  Getting requirements to build wheel ... \u001b[?25l\u001b[?25hdone\n",
            "    Preparing wheel metadata ... \u001b[?25l\u001b[?25hdone\n",
            "Requirement already satisfied: tensorboard>=2.2.0 in /usr/local/lib/python3.7/dist-packages (from pytorch-lightning==1.6.0.dev0) (2.8.0)\n",
            "Requirement already satisfied: torchmetrics>=0.4.1 in /usr/local/lib/python3.7/dist-packages (from pytorch-lightning==1.6.0.dev0) (0.7.2)\n",
            "Requirement already satisfied: PyYAML>=5.4 in /usr/local/lib/python3.7/dist-packages (from pytorch-lightning==1.6.0.dev0) (6.0)\n",
            "Requirement already satisfied: fsspec[http]!=2021.06.0,>=2021.05.0 in /usr/local/lib/python3.7/dist-packages (from pytorch-lightning==1.6.0.dev0) (2022.1.0)\n",
            "Requirement already satisfied: pyDeprecate<0.4.0,>=0.3.1 in /usr/local/lib/python3.7/dist-packages (from pytorch-lightning==1.6.0.dev0) (0.3.2)\n",
            "Requirement already satisfied: tqdm>=4.41.0 in /usr/local/lib/python3.7/dist-packages (from pytorch-lightning==1.6.0.dev0) (4.62.3)\n",
            "Requirement already satisfied: torch>=1.7.* in /usr/local/lib/python3.7/dist-packages (from pytorch-lightning==1.6.0.dev0) (1.10.0+cu111)\n",
            "Requirement already satisfied: typing-extensions>=4.0.0 in /usr/local/lib/python3.7/dist-packages (from pytorch-lightning==1.6.0.dev0) (4.1.1)\n",
            "Requirement already satisfied: packaging>=17.0 in /usr/local/lib/python3.7/dist-packages (from pytorch-lightning==1.6.0.dev0) (21.3)\n",
            "Requirement already satisfied: numpy>=1.17.2 in /usr/local/lib/python3.7/dist-packages (from pytorch-lightning==1.6.0.dev0) (1.21.5)\n",
            "Requirement already satisfied: requests in /usr/local/lib/python3.7/dist-packages (from fsspec[http]!=2021.06.0,>=2021.05.0->pytorch-lightning==1.6.0.dev0) (2.23.0)\n",
            "Requirement already satisfied: aiohttp in /usr/local/lib/python3.7/dist-packages (from fsspec[http]!=2021.06.0,>=2021.05.0->pytorch-lightning==1.6.0.dev0) (3.8.1)\n",
            "Requirement already satisfied: pyparsing!=3.0.5,>=2.0.2 in /usr/local/lib/python3.7/dist-packages (from packaging>=17.0->pytorch-lightning==1.6.0.dev0) (3.0.7)\n",
            "Requirement already satisfied: setuptools>=41.0.0 in /usr/local/lib/python3.7/dist-packages (from tensorboard>=2.2.0->pytorch-lightning==1.6.0.dev0) (57.4.0)\n",
            "Requirement already satisfied: markdown>=2.6.8 in /usr/local/lib/python3.7/dist-packages (from tensorboard>=2.2.0->pytorch-lightning==1.6.0.dev0) (3.3.6)\n",
            "Requirement already satisfied: grpcio>=1.24.3 in /usr/local/lib/python3.7/dist-packages (from tensorboard>=2.2.0->pytorch-lightning==1.6.0.dev0) (1.43.0)\n",
            "Requirement already satisfied: werkzeug>=0.11.15 in /usr/local/lib/python3.7/dist-packages (from tensorboard>=2.2.0->pytorch-lightning==1.6.0.dev0) (1.0.1)\n",
            "Requirement already satisfied: google-auth-oauthlib<0.5,>=0.4.1 in /usr/local/lib/python3.7/dist-packages (from tensorboard>=2.2.0->pytorch-lightning==1.6.0.dev0) (0.4.6)\n",
            "Requirement already satisfied: wheel>=0.26 in /usr/local/lib/python3.7/dist-packages (from tensorboard>=2.2.0->pytorch-lightning==1.6.0.dev0) (0.37.1)\n",
            "Requirement already satisfied: protobuf>=3.6.0 in /usr/local/lib/python3.7/dist-packages (from tensorboard>=2.2.0->pytorch-lightning==1.6.0.dev0) (3.17.3)\n",
            "Requirement already satisfied: tensorboard-data-server<0.7.0,>=0.6.0 in /usr/local/lib/python3.7/dist-packages (from tensorboard>=2.2.0->pytorch-lightning==1.6.0.dev0) (0.6.1)\n",
            "Requirement already satisfied: google-auth<3,>=1.6.3 in /usr/local/lib/python3.7/dist-packages (from tensorboard>=2.2.0->pytorch-lightning==1.6.0.dev0) (1.35.0)\n",
            "Requirement already satisfied: tensorboard-plugin-wit>=1.6.0 in /usr/local/lib/python3.7/dist-packages (from tensorboard>=2.2.0->pytorch-lightning==1.6.0.dev0) (1.8.1)\n",
            "Requirement already satisfied: absl-py>=0.4 in /usr/local/lib/python3.7/dist-packages (from tensorboard>=2.2.0->pytorch-lightning==1.6.0.dev0) (1.0.0)\n",
            "Requirement already satisfied: six in /usr/local/lib/python3.7/dist-packages (from absl-py>=0.4->tensorboard>=2.2.0->pytorch-lightning==1.6.0.dev0) (1.15.0)\n",
            "Requirement already satisfied: rsa<5,>=3.1.4 in /usr/local/lib/python3.7/dist-packages (from google-auth<3,>=1.6.3->tensorboard>=2.2.0->pytorch-lightning==1.6.0.dev0) (4.8)\n",
            "Requirement already satisfied: cachetools<5.0,>=2.0.0 in /usr/local/lib/python3.7/dist-packages (from google-auth<3,>=1.6.3->tensorboard>=2.2.0->pytorch-lightning==1.6.0.dev0) (4.2.4)\n",
            "Requirement already satisfied: pyasn1-modules>=0.2.1 in /usr/local/lib/python3.7/dist-packages (from google-auth<3,>=1.6.3->tensorboard>=2.2.0->pytorch-lightning==1.6.0.dev0) (0.2.8)\n",
            "Requirement already satisfied: requests-oauthlib>=0.7.0 in /usr/local/lib/python3.7/dist-packages (from google-auth-oauthlib<0.5,>=0.4.1->tensorboard>=2.2.0->pytorch-lightning==1.6.0.dev0) (1.3.1)\n",
            "Requirement already satisfied: importlib-metadata>=4.4 in /usr/local/lib/python3.7/dist-packages (from markdown>=2.6.8->tensorboard>=2.2.0->pytorch-lightning==1.6.0.dev0) (4.11.0)\n",
            "Requirement already satisfied: zipp>=0.5 in /usr/local/lib/python3.7/dist-packages (from importlib-metadata>=4.4->markdown>=2.6.8->tensorboard>=2.2.0->pytorch-lightning==1.6.0.dev0) (3.7.0)\n",
            "Requirement already satisfied: pyasn1<0.5.0,>=0.4.6 in /usr/local/lib/python3.7/dist-packages (from pyasn1-modules>=0.2.1->google-auth<3,>=1.6.3->tensorboard>=2.2.0->pytorch-lightning==1.6.0.dev0) (0.4.8)\n",
            "Requirement already satisfied: urllib3!=1.25.0,!=1.25.1,<1.26,>=1.21.1 in /usr/local/lib/python3.7/dist-packages (from requests->fsspec[http]!=2021.06.0,>=2021.05.0->pytorch-lightning==1.6.0.dev0) (1.24.3)\n",
            "Requirement already satisfied: idna<3,>=2.5 in /usr/local/lib/python3.7/dist-packages (from requests->fsspec[http]!=2021.06.0,>=2021.05.0->pytorch-lightning==1.6.0.dev0) (2.10)\n",
            "Requirement already satisfied: chardet<4,>=3.0.2 in /usr/local/lib/python3.7/dist-packages (from requests->fsspec[http]!=2021.06.0,>=2021.05.0->pytorch-lightning==1.6.0.dev0) (3.0.4)\n",
            "Requirement already satisfied: certifi>=2017.4.17 in /usr/local/lib/python3.7/dist-packages (from requests->fsspec[http]!=2021.06.0,>=2021.05.0->pytorch-lightning==1.6.0.dev0) (2021.10.8)\n",
            "Requirement already satisfied: oauthlib>=3.0.0 in /usr/local/lib/python3.7/dist-packages (from requests-oauthlib>=0.7.0->google-auth-oauthlib<0.5,>=0.4.1->tensorboard>=2.2.0->pytorch-lightning==1.6.0.dev0) (3.2.0)\n",
            "Requirement already satisfied: aiosignal>=1.1.2 in /usr/local/lib/python3.7/dist-packages (from aiohttp->fsspec[http]!=2021.06.0,>=2021.05.0->pytorch-lightning==1.6.0.dev0) (1.2.0)\n",
            "Requirement already satisfied: yarl<2.0,>=1.0 in /usr/local/lib/python3.7/dist-packages (from aiohttp->fsspec[http]!=2021.06.0,>=2021.05.0->pytorch-lightning==1.6.0.dev0) (1.7.2)\n",
            "Requirement already satisfied: async-timeout<5.0,>=4.0.0a3 in /usr/local/lib/python3.7/dist-packages (from aiohttp->fsspec[http]!=2021.06.0,>=2021.05.0->pytorch-lightning==1.6.0.dev0) (4.0.2)\n",
            "Requirement already satisfied: attrs>=17.3.0 in /usr/local/lib/python3.7/dist-packages (from aiohttp->fsspec[http]!=2021.06.0,>=2021.05.0->pytorch-lightning==1.6.0.dev0) (21.4.0)\n",
            "Requirement already satisfied: charset-normalizer<3.0,>=2.0 in /usr/local/lib/python3.7/dist-packages (from aiohttp->fsspec[http]!=2021.06.0,>=2021.05.0->pytorch-lightning==1.6.0.dev0) (2.0.11)\n",
            "Requirement already satisfied: asynctest==0.13.0 in /usr/local/lib/python3.7/dist-packages (from aiohttp->fsspec[http]!=2021.06.0,>=2021.05.0->pytorch-lightning==1.6.0.dev0) (0.13.0)\n",
            "Requirement already satisfied: multidict<7.0,>=4.5 in /usr/local/lib/python3.7/dist-packages (from aiohttp->fsspec[http]!=2021.06.0,>=2021.05.0->pytorch-lightning==1.6.0.dev0) (6.0.2)\n",
            "Requirement already satisfied: frozenlist>=1.1.1 in /usr/local/lib/python3.7/dist-packages (from aiohttp->fsspec[http]!=2021.06.0,>=2021.05.0->pytorch-lightning==1.6.0.dev0) (1.3.0)\n",
            "Requirement already satisfied: lightning-bolts in /usr/local/lib/python3.7/dist-packages (0.5.0)\n",
            "Requirement already satisfied: torchmetrics>=0.4.1 in /usr/local/lib/python3.7/dist-packages (from lightning-bolts) (0.7.2)\n",
            "Requirement already satisfied: packaging in /usr/local/lib/python3.7/dist-packages (from lightning-bolts) (21.3)\n",
            "Requirement already satisfied: pytorch-lightning>=1.4.0 in /usr/local/lib/python3.7/dist-packages (from lightning-bolts) (1.6.0.dev0)\n",
            "Requirement already satisfied: torch>=1.7.1 in /usr/local/lib/python3.7/dist-packages (from lightning-bolts) (1.10.0+cu111)\n",
            "Requirement already satisfied: typing-extensions>=4.0.0 in /usr/local/lib/python3.7/dist-packages (from pytorch-lightning>=1.4.0->lightning-bolts) (4.1.1)\n",
            "Requirement already satisfied: tqdm>=4.41.0 in /usr/local/lib/python3.7/dist-packages (from pytorch-lightning>=1.4.0->lightning-bolts) (4.62.3)\n",
            "Requirement already satisfied: pyDeprecate<0.4.0,>=0.3.1 in /usr/local/lib/python3.7/dist-packages (from pytorch-lightning>=1.4.0->lightning-bolts) (0.3.2)\n",
            "Requirement already satisfied: tensorboard>=2.2.0 in /usr/local/lib/python3.7/dist-packages (from pytorch-lightning>=1.4.0->lightning-bolts) (2.8.0)\n",
            "Requirement already satisfied: numpy>=1.17.2 in /usr/local/lib/python3.7/dist-packages (from pytorch-lightning>=1.4.0->lightning-bolts) (1.21.5)\n",
            "Requirement already satisfied: PyYAML>=5.4 in /usr/local/lib/python3.7/dist-packages (from pytorch-lightning>=1.4.0->lightning-bolts) (6.0)\n",
            "Requirement already satisfied: fsspec[http]!=2021.06.0,>=2021.05.0 in /usr/local/lib/python3.7/dist-packages (from pytorch-lightning>=1.4.0->lightning-bolts) (2022.1.0)\n",
            "Requirement already satisfied: aiohttp in /usr/local/lib/python3.7/dist-packages (from fsspec[http]!=2021.06.0,>=2021.05.0->pytorch-lightning>=1.4.0->lightning-bolts) (3.8.1)\n",
            "Requirement already satisfied: requests in /usr/local/lib/python3.7/dist-packages (from fsspec[http]!=2021.06.0,>=2021.05.0->pytorch-lightning>=1.4.0->lightning-bolts) (2.23.0)\n",
            "Requirement already satisfied: pyparsing!=3.0.5,>=2.0.2 in /usr/local/lib/python3.7/dist-packages (from packaging->lightning-bolts) (3.0.7)\n",
            "Requirement already satisfied: google-auth-oauthlib<0.5,>=0.4.1 in /usr/local/lib/python3.7/dist-packages (from tensorboard>=2.2.0->pytorch-lightning>=1.4.0->lightning-bolts) (0.4.6)\n",
            "Requirement already satisfied: grpcio>=1.24.3 in /usr/local/lib/python3.7/dist-packages (from tensorboard>=2.2.0->pytorch-lightning>=1.4.0->lightning-bolts) (1.43.0)\n",
            "Requirement already satisfied: wheel>=0.26 in /usr/local/lib/python3.7/dist-packages (from tensorboard>=2.2.0->pytorch-lightning>=1.4.0->lightning-bolts) (0.37.1)\n",
            "Requirement already satisfied: absl-py>=0.4 in /usr/local/lib/python3.7/dist-packages (from tensorboard>=2.2.0->pytorch-lightning>=1.4.0->lightning-bolts) (1.0.0)\n",
            "Requirement already satisfied: setuptools>=41.0.0 in /usr/local/lib/python3.7/dist-packages (from tensorboard>=2.2.0->pytorch-lightning>=1.4.0->lightning-bolts) (57.4.0)\n",
            "Requirement already satisfied: protobuf>=3.6.0 in /usr/local/lib/python3.7/dist-packages (from tensorboard>=2.2.0->pytorch-lightning>=1.4.0->lightning-bolts) (3.17.3)\n",
            "Requirement already satisfied: werkzeug>=0.11.15 in /usr/local/lib/python3.7/dist-packages (from tensorboard>=2.2.0->pytorch-lightning>=1.4.0->lightning-bolts) (1.0.1)\n",
            "Requirement already satisfied: tensorboard-plugin-wit>=1.6.0 in /usr/local/lib/python3.7/dist-packages (from tensorboard>=2.2.0->pytorch-lightning>=1.4.0->lightning-bolts) (1.8.1)\n",
            "Requirement already satisfied: tensorboard-data-server<0.7.0,>=0.6.0 in /usr/local/lib/python3.7/dist-packages (from tensorboard>=2.2.0->pytorch-lightning>=1.4.0->lightning-bolts) (0.6.1)\n",
            "Requirement already satisfied: markdown>=2.6.8 in /usr/local/lib/python3.7/dist-packages (from tensorboard>=2.2.0->pytorch-lightning>=1.4.0->lightning-bolts) (3.3.6)\n",
            "Requirement already satisfied: google-auth<3,>=1.6.3 in /usr/local/lib/python3.7/dist-packages (from tensorboard>=2.2.0->pytorch-lightning>=1.4.0->lightning-bolts) (1.35.0)\n",
            "Requirement already satisfied: six in /usr/local/lib/python3.7/dist-packages (from absl-py>=0.4->tensorboard>=2.2.0->pytorch-lightning>=1.4.0->lightning-bolts) (1.15.0)\n",
            "Requirement already satisfied: pyasn1-modules>=0.2.1 in /usr/local/lib/python3.7/dist-packages (from google-auth<3,>=1.6.3->tensorboard>=2.2.0->pytorch-lightning>=1.4.0->lightning-bolts) (0.2.8)\n",
            "Requirement already satisfied: cachetools<5.0,>=2.0.0 in /usr/local/lib/python3.7/dist-packages (from google-auth<3,>=1.6.3->tensorboard>=2.2.0->pytorch-lightning>=1.4.0->lightning-bolts) (4.2.4)\n",
            "Requirement already satisfied: rsa<5,>=3.1.4 in /usr/local/lib/python3.7/dist-packages (from google-auth<3,>=1.6.3->tensorboard>=2.2.0->pytorch-lightning>=1.4.0->lightning-bolts) (4.8)\n",
            "Requirement already satisfied: requests-oauthlib>=0.7.0 in /usr/local/lib/python3.7/dist-packages (from google-auth-oauthlib<0.5,>=0.4.1->tensorboard>=2.2.0->pytorch-lightning>=1.4.0->lightning-bolts) (1.3.1)\n",
            "Requirement already satisfied: importlib-metadata>=4.4 in /usr/local/lib/python3.7/dist-packages (from markdown>=2.6.8->tensorboard>=2.2.0->pytorch-lightning>=1.4.0->lightning-bolts) (4.11.0)\n",
            "Requirement already satisfied: zipp>=0.5 in /usr/local/lib/python3.7/dist-packages (from importlib-metadata>=4.4->markdown>=2.6.8->tensorboard>=2.2.0->pytorch-lightning>=1.4.0->lightning-bolts) (3.7.0)\n",
            "Requirement already satisfied: pyasn1<0.5.0,>=0.4.6 in /usr/local/lib/python3.7/dist-packages (from pyasn1-modules>=0.2.1->google-auth<3,>=1.6.3->tensorboard>=2.2.0->pytorch-lightning>=1.4.0->lightning-bolts) (0.4.8)\n",
            "Requirement already satisfied: idna<3,>=2.5 in /usr/local/lib/python3.7/dist-packages (from requests->fsspec[http]!=2021.06.0,>=2021.05.0->pytorch-lightning>=1.4.0->lightning-bolts) (2.10)\n",
            "Requirement already satisfied: urllib3!=1.25.0,!=1.25.1,<1.26,>=1.21.1 in /usr/local/lib/python3.7/dist-packages (from requests->fsspec[http]!=2021.06.0,>=2021.05.0->pytorch-lightning>=1.4.0->lightning-bolts) (1.24.3)\n",
            "Requirement already satisfied: chardet<4,>=3.0.2 in /usr/local/lib/python3.7/dist-packages (from requests->fsspec[http]!=2021.06.0,>=2021.05.0->pytorch-lightning>=1.4.0->lightning-bolts) (3.0.4)\n",
            "Requirement already satisfied: certifi>=2017.4.17 in /usr/local/lib/python3.7/dist-packages (from requests->fsspec[http]!=2021.06.0,>=2021.05.0->pytorch-lightning>=1.4.0->lightning-bolts) (2021.10.8)\n",
            "Requirement already satisfied: oauthlib>=3.0.0 in /usr/local/lib/python3.7/dist-packages (from requests-oauthlib>=0.7.0->google-auth-oauthlib<0.5,>=0.4.1->tensorboard>=2.2.0->pytorch-lightning>=1.4.0->lightning-bolts) (3.2.0)\n",
            "Requirement already satisfied: async-timeout<5.0,>=4.0.0a3 in /usr/local/lib/python3.7/dist-packages (from aiohttp->fsspec[http]!=2021.06.0,>=2021.05.0->pytorch-lightning>=1.4.0->lightning-bolts) (4.0.2)\n",
            "Requirement already satisfied: aiosignal>=1.1.2 in /usr/local/lib/python3.7/dist-packages (from aiohttp->fsspec[http]!=2021.06.0,>=2021.05.0->pytorch-lightning>=1.4.0->lightning-bolts) (1.2.0)\n",
            "Requirement already satisfied: frozenlist>=1.1.1 in /usr/local/lib/python3.7/dist-packages (from aiohttp->fsspec[http]!=2021.06.0,>=2021.05.0->pytorch-lightning>=1.4.0->lightning-bolts) (1.3.0)\n",
            "Requirement already satisfied: multidict<7.0,>=4.5 in /usr/local/lib/python3.7/dist-packages (from aiohttp->fsspec[http]!=2021.06.0,>=2021.05.0->pytorch-lightning>=1.4.0->lightning-bolts) (6.0.2)\n",
            "Requirement already satisfied: charset-normalizer<3.0,>=2.0 in /usr/local/lib/python3.7/dist-packages (from aiohttp->fsspec[http]!=2021.06.0,>=2021.05.0->pytorch-lightning>=1.4.0->lightning-bolts) (2.0.11)\n",
            "Requirement already satisfied: attrs>=17.3.0 in /usr/local/lib/python3.7/dist-packages (from aiohttp->fsspec[http]!=2021.06.0,>=2021.05.0->pytorch-lightning>=1.4.0->lightning-bolts) (21.4.0)\n",
            "Requirement already satisfied: yarl<2.0,>=1.0 in /usr/local/lib/python3.7/dist-packages (from aiohttp->fsspec[http]!=2021.06.0,>=2021.05.0->pytorch-lightning>=1.4.0->lightning-bolts) (1.7.2)\n",
            "Requirement already satisfied: asynctest==0.13.0 in /usr/local/lib/python3.7/dist-packages (from aiohttp->fsspec[http]!=2021.06.0,>=2021.05.0->pytorch-lightning>=1.4.0->lightning-bolts) (0.13.0)\n",
            "Requirement already satisfied: torchvision in /usr/local/lib/python3.7/dist-packages (0.11.1+cu111)\n",
            "Requirement already satisfied: numpy in /usr/local/lib/python3.7/dist-packages (from torchvision) (1.21.5)\n",
            "Requirement already satisfied: torch==1.10.0 in /usr/local/lib/python3.7/dist-packages (from torchvision) (1.10.0+cu111)\n",
            "Requirement already satisfied: pillow!=8.3.0,>=5.3.0 in /usr/local/lib/python3.7/dist-packages (from torchvision) (7.1.2)\n",
            "Requirement already satisfied: typing-extensions in /usr/local/lib/python3.7/dist-packages (from torch==1.10.0->torchvision) (4.1.1)\n",
            "Reading package lists... Done\n",
            "Building dependency tree       \n",
            "Reading state information... Done\n",
            "ffmpeg is already the newest version (7:3.4.8-0ubuntu0.2).\n",
            "The following packages were automatically installed and are no longer required:\n",
            "  cuda-command-line-tools-10-0 cuda-command-line-tools-10-1\n",
            "  cuda-command-line-tools-11-0 cuda-compiler-10-0 cuda-compiler-10-1\n",
            "  cuda-compiler-11-0 cuda-cuobjdump-10-0 cuda-cuobjdump-10-1\n",
            "  cuda-cuobjdump-11-0 cuda-cupti-10-0 cuda-cupti-10-1 cuda-cupti-11-0\n",
            "  cuda-cupti-dev-11-0 cuda-documentation-10-0 cuda-documentation-10-1\n",
            "  cuda-documentation-11-0 cuda-documentation-11-1 cuda-gdb-10-0 cuda-gdb-10-1\n",
            "  cuda-gdb-11-0 cuda-gpu-library-advisor-10-0 cuda-gpu-library-advisor-10-1\n",
            "  cuda-libraries-10-0 cuda-libraries-10-1 cuda-libraries-11-0\n",
            "  cuda-memcheck-10-0 cuda-memcheck-10-1 cuda-memcheck-11-0 cuda-nsight-10-0\n",
            "  cuda-nsight-10-1 cuda-nsight-11-0 cuda-nsight-11-1 cuda-nsight-compute-10-0\n",
            "  cuda-nsight-compute-10-1 cuda-nsight-compute-11-0 cuda-nsight-compute-11-1\n",
            "  cuda-nsight-systems-10-1 cuda-nsight-systems-11-0 cuda-nsight-systems-11-1\n",
            "  cuda-nvcc-10-0 cuda-nvcc-10-1 cuda-nvcc-11-0 cuda-nvdisasm-10-0\n",
            "  cuda-nvdisasm-10-1 cuda-nvdisasm-11-0 cuda-nvml-dev-10-0 cuda-nvml-dev-10-1\n",
            "  cuda-nvml-dev-11-0 cuda-nvprof-10-0 cuda-nvprof-10-1 cuda-nvprof-11-0\n",
            "  cuda-nvprune-10-0 cuda-nvprune-10-1 cuda-nvprune-11-0 cuda-nvtx-10-0\n",
            "  cuda-nvtx-10-1 cuda-nvtx-11-0 cuda-nvvp-10-0 cuda-nvvp-10-1 cuda-nvvp-11-0\n",
            "  cuda-nvvp-11-1 cuda-samples-10-0 cuda-samples-10-1 cuda-samples-11-0\n",
            "  cuda-samples-11-1 cuda-sanitizer-11-0 cuda-sanitizer-api-10-1\n",
            "  cuda-toolkit-10-0 cuda-toolkit-10-1 cuda-toolkit-11-0 cuda-toolkit-11-1\n",
            "  cuda-tools-10-0 cuda-tools-10-1 cuda-tools-11-0 cuda-tools-11-1\n",
            "  cuda-visual-tools-10-0 cuda-visual-tools-10-1 cuda-visual-tools-11-0\n",
            "  cuda-visual-tools-11-1 default-jre dkms freeglut3 freeglut3-dev\n",
            "  keyboard-configuration libargon2-0 libcap2 libcryptsetup12\n",
            "  libdevmapper1.02.1 libfontenc1 libidn11 libip4tc0 libjansson4\n",
            "  libnvidia-cfg1-510 libnvidia-common-460 libnvidia-common-510\n",
            "  libnvidia-extra-510 libnvidia-fbc1-510 libnvidia-gl-510 libpam-systemd\n",
            "  libpolkit-agent-1-0 libpolkit-backend-1-0 libpolkit-gobject-1-0 libxfont2\n",
            "  libxi-dev libxkbfile1 libxmu-dev libxmu-headers libxnvctrl0 libxtst6\n",
            "  nsight-compute-2020.2.1 nsight-compute-2022.1.0 nsight-systems-2020.3.2\n",
            "  nsight-systems-2020.3.4 nsight-systems-2021.5.2 nvidia-dkms-510\n",
            "  nvidia-kernel-common-510 nvidia-kernel-source-510 nvidia-modprobe\n",
            "  nvidia-settings openjdk-11-jre policykit-1 policykit-1-gnome python3-xkit\n",
            "  screen-resolution-extra systemd systemd-sysv udev x11-xkb-utils\n",
            "  xserver-common xserver-xorg-core-hwe-18.04 xserver-xorg-video-nvidia-510\n",
            "Use 'apt autoremove' to remove them.\n",
            "0 upgraded, 0 newly installed, 0 to remove and 39 not upgraded.\n",
            "Requirement already satisfied: aniposelib in /usr/local/lib/python3.7/dist-packages (0.4.3)\n",
            "Requirement already satisfied: wandb in /usr/local/lib/python3.7/dist-packages (0.12.10)\n",
            "Requirement already satisfied: gym in /usr/local/lib/python3.7/dist-packages (0.17.3)\n",
            "Requirement already satisfied: test-tube in /usr/local/lib/python3.7/dist-packages (0.7.5)\n",
            "Requirement already satisfied: ffmpeg-python in /usr/local/lib/python3.7/dist-packages (0.2.0)\n",
            "Requirement already satisfied: matplotlib in /usr/local/lib/python3.7/dist-packages (3.2.2)\n",
            "Requirement already satisfied: easydict in /usr/local/lib/python3.7/dist-packages (1.9)\n",
            "Requirement already satisfied: scikit-learn in /usr/local/lib/python3.7/dist-packages (1.0.2)\n",
            "Requirement already satisfied: scipy in /usr/local/lib/python3.7/dist-packages (from aniposelib) (1.4.1)\n",
            "Requirement already satisfied: pandas in /usr/local/lib/python3.7/dist-packages (from aniposelib) (1.3.5)\n",
            "Requirement already satisfied: opencv-contrib-python in /usr/local/lib/python3.7/dist-packages (from aniposelib) (4.1.2.30)\n",
            "Requirement already satisfied: tqdm in /usr/local/lib/python3.7/dist-packages (from aniposelib) (4.62.3)\n",
            "Requirement already satisfied: numba in /usr/local/lib/python3.7/dist-packages (from aniposelib) (0.51.2)\n",
            "Requirement already satisfied: toml in /usr/local/lib/python3.7/dist-packages (from aniposelib) (0.10.2)\n",
            "Requirement already satisfied: numpy in /usr/local/lib/python3.7/dist-packages (from aniposelib) (1.21.5)\n",
            "Requirement already satisfied: yaspin>=1.0.0 in /usr/local/lib/python3.7/dist-packages (from wandb) (2.1.0)\n",
            "Requirement already satisfied: GitPython>=1.0.0 in /usr/local/lib/python3.7/dist-packages (from wandb) (3.1.26)\n",
            "Requirement already satisfied: psutil>=5.0.0 in /usr/local/lib/python3.7/dist-packages (from wandb) (5.4.8)\n",
            "Requirement already satisfied: pathtools in /usr/local/lib/python3.7/dist-packages (from wandb) (0.1.2)\n",
            "Requirement already satisfied: protobuf>=3.12.0 in /usr/local/lib/python3.7/dist-packages (from wandb) (3.17.3)\n",
            "Requirement already satisfied: shortuuid>=0.5.0 in /usr/local/lib/python3.7/dist-packages (from wandb) (1.0.8)\n",
            "Requirement already satisfied: promise<3,>=2.0 in /usr/local/lib/python3.7/dist-packages (from wandb) (2.3)\n",
            "Requirement already satisfied: six>=1.13.0 in /usr/local/lib/python3.7/dist-packages (from wandb) (1.15.0)\n",
            "Requirement already satisfied: requests<3,>=2.0.0 in /usr/local/lib/python3.7/dist-packages (from wandb) (2.23.0)\n",
            "Requirement already satisfied: docker-pycreds>=0.4.0 in /usr/local/lib/python3.7/dist-packages (from wandb) (0.4.0)\n",
            "Requirement already satisfied: Click!=8.0.0,>=7.0 in /usr/local/lib/python3.7/dist-packages (from wandb) (7.1.2)\n",
            "Requirement already satisfied: python-dateutil>=2.6.1 in /usr/local/lib/python3.7/dist-packages (from wandb) (2.8.2)\n",
            "Requirement already satisfied: PyYAML in /usr/local/lib/python3.7/dist-packages (from wandb) (6.0)\n",
            "Requirement already satisfied: sentry-sdk>=1.0.0 in /usr/local/lib/python3.7/dist-packages (from wandb) (1.5.5)\n",
            "Requirement already satisfied: gitdb<5,>=4.0.1 in /usr/local/lib/python3.7/dist-packages (from GitPython>=1.0.0->wandb) (4.0.9)\n",
            "Requirement already satisfied: typing-extensions>=3.7.4.3 in /usr/local/lib/python3.7/dist-packages (from GitPython>=1.0.0->wandb) (4.1.1)\n",
            "Requirement already satisfied: smmap<6,>=3.0.1 in /usr/local/lib/python3.7/dist-packages (from gitdb<5,>=4.0.1->GitPython>=1.0.0->wandb) (5.0.0)\n",
            "Requirement already satisfied: certifi>=2017.4.17 in /usr/local/lib/python3.7/dist-packages (from requests<3,>=2.0.0->wandb) (2021.10.8)\n",
            "Requirement already satisfied: idna<3,>=2.5 in /usr/local/lib/python3.7/dist-packages (from requests<3,>=2.0.0->wandb) (2.10)\n",
            "Requirement already satisfied: chardet<4,>=3.0.2 in /usr/local/lib/python3.7/dist-packages (from requests<3,>=2.0.0->wandb) (3.0.4)\n",
            "Requirement already satisfied: urllib3!=1.25.0,!=1.25.1,<1.26,>=1.21.1 in /usr/local/lib/python3.7/dist-packages (from requests<3,>=2.0.0->wandb) (1.24.3)\n",
            "Requirement already satisfied: termcolor<2.0.0,>=1.1.0 in /usr/local/lib/python3.7/dist-packages (from yaspin>=1.0.0->wandb) (1.1.0)\n",
            "Requirement already satisfied: pyglet<=1.5.0,>=1.4.0 in /usr/local/lib/python3.7/dist-packages (from gym) (1.5.0)\n",
            "Requirement already satisfied: cloudpickle<1.7.0,>=1.2.0 in /usr/local/lib/python3.7/dist-packages (from gym) (1.3.0)\n",
            "Requirement already satisfied: future in /usr/local/lib/python3.7/dist-packages (from pyglet<=1.5.0,>=1.4.0->gym) (0.16.0)\n",
            "Requirement already satisfied: tensorboard>=1.15.0 in /usr/local/lib/python3.7/dist-packages (from test-tube) (2.8.0)\n",
            "Requirement already satisfied: torch>=1.1.0 in /usr/local/lib/python3.7/dist-packages (from test-tube) (1.10.0+cu111)\n",
            "Requirement already satisfied: imageio>=2.3.0 in /usr/local/lib/python3.7/dist-packages (from test-tube) (2.4.1)\n",
            "Requirement already satisfied: pillow in /usr/local/lib/python3.7/dist-packages (from imageio>=2.3.0->test-tube) (7.1.2)\n",
            "Requirement already satisfied: pytz>=2017.3 in /usr/local/lib/python3.7/dist-packages (from pandas->aniposelib) (2018.9)\n",
            "Requirement already satisfied: google-auth<3,>=1.6.3 in /usr/local/lib/python3.7/dist-packages (from tensorboard>=1.15.0->test-tube) (1.35.0)\n",
            "Requirement already satisfied: absl-py>=0.4 in /usr/local/lib/python3.7/dist-packages (from tensorboard>=1.15.0->test-tube) (1.0.0)\n",
            "Requirement already satisfied: markdown>=2.6.8 in /usr/local/lib/python3.7/dist-packages (from tensorboard>=1.15.0->test-tube) (3.3.6)\n",
            "Requirement already satisfied: werkzeug>=0.11.15 in /usr/local/lib/python3.7/dist-packages (from tensorboard>=1.15.0->test-tube) (1.0.1)\n",
            "Requirement already satisfied: google-auth-oauthlib<0.5,>=0.4.1 in /usr/local/lib/python3.7/dist-packages (from tensorboard>=1.15.0->test-tube) (0.4.6)\n",
            "Requirement already satisfied: tensorboard-data-server<0.7.0,>=0.6.0 in /usr/local/lib/python3.7/dist-packages (from tensorboard>=1.15.0->test-tube) (0.6.1)\n",
            "Requirement already satisfied: setuptools>=41.0.0 in /usr/local/lib/python3.7/dist-packages (from tensorboard>=1.15.0->test-tube) (57.4.0)\n",
            "Requirement already satisfied: tensorboard-plugin-wit>=1.6.0 in /usr/local/lib/python3.7/dist-packages (from tensorboard>=1.15.0->test-tube) (1.8.1)\n",
            "Requirement already satisfied: wheel>=0.26 in /usr/local/lib/python3.7/dist-packages (from tensorboard>=1.15.0->test-tube) (0.37.1)\n",
            "Requirement already satisfied: grpcio>=1.24.3 in /usr/local/lib/python3.7/dist-packages (from tensorboard>=1.15.0->test-tube) (1.43.0)\n",
            "Requirement already satisfied: pyasn1-modules>=0.2.1 in /usr/local/lib/python3.7/dist-packages (from google-auth<3,>=1.6.3->tensorboard>=1.15.0->test-tube) (0.2.8)\n",
            "Requirement already satisfied: rsa<5,>=3.1.4 in /usr/local/lib/python3.7/dist-packages (from google-auth<3,>=1.6.3->tensorboard>=1.15.0->test-tube) (4.8)\n",
            "Requirement already satisfied: cachetools<5.0,>=2.0.0 in /usr/local/lib/python3.7/dist-packages (from google-auth<3,>=1.6.3->tensorboard>=1.15.0->test-tube) (4.2.4)\n",
            "Requirement already satisfied: requests-oauthlib>=0.7.0 in /usr/local/lib/python3.7/dist-packages (from google-auth-oauthlib<0.5,>=0.4.1->tensorboard>=1.15.0->test-tube) (1.3.1)\n",
            "Requirement already satisfied: importlib-metadata>=4.4 in /usr/local/lib/python3.7/dist-packages (from markdown>=2.6.8->tensorboard>=1.15.0->test-tube) (4.11.0)\n",
            "Requirement already satisfied: zipp>=0.5 in /usr/local/lib/python3.7/dist-packages (from importlib-metadata>=4.4->markdown>=2.6.8->tensorboard>=1.15.0->test-tube) (3.7.0)\n",
            "Requirement already satisfied: pyasn1<0.5.0,>=0.4.6 in /usr/local/lib/python3.7/dist-packages (from pyasn1-modules>=0.2.1->google-auth<3,>=1.6.3->tensorboard>=1.15.0->test-tube) (0.4.8)\n",
            "Requirement already satisfied: oauthlib>=3.0.0 in /usr/local/lib/python3.7/dist-packages (from requests-oauthlib>=0.7.0->google-auth-oauthlib<0.5,>=0.4.1->tensorboard>=1.15.0->test-tube) (3.2.0)\n",
            "Requirement already satisfied: pyparsing!=2.0.4,!=2.1.2,!=2.1.6,>=2.0.1 in /usr/local/lib/python3.7/dist-packages (from matplotlib) (3.0.7)\n",
            "Requirement already satisfied: kiwisolver>=1.0.1 in /usr/local/lib/python3.7/dist-packages (from matplotlib) (1.3.2)\n",
            "Requirement already satisfied: cycler>=0.10 in /usr/local/lib/python3.7/dist-packages (from matplotlib) (0.11.0)\n",
            "Requirement already satisfied: threadpoolctl>=2.0.0 in /usr/local/lib/python3.7/dist-packages (from scikit-learn) (3.1.0)\n",
            "Requirement already satisfied: joblib>=0.11 in /usr/local/lib/python3.7/dist-packages (from scikit-learn) (1.1.0)\n",
            "Requirement already satisfied: llvmlite<0.35,>=0.34.0.dev0 in /usr/local/lib/python3.7/dist-packages (from numba->aniposelib) (0.34.0)\n"
          ]
        }
      ],
      "source": [
        "#Complextext2animation\n",
        "!pip install transformers argunparse wordsegment\n",
        "\n",
        "#acton\n",
        "!pip install git+https://github.com/PyTorchLightning/pytorch-lightning\n",
        "# !pip install torchtext==0.8.0 torch==1.7.1 pytorch-lightning==1.2.2\n",
        "!pip install lightning-bolts\n",
        "!pip install torchvision  \n",
        "!apt-get install ffmpeg  \n",
        "!pip install aniposelib wandb gym test-tube ffmpeg-python matplotlib easydict scikit-learn   \n",
        "# !pip install pytorch-lightning  "
      ]
    },
    {
      "cell_type": "code",
      "execution_count": null,
      "metadata": {
        "colab": {
          "base_uri": "https://localhost:8080/"
        },
        "id": "K21JfKcIa3CI",
        "outputId": "b1fc69b8-488c-4d9c-9d54-18d84d5b5721"
      },
      "outputs": [
        {
          "name": "stdout",
          "output_type": "stream",
          "text": [
            "/content/drive/Shareddrives/vid tokenization/asymov\n"
          ]
        }
      ],
      "source": [
        "%cd '/content/drive/Shareddrives/vid tokenization/asymov'"
      ]
    },
    {
      "cell_type": "code",
      "execution_count": null,
      "metadata": {
        "id": "_xuXCwmSbHne"
      },
      "outputs": [],
      "source": [
        "import os, sys\n",
        "import os.path as osp\n",
        "from os.path import join as ospj\n",
        "import pdb\n",
        "\n",
        "import random\n",
        "import numpy as np\n",
        "import pandas as pd\n",
        "from pathlib import Path\n",
        "from importlib import reload\n",
        "\n",
        "import pickle, yaml, pprint\n",
        "import torch"
      ]
    },
    {
      "cell_type": "code",
      "execution_count": null,
      "metadata": {
        "id": "QLrhgpDP2-r5"
      },
      "outputs": [],
      "source": [
        "sys.path.append('/content/drive/Shareddrives/vid tokenization/asymov/kit-molan/code/')\n",
        "# sys.path.append('/content/drive/Shareddrives/vid tokenization/asymov/packages/Complextext2animation/src/')"
      ]
    },
    {
      "cell_type": "markdown",
      "metadata": {
        "id": "dyMAJN1OO882"
      },
      "source": [
        "#start here"
      ]
    },
    {
      "cell_type": "markdown",
      "metadata": {
        "id": "_KpIejxje_4H"
      },
      "source": [
        "##result"
      ]
    },
    {
      "cell_type": "code",
      "execution_count": null,
      "metadata": {
        "colab": {
          "base_uri": "https://localhost:8080/"
        },
        "id": "LWe56ZMm3aZW",
        "outputId": "7780e45d-866d-427f-b048-68a84ffca894"
      },
      "outputs": [
        {
          "name": "stderr",
          "output_type": "stream",
          "text": [
            "frames: 100%|██████████| 4153/4153 [09:24<00:00,  7.35it/s]\n"
          ]
        }
      ],
      "source": [
        "%cd /content/drive/Shareddrives/vid tokenization/asymov\n",
        "from packages.acton.src.data.dataset.loader import KITDataset\n",
        "from viz import very_naive_reconstruction, naive_reconstruction, viz_seq\n",
        "seq_names=['02654']\n",
        "data_dir = '/content/drive/Shareddrives/vid tokenization/asymov/kit-molan/'\n",
        "data_name = 'xyz'\n",
        "d = KITDataset(data_dir, data_name)\n",
        "seq = d.load_keypoint3d('02654')\n",
        "frame2cluster_mapping_path = '/content/drive/Shareddrives/vid tokenization/asymov/packages/acton/kit_logs/tan_kitml/advanced_tr_res_150.pkl'\n",
        "contiguous_frame2cluster_mapping_path = '/content/drive/Shareddrives/vid tokenization/asymov/packages/acton/kit_logs/tan_kitml/advanced_tr_150.pkl'\n",
        "cluster2keypoint_mapping_path = '/content/drive/Shareddrives/vid tokenization/asymov/packages/acton/kit_logs/tan_kitml/proxy_centers_tr_150.pkl'\n",
        "cluster2frame_mapping_path = '/content/drive/Shareddrives/vid tokenization/asymov/packages/acton/kit_logs/tan_kitml/proxy_centers_tr_complete_150.pkl'\n",
        "sk_type = 'kitml'\n",
        "frames_dir = '/content/drive/Shareddrives/vid tokenization/kit_reconstruction/'\n",
        "\n",
        "# viz_seq( seq, '/content/drive/Shareddrives/vid tokenization/kit_viz/02654', 'kitml', debug=False)"
      ]
    },
    {
      "cell_type": "code",
      "execution_count": null,
      "metadata": {
        "colab": {
          "base_uri": "https://localhost:8080/"
        },
        "id": "wv_t0DG6FHSe",
        "outputId": "ced2ad15-0f47-458a-ffcd-033caa68834e"
      },
      "outputs": [
        {
          "name": "stdout",
          "output_type": "stream",
          "text": [
            "Deleting existing folder  /content/drive/Shareddrives/vid tokenization/kit_reconstruction/very_naive/02654\n"
          ]
        },
        {
          "name": "stderr",
          "output_type": "stream",
          "text": [
            "frames: 100%|██████████| 4153/4153 [09:48<00:00,  7.06it/s]\n"
          ]
        }
      ],
      "source": [
        "very_naive_mpjpe_mean, _ = very_naive_reconstruction(seq_names, d, frame2cluster_mapping_path, cluster2keypoint_mapping_path, sk_type, frames_dir+'very_naive')\n"
      ]
    },
    {
      "cell_type": "code",
      "execution_count": null,
      "metadata": {
        "colab": {
          "base_uri": "https://localhost:8080/"
        },
        "id": "iufcuaA9H1xw",
        "outputId": "8ed93f0b-df3b-44f3-8989-ad9adfaa078b"
      },
      "outputs": [
        {
          "name": "stdout",
          "output_type": "stream",
          "text": [
            "Deleting existing folder  /content/drive/Shareddrives/vid tokenization/kit_reconstruction/naive/02654\n"
          ]
        },
        {
          "name": "stderr",
          "output_type": "stream",
          "text": [
            "frames: 100%|██████████| 4153/4153 [09:42<00:00,  7.13it/s]\n"
          ]
        }
      ],
      "source": [
        "naive_mpjpe_mean, _ = naive_reconstruction(seq_names, d, contiguous_frame2cluster_mapping_path, cluster2frame_mapping_path, sk_type, frames_dir+'naive')"
      ]
    },
    {
      "cell_type": "code",
      "execution_count": null,
      "metadata": {
        "colab": {
          "base_uri": "https://localhost:8080/"
        },
        "id": "d_pdg4FyPe1c",
        "outputId": "aa0aeed8-4285-4e62-acc9-c4304dee5a88"
      },
      "outputs": [
        {
          "data": {
            "text/plain": [
              "(0.5153492533088047, 0.5406715201633889)"
            ]
          },
          "execution_count": 16,
          "metadata": {},
          "output_type": "execute_result"
        }
      ],
      "source": [
        "very_naive_mpjpe_mean, naive_mpjpe_mean"
      ]
    },
    {
      "cell_type": "code",
      "execution_count": null,
      "metadata": {
        "id": "Mz1AGjQ-lJjS"
      },
      "outputs": [],
      "source": [
        "0.54%cd /content/drive/Shareddrives/vid tokenization/asymov\n",
        "from viz import cluster2vid\n",
        "cluster2vid(clusters_idx=[i for i in range(150)], sk_type='kitml', \n",
        "        proxy_center_info_path='/content/drive/Shareddrives/vid tokenization/asymov/packages/acton/kit_logs/tan_kitml/proxy_centers_tr_complete_150.pkl', \n",
        "        data_dir='/content/drive/Shareddrives/vid tokenization/asymov/kit-molan/', data_name='xyz',\n",
        "        frames_dir='/content/drive/Shareddrives/vid tokenization/cluster2vid')\n"
      ]
    },
    {
      "cell_type": "code",
      "execution_count": null,
      "metadata": {
        "colab": {
          "base_uri": "https://localhost:8080/",
          "height": 641
        },
        "id": "tTMZj4AQfB4m",
        "outputId": "ad7e836c-b23a-49df-d2c6-6d4c7e3104ce"
      },
      "outputs": [
        {
          "data": {
            "text/html": [
              "\n",
              "  <div id=\"df-099f53af-ea97-4fbe-b499-3d48457d7968\">\n",
              "    <div class=\"colab-df-container\">\n",
              "      <div>\n",
              "<style scoped>\n",
              "    .dataframe tbody tr th:only-of-type {\n",
              "        vertical-align: middle;\n",
              "    }\n",
              "\n",
              "    .dataframe tbody tr th {\n",
              "        vertical-align: top;\n",
              "    }\n",
              "\n",
              "    .dataframe thead th {\n",
              "        text-align: right;\n",
              "    }\n",
              "</style>\n",
              "<table border=\"1\" class=\"dataframe\">\n",
              "  <thead>\n",
              "    <tr style=\"text-align: right;\">\n",
              "      <th></th>\n",
              "      <th>y</th>\n",
              "      <th>cluster</th>\n",
              "      <th>frame_index</th>\n",
              "      <th>seq_name</th>\n",
              "      <th>feat_vec</th>\n",
              "      <th>dist</th>\n",
              "      <th>keypoints3d</th>\n",
              "    </tr>\n",
              "  </thead>\n",
              "  <tbody>\n",
              "    <tr>\n",
              "      <th>0</th>\n",
              "      <td>572.0</td>\n",
              "      <td>0</td>\n",
              "      <td>471</td>\n",
              "      <td>00054</td>\n",
              "      <td>[[0.0008167587, 0.0049067833, 0.002635933, -0....</td>\n",
              "      <td>0.003943</td>\n",
              "      <td>[[0.0, 0.0, 0.0], [-0.09706340511331746, 0.310...</td>\n",
              "    </tr>\n",
              "    <tr>\n",
              "      <th>1</th>\n",
              "      <td>875.0</td>\n",
              "      <td>1</td>\n",
              "      <td>268</td>\n",
              "      <td>00002</td>\n",
              "      <td>[[-2.078401e-05, 0.0050793425, 0.002212198, -0...</td>\n",
              "      <td>0.000134</td>\n",
              "      <td>[[0.0, 0.0, 0.0], [-0.060247805751600936, 0.31...</td>\n",
              "    </tr>\n",
              "    <tr>\n",
              "      <th>2</th>\n",
              "      <td>529.0</td>\n",
              "      <td>2</td>\n",
              "      <td>369</td>\n",
              "      <td>00014</td>\n",
              "      <td>[[2.557219e-05, 0.0048978887, 0.002289534, -0....</td>\n",
              "      <td>0.000418</td>\n",
              "      <td>[[0.0, 0.0, 0.0], [-0.07037720741755038, 0.316...</td>\n",
              "    </tr>\n",
              "    <tr>\n",
              "      <th>3</th>\n",
              "      <td>529.0</td>\n",
              "      <td>3</td>\n",
              "      <td>108</td>\n",
              "      <td>00014</td>\n",
              "      <td>[[2.557219e-05, 0.0048978887, 0.002289534, -0....</td>\n",
              "      <td>0.000221</td>\n",
              "      <td>[[0.0, 0.0, 0.0], [-0.05111007383402466, 0.321...</td>\n",
              "    </tr>\n",
              "    <tr>\n",
              "      <th>4</th>\n",
              "      <td>595.0</td>\n",
              "      <td>4</td>\n",
              "      <td>509</td>\n",
              "      <td>01931</td>\n",
              "      <td>[[0.0003660432, 0.004907973, 0.0025574625, 0.0...</td>\n",
              "      <td>0.006638</td>\n",
              "      <td>[[0.0, 0.0, 0.0], [0.016159094301769983, 0.323...</td>\n",
              "    </tr>\n",
              "    <tr>\n",
              "      <th>...</th>\n",
              "      <td>...</td>\n",
              "      <td>...</td>\n",
              "      <td>...</td>\n",
              "      <td>...</td>\n",
              "      <td>...</td>\n",
              "      <td>...</td>\n",
              "      <td>...</td>\n",
              "    </tr>\n",
              "    <tr>\n",
              "      <th>145</th>\n",
              "      <td>875.0</td>\n",
              "      <td>145</td>\n",
              "      <td>403</td>\n",
              "      <td>00002</td>\n",
              "      <td>[[-2.078401e-05, 0.0050793425, 0.002212198, -0...</td>\n",
              "      <td>0.002031</td>\n",
              "      <td>[[0.0, 0.0, 0.0], [-0.05370903841208019, 0.320...</td>\n",
              "    </tr>\n",
              "    <tr>\n",
              "      <th>146</th>\n",
              "      <td>233.0</td>\n",
              "      <td>146</td>\n",
              "      <td>379</td>\n",
              "      <td>00018</td>\n",
              "      <td>[[-0.00014582915, 0.004877556, 0.0027141944, -...</td>\n",
              "      <td>0.001139</td>\n",
              "      <td>[[0.0, 0.0, 0.0], [-0.07020134631875408, 0.317...</td>\n",
              "    </tr>\n",
              "    <tr>\n",
              "      <th>147</th>\n",
              "      <td>1315.0</td>\n",
              "      <td>147</td>\n",
              "      <td>278</td>\n",
              "      <td>00017</td>\n",
              "      <td>[[0.0003039023, 0.0048713107, 0.0021533712, -0...</td>\n",
              "      <td>0.001412</td>\n",
              "      <td>[[0.0, 0.0, 0.0], [-0.069892014614652, 0.31733...</td>\n",
              "    </tr>\n",
              "    <tr>\n",
              "      <th>148</th>\n",
              "      <td>529.0</td>\n",
              "      <td>148</td>\n",
              "      <td>219</td>\n",
              "      <td>00014</td>\n",
              "      <td>[[2.557219e-05, 0.0048978887, 0.002289534, -0....</td>\n",
              "      <td>0.001425</td>\n",
              "      <td>[[0.0, 0.0, 0.0], [-0.06372300699513289, 0.317...</td>\n",
              "    </tr>\n",
              "    <tr>\n",
              "      <th>149</th>\n",
              "      <td>1315.0</td>\n",
              "      <td>149</td>\n",
              "      <td>119</td>\n",
              "      <td>00017</td>\n",
              "      <td>[[0.0003039023, 0.0048713107, 0.0021533712, -0...</td>\n",
              "      <td>0.001747</td>\n",
              "      <td>[[0.0, 0.0, 0.0], [-0.06574876671174934, 0.317...</td>\n",
              "    </tr>\n",
              "  </tbody>\n",
              "</table>\n",
              "<p>150 rows × 7 columns</p>\n",
              "</div>\n",
              "      <button class=\"colab-df-convert\" onclick=\"convertToInteractive('df-099f53af-ea97-4fbe-b499-3d48457d7968')\"\n",
              "              title=\"Convert this dataframe to an interactive table.\"\n",
              "              style=\"display:none;\">\n",
              "        \n",
              "  <svg xmlns=\"http://www.w3.org/2000/svg\" height=\"24px\"viewBox=\"0 0 24 24\"\n",
              "       width=\"24px\">\n",
              "    <path d=\"M0 0h24v24H0V0z\" fill=\"none\"/>\n",
              "    <path d=\"M18.56 5.44l.94 2.06.94-2.06 2.06-.94-2.06-.94-.94-2.06-.94 2.06-2.06.94zm-11 1L8.5 8.5l.94-2.06 2.06-.94-2.06-.94L8.5 2.5l-.94 2.06-2.06.94zm10 10l.94 2.06.94-2.06 2.06-.94-2.06-.94-.94-2.06-.94 2.06-2.06.94z\"/><path d=\"M17.41 7.96l-1.37-1.37c-.4-.4-.92-.59-1.43-.59-.52 0-1.04.2-1.43.59L10.3 9.45l-7.72 7.72c-.78.78-.78 2.05 0 2.83L4 21.41c.39.39.9.59 1.41.59.51 0 1.02-.2 1.41-.59l7.78-7.78 2.81-2.81c.8-.78.8-2.07 0-2.86zM5.41 20L4 18.59l7.72-7.72 1.47 1.35L5.41 20z\"/>\n",
              "  </svg>\n",
              "      </button>\n",
              "      \n",
              "  <style>\n",
              "    .colab-df-container {\n",
              "      display:flex;\n",
              "      flex-wrap:wrap;\n",
              "      gap: 12px;\n",
              "    }\n",
              "\n",
              "    .colab-df-convert {\n",
              "      background-color: #E8F0FE;\n",
              "      border: none;\n",
              "      border-radius: 50%;\n",
              "      cursor: pointer;\n",
              "      display: none;\n",
              "      fill: #1967D2;\n",
              "      height: 32px;\n",
              "      padding: 0 0 0 0;\n",
              "      width: 32px;\n",
              "    }\n",
              "\n",
              "    .colab-df-convert:hover {\n",
              "      background-color: #E2EBFA;\n",
              "      box-shadow: 0px 1px 2px rgba(60, 64, 67, 0.3), 0px 1px 3px 1px rgba(60, 64, 67, 0.15);\n",
              "      fill: #174EA6;\n",
              "    }\n",
              "\n",
              "    [theme=dark] .colab-df-convert {\n",
              "      background-color: #3B4455;\n",
              "      fill: #D2E3FC;\n",
              "    }\n",
              "\n",
              "    [theme=dark] .colab-df-convert:hover {\n",
              "      background-color: #434B5C;\n",
              "      box-shadow: 0px 1px 3px 1px rgba(0, 0, 0, 0.15);\n",
              "      filter: drop-shadow(0px 1px 2px rgba(0, 0, 0, 0.3));\n",
              "      fill: #FFFFFF;\n",
              "    }\n",
              "  </style>\n",
              "\n",
              "      <script>\n",
              "        const buttonEl =\n",
              "          document.querySelector('#df-099f53af-ea97-4fbe-b499-3d48457d7968 button.colab-df-convert');\n",
              "        buttonEl.style.display =\n",
              "          google.colab.kernel.accessAllowed ? 'block' : 'none';\n",
              "\n",
              "        async function convertToInteractive(key) {\n",
              "          const element = document.querySelector('#df-099f53af-ea97-4fbe-b499-3d48457d7968');\n",
              "          const dataTable =\n",
              "            await google.colab.kernel.invokeFunction('convertToInteractive',\n",
              "                                                     [key], {});\n",
              "          if (!dataTable) return;\n",
              "\n",
              "          const docLinkHtml = 'Like what you see? Visit the ' +\n",
              "            '<a target=\"_blank\" href=https://colab.research.google.com/notebooks/data_table.ipynb>data table notebook</a>'\n",
              "            + ' to learn more about interactive tables.';\n",
              "          element.innerHTML = '';\n",
              "          dataTable['output_type'] = 'display_data';\n",
              "          await google.colab.output.renderOutput(dataTable, element);\n",
              "          const docLink = document.createElement('div');\n",
              "          docLink.innerHTML = docLinkHtml;\n",
              "          element.appendChild(docLink);\n",
              "        }\n",
              "      </script>\n",
              "    </div>\n",
              "  </div>\n",
              "  "
            ],
            "text/plain": [
              "          y  ...                                        keypoints3d\n",
              "0     572.0  ...  [[0.0, 0.0, 0.0], [-0.09706340511331746, 0.310...\n",
              "1     875.0  ...  [[0.0, 0.0, 0.0], [-0.060247805751600936, 0.31...\n",
              "2     529.0  ...  [[0.0, 0.0, 0.0], [-0.07037720741755038, 0.316...\n",
              "3     529.0  ...  [[0.0, 0.0, 0.0], [-0.05111007383402466, 0.321...\n",
              "4     595.0  ...  [[0.0, 0.0, 0.0], [0.016159094301769983, 0.323...\n",
              "..      ...  ...                                                ...\n",
              "145   875.0  ...  [[0.0, 0.0, 0.0], [-0.05370903841208019, 0.320...\n",
              "146   233.0  ...  [[0.0, 0.0, 0.0], [-0.07020134631875408, 0.317...\n",
              "147  1315.0  ...  [[0.0, 0.0, 0.0], [-0.069892014614652, 0.31733...\n",
              "148   529.0  ...  [[0.0, 0.0, 0.0], [-0.06372300699513289, 0.317...\n",
              "149  1315.0  ...  [[0.0, 0.0, 0.0], [-0.06574876671174934, 0.317...\n",
              "\n",
              "[150 rows x 7 columns]"
            ]
          },
          "execution_count": 9,
          "metadata": {},
          "output_type": "execute_result"
        }
      ],
      "source": [
        "sorted_proxies_tr = pd.read_pickle('/content/drive/Shareddrives/vid tokenization/asymov/packages/acton/kit_logs/tan_kitml/proxy_centers_tr_complete_150.pkl')\n",
        "sorted_proxies_tr"
      ]
    },
    {
      "cell_type": "markdown",
      "metadata": {
        "id": "jC502L1W8O1H"
      },
      "source": [
        "##clustering"
      ]
    },
    {
      "cell_type": "code",
      "execution_count": null,
      "metadata": {
        "colab": {
          "base_uri": "https://localhost:8080/"
        },
        "id": "0ustNFmV8R49",
        "outputId": "e3414951-3c54-4eb2-a716-4d0d603a117b"
      },
      "outputs": [
        {
          "name": "stdout",
          "output_type": "stream",
          "text": [
            "/content/drive/Shareddrives/vid tokenization/asymov/packages/acton\n",
            "Global seed set to 0\n",
            "Global seed set to 1\n",
            "{'CLUSTER': {'CKPT': -1,\n",
            "             'K_MAX': 160,\n",
            "             'K_MIN': 150,\n",
            "             'TIMES': 10,\n",
            "             'TYPE': 'kmeans_skl',\n",
            "             'VERSION': 9},\n",
            " 'NAME': 'tan_kitml',\n",
            " 'PRETRAIN': {'ALGO': 'TAN',\n",
            "              'ARCH': {'ARCH': 'Transformer',\n",
            "                       'DIM': 512,\n",
            "                       'DROPOUT': 0.0,\n",
            "                       'LAYER': 3},\n",
            "              'DATA': {'AUG_ROT_PROB': 1,\n",
            "                       'AUG_ROT_RANGE': 0.2,\n",
            "                       'AUG_SHIFT_PROB': 1,\n",
            "                       'AUG_SHIFT_RANGE': 0.4,\n",
            "                       'AUG_TIME_PROB': 1,\n",
            "                       'AUG_TIME_RATE': 1.99,\n",
            "                       'BS': 32,\n",
            "                       'DATA_DIR': '/content/drive/Shareddrives/vid '\n",
            "                                   'tokenization/asymov/kit-molan/',\n",
            "                       'DATA_NAME': 'xyz',\n",
            "                       'MAX_LENGTH': 64,\n",
            "                       'MIN_LENGTH': 64,\n",
            "                       'NUM_WORKERS': 2},\n",
            "              'EPOCH': 200,\n",
            "              'GPUS': 1,\n",
            "              'PROTECTION': 2,\n",
            "              'TRAINER': {'ACCELERATOR': 'ddp',\n",
            "                          'LARS': False,\n",
            "                          'LOG_STEP': 10,\n",
            "                          'LR': 2.5e-05,\n",
            "                          'OPTIM': 'adam',\n",
            "                          'VAL_STEP': 5},\n",
            "              'VALIDATION': None,\n",
            "              'WARMUP': 50}}\n",
            "Loading training set features: 100% 1359/1359 [00:01<00:00, 1331.23it/s]\n",
            "Loading validation set features: 100% 453/453 [00:00<00:00, 1490.13it/s]\n",
            "advanced_tr_150.pkl dumped to ./kit_logs/tan_kitml\n",
            "advanced_tr_res_150.pkl dumped to ./kit_logs/tan_kitml\n",
            "proxy_centers_tr_complete_150.pkl dumped to ./kit_logs/tan_kitml\n",
            "proxy_centers_tr_150.pkl dumped to ./kit_logs/tan_kitml\n",
            "sorted_proxies_tr_150.pkl dumped to ./kit_logs/tan_kitml\n",
            "advanced_val_150.pkl dumped to ./kit_logs/tan_kitml\n"
          ]
        }
      ],
      "source": [
        "%cd /content/drive/Shareddrives/vid tokenization/asymov/packages/acton\n",
        "!python cluster.py --cfg './configs/tan.yaml' --data_dir '/content/drive/Shareddrives/vid tokenization/asymov/kit-molan/' --data_name 'xyz' --log_ver 9 --use_raw 0"
      ]
    },
    {
      "cell_type": "markdown",
      "metadata": {
        "id": "eS9B_MChfjaH"
      },
      "source": [
        "##kit_pretrain"
      ]
    },
    {
      "cell_type": "code",
      "execution_count": null,
      "metadata": {
        "colab": {
          "base_uri": "https://localhost:8080/"
        },
        "id": "RSpxdP8GkVsI",
        "outputId": "79300fe5-484d-49f7-d8b1-226df299c855"
      },
      "outputs": [
        {
          "name": "stdout",
          "output_type": "stream",
          "text": [
            "/content/drive/Shareddrives/vid tokenization/asymov/packages/acton\n",
            "Global seed set to 1\n",
            "{'CLUSTER': {'CKPT': -1,\n",
            "             'K_MAX': 160,\n",
            "             'K_MIN': 150,\n",
            "             'TIMES': 10,\n",
            "             'TYPE': 'kmeans_skl',\n",
            "             'VERSION': 0},\n",
            " 'NAME': 'tan_kitml',\n",
            " 'PRETRAIN': {'ALGO': 'TAN',\n",
            "              'ARCH': {'ARCH': 'Transformer',\n",
            "                       'DIM': 512,\n",
            "                       'DROPOUT': 0.0,\n",
            "                       'LAYER': 3},\n",
            "              'DATA': {'AUG_ROT_PROB': 1,\n",
            "                       'AUG_ROT_RANGE': 0.2,\n",
            "                       'AUG_SHIFT_PROB': 1,\n",
            "                       'AUG_SHIFT_RANGE': 0.4,\n",
            "                       'AUG_TIME_PROB': 1,\n",
            "                       'AUG_TIME_RATE': 1.99,\n",
            "                       'BS': 32,\n",
            "                       'DATA_DIR': '/content/drive/Shareddrives/vid '\n",
            "                                   'tokenization/asymov/kit-molan/',\n",
            "                       'DATA_NAME': 'xyz',\n",
            "                       'MAX_LENGTH': 64,\n",
            "                       'MIN_LENGTH': 64,\n",
            "                       'NUM_WORKERS': 2},\n",
            "              'EPOCH': 200,\n",
            "              'GPUS': 1,\n",
            "              'PROTECTION': 2,\n",
            "              'TRAINER': {'ACCELERATOR': 'ddp',\n",
            "                          'LARS': False,\n",
            "                          'LOG_STEP': 10,\n",
            "                          'LR': 2.5e-05,\n",
            "                          'OPTIM': 'adam',\n",
            "                          'VAL_STEP': 5},\n",
            "              'VALIDATION': None,\n",
            "              'WARMUP': 50}}\n",
            "/usr/local/lib/python3.7/dist-packages/pytorch_lightning/loggers/test_tube.py:106: LightningDeprecationWarning: The TestTubeLogger is deprecated since v1.5 and will be removed in v1.7. We recommend switching to the `pytorch_lightning.loggers.TensorBoardLogger` as an alternative.\n",
            "  \"The TestTubeLogger is deprecated since v1.5 and will be removed in v1.7. We recommend switching to the\"\n",
            "/usr/local/lib/python3.7/dist-packages/pytorch_lightning/plugins/training_type/ddp.py:21: LightningDeprecationWarning: The `pl.plugins.training_type.ddp.DDPPlugin` is deprecated in v1.6 and will be removed in v1.8. Use `pl.strategies.ddp.DDPStrategy` instead.\n",
            "  \"The `pl.plugins.training_type.ddp.DDPPlugin` is deprecated in v1.6 and will be removed in v1.8.\"\n",
            "/usr/local/lib/python3.7/dist-packages/pytorch_lightning/trainer/connectors/accelerator_connector.py:263: LightningDeprecationWarning: Passing `Trainer(accelerator='ddp')` has been deprecated in v1.5 and will be removed in v1.7. Use `Trainer(strategy='ddp')` instead.\n",
            "  f\"Passing `Trainer(accelerator={accelerator!r})` has been deprecated\"\n",
            "/usr/local/lib/python3.7/dist-packages/pytorch_lightning/trainer/connectors/accelerator_connector.py:282: LightningDeprecationWarning: Passing <pytorch_lightning.plugins.training_type.ddp.DDPPlugin object at 0x7f613691ff50> `strategy` to the `plugins` flag in Trainer has been deprecated in v1.5 and will be removed in v1.7. Use `Trainer(strategy=<pytorch_lightning.plugins.training_type.ddp.DDPPlugin object at 0x7f613691ff50>)` instead.\n",
            "  f\"Passing {plugin} `strategy` to the `plugins` flag in Trainer has been deprecated\"\n",
            "GPU available: True, used: True\n",
            "TPU available: False, using: 0 TPU cores\n",
            "IPU available: False, using: 0 IPUs\n",
            "/usr/local/lib/python3.7/dist-packages/pytorch_lightning/trainer/trainer.py:1733: PossibleUserWarning: GPU available but not used. Set the gpus flag in your trainer `Trainer(gpus=1)` or script `--gpus=1`.\n",
            "  category=PossibleUserWarning,\n",
            "Data loaded with 1359 training, 453 validation and 454 testing videos\n",
            "Loading training data...:   0% 0/1812 [00:00<?, ?it/s]tcmalloc: large alloc 1203077120 bytes == 0x55eb71042000 @  0x7f62763dc615 0x55eafef283bc 0x55eaff00918a 0x55eaff041803 0x55eafef2c2ae 0x55eafef2c1d9 0x55eafefe4fe3 0x55eafefdddf4 0x55eafeecb225 0x55eafefdf16c 0x55eafefddd9a 0x55eafefde461 0x55eafefde4f8 0x55eafefdf16c 0x55eafefddd9a 0x55eafefdd668 0x55eafefdd7e8 0x55eafefdd668 0x55eafefdd668 0x55eafeecb1fc 0x55eafefdccfc 0x55eaff073adb 0x55eafef2b1cd 0x55eaff01db3d 0x55eafef9f458 0x55eafef9a02f 0x55eafef2caba 0x55eafef9f2c0 0x55eafef2c9da 0x55eafef9aeae 0x55eafee6bd14\n",
            "tcmalloc: large alloc 1503846400 bytes == 0x55ec1a55a000 @  0x7f62763dc615 0x55eafef283bc 0x55eaff00918a 0x55eaff041803 0x55eafef2c2ae 0x55eafef2c1d9 0x55eafefe4fe3 0x55eafefdddf4 0x55eafeecb225 0x55eafefdf16c 0x55eafefddd9a 0x55eafefde541 0x55eafefde4f8 0x55eafefdf16c 0x55eafefddd9a 0x55eafefdd668 0x55eafefdd7e8 0x55eafefdd668 0x55eafefdd668 0x55eafeecb1fc 0x55eafefdccfc 0x55eaff073adb 0x55eafef2b1cd 0x55eaff01db3d 0x55eafef9f458 0x55eafef9a02f 0x55eafef2caba 0x55eafef9f2c0 0x55eafef2c9da 0x55eafef9aeae 0x55eafee6bd14\n",
            "tcmalloc: large alloc 1218748416 bytes == 0x55eb50b2e000 @  0x7f62763db1e7 0x55eafef5d518 0x55eafef27d17 0x55eaff095fb7 0x55eafef2b229 0x55eafef2b120 0x55eafef9ef33 0x55eafef9a02f 0x55eafef2caba 0x55eafef9b108 0x55eafef9a02f 0x55eafef2caba 0x55eafef9b108 0x55eafef9a02f 0x55eafef2caba 0x55eafef9b108 0x55eafef2c9da 0x55eafef9aeae 0x55eafef9a02f 0x55eafee6beb0 0x55eafef9c633 0x55eafef2c9da 0x55eafef9b108 0x55eafef2c9da 0x55eafef9b108 0x55eafef2c9da 0x55eafef9b108 0x55eafef2cf19 0x55eafef6e7b9 0x55eafef6b6d4 0x55eafef2bb32\n",
            "tcmalloc: large alloc 1218748416 bytes == 0x55eb99578000 @  0x7f62763db1e7 0x55eafef5d518 0x55eafef27d17 0x55eaff00920f 0x55eafef2b1cd 0x55eaff01db3d 0x55eafef9f458 0x55eafef9a02f 0x55eafef2caba 0x55eafef9b108 0x55eafef9a02f 0x55eafef2caba 0x55eafef9b108 0x55eafef9a02f 0x55eafef2caba 0x55eafef9b108 0x55eafef2c9da 0x55eafef9aeae 0x55eafef9a02f 0x55eafee6beb0 0x55eafef9c633 0x55eafef2c9da 0x55eafef9b108 0x55eafef2c9da 0x55eafef9b108 0x55eafef2c9da 0x55eafef9b108 0x55eafef2cf19 0x55eafef6e7b9 0x55eafef6b6d4 0x55eafef2bb32\n",
            "Loading training data...:  13% 227/1812 [00:06<00:47, 33.63it/s]tcmalloc: large alloc 1503846400 bytes == 0x55ec19018000 @  0x7f62763dc615 0x55eafef283bc 0x55eaff00918a 0x55eaff041803 0x55eafef2c2ae 0x55eafef2c1d9 0x55eafefe4fe3 0x55eafefdddf4 0x55eafeecb225 0x55eafefdf16c 0x55eafefddd9a 0x55eafefde541 0x55eafefde4f8 0x55eafefdf16c 0x55eafefddd9a 0x55eafefdd668 0x55eafefdd7e8 0x55eafefdd668 0x55eafefdd668 0x55eafeecb1fc 0x55eafefdccfc 0x55eaff073adb 0x55eafef2b1cd 0x55eaff01db3d 0x55eafef9f458 0x55eafef9a02f 0x55eafef2caba 0x55eafef9f2c0 0x55eafef2c9da 0x55eafef9aeae 0x55eafee6bd14\n",
            "tcmalloc: large alloc 1218748416 bytes == 0x55eb50b2e000 @  0x7f62763db1e7 0x55eafef5d518 0x55eafef27d17 0x55eaff095fb7 0x55eafef2b229 0x55eafef2b120 0x55eafef9ef33 0x55eafef9a02f 0x55eafef2caba 0x55eafef9b108 0x55eafef9a02f 0x55eafef2caba 0x55eafef9b108 0x55eafef9a02f 0x55eafef2caba 0x55eafef9b108 0x55eafef2c9da 0x55eafef9aeae 0x55eafef9a02f 0x55eafee6beb0 0x55eafef9c633 0x55eafef2c9da 0x55eafef9b108 0x55eafef2c9da 0x55eafef9b108 0x55eafef2c9da 0x55eafef9b108 0x55eafef2cf19 0x55eafef6e7b9 0x55eafef6b6d4 0x55eafef2bb32\n",
            "tcmalloc: large alloc 1218748416 bytes == 0x55eb99578000 @  0x7f62763db1e7 0x55eafef5d518 0x55eafef27d17 0x55eaff00920f 0x55eafef2b1cd 0x55eaff01db3d 0x55eafef9f458 0x55eafef9a02f 0x55eafef2caba 0x55eafef9b108 0x55eafef9a02f 0x55eafef2caba 0x55eafef9b108 0x55eafef9a02f 0x55eafef2caba 0x55eafef9b108 0x55eafef2c9da 0x55eafef9aeae 0x55eafef9a02f 0x55eafee6beb0 0x55eafef9c633 0x55eafef2c9da 0x55eafef9b108 0x55eafef2c9da 0x55eafef9b108 0x55eafef2c9da 0x55eafef9b108 0x55eafef2cf19 0x55eafef6e7b9 0x55eafef6b6d4 0x55eafef2bb32\n",
            "Loading training data...: 100% 1812/1812 [00:53<00:00, 34.18it/s]\n",
            "xyz_data_split loaded 1359 training videos and 453 validation videos\n",
            "/usr/local/lib/python3.7/dist-packages/pytorch_lightning/core/datamodule.py:96: LightningDeprecationWarning: DataModule property `train_transforms` was deprecated in v1.5 and will be removed in v1.7.\n",
            "  \"DataModule property `train_transforms` was deprecated in v1.5 and will be removed in v1.7.\"\n",
            "/usr/local/lib/python3.7/dist-packages/pytorch_lightning/core/datamodule.py:115: LightningDeprecationWarning: DataModule property `val_transforms` was deprecated in v1.5 and will be removed in v1.7.\n",
            "  \"DataModule property `val_transforms` was deprecated in v1.5 and will be removed in v1.7.\"\n",
            "Global seed set to 1\n",
            "Initializing distributed: GLOBAL_RANK: 0, MEMBER: 1/1\n",
            "----------------------------------------------------------------------------------------------------\n",
            "distributed_backend=nccl\n",
            "All distributed processes registered. Starting with 1 processes\n",
            "----------------------------------------------------------------------------------------------------\n",
            "\n",
            "LOCAL_RANK: 0 - CUDA_VISIBLE_DEVICES: [0]\n",
            "\n",
            "  | Name       | Type        | Params\n",
            "-------------------------------------------\n",
            "0 | encoder    | Transformer | 9.5 M \n",
            "1 | projection | Projection  | 329 K \n",
            "2 | dropout    | Dropout     | 0     \n",
            "-------------------------------------------\n",
            "9.9 M     Trainable params\n",
            "0         Non-trainable params\n",
            "9.9 M     Total params\n",
            "39.442    Total estimated model params size (MB)\n",
            "/usr/local/lib/python3.7/dist-packages/pytorch_lightning/core/datamodule.py:89: LightningDeprecationWarning: DataModule property `train_transforms` was deprecated in v1.5 and will be removed in v1.7.\n",
            "  \"DataModule property `train_transforms` was deprecated in v1.5 and will be removed in v1.7.\"\n",
            "/usr/local/lib/python3.7/dist-packages/pytorch_lightning/core/datamodule.py:108: LightningDeprecationWarning: DataModule property `val_transforms` was deprecated in v1.5 and will be removed in v1.7.\n",
            "  \"DataModule property `val_transforms` was deprecated in v1.5 and will be removed in v1.7.\"\n",
            "Epoch 4:  69% 40/58 [01:06<00:29,  1.67s/it, loss=2.6, v_num=11] \n",
            "Validating: 0it [00:00, ?it/s]\u001b[A/usr/local/lib/python3.7/dist-packages/pytorch_lightning/utilities/data.py:73: UserWarning: Trying to infer the `batch_size` from an ambiguous collection. The batch size we found is 32. To avoid any miscalculations, use `self.log(..., batch_size=batch_size)`.\n",
            "  \"Trying to infer the `batch_size` from an ambiguous collection. The batch size we\"\n",
            "/usr/local/lib/python3.7/dist-packages/pytorch_lightning/utilities/data.py:73: UserWarning: Trying to infer the `batch_size` from an ambiguous collection. The batch size we found is 5. To avoid any miscalculations, use `self.log(..., batch_size=batch_size)`.\n",
            "  \"Trying to infer the `batch_size` from an ambiguous collection. The batch size we\"\n",
            "\n",
            "Epoch 4:  69% 40/58 [01:11<00:32,  1.79s/it, loss=2.53, v_num=11]\n",
            "Epoch 9:  69% 40/58 [02:21<01:03,  3.53s/it, loss=1.57, v_num=11]\n",
            "Validating: 0it [00:00, ?it/s]\u001b[A\n",
            "Epoch 9:  69% 40/58 [02:26<01:06,  3.67s/it, loss=1.49, v_num=11]\n",
            "Epoch 14:  69% 40/58 [03:37<01:37,  5.44s/it, loss=1.12, v_num=11]\n",
            "Validating: 0it [00:00, ?it/s]\u001b[A\n",
            "Epoch 14:  69% 40/58 [03:42<01:40,  5.57s/it, loss=1.07, v_num=11]\n",
            "Epoch 19:  69% 40/58 [04:53<02:12,  7.34s/it, loss=1.05, v_num=11] \n",
            "Validating: 0it [00:00, ?it/s]\u001b[A\n",
            "Epoch 19:  69% 40/58 [04:59<02:14,  7.48s/it, loss=1.04, v_num=11]\n",
            "Epoch 24:  69% 40/58 [06:09<02:46,  9.24s/it, loss=0.855, v_num=11]\n",
            "Validating: 0it [00:00, ?it/s]\u001b[A\n",
            "Epoch 24:  69% 40/58 [06:15<02:48,  9.38s/it, loss=0.79, v_num=11] \n",
            "Epoch 29:  69% 40/58 [07:26<03:20, 11.16s/it, loss=0.702, v_num=11]\n",
            "Validating: 0it [00:00, ?it/s]\u001b[A\n",
            "Epoch 29:  69% 40/58 [07:31<03:23, 11.30s/it, loss=0.664, v_num=11]\n",
            "Epoch 34:  69% 40/58 [08:42<03:55, 13.07s/it, loss=0.738, v_num=11]\n",
            "Validating: 0it [00:00, ?it/s]\u001b[A\n",
            "Epoch 34:  69% 40/58 [08:48<03:57, 13.20s/it, loss=0.694, v_num=11]\n",
            "Epoch 39:  69% 40/58 [09:58<04:29, 14.97s/it, loss=0.619, v_num=11]\n",
            "Validating: 0it [00:00, ?it/s]\u001b[A\n",
            "Epoch 39:  69% 40/58 [10:04<04:31, 15.11s/it, loss=0.607, v_num=11]\n",
            "Epoch 44:  69% 40/58 [11:14<05:03, 16.85s/it, loss=0.639, v_num=11]\n",
            "Validating: 0it [00:00, ?it/s]\u001b[A\n",
            "Epoch 44:  69% 40/58 [11:19<05:05, 17.00s/it, loss=0.603, v_num=11]\n",
            "Epoch 49:  69% 40/58 [12:29<05:37, 18.75s/it, loss=0.54, v_num=11] \n",
            "Validating: 0it [00:00, ?it/s]\u001b[A\n",
            "Epoch 49:  69% 40/58 [12:35<05:39, 18.88s/it, loss=0.518, v_num=11]\n",
            "Epoch 54:  69% 40/58 [13:44<06:11, 20.62s/it, loss=0.522, v_num=11]\n",
            "Validating: 0it [00:00, ?it/s]\u001b[A\n",
            "Epoch 54:  69% 40/58 [13:49<06:13, 20.75s/it, loss=0.52, v_num=11] \n",
            "Epoch 59:  69% 40/58 [15:00<06:45, 22.52s/it, loss=0.492, v_num=11]\n",
            "Validating: 0it [00:00, ?it/s]\u001b[A\n",
            "Epoch 59:  69% 40/58 [15:06<06:47, 22.65s/it, loss=0.464, v_num=11]\n",
            "Epoch 64:  69% 40/58 [16:15<07:19, 24.39s/it, loss=0.476, v_num=11]\n",
            "Validating: 0it [00:00, ?it/s]\u001b[A\n",
            "Epoch 64:  69% 40/58 [16:21<07:21, 24.53s/it, loss=0.44, v_num=11] \n",
            "Epoch 69:  69% 40/58 [17:30<07:52, 26.27s/it, loss=0.406, v_num=11]\n",
            "Validating: 0it [00:00, ?it/s]\u001b[A\n",
            "Epoch 69:  69% 40/58 [17:36<07:55, 26.41s/it, loss=0.387, v_num=11]\n",
            "Epoch 74:  69% 40/58 [18:45<08:26, 28.15s/it, loss=0.456, v_num=11]\n",
            "Validating: 0it [00:00, ?it/s]\u001b[A\n",
            "Epoch 74:  69% 40/58 [18:51<08:28, 28.28s/it, loss=0.439, v_num=11]\n",
            "Epoch 79:  69% 40/58 [20:01<09:00, 30.04s/it, loss=0.41, v_num=11] \n",
            "Validating: 0it [00:00, ?it/s]\u001b[A\n",
            "Epoch 79:  69% 40/58 [20:07<09:03, 30.18s/it, loss=0.397, v_num=11]\n",
            "Epoch 84:  69% 40/58 [21:16<09:34, 31.90s/it, loss=0.423, v_num=11]\n",
            "Validating: 0it [00:00, ?it/s]\u001b[A\n",
            "Epoch 84:  69% 40/58 [21:21<09:36, 32.03s/it, loss=0.425, v_num=11]\n",
            "Epoch 89:  69% 40/58 [22:31<10:08, 33.78s/it, loss=0.352, v_num=11]\n",
            "Validating: 0it [00:00, ?it/s]\u001b[A\n",
            "Epoch 89:  69% 40/58 [22:36<10:10, 33.92s/it, loss=0.348, v_num=11]\n",
            "Epoch 94:  69% 40/58 [23:46<10:42, 35.67s/it, loss=0.416, v_num=11]\n",
            "Validating: 0it [00:00, ?it/s]\u001b[A\n",
            "Epoch 94:  69% 40/58 [23:52<10:44, 35.81s/it, loss=0.397, v_num=11]\n",
            "Epoch 99:  69% 40/58 [25:02<11:15, 37.55s/it, loss=0.356, v_num=11]\n",
            "Validating: 0it [00:00, ?it/s]\u001b[A\n",
            "Epoch 99:  69% 40/58 [25:07<11:18, 37.69s/it, loss=0.355, v_num=11]\n",
            "Epoch 104:  69% 40/58 [26:17<11:49, 39.44s/it, loss=0.392, v_num=11]\n",
            "Validating: 0it [00:00, ?it/s]\u001b[A\n",
            "Epoch 104:  69% 40/58 [26:22<11:52, 39.57s/it, loss=0.376, v_num=11]\n",
            "Epoch 109:  69% 40/58 [27:32<12:23, 41.31s/it, loss=0.31, v_num=11] \n",
            "Validating: 0it [00:00, ?it/s]\u001b[A\n",
            "Epoch 109:  69% 40/58 [27:38<12:26, 41.45s/it, loss=0.287, v_num=11]\n",
            "Epoch 114:  69% 40/58 [28:47<12:57, 43.19s/it, loss=0.314, v_num=11]\n",
            "Validating: 0it [00:00, ?it/s]\u001b[A\n",
            "Epoch 114:  69% 40/58 [28:52<12:59, 43.32s/it, loss=0.324, v_num=11]\n",
            "Epoch 119:  69% 40/58 [30:02<13:31, 45.07s/it, loss=0.343, v_num=11]\n",
            "Validating: 0it [00:00, ?it/s]\u001b[A\n",
            "Epoch 119:  69% 40/58 [30:08<13:33, 45.21s/it, loss=0.327, v_num=11]\n",
            "Epoch 124:  69% 40/58 [31:17<14:04, 46.93s/it, loss=0.31, v_num=11]\n",
            "Validating: 0it [00:00, ?it/s]\u001b[A\n",
            "Epoch 124:  69% 40/58 [31:22<14:07, 47.07s/it, loss=0.304, v_num=11]\n",
            "Epoch 129:  69% 40/58 [32:33<14:38, 48.83s/it, loss=0.329, v_num=11]\n",
            "Validating: 0it [00:00, ?it/s]\u001b[A\n",
            "Epoch 129:  69% 40/58 [32:38<14:41, 48.97s/it, loss=0.321, v_num=11]\n",
            "Epoch 134:  69% 40/58 [33:48<15:12, 50.72s/it, loss=0.285, v_num=11]\n",
            "Validating: 0it [00:00, ?it/s]\u001b[A\n",
            "Epoch 134:  69% 40/58 [33:53<15:15, 50.85s/it, loss=0.281, v_num=11]\n",
            "Epoch 139:  69% 40/58 [35:04<15:46, 52.61s/it, loss=0.275, v_num=11]\n",
            "Validating: 0it [00:00, ?it/s]\u001b[A\n",
            "Epoch 139:  69% 40/58 [35:09<15:49, 52.74s/it, loss=0.269, v_num=11]\n",
            "Epoch 144:  69% 40/58 [36:19<16:20, 54.49s/it, loss=0.294, v_num=11]\n",
            "Validating: 0it [00:00, ?it/s]\u001b[A\n",
            "Epoch 144:  69% 40/58 [36:24<16:23, 54.62s/it, loss=0.286, v_num=11]\n",
            "Epoch 149:  69% 40/58 [37:35<16:54, 56.38s/it, loss=0.293, v_num=11]\n",
            "Validating: 0it [00:00, ?it/s]\u001b[A\n",
            "Epoch 149:  69% 40/58 [37:40<16:57, 56.51s/it, loss=0.285, v_num=11]\n",
            "Epoch 154:  69% 40/58 [38:51<17:28, 58.28s/it, loss=0.27, v_num=11] \n",
            "Validating: 0it [00:00, ?it/s]\u001b[A\n",
            "Epoch 154:  69% 40/58 [38:56<17:31, 58.41s/it, loss=0.261, v_num=11]\n",
            "Epoch 159:  69% 40/58 [40:07<18:03, 60.20s/it, loss=0.24, v_num=11] \n",
            "Validating: 0it [00:00, ?it/s]\u001b[A\n",
            "Epoch 159:  69% 40/58 [40:13<18:05, 60.33s/it, loss=0.224, v_num=11]\n",
            "Epoch 164:  69% 40/58 [41:24<18:37, 62.11s/it, loss=0.262, v_num=11]\n",
            "Validating: 0it [00:00, ?it/s]\u001b[A\n",
            "Epoch 164:  69% 40/58 [41:29<18:40, 62.24s/it, loss=0.261, v_num=11]\n",
            "Epoch 169:  69% 40/58 [42:41<19:12, 64.05s/it, loss=0.283, v_num=11]\n",
            "Validating: 0it [00:00, ?it/s]\u001b[A\n",
            "Epoch 169:  69% 40/58 [42:47<19:15, 64.19s/it, loss=0.269, v_num=11]\n",
            "Epoch 174:  69% 40/58 [43:57<19:46, 65.94s/it, loss=0.23, v_num=11] \n",
            "Validating: 0it [00:00, ?it/s]\u001b[A\n",
            "Epoch 174:  69% 40/58 [44:02<19:49, 66.07s/it, loss=0.222, v_num=11]\n",
            "Epoch 179:  69% 40/58 [45:13<20:21, 67.85s/it, loss=0.256, v_num=11]\n",
            "Validating: 0it [00:00, ?it/s]\u001b[A\n",
            "Epoch 179:  69% 40/58 [45:19<20:23, 67.98s/it, loss=0.241, v_num=11]\n",
            "Epoch 184:  69% 40/58 [46:29<20:55, 69.74s/it, loss=0.241, v_num=11]\n",
            "Validating: 0it [00:00, ?it/s]\u001b[A\n",
            "Epoch 184:  69% 40/58 [46:34<20:57, 69.87s/it, loss=0.232, v_num=11]\n",
            "Epoch 189:  69% 40/58 [47:45<21:29, 71.63s/it, loss=0.257, v_num=11]\n",
            "Validating: 0it [00:00, ?it/s]\u001b[A\n",
            "Epoch 189:  69% 40/58 [47:50<21:31, 71.76s/it, loss=0.238, v_num=11]\n",
            "Epoch 194:  69% 40/58 [48:59<22:02, 73.49s/it, loss=0.263, v_num=11]\n",
            "Validating: 0it [00:00, ?it/s]\u001b[A\n",
            "Epoch 194:  69% 40/58 [49:04<22:05, 73.62s/it, loss=0.255, v_num=11]\n",
            "Epoch 199:  69% 40/58 [50:15<22:36, 75.38s/it, loss=0.229, v_num=11]\n",
            "Validating: 0it [00:00, ?it/s]\u001b[A\n",
            "Epoch 199:  69% 40/58 [50:20<22:39, 75.52s/it, loss=0.216, v_num=11]\n",
            "Epoch 199: 100% 58/58 [50:21<00:00, 52.09s/it, loss=0.216, v_num=11]\n"
          ]
        }
      ],
      "source": [
        "%cd /content/drive/Shareddrives/vid tokenization/asymov/packages/acton\n",
        "!python pretrain.py --cfg './configs/tan.yaml' --data_dir '/content/drive/Shareddrives/vid tokenization/asymov/kit-molan/' --data_name 'xyz' "
      ]
    },
    {
      "cell_type": "code",
      "execution_count": null,
      "metadata": {
        "cellView": "form",
        "colab": {
          "base_uri": "https://localhost:8080/",
          "height": 984
        },
        "id": "WTLqRYamfi3K",
        "outputId": "b251ed13-23a9-4346-a513-a4a76d84a5f4"
      },
      "outputs": [
        {
          "name": "stdout",
          "output_type": "stream",
          "text": [
            "{'CLUSTER': {'CKPT': -1,\n",
            "             'GENRE': 10,\n",
            "             'K_MAX': 160,\n",
            "             'K_MIN': 150,\n",
            "             'TIMES': 10,\n",
            "             'TYPE': 'kmeans_skl'},\n",
            " 'NAME': 'tan_kitml',\n",
            " 'PRETRAIN': {'ALGO': 'TAN',\n",
            "              'ARCH': {'ARCH': 'Transformer',\n",
            "                       'DIM': 512,\n",
            "                       'DROPOUT': 0.0,\n",
            "                       'LAYER': 3},\n",
            "              'DATA': {'AUG_ROT_PROB': 1,\n",
            "                       'AUG_ROT_RANGE': 0.2,\n",
            "                       'AUG_SHIFT_PROB': 1,\n",
            "                       'AUG_SHIFT_RANGE': 0.4,\n",
            "                       'AUG_TIME_PROB': 1,\n",
            "                       'AUG_TIME_RATE': 1.99,\n",
            "                       'BS': 32,\n",
            "                       'DATA_DIR': '/content/drive/Shareddrives/vid '\n",
            "                                   'tokenization/asymov/kit-molan/',\n",
            "                       'MAX_LENGTH': 64,\n",
            "                       'MIN_LENGTH': 64,\n",
            "                       'NUM_WORKERS': 4,\n",
            "                       'SPLIT': '0.6, 0.2'},\n",
            "              'EPOCH': 500,\n",
            "              'GPUS': -1,\n",
            "              'PROTECTION': 2,\n",
            "              'TRAINER': {'ACCELERATOR': 'ddp',\n",
            "                          'LARS': False,\n",
            "                          'LR': 2.5e-05,\n",
            "                          'OPTIM': 'adam',\n",
            "                          'VAL_STEP': 5},\n",
            "              'VALIDATION': None,\n",
            "              'WARMUP': 50}}\n",
            "Data loaded with 1360 training, 453 validation and 454 testing videos\n"
          ]
        },
        {
          "name": "stderr",
          "output_type": "stream",
          "text": [
            "Loading training data...: 100%|██████████| 1813/1813 [01:54<00:00, 15.82it/s]\n"
          ]
        },
        {
          "name": "stdout",
          "output_type": "stream",
          "text": [
            "SPLIT 0.6, 0.2 dances loaded with 1360 training videos and 453 validation videos\n"
          ]
        },
        {
          "name": "stderr",
          "output_type": "stream",
          "text": [
            "/usr/local/lib/python3.7/dist-packages/pytorch_lightning/core/datamodule.py:96: LightningDeprecationWarning: DataModule property `train_transforms` was deprecated in v1.5 and will be removed in v1.7.\n",
            "  \"DataModule property `train_transforms` was deprecated in v1.5 and will be removed in v1.7.\"\n",
            "/usr/local/lib/python3.7/dist-packages/pytorch_lightning/core/datamodule.py:115: LightningDeprecationWarning: DataModule property `val_transforms` was deprecated in v1.5 and will be removed in v1.7.\n",
            "  \"DataModule property `val_transforms` was deprecated in v1.5 and will be removed in v1.7.\"\n"
          ]
        },
        {
          "ename": "NameError",
          "evalue": "ignored",
          "output_type": "error",
          "traceback": [
            "\u001b[0;31m---------------------------------------------------------------------------\u001b[0m",
            "\u001b[0;31mNameError\u001b[0m                                 Traceback (most recent call last)",
            "\u001b[0;32m<ipython-input-8-bfc69206ef67>\u001b[0m in \u001b[0;36m<module>\u001b[0;34m()\u001b[0m\n\u001b[1;32m    114\u001b[0m     \u001b[0mtr_dim\u001b[0m\u001b[0;34m=\u001b[0m\u001b[0margs\u001b[0m\u001b[0;34m[\u001b[0m\u001b[0;34m\"PRETRAIN\"\u001b[0m\u001b[0;34m]\u001b[0m\u001b[0;34m[\u001b[0m\u001b[0;34m\"ARCH\"\u001b[0m\u001b[0;34m]\u001b[0m\u001b[0;34m[\u001b[0m\u001b[0;34m\"DIM\"\u001b[0m\u001b[0;34m]\u001b[0m\u001b[0;34m,\u001b[0m\u001b[0;34m\u001b[0m\u001b[0;34m\u001b[0m\u001b[0m\n\u001b[1;32m    115\u001b[0m     \u001b[0mneg_dp\u001b[0m\u001b[0;34m=\u001b[0m\u001b[0margs\u001b[0m\u001b[0;34m[\u001b[0m\u001b[0;34m\"PRETRAIN\"\u001b[0m\u001b[0;34m]\u001b[0m\u001b[0;34m[\u001b[0m\u001b[0;34m\"ARCH\"\u001b[0m\u001b[0;34m]\u001b[0m\u001b[0;34m[\u001b[0m\u001b[0;34m\"DROPOUT\"\u001b[0m\u001b[0;34m]\u001b[0m\u001b[0;34m,\u001b[0m\u001b[0;34m\u001b[0m\u001b[0;34m\u001b[0m\u001b[0m\n\u001b[0;32m--> 116\u001b[0;31m     \u001b[0mj\u001b[0m\u001b[0;34m=\u001b[0m\u001b[0mj\u001b[0m\u001b[0;34m*\u001b[0m\u001b[0;36m3\u001b[0m\u001b[0;34m,\u001b[0m\u001b[0;34m\u001b[0m\u001b[0;34m\u001b[0m\u001b[0m\n\u001b[0m\u001b[1;32m    117\u001b[0m )\n\u001b[1;32m    118\u001b[0m \u001b[0;34m\u001b[0m\u001b[0m\n",
            "\u001b[0;31mNameError\u001b[0m: name 'j' is not defined"
          ]
        }
      ],
      "source": [
        "#@title\n",
        "import argparse\n",
        "import os\n",
        "import pprint\n",
        "import sys\n",
        "\n",
        "import json\n",
        "import yaml\n",
        "import shutil\n",
        "import time\n",
        "import logging, json\n",
        "from pathlib import Path\n",
        "\n",
        "import pytorch_lightning as pl\n",
        "from pytorch_lightning.callbacks import ModelCheckpoint\n",
        "from pytorch_lightning.loggers import TestTubeLogger\n",
        "from plb.models.self_supervised import TAN\n",
        "from plb.models.self_supervised.tan import TANEvalDataTransform, TANTrainDataTransform\n",
        "from plb.datamodules import KITSeqDataModule\n",
        "from pytorch_lightning.plugins import DDPPlugin\n",
        "\n",
        "KEYPOINT_NAME = ['root','BP','BT','BLN','BUN','LS','LE','LW','RS','RE','RW',\n",
        "                'LH','LK','LA','LMrot','LF','RH','RK','RA','RMrot','RF']\n",
        "\n",
        "def parse_args():\n",
        "    # parser = argparse.ArgumentParser(description='Train classification network')\n",
        "\n",
        "    # parser.add_argument('--cfg',\n",
        "    #                     help='experiment configure file name',\n",
        "    #                     required=True,\n",
        "    #                     type=str)\n",
        "\n",
        "    # parser.add_argument('--data_dir',\n",
        "    #                     help='path to aistplusplus data directory from repo root',\n",
        "    #                     type=str)\n",
        "    \n",
        "    # parser.add_argument('--seed',\n",
        "    #                     help='seed for this run',\n",
        "    #                     default=1,\n",
        "    #                     type=int)\n",
        "\n",
        "    # args, _ = parser.parse_known_args()\n",
        "    # pl.utilities.seed.seed_everything(args.seed)\n",
        "    with open('/content/drive/Shareddrives/vid tokenization/asymov/packages/acton/configs/tan.yaml', 'r') as stream:\n",
        "        ldd = yaml.safe_load(stream)\n",
        "\n",
        "    # if args.data_dir:\n",
        "    ldd[\"PRETRAIN\"][\"DATA\"][\"DATA_DIR\"] = '/content/drive/Shareddrives/vid tokenization/asymov/kit-molan/'\n",
        "    pprint.pprint(ldd)\n",
        "    return ldd\n",
        "\n",
        "\n",
        "args = parse_args()\n",
        "debug = args[\"NAME\"] == \"debug\"\n",
        "log_dir = os.path.join(\"./kit_logs\", args[\"NAME\"])\n",
        "\n",
        "dirpath = Path(log_dir)\n",
        "dirpath.mkdir(parents=True, exist_ok=True)\n",
        "\n",
        "timed = time.strftime(\"%Y%m%d_%H%M%S\")\n",
        "with open(os.path.join(log_dir, f\"config_used_{timed}.yaml\"), \"w\") as stream:\n",
        "    yaml.dump(args, stream, default_flow_style=False)\n",
        "video_dir = os.path.join(log_dir, \"saved_videos\")\n",
        "Path(video_dir).mkdir(parents=True, exist_ok=True)\n",
        "\n",
        "# log\n",
        "# tt_logger = TestTubeLogger(\n",
        "#     save_dir=log_dir,\n",
        "#     name=\"default\",\n",
        "#     debug=False,\n",
        "#     create_git_tag=False\n",
        "# )\n",
        "\n",
        "# # trainer\n",
        "# trainer = pl.Trainer(\n",
        "#     gpus=None,#args[\"PRETRAIN\"][\"GPUS\"],\n",
        "#     check_val_every_n_epoch=args[\"PRETRAIN\"][\"TRAINER\"][\"VAL_STEP\"],\n",
        "#     logger=tt_logger,\n",
        "#     accelerator=args[\"PRETRAIN\"][\"TRAINER\"][\"ACCELERATOR\"],\n",
        "#     max_epochs=args[\"PRETRAIN\"][\"EPOCH\"],\n",
        "#     gradient_clip_val=0.5,\n",
        "#     num_sanity_val_steps=0,\n",
        "#     plugins=DDPPlugin(find_unused_parameters=False),\n",
        "# )\n",
        "\n",
        "# j = 21\n",
        "dm = KITSeqDataModule(**args[\"PRETRAIN\"][\"DATA\"])\n",
        "transform_args = {\"min_length\": args[\"PRETRAIN\"][\"DATA\"][\"MIN_LENGTH\"],\n",
        "                    \"max_length\": args[\"PRETRAIN\"][\"DATA\"][\"MAX_LENGTH\"],\n",
        "                    \"aug_shift_prob\": args[\"PRETRAIN\"][\"DATA\"][\"AUG_SHIFT_PROB\"],\n",
        "                    \"aug_shift_range\": args[\"PRETRAIN\"][\"DATA\"][\"AUG_SHIFT_RANGE\"],\n",
        "                    \"aug_rot_prob\": args[\"PRETRAIN\"][\"DATA\"][\"AUG_ROT_PROB\"],\n",
        "                    \"aug_rot_range\": args[\"PRETRAIN\"][\"DATA\"][\"AUG_ROT_RANGE\"],\n",
        "                    \"aug_time_prob\": args[\"PRETRAIN\"][\"DATA\"][\"AUG_TIME_PROB\"],\n",
        "                    \"aug_time_rate\": args[\"PRETRAIN\"][\"DATA\"][\"AUG_TIME_RATE\"], }\n",
        "dm.train_transforms = eval(args[\"PRETRAIN\"][\"ALGO\"] + \"TrainDataTransform\")(**transform_args)\n",
        "dm.val_transforms = eval(args[\"PRETRAIN\"][\"ALGO\"] + \"EvalDataTransform\")(**transform_args)\n",
        "model = eval(args[\"PRETRAIN\"][\"ALGO\"])(\n",
        "    gpus=args[\"PRETRAIN\"][\"GPUS\"],\n",
        "    num_samples=dm.num_samples,\n",
        "    batch_size=dm.batch_size,\n",
        "    length=dm.min_length,\n",
        "    dataset=dm.name,\n",
        "    max_epochs=args[\"PRETRAIN\"][\"EPOCH\"],\n",
        "    warmup_epochs=args[\"PRETRAIN\"][\"WARMUP\"],\n",
        "    arch=args[\"PRETRAIN\"][\"ARCH\"][\"ARCH\"],\n",
        "    val_configs=args[\"PRETRAIN\"][\"VALIDATION\"],\n",
        "    learning_rate=float(args[\"PRETRAIN\"][\"TRAINER\"][\"LR\"]),\n",
        "    log_dir=log_dir,\n",
        "    protection=args[\"PRETRAIN\"][\"PROTECTION\"],\n",
        "    optim=args[\"PRETRAIN\"][\"TRAINER\"][\"OPTIM\"],\n",
        "    lars_wrapper=args[\"PRETRAIN\"][\"TRAINER\"][\"LARS\"],\n",
        "    tr_layer=args[\"PRETRAIN\"][\"ARCH\"][\"LAYER\"],\n",
        "    tr_dim=args[\"PRETRAIN\"][\"ARCH\"][\"DIM\"],\n",
        "    neg_dp=args[\"PRETRAIN\"][\"ARCH\"][\"DROPOUT\"],\n",
        "    j=j*3, \n",
        ")\n",
        "\n"
      ]
    },
    {
      "cell_type": "code",
      "execution_count": null,
      "metadata": {
        "id": "U2fmzMJhjTco"
      },
      "outputs": [],
      "source": [
        "trainer.fit(model, datamodule=dm)"
      ]
    },
    {
      "cell_type": "markdown",
      "metadata": {
        "id": "rOQRR1_44C7j"
      },
      "source": [
        "##transforms"
      ]
    },
    {
      "cell_type": "code",
      "execution_count": null,
      "metadata": {
        "colab": {
          "base_uri": "https://localhost:8080/",
          "height": 391
        },
        "id": "uJ6juTSlD5Jc",
        "outputId": "a9dd62c8-8248-4c35-bc5e-2ff0d660dc3b"
      },
      "outputs": [
        {
          "name": "stdout",
          "output_type": "stream",
          "text": [
            "/content/drive/Shareddrives/vid tokenization/asymov/packages/acton\n"
          ]
        },
        {
          "ename": "NameError",
          "evalue": "ignored",
          "output_type": "error",
          "traceback": [
            "\u001b[0;31m---------------------------------------------------------------------------\u001b[0m",
            "\u001b[0;31mNameError\u001b[0m                                 Traceback (most recent call last)",
            "\u001b[0;32m<ipython-input-10-63156aeb11d1>\u001b[0m in \u001b[0;36m<module>\u001b[0;34m()\u001b[0m\n\u001b[1;32m     13\u001b[0m     \u001b[0;32mreturn\u001b[0m \u001b[0mldd\u001b[0m\u001b[0;34m\u001b[0m\u001b[0;34m\u001b[0m\u001b[0m\n\u001b[1;32m     14\u001b[0m \u001b[0;34m\u001b[0m\u001b[0m\n\u001b[0;32m---> 15\u001b[0;31m \u001b[0margs\u001b[0m \u001b[0;34m=\u001b[0m \u001b[0mparse_args\u001b[0m\u001b[0;34m(\u001b[0m\u001b[0;34m)\u001b[0m\u001b[0;34m\u001b[0m\u001b[0;34m\u001b[0m\u001b[0m\n\u001b[0m\u001b[1;32m     16\u001b[0m transform_args = {\"min_length\": args[\"PRETRAIN\"][\"DATA\"][\"MIN_LENGTH\"],\n\u001b[1;32m     17\u001b[0m                     \u001b[0;34m\"max_length\"\u001b[0m\u001b[0;34m:\u001b[0m \u001b[0margs\u001b[0m\u001b[0;34m[\u001b[0m\u001b[0;34m\"PRETRAIN\"\u001b[0m\u001b[0;34m]\u001b[0m\u001b[0;34m[\u001b[0m\u001b[0;34m\"DATA\"\u001b[0m\u001b[0;34m]\u001b[0m\u001b[0;34m[\u001b[0m\u001b[0;34m\"MAX_LENGTH\"\u001b[0m\u001b[0;34m]\u001b[0m\u001b[0;34m,\u001b[0m\u001b[0;34m\u001b[0m\u001b[0;34m\u001b[0m\u001b[0m\n",
            "\u001b[0;32m<ipython-input-10-63156aeb11d1>\u001b[0m in \u001b[0;36mparse_args\u001b[0;34m()\u001b[0m\n\u001b[1;32m     10\u001b[0m     \u001b[0;31m# if args.data_dir:\u001b[0m\u001b[0;34m\u001b[0m\u001b[0;34m\u001b[0m\u001b[0;34m\u001b[0m\u001b[0m\n\u001b[1;32m     11\u001b[0m     \u001b[0mldd\u001b[0m\u001b[0;34m[\u001b[0m\u001b[0;34m\"PRETRAIN\"\u001b[0m\u001b[0;34m]\u001b[0m\u001b[0;34m[\u001b[0m\u001b[0;34m\"DATA\"\u001b[0m\u001b[0;34m]\u001b[0m\u001b[0;34m[\u001b[0m\u001b[0;34m\"DATA_DIR\"\u001b[0m\u001b[0;34m]\u001b[0m \u001b[0;34m=\u001b[0m \u001b[0;34m'/content/drive/Shareddrives/vid tokenization/asymov/kit-molan/'\u001b[0m\u001b[0;34m\u001b[0m\u001b[0;34m\u001b[0m\u001b[0m\n\u001b[0;32m---> 12\u001b[0;31m     \u001b[0mpprint\u001b[0m\u001b[0;34m.\u001b[0m\u001b[0mpprint\u001b[0m\u001b[0;34m(\u001b[0m\u001b[0mldd\u001b[0m\u001b[0;34m)\u001b[0m\u001b[0;34m\u001b[0m\u001b[0;34m\u001b[0m\u001b[0m\n\u001b[0m\u001b[1;32m     13\u001b[0m     \u001b[0;32mreturn\u001b[0m \u001b[0mldd\u001b[0m\u001b[0;34m\u001b[0m\u001b[0;34m\u001b[0m\u001b[0m\n\u001b[1;32m     14\u001b[0m \u001b[0;34m\u001b[0m\u001b[0m\n",
            "\u001b[0;31mNameError\u001b[0m: name 'pprint' is not defined"
          ]
        }
      ],
      "source": [
        "%cd /content/drive/Shareddrives/vid tokenization/asymov/packages/acton\n",
        "\n",
        "from plb.models.self_supervised.tan import TANTrainDataTransform as ttdt\n",
        "# reload(ttdt)\n",
        "\n",
        "def parse_args():\n",
        "    with open('configs/tan.yaml', 'r') as stream:\n",
        "        ldd = yaml.safe_load(stream)\n",
        "\n",
        "    # if args.data_dir:\n",
        "    ldd[\"PRETRAIN\"][\"DATA\"][\"DATA_DIR\"] = '/content/drive/Shareddrives/vid tokenization/asymov/kit-molan/'\n",
        "    pprint.pprint(ldd)\n",
        "    return ldd\n",
        "    \n",
        "args = parse_args()\n",
        "transform_args = {\"min_length\": args[\"PRETRAIN\"][\"DATA\"][\"MIN_LENGTH\"],\n",
        "                    \"max_length\": args[\"PRETRAIN\"][\"DATA\"][\"MAX_LENGTH\"],\n",
        "                    \"aug_shift_prob\": args[\"PRETRAIN\"][\"DATA\"][\"AUG_SHIFT_PROB\"],\n",
        "                    \"aug_shift_range\": args[\"PRETRAIN\"][\"DATA\"][\"AUG_SHIFT_RANGE\"],\n",
        "                    \"aug_rot_prob\": args[\"PRETRAIN\"][\"DATA\"][\"AUG_ROT_PROB\"],\n",
        "                    \"aug_rot_range\": args[\"PRETRAIN\"][\"DATA\"][\"AUG_ROT_RANGE\"],\n",
        "                    \"aug_time_prob\": args[\"PRETRAIN\"][\"DATA\"][\"AUG_TIME_PROB\"],\n",
        "                    \"aug_time_rate\": args[\"PRETRAIN\"][\"DATA\"][\"AUG_TIME_RATE\"], }"
      ]
    },
    {
      "cell_type": "code",
      "execution_count": null,
      "metadata": {
        "colab": {
          "base_uri": "https://localhost:8080/"
        },
        "id": "elvcMNEiO_Qm",
        "outputId": "3fb7d9d5-c98e-4ce5-df3e-52bf3198457c"
      },
      "outputs": [
        {
          "data": {
            "text/plain": [
              "tensor([[ 0.0000,  0.0000,  0.0000,  ..., -0.1341, -2.1296,  0.2241],\n",
              "        [ 0.0000,  0.0000,  0.0000,  ..., -0.1328, -2.1305,  0.2228],\n",
              "        [ 0.0000,  0.0000,  0.0000,  ..., -0.1341, -2.1302,  0.2220],\n",
              "        ...,\n",
              "        [ 0.0000,  0.0000,  0.0000,  ...,  0.1483, -2.0876,  0.1628],\n",
              "        [ 0.0000,  0.0000,  0.0000,  ...,  0.1509, -2.0873,  0.1631],\n",
              "        [ 0.0000,  0.0000,  0.0000,  ...,  0.1515, -2.0872,  0.1631]])"
            ]
          },
          "execution_count": 34,
          "metadata": {},
          "output_type": "execute_result"
        }
      ],
      "source": [
        "with open('/content/drive/Shareddrives/vid tokenization/asymov/kit-molan/xyz_data.pkl', 'rb') as handle:\n",
        "    xyz_data = pickle.load(handle)\n",
        "sample = torch.flatten(torch.from_numpy(xyz_data['00001']), start_dim=1).float()\n",
        "sample"
      ]
    },
    {
      "cell_type": "code",
      "execution_count": null,
      "metadata": {
        "id": "TnDa8AKDRHbR"
      },
      "outputs": [],
      "source": [
        "train_transforms = TANTrainDataTransform(**transform_args)\n"
      ]
    },
    {
      "cell_type": "code",
      "execution_count": null,
      "metadata": {
        "id": "RXbz3Luge2tD"
      },
      "outputs": [],
      "source": [
        "xi, xj, veloi, veloj = train_transforms(sample)"
      ]
    },
    {
      "cell_type": "code",
      "execution_count": null,
      "metadata": {
        "colab": {
          "base_uri": "https://localhost:8080/"
        },
        "id": "TgHMqYYIk8Jf",
        "outputId": "dbe851ab-326b-4677-d387-736110838a2f"
      },
      "outputs": [
        {
          "data": {
            "text/plain": [
              "(torch.Size([67, 63]), torch.Size([61, 63]), (67,), (61,))"
            ]
          },
          "execution_count": 20,
          "metadata": {},
          "output_type": "execute_result"
        }
      ],
      "source": [
        "xi.shape, xj.shape, veloi.shape, veloj.shape"
      ]
    },
    {
      "cell_type": "code",
      "execution_count": null,
      "metadata": {
        "id": "q2wSGkRBmWFU"
      },
      "outputs": [],
      "source": [
        "veloi"
      ]
    },
    {
      "cell_type": "code",
      "execution_count": null,
      "metadata": {
        "colab": {
          "base_uri": "https://localhost:8080/"
        },
        "id": "zWXmt6k4m7Qx",
        "outputId": "67ac32b4-ca18-4725-ed74-ada0b7f03d33"
      },
      "outputs": [
        {
          "data": {
            "text/plain": [
              "((67, 21, 3), (61, 21, 3))"
            ]
          },
          "execution_count": 32,
          "metadata": {},
          "output_type": "execute_result"
        }
      ],
      "source": [
        "xi = xi.numpy()\n",
        "xj = xj.numpy()\n",
        "xi=np.reshape(xi, (-1,21,3))\n",
        "xj=np.reshape(xj, (-1,21,3))\n",
        "xi.shape, xj.shape"
      ]
    },
    {
      "cell_type": "code",
      "execution_count": null,
      "metadata": {
        "id": "lGtHO6-Yxbf8"
      },
      "outputs": [],
      "source": [
        "%cd '/content/drive/Shareddrives/vid tokenization/asymov'\n",
        "import viz as viz\n",
        "# viz.viz_seq(xyz_data['00001'], '/content/drive/Shareddrives/vid tokenization/kit_viz/00001', 'kitml')\n",
        "viz.viz_seq(xi, '/content/drive/Shareddrives/vid tokenization/kit_viz/00001_transform1', 'kitml')\n",
        "viz.viz_seq(xj, '/content/drive/Shareddrives/vid tokenization/kit_viz/00001_transform2', 'kitml')"
      ]
    },
    {
      "cell_type": "code",
      "execution_count": null,
      "metadata": {
        "colab": {
          "base_uri": "https://localhost:8080/"
        },
        "id": "qr4WviZ3nr4K",
        "outputId": "f5a80741-a6d1-4fd2-e583-a8ddca5eaa26"
      },
      "outputs": [
        {
          "name": "stdout",
          "output_type": "stream",
          "text": [
            "> /content/drive/Shareddrives/vid tokenization/asymov/packages/acton/plb/models/self_supervised/tan/transforms.py(39)__call__()\n",
            "-> xi, veloi = transform(sample)#, shut=True)  # not do transform on one branch\n",
            "(Pdb) c\n",
            "Deleting existing folder  /content/drive/Shareddrives/vid tokenization/kit_viz/00001_transform3\n",
            "frames: 100% 104/104 [00:12<00:00,  8.50it/s]\n",
            "Deleting existing folder  /content/drive/Shareddrives/vid tokenization/kit_viz/00001_transform4\n",
            "frames: 100% 94/94 [00:11<00:00,  8.34it/s]\n"
          ]
        }
      ],
      "source": [
        "!python test.py"
      ]
    },
    {
      "cell_type": "code",
      "execution_count": null,
      "metadata": {
        "id": "sVevfOJTJBle"
      },
      "outputs": [],
      "source": []
    },
    {
      "cell_type": "markdown",
      "metadata": {
        "id": "ewhdyHSM_cgr"
      },
      "source": [
        "##kit_seq_datamodule\n"
      ]
    },
    {
      "cell_type": "code",
      "execution_count": null,
      "metadata": {
        "id": "7qBQfcvD_kfi"
      },
      "outputs": [],
      "source": []
    },
    {
      "cell_type": "markdown",
      "metadata": {
        "id": "yss7562up3Xi"
      },
      "source": [
        "##kit_dataset\n"
      ]
    },
    {
      "cell_type": "code",
      "execution_count": null,
      "metadata": {
        "colab": {
          "base_uri": "https://localhost:8080/"
        },
        "id": "jU6tlLMvqPBI",
        "outputId": "a0611a6b-8b7c-439d-e285-16b960aeca98"
      },
      "outputs": [
        {
          "name": "stdout",
          "output_type": "stream",
          "text": [
            "Data loaded with 1362 training, 454 validation and 455 testing videos\n"
          ]
        }
      ],
      "source": [
        "from kit_dataset import KITSkeletonDataset\n",
        "data_dir = '/content/drive/Shareddrives/vid tokenization/asymov/kit-molan/'\n",
        "\n",
        "kit_skeleton_dataset = KITSkeletonDataset(data_dir)"
      ]
    },
    {
      "cell_type": "code",
      "execution_count": null,
      "metadata": {
        "id": "PDNg0zG0sEG6"
      },
      "outputs": [],
      "source": [
        "seq=kit_skeleton_dataset.official_loader.load_keypoint3d(2052)"
      ]
    },
    {
      "cell_type": "code",
      "execution_count": null,
      "metadata": {
        "colab": {
          "base_uri": "https://localhost:8080/"
        },
        "id": "Y04Lgj0TCi-K",
        "outputId": "eef0eb66-8d8f-4533-f8cb-b0292e7d69d8"
      },
      "outputs": [
        {
          "data": {
            "text/plain": [
              "(925, 21, 3)"
            ]
          },
          "execution_count": 92,
          "metadata": {},
          "output_type": "execute_result"
        }
      ],
      "source": [
        "seq.shape"
      ]
    },
    {
      "cell_type": "code",
      "execution_count": null,
      "metadata": {
        "colab": {
          "base_uri": "https://localhost:8080/"
        },
        "id": "j6kcEUReWgEZ",
        "outputId": "09d72646-d9e1-4668-dc60-e5d0272f5581"
      },
      "outputs": [
        {
          "data": {
            "text/plain": [
              "2271"
            ]
          },
          "execution_count": 88,
          "metadata": {},
          "output_type": "execute_result"
        }
      ],
      "source": [
        "all_seq=kit_skeleton_dataset.official_loader._get_all_seq()\n",
        "len(all_seq)"
      ]
    },
    {
      "cell_type": "markdown",
      "metadata": {
        "id": "6zhEA-GN1IB9"
      },
      "source": [
        "##kit_loader"
      ]
    },
    {
      "cell_type": "code",
      "execution_count": null,
      "metadata": {
        "id": "ESNHrRtu1IuF"
      },
      "outputs": [],
      "source": [
        "from kit_loader import KITDataset\n",
        "data_dir = '/content/drive/Shareddrives/vid tokenization/asymov/kit-molan/'\n",
        "\n",
        "loader = KITDataset(data_dir)"
      ]
    },
    {
      "cell_type": "code",
      "execution_count": null,
      "metadata": {
        "colab": {
          "base_uri": "https://localhost:8080/"
        },
        "id": "LWbSGdyn1g7d",
        "outputId": "3998b0f3-b116-492c-d03b-149bb34c1d1c"
      },
      "outputs": [
        {
          "data": {
            "text/plain": [
              "(925, 21, 3)"
            ]
          },
          "execution_count": 7,
          "metadata": {},
          "output_type": "execute_result"
        }
      ],
      "source": [
        "# normalize=False\n",
        "seq = loader.load_keypoint3d(2052)\n",
        "# normalized_seq = loader.load_keypoint3d(2052)\n",
        "seq.shape#, normalized_seq.shape"
      ]
    },
    {
      "cell_type": "code",
      "execution_count": null,
      "metadata": {
        "id": "m-a2aT2yN317"
      },
      "outputs": [],
      "source": []
    },
    {
      "cell_type": "code",
      "execution_count": null,
      "metadata": {
        "colab": {
          "base_uri": "https://localhost:8080/"
        },
        "id": "3W-lqp7r3th-",
        "outputId": "1bd81d03-d37a-45bb-8753-f9100d2a54e2"
      },
      "outputs": [
        {
          "name": "stdout",
          "output_type": "stream",
          "text": [
            "Deleting existing folder  /content/drive/Shareddrives/vid tokenization/kit_viz/02052\n"
          ]
        },
        {
          "name": "stderr",
          "output_type": "stream",
          "text": [
            "frames:   0%|          | 0/925 [00:00<?, ?it/s]No handles with labels found to put in legend.\n",
            "frames:   0%|          | 1/925 [00:00<03:59,  3.85it/s]No handles with labels found to put in legend.\n",
            "frames:   0%|          | 2/925 [00:00<03:07,  4.91it/s]No handles with labels found to put in legend.\n",
            "frames:   0%|          | 3/925 [00:00<02:51,  5.38it/s]No handles with labels found to put in legend.\n",
            "frames:   0%|          | 4/925 [00:00<02:44,  5.59it/s]No handles with labels found to put in legend.\n",
            "frames:   1%|          | 5/925 [00:00<02:46,  5.51it/s]No handles with labels found to put in legend.\n",
            "frames:   1%|          | 6/925 [00:01<02:43,  5.62it/s]No handles with labels found to put in legend.\n",
            "frames:   1%|          | 7/925 [00:01<02:41,  5.68it/s]No handles with labels found to put in legend.\n",
            "frames:   1%|          | 8/925 [00:01<02:49,  5.40it/s]No handles with labels found to put in legend.\n",
            "frames:   1%|          | 9/925 [00:01<02:47,  5.46it/s]No handles with labels found to put in legend.\n",
            "frames:   1%|          | 10/925 [00:01<02:45,  5.54it/s]No handles with labels found to put in legend.\n",
            "frames:   1%|          | 11/925 [00:02<02:45,  5.51it/s]No handles with labels found to put in legend.\n",
            "frames:   1%|▏         | 12/925 [00:02<02:44,  5.55it/s]No handles with labels found to put in legend.\n",
            "frames:   1%|▏         | 13/925 [00:02<02:43,  5.57it/s]No handles with labels found to put in legend.\n",
            "frames:   2%|▏         | 14/925 [00:02<02:41,  5.65it/s]No handles with labels found to put in legend.\n",
            "frames:   2%|▏         | 15/925 [00:02<02:39,  5.70it/s]No handles with labels found to put in legend.\n",
            "frames:   2%|▏         | 16/925 [00:02<02:38,  5.73it/s]No handles with labels found to put in legend.\n",
            "frames:   2%|▏         | 17/925 [00:03<03:50,  3.95it/s]No handles with labels found to put in legend.\n",
            "frames:   2%|▏         | 18/925 [00:03<03:27,  4.38it/s]No handles with labels found to put in legend.\n",
            "frames:   2%|▏         | 19/925 [00:03<03:11,  4.72it/s]No handles with labels found to put in legend.\n",
            "frames:   2%|▏         | 20/925 [00:03<03:01,  4.99it/s]No handles with labels found to put in legend.\n",
            "frames:   2%|▏         | 21/925 [00:04<02:56,  5.11it/s]No handles with labels found to put in legend.\n",
            "frames:   2%|▏         | 22/925 [00:04<02:50,  5.31it/s]No handles with labels found to put in legend.\n",
            "frames:   2%|▏         | 23/925 [00:04<02:45,  5.45it/s]No handles with labels found to put in legend.\n",
            "frames:   3%|▎         | 24/925 [00:04<02:41,  5.56it/s]No handles with labels found to put in legend.\n",
            "frames:   3%|▎         | 25/925 [00:04<02:39,  5.64it/s]No handles with labels found to put in legend.\n",
            "frames:   3%|▎         | 26/925 [00:04<02:38,  5.68it/s]No handles with labels found to put in legend.\n",
            "frames:   3%|▎         | 27/925 [00:05<02:41,  5.57it/s]No handles with labels found to put in legend.\n",
            "frames:   3%|▎         | 28/925 [00:05<02:41,  5.56it/s]No handles with labels found to put in legend.\n",
            "frames:   3%|▎         | 29/925 [00:05<02:39,  5.63it/s]No handles with labels found to put in legend.\n",
            "frames:   3%|▎         | 30/925 [00:05<02:36,  5.72it/s]No handles with labels found to put in legend.\n",
            "frames:   3%|▎         | 31/925 [00:05<02:35,  5.73it/s]No handles with labels found to put in legend.\n",
            "frames:   3%|▎         | 32/925 [00:05<02:36,  5.69it/s]No handles with labels found to put in legend.\n",
            "frames:   4%|▎         | 33/925 [00:06<02:36,  5.69it/s]No handles with labels found to put in legend.\n",
            "frames:   4%|▎         | 34/925 [00:06<02:35,  5.73it/s]No handles with labels found to put in legend.\n",
            "frames:   4%|▍         | 35/925 [00:06<02:33,  5.80it/s]No handles with labels found to put in legend.\n",
            "frames:   4%|▍         | 36/925 [00:06<02:33,  5.78it/s]No handles with labels found to put in legend.\n",
            "frames:   4%|▍         | 37/925 [00:06<02:54,  5.09it/s]No handles with labels found to put in legend.\n",
            "frames:   4%|▍         | 38/925 [00:07<02:47,  5.29it/s]No handles with labels found to put in legend.\n",
            "frames:   4%|▍         | 39/925 [00:07<02:41,  5.47it/s]No handles with labels found to put in legend.\n",
            "frames:   4%|▍         | 40/925 [00:07<02:38,  5.57it/s]No handles with labels found to put in legend.\n",
            "frames:   4%|▍         | 41/925 [00:07<02:37,  5.61it/s]No handles with labels found to put in legend.\n",
            "frames:   5%|▍         | 42/925 [00:07<02:41,  5.45it/s]No handles with labels found to put in legend.\n",
            "frames:   5%|▍         | 43/925 [00:07<02:37,  5.60it/s]No handles with labels found to put in legend.\n",
            "frames:   5%|▍         | 44/925 [00:08<02:35,  5.66it/s]No handles with labels found to put in legend.\n",
            "frames:   5%|▍         | 45/925 [00:08<02:34,  5.70it/s]No handles with labels found to put in legend.\n",
            "frames:   5%|▍         | 46/925 [00:08<02:35,  5.65it/s]No handles with labels found to put in legend.\n",
            "frames:   5%|▌         | 47/925 [00:08<02:33,  5.70it/s]No handles with labels found to put in legend.\n",
            "frames:   5%|▌         | 48/925 [00:08<02:32,  5.74it/s]No handles with labels found to put in legend.\n",
            "frames:   5%|▌         | 49/925 [00:09<03:56,  3.70it/s]No handles with labels found to put in legend.\n",
            "frames:   5%|▌         | 50/925 [00:09<03:30,  4.16it/s]No handles with labels found to put in legend.\n",
            "frames:   6%|▌         | 51/925 [00:09<03:11,  4.56it/s]No handles with labels found to put in legend.\n",
            "frames:   6%|▌         | 52/925 [00:09<03:03,  4.77it/s]No handles with labels found to put in legend.\n",
            "frames:   6%|▌         | 53/925 [00:10<02:54,  4.99it/s]No handles with labels found to put in legend.\n",
            "frames:   6%|▌         | 54/925 [00:10<02:50,  5.12it/s]No handles with labels found to put in legend.\n",
            "frames:   6%|▌         | 55/925 [00:10<02:49,  5.13it/s]No handles with labels found to put in legend.\n",
            "frames:   6%|▌         | 56/925 [00:10<02:43,  5.32it/s]No handles with labels found to put in legend.\n",
            "frames:   6%|▌         | 57/925 [00:10<02:37,  5.50it/s]No handles with labels found to put in legend.\n",
            "frames:   6%|▋         | 58/925 [00:10<02:34,  5.62it/s]No handles with labels found to put in legend.\n",
            "frames:   6%|▋         | 59/925 [00:11<02:33,  5.64it/s]No handles with labels found to put in legend.\n",
            "frames:   6%|▋         | 60/925 [00:11<02:33,  5.64it/s]No handles with labels found to put in legend.\n",
            "frames:   7%|▋         | 61/925 [00:11<02:31,  5.69it/s]No handles with labels found to put in legend.\n",
            "frames:   7%|▋         | 62/925 [00:11<02:29,  5.77it/s]No handles with labels found to put in legend.\n",
            "frames:   7%|▋         | 63/925 [00:11<02:29,  5.76it/s]No handles with labels found to put in legend.\n",
            "frames:   7%|▋         | 64/925 [00:11<02:31,  5.68it/s]No handles with labels found to put in legend.\n",
            "frames:   7%|▋         | 65/925 [00:12<02:30,  5.72it/s]No handles with labels found to put in legend.\n",
            "frames:   7%|▋         | 66/925 [00:12<02:31,  5.68it/s]No handles with labels found to put in legend.\n",
            "frames:   7%|▋         | 67/925 [00:12<02:29,  5.74it/s]No handles with labels found to put in legend.\n",
            "frames:   7%|▋         | 68/925 [00:12<02:29,  5.73it/s]No handles with labels found to put in legend.\n",
            "frames:   7%|▋         | 69/925 [00:12<02:32,  5.63it/s]No handles with labels found to put in legend.\n",
            "frames:   8%|▊         | 70/925 [00:13<02:32,  5.61it/s]No handles with labels found to put in legend.\n",
            "frames:   8%|▊         | 71/925 [00:13<02:31,  5.65it/s]No handles with labels found to put in legend.\n",
            "frames:   8%|▊         | 72/925 [00:13<02:32,  5.60it/s]No handles with labels found to put in legend.\n",
            "frames:   8%|▊         | 73/925 [00:13<02:34,  5.51it/s]No handles with labels found to put in legend.\n",
            "frames:   8%|▊         | 74/925 [00:13<02:34,  5.51it/s]No handles with labels found to put in legend.\n",
            "frames:   8%|▊         | 75/925 [00:13<02:37,  5.41it/s]No handles with labels found to put in legend.\n",
            "frames:   8%|▊         | 76/925 [00:14<02:33,  5.53it/s]No handles with labels found to put in legend.\n",
            "frames:   8%|▊         | 77/925 [00:14<02:33,  5.54it/s]No handles with labels found to put in legend.\n",
            "frames:   8%|▊         | 78/925 [00:14<02:31,  5.57it/s]No handles with labels found to put in legend.\n",
            "frames:   9%|▊         | 79/925 [00:14<02:28,  5.70it/s]No handles with labels found to put in legend.\n",
            "frames:   9%|▊         | 80/925 [00:14<02:26,  5.76it/s]No handles with labels found to put in legend.\n",
            "frames:   9%|▉         | 81/925 [00:14<02:26,  5.76it/s]No handles with labels found to put in legend.\n",
            "frames:   9%|▉         | 82/925 [00:15<02:32,  5.54it/s]No handles with labels found to put in legend.\n",
            "frames:   9%|▉         | 83/925 [00:15<02:37,  5.36it/s]No handles with labels found to put in legend.\n",
            "frames:   9%|▉         | 84/925 [00:15<02:33,  5.49it/s]No handles with labels found to put in legend.\n",
            "frames:   9%|▉         | 85/925 [00:15<02:29,  5.63it/s]No handles with labels found to put in legend.\n",
            "frames:   9%|▉         | 86/925 [00:15<02:27,  5.68it/s]No handles with labels found to put in legend.\n",
            "frames:   9%|▉         | 87/925 [00:16<02:27,  5.67it/s]No handles with labels found to put in legend.\n",
            "frames:  10%|▉         | 88/925 [00:16<02:29,  5.60it/s]No handles with labels found to put in legend.\n",
            "frames:  10%|▉         | 89/925 [00:16<04:11,  3.32it/s]No handles with labels found to put in legend.\n",
            "frames:  10%|▉         | 90/925 [00:17<03:45,  3.70it/s]No handles with labels found to put in legend.\n",
            "frames:  10%|▉         | 91/925 [00:17<03:22,  4.12it/s]No handles with labels found to put in legend.\n",
            "frames:  10%|▉         | 92/925 [00:17<03:07,  4.45it/s]No handles with labels found to put in legend.\n",
            "frames:  10%|█         | 93/925 [00:17<02:53,  4.79it/s]No handles with labels found to put in legend.\n",
            "frames:  10%|█         | 94/925 [00:17<02:43,  5.08it/s]No handles with labels found to put in legend.\n",
            "frames:  10%|█         | 95/925 [00:17<02:39,  5.19it/s]No handles with labels found to put in legend.\n",
            "frames:  10%|█         | 96/925 [00:18<02:38,  5.23it/s]No handles with labels found to put in legend.\n",
            "frames:  10%|█         | 97/925 [00:18<02:34,  5.36it/s]No handles with labels found to put in legend.\n",
            "frames:  11%|█         | 98/925 [00:18<02:32,  5.42it/s]No handles with labels found to put in legend.\n",
            "frames:  11%|█         | 99/925 [00:18<02:28,  5.56it/s]No handles with labels found to put in legend.\n",
            "frames:  11%|█         | 100/925 [00:18<02:25,  5.68it/s]No handles with labels found to put in legend.\n",
            "frames:  11%|█         | 101/925 [00:18<02:26,  5.64it/s]No handles with labels found to put in legend.\n",
            "frames:  11%|█         | 102/925 [00:19<02:23,  5.72it/s]No handles with labels found to put in legend.\n",
            "frames:  11%|█         | 103/925 [00:19<02:23,  5.74it/s]No handles with labels found to put in legend.\n",
            "frames:  11%|█         | 104/925 [00:19<02:25,  5.66it/s]No handles with labels found to put in legend.\n",
            "frames:  11%|█▏        | 105/925 [00:19<02:24,  5.68it/s]No handles with labels found to put in legend.\n",
            "frames:  11%|█▏        | 106/925 [00:19<02:24,  5.69it/s]No handles with labels found to put in legend.\n",
            "frames:  12%|█▏        | 107/925 [00:20<02:30,  5.45it/s]No handles with labels found to put in legend.\n",
            "frames:  12%|█▏        | 108/925 [00:20<02:29,  5.45it/s]No handles with labels found to put in legend.\n",
            "frames:  12%|█▏        | 109/925 [00:20<02:26,  5.58it/s]No handles with labels found to put in legend.\n",
            "frames:  12%|█▏        | 110/925 [00:20<02:27,  5.54it/s]No handles with labels found to put in legend.\n",
            "frames:  12%|█▏        | 111/925 [00:20<02:25,  5.61it/s]No handles with labels found to put in legend.\n",
            "frames:  12%|█▏        | 112/925 [00:20<02:27,  5.51it/s]No handles with labels found to put in legend.\n",
            "frames:  12%|█▏        | 113/925 [00:21<02:26,  5.56it/s]No handles with labels found to put in legend.\n",
            "frames:  12%|█▏        | 114/925 [00:21<02:23,  5.65it/s]No handles with labels found to put in legend.\n",
            "frames:  12%|█▏        | 115/925 [00:21<02:25,  5.55it/s]No handles with labels found to put in legend.\n",
            "frames:  13%|█▎        | 116/925 [00:21<02:23,  5.63it/s]No handles with labels found to put in legend.\n",
            "frames:  13%|█▎        | 117/925 [00:21<02:21,  5.71it/s]No handles with labels found to put in legend.\n",
            "frames:  13%|█▎        | 118/925 [00:21<02:21,  5.72it/s]No handles with labels found to put in legend.\n",
            "frames:  13%|█▎        | 119/925 [00:22<02:20,  5.75it/s]No handles with labels found to put in legend.\n",
            "frames:  13%|█▎        | 120/925 [00:22<02:20,  5.74it/s]No handles with labels found to put in legend.\n",
            "frames:  13%|█▎        | 121/925 [00:22<02:21,  5.69it/s]No handles with labels found to put in legend.\n",
            "frames:  13%|█▎        | 122/925 [00:22<02:20,  5.73it/s]No handles with labels found to put in legend.\n",
            "frames:  13%|█▎        | 123/925 [00:22<02:19,  5.73it/s]No handles with labels found to put in legend.\n",
            "frames:  13%|█▎        | 124/925 [00:23<02:25,  5.50it/s]No handles with labels found to put in legend.\n",
            "frames:  14%|█▎        | 125/925 [00:23<02:26,  5.44it/s]No handles with labels found to put in legend.\n",
            "frames:  14%|█▎        | 126/925 [00:23<02:22,  5.61it/s]No handles with labels found to put in legend.\n",
            "frames:  14%|█▎        | 127/925 [00:23<02:20,  5.68it/s]No handles with labels found to put in legend.\n",
            "frames:  14%|█▍        | 128/925 [00:23<02:17,  5.80it/s]No handles with labels found to put in legend.\n",
            "frames:  14%|█▍        | 129/925 [00:23<02:16,  5.84it/s]No handles with labels found to put in legend.\n",
            "frames:  14%|█▍        | 130/925 [00:24<02:16,  5.82it/s]No handles with labels found to put in legend.\n",
            "frames:  14%|█▍        | 131/925 [00:24<02:16,  5.84it/s]No handles with labels found to put in legend.\n",
            "frames:  14%|█▍        | 132/925 [00:24<02:14,  5.90it/s]No handles with labels found to put in legend.\n",
            "frames:  14%|█▍        | 133/925 [00:24<02:14,  5.88it/s]No handles with labels found to put in legend.\n",
            "frames:  14%|█▍        | 134/925 [00:24<02:17,  5.75it/s]No handles with labels found to put in legend.\n",
            "frames:  15%|█▍        | 135/925 [00:24<02:17,  5.75it/s]No handles with labels found to put in legend.\n",
            "frames:  15%|█▍        | 136/925 [00:25<02:17,  5.75it/s]No handles with labels found to put in legend.\n",
            "frames:  15%|█▍        | 137/925 [00:25<02:15,  5.83it/s]No handles with labels found to put in legend.\n",
            "frames:  15%|█▍        | 138/925 [00:25<02:14,  5.84it/s]No handles with labels found to put in legend.\n",
            "frames:  15%|█▌        | 139/925 [00:26<04:26,  2.95it/s]No handles with labels found to put in legend.\n",
            "frames:  15%|█▌        | 140/925 [00:26<03:50,  3.40it/s]No handles with labels found to put in legend.\n",
            "frames:  15%|█▌        | 141/925 [00:26<03:22,  3.87it/s]No handles with labels found to put in legend.\n",
            "frames:  15%|█▌        | 142/925 [00:26<03:09,  4.14it/s]No handles with labels found to put in legend.\n",
            "frames:  15%|█▌        | 143/925 [00:26<02:50,  4.59it/s]No handles with labels found to put in legend.\n",
            "frames:  16%|█▌        | 144/925 [00:27<02:41,  4.82it/s]No handles with labels found to put in legend.\n",
            "frames:  16%|█▌        | 145/925 [00:27<02:34,  5.04it/s]No handles with labels found to put in legend.\n",
            "frames:  16%|█▌        | 146/925 [00:27<02:27,  5.29it/s]No handles with labels found to put in legend.\n",
            "frames:  16%|█▌        | 147/925 [00:27<02:33,  5.08it/s]No handles with labels found to put in legend.\n",
            "frames:  16%|█▌        | 148/925 [00:27<02:26,  5.30it/s]No handles with labels found to put in legend.\n",
            "frames:  16%|█▌        | 149/925 [00:28<02:23,  5.42it/s]No handles with labels found to put in legend.\n",
            "frames:  16%|█▌        | 150/925 [00:28<02:19,  5.55it/s]No handles with labels found to put in legend.\n",
            "frames:  16%|█▋        | 151/925 [00:28<02:17,  5.62it/s]No handles with labels found to put in legend.\n",
            "frames:  16%|█▋        | 152/925 [00:28<02:17,  5.61it/s]No handles with labels found to put in legend.\n",
            "frames:  17%|█▋        | 153/925 [00:28<02:20,  5.49it/s]No handles with labels found to put in legend.\n",
            "frames:  17%|█▋        | 154/925 [00:28<02:19,  5.54it/s]No handles with labels found to put in legend.\n",
            "frames:  17%|█▋        | 155/925 [00:29<02:17,  5.61it/s]No handles with labels found to put in legend.\n",
            "frames:  17%|█▋        | 156/925 [00:29<02:17,  5.60it/s]No handles with labels found to put in legend.\n",
            "frames:  17%|█▋        | 157/925 [00:29<02:15,  5.68it/s]No handles with labels found to put in legend.\n",
            "frames:  17%|█▋        | 158/925 [00:29<02:13,  5.76it/s]No handles with labels found to put in legend.\n",
            "frames:  17%|█▋        | 159/925 [00:29<02:19,  5.50it/s]No handles with labels found to put in legend.\n",
            "frames:  17%|█▋        | 160/925 [00:29<02:16,  5.62it/s]No handles with labels found to put in legend.\n",
            "frames:  17%|█▋        | 161/925 [00:30<02:15,  5.62it/s]No handles with labels found to put in legend.\n",
            "frames:  18%|█▊        | 162/925 [00:30<02:13,  5.73it/s]No handles with labels found to put in legend.\n",
            "frames:  18%|█▊        | 163/925 [00:30<02:10,  5.83it/s]No handles with labels found to put in legend.\n",
            "frames:  18%|█▊        | 164/925 [00:30<02:11,  5.77it/s]No handles with labels found to put in legend.\n",
            "frames:  18%|█▊        | 165/925 [00:30<02:11,  5.79it/s]No handles with labels found to put in legend.\n",
            "frames:  18%|█▊        | 166/925 [00:30<02:10,  5.80it/s]No handles with labels found to put in legend.\n",
            "frames:  18%|█▊        | 167/925 [00:31<02:11,  5.78it/s]No handles with labels found to put in legend.\n",
            "frames:  18%|█▊        | 168/925 [00:31<02:10,  5.79it/s]No handles with labels found to put in legend.\n",
            "frames:  18%|█▊        | 169/925 [00:31<02:13,  5.68it/s]No handles with labels found to put in legend.\n",
            "frames:  18%|█▊        | 170/925 [00:31<02:10,  5.79it/s]No handles with labels found to put in legend.\n",
            "frames:  18%|█▊        | 171/925 [00:31<02:12,  5.68it/s]No handles with labels found to put in legend.\n",
            "frames:  19%|█▊        | 172/925 [00:32<02:18,  5.45it/s]No handles with labels found to put in legend.\n",
            "frames:  19%|█▊        | 173/925 [00:32<02:15,  5.55it/s]No handles with labels found to put in legend.\n",
            "frames:  19%|█▉        | 174/925 [00:32<02:13,  5.63it/s]No handles with labels found to put in legend.\n",
            "frames:  19%|█▉        | 175/925 [00:32<02:10,  5.74it/s]No handles with labels found to put in legend.\n",
            "frames:  19%|█▉        | 176/925 [00:32<02:10,  5.72it/s]No handles with labels found to put in legend.\n",
            "frames:  19%|█▉        | 177/925 [00:32<02:11,  5.67it/s]No handles with labels found to put in legend.\n",
            "frames:  19%|█▉        | 178/925 [00:33<02:11,  5.70it/s]No handles with labels found to put in legend.\n",
            "frames:  19%|█▉        | 179/925 [00:33<02:09,  5.77it/s]No handles with labels found to put in legend.\n",
            "frames:  19%|█▉        | 180/925 [00:33<02:08,  5.79it/s]No handles with labels found to put in legend.\n",
            "frames:  20%|█▉        | 181/925 [00:33<02:06,  5.89it/s]No handles with labels found to put in legend.\n",
            "frames:  20%|█▉        | 182/925 [00:33<02:07,  5.81it/s]No handles with labels found to put in legend.\n",
            "frames:  20%|█▉        | 183/925 [00:33<02:09,  5.72it/s]No handles with labels found to put in legend.\n",
            "frames:  20%|█▉        | 184/925 [00:34<02:10,  5.66it/s]No handles with labels found to put in legend.\n",
            "frames:  20%|██        | 185/925 [00:34<02:13,  5.54it/s]No handles with labels found to put in legend.\n",
            "frames:  20%|██        | 186/925 [00:34<02:14,  5.51it/s]No handles with labels found to put in legend.\n",
            "frames:  20%|██        | 187/925 [00:34<02:13,  5.54it/s]No handles with labels found to put in legend.\n",
            "frames:  20%|██        | 188/925 [00:34<02:18,  5.33it/s]No handles with labels found to put in legend.\n",
            "frames:  20%|██        | 189/925 [00:35<02:13,  5.52it/s]No handles with labels found to put in legend.\n",
            "frames:  21%|██        | 190/925 [00:35<02:11,  5.59it/s]No handles with labels found to put in legend.\n",
            "frames:  21%|██        | 191/925 [00:35<02:10,  5.63it/s]No handles with labels found to put in legend.\n",
            "frames:  21%|██        | 192/925 [00:35<02:06,  5.78it/s]No handles with labels found to put in legend.\n",
            "frames:  21%|██        | 193/925 [00:35<02:04,  5.86it/s]No handles with labels found to put in legend.\n",
            "frames:  21%|██        | 194/925 [00:35<02:06,  5.76it/s]No handles with labels found to put in legend.\n",
            "frames:  21%|██        | 195/925 [00:36<02:11,  5.55it/s]No handles with labels found to put in legend.\n",
            "frames:  21%|██        | 196/925 [00:36<02:11,  5.52it/s]No handles with labels found to put in legend.\n",
            "frames:  21%|██▏       | 197/925 [00:36<02:10,  5.60it/s]No handles with labels found to put in legend.\n",
            "frames:  21%|██▏       | 198/925 [00:36<02:09,  5.61it/s]No handles with labels found to put in legend.\n",
            "frames:  22%|██▏       | 199/925 [00:36<02:09,  5.61it/s]No handles with labels found to put in legend.\n",
            "frames:  22%|██▏       | 200/925 [00:37<02:10,  5.55it/s]No handles with labels found to put in legend.\n",
            "frames:  22%|██▏       | 201/925 [00:37<04:32,  2.66it/s]No handles with labels found to put in legend.\n",
            "frames:  22%|██▏       | 202/925 [00:38<03:50,  3.14it/s]No handles with labels found to put in legend.\n",
            "frames:  22%|██▏       | 203/925 [00:38<03:17,  3.65it/s]No handles with labels found to put in legend.\n",
            "frames:  22%|██▏       | 204/925 [00:38<02:59,  4.03it/s]No handles with labels found to put in legend.\n",
            "frames:  22%|██▏       | 205/925 [00:38<02:42,  4.44it/s]No handles with labels found to put in legend.\n",
            "frames:  22%|██▏       | 206/925 [00:38<02:32,  4.72it/s]No handles with labels found to put in legend.\n",
            "frames:  22%|██▏       | 207/925 [00:38<02:28,  4.83it/s]No handles with labels found to put in legend.\n",
            "frames:  22%|██▏       | 208/925 [00:39<02:22,  5.04it/s]No handles with labels found to put in legend.\n",
            "frames:  23%|██▎       | 209/925 [00:39<02:17,  5.19it/s]No handles with labels found to put in legend.\n",
            "frames:  23%|██▎       | 210/925 [00:39<02:13,  5.36it/s]No handles with labels found to put in legend.\n",
            "frames:  23%|██▎       | 211/925 [00:39<02:11,  5.44it/s]No handles with labels found to put in legend.\n",
            "frames:  23%|██▎       | 212/925 [00:39<02:14,  5.31it/s]No handles with labels found to put in legend.\n",
            "frames:  23%|██▎       | 213/925 [00:40<02:14,  5.30it/s]No handles with labels found to put in legend.\n",
            "frames:  23%|██▎       | 214/925 [00:40<02:13,  5.33it/s]No handles with labels found to put in legend.\n",
            "frames:  23%|██▎       | 215/925 [00:40<02:09,  5.48it/s]No handles with labels found to put in legend.\n",
            "frames:  23%|██▎       | 216/925 [00:40<02:07,  5.57it/s]No handles with labels found to put in legend.\n",
            "frames:  23%|██▎       | 217/925 [00:40<02:06,  5.58it/s]No handles with labels found to put in legend.\n",
            "frames:  24%|██▎       | 218/925 [00:40<02:05,  5.62it/s]No handles with labels found to put in legend.\n",
            "frames:  24%|██▎       | 219/925 [00:41<02:06,  5.59it/s]No handles with labels found to put in legend.\n",
            "frames:  24%|██▍       | 220/925 [00:41<02:05,  5.63it/s]No handles with labels found to put in legend.\n",
            "frames:  24%|██▍       | 221/925 [00:41<02:05,  5.63it/s]No handles with labels found to put in legend.\n",
            "frames:  24%|██▍       | 222/925 [00:41<02:08,  5.45it/s]No handles with labels found to put in legend.\n",
            "frames:  24%|██▍       | 223/925 [00:41<02:06,  5.56it/s]No handles with labels found to put in legend.\n",
            "frames:  24%|██▍       | 224/925 [00:42<02:11,  5.35it/s]No handles with labels found to put in legend.\n",
            "frames:  24%|██▍       | 225/925 [00:42<02:09,  5.41it/s]No handles with labels found to put in legend.\n",
            "frames:  24%|██▍       | 226/925 [00:42<02:07,  5.50it/s]No handles with labels found to put in legend.\n",
            "frames:  25%|██▍       | 227/925 [00:42<02:05,  5.57it/s]No handles with labels found to put in legend.\n",
            "frames:  25%|██▍       | 228/925 [00:42<02:03,  5.64it/s]No handles with labels found to put in legend.\n",
            "frames:  25%|██▍       | 229/925 [00:42<02:04,  5.58it/s]No handles with labels found to put in legend.\n",
            "frames:  25%|██▍       | 230/925 [00:43<02:03,  5.61it/s]No handles with labels found to put in legend.\n",
            "frames:  25%|██▍       | 231/925 [00:43<02:01,  5.71it/s]No handles with labels found to put in legend.\n",
            "frames:  25%|██▌       | 232/925 [00:43<02:01,  5.70it/s]No handles with labels found to put in legend.\n",
            "frames:  25%|██▌       | 233/925 [00:43<02:01,  5.72it/s]No handles with labels found to put in legend.\n",
            "frames:  25%|██▌       | 234/925 [00:43<02:00,  5.73it/s]No handles with labels found to put in legend.\n",
            "frames:  25%|██▌       | 235/925 [00:43<02:01,  5.66it/s]No handles with labels found to put in legend.\n",
            "frames:  26%|██▌       | 236/925 [00:44<02:03,  5.57it/s]No handles with labels found to put in legend.\n",
            "frames:  26%|██▌       | 237/925 [00:44<02:03,  5.57it/s]No handles with labels found to put in legend.\n",
            "frames:  26%|██▌       | 238/925 [00:44<02:03,  5.58it/s]No handles with labels found to put in legend.\n",
            "frames:  26%|██▌       | 239/925 [00:44<02:01,  5.63it/s]No handles with labels found to put in legend.\n",
            "frames:  26%|██▌       | 240/925 [00:44<02:00,  5.70it/s]No handles with labels found to put in legend.\n",
            "frames:  26%|██▌       | 241/925 [00:45<01:59,  5.72it/s]No handles with labels found to put in legend.\n",
            "frames:  26%|██▌       | 242/925 [00:45<02:01,  5.64it/s]No handles with labels found to put in legend.\n",
            "frames:  26%|██▋       | 243/925 [00:45<02:00,  5.65it/s]No handles with labels found to put in legend.\n",
            "frames:  26%|██▋       | 244/925 [00:45<02:00,  5.64it/s]No handles with labels found to put in legend.\n",
            "frames:  26%|██▋       | 245/925 [00:45<01:58,  5.73it/s]No handles with labels found to put in legend.\n",
            "frames:  27%|██▋       | 246/925 [00:45<01:57,  5.80it/s]No handles with labels found to put in legend.\n",
            "frames:  27%|██▋       | 247/925 [00:46<01:56,  5.83it/s]No handles with labels found to put in legend.\n",
            "frames:  27%|██▋       | 248/925 [00:46<01:59,  5.65it/s]No handles with labels found to put in legend.\n",
            "frames:  27%|██▋       | 249/925 [00:46<01:58,  5.68it/s]No handles with labels found to put in legend.\n",
            "frames:  27%|██▋       | 250/925 [00:46<01:57,  5.74it/s]No handles with labels found to put in legend.\n",
            "frames:  27%|██▋       | 251/925 [00:46<01:57,  5.74it/s]No handles with labels found to put in legend.\n",
            "frames:  27%|██▋       | 252/925 [00:46<01:59,  5.64it/s]No handles with labels found to put in legend.\n",
            "frames:  27%|██▋       | 253/925 [00:47<02:00,  5.60it/s]No handles with labels found to put in legend.\n",
            "frames:  27%|██▋       | 254/925 [00:47<02:01,  5.54it/s]No handles with labels found to put in legend.\n",
            "frames:  28%|██▊       | 255/925 [00:47<02:00,  5.57it/s]No handles with labels found to put in legend.\n",
            "frames:  28%|██▊       | 256/925 [00:47<01:59,  5.62it/s]No handles with labels found to put in legend.\n",
            "frames:  28%|██▊       | 257/925 [00:47<02:01,  5.50it/s]No handles with labels found to put in legend.\n",
            "frames:  28%|██▊       | 258/925 [00:48<01:59,  5.58it/s]No handles with labels found to put in legend.\n",
            "frames:  28%|██▊       | 259/925 [00:48<02:02,  5.44it/s]No handles with labels found to put in legend.\n",
            "frames:  28%|██▊       | 260/925 [00:48<02:02,  5.41it/s]No handles with labels found to put in legend.\n",
            "frames:  28%|██▊       | 261/925 [00:48<02:01,  5.48it/s]No handles with labels found to put in legend.\n",
            "frames:  28%|██▊       | 262/925 [00:48<01:59,  5.57it/s]No handles with labels found to put in legend.\n",
            "frames:  28%|██▊       | 263/925 [00:48<01:58,  5.61it/s]No handles with labels found to put in legend.\n",
            "frames:  29%|██▊       | 264/925 [00:49<01:58,  5.60it/s]No handles with labels found to put in legend.\n",
            "frames:  29%|██▊       | 265/925 [00:49<01:57,  5.63it/s]No handles with labels found to put in legend.\n",
            "frames:  29%|██▉       | 266/925 [00:49<01:55,  5.69it/s]No handles with labels found to put in legend.\n",
            "frames:  29%|██▉       | 267/925 [00:49<01:54,  5.76it/s]No handles with labels found to put in legend.\n",
            "frames:  29%|██▉       | 268/925 [00:49<01:54,  5.73it/s]No handles with labels found to put in legend.\n",
            "frames:  29%|██▉       | 269/925 [00:49<01:54,  5.73it/s]No handles with labels found to put in legend.\n",
            "frames:  29%|██▉       | 270/925 [00:50<01:54,  5.71it/s]No handles with labels found to put in legend.\n",
            "frames:  29%|██▉       | 271/925 [00:50<01:54,  5.73it/s]No handles with labels found to put in legend.\n",
            "frames:  29%|██▉       | 272/925 [00:50<01:52,  5.83it/s]No handles with labels found to put in legend.\n",
            "frames:  30%|██▉       | 273/925 [00:50<01:52,  5.82it/s]No handles with labels found to put in legend.\n",
            "frames:  30%|██▉       | 274/925 [00:50<01:56,  5.60it/s]No handles with labels found to put in legend.\n",
            "frames:  30%|██▉       | 275/925 [00:51<01:54,  5.67it/s]No handles with labels found to put in legend.\n",
            "frames:  30%|██▉       | 276/925 [00:51<01:55,  5.61it/s]No handles with labels found to put in legend.\n",
            "frames:  30%|██▉       | 277/925 [00:51<01:57,  5.52it/s]No handles with labels found to put in legend.\n",
            "frames:  30%|███       | 278/925 [00:52<04:53,  2.21it/s]No handles with labels found to put in legend.\n",
            "frames:  30%|███       | 279/925 [00:52<03:58,  2.71it/s]No handles with labels found to put in legend.\n",
            "frames:  30%|███       | 280/925 [00:52<03:26,  3.13it/s]No handles with labels found to put in legend.\n",
            "frames:  30%|███       | 281/925 [00:53<02:57,  3.64it/s]No handles with labels found to put in legend.\n",
            "frames:  30%|███       | 282/925 [00:53<02:35,  4.13it/s]No handles with labels found to put in legend.\n",
            "frames:  31%|███       | 283/925 [00:53<02:22,  4.50it/s]No handles with labels found to put in legend.\n",
            "frames:  31%|███       | 284/925 [00:53<02:11,  4.86it/s]No handles with labels found to put in legend.\n",
            "frames:  31%|███       | 285/925 [00:53<02:03,  5.17it/s]No handles with labels found to put in legend.\n",
            "frames:  31%|███       | 286/925 [00:53<02:00,  5.30it/s]No handles with labels found to put in legend.\n",
            "frames:  31%|███       | 287/925 [00:54<01:57,  5.45it/s]No handles with labels found to put in legend.\n",
            "frames:  31%|███       | 288/925 [00:54<01:54,  5.58it/s]No handles with labels found to put in legend.\n",
            "frames:  31%|███       | 289/925 [00:54<01:55,  5.51it/s]No handles with labels found to put in legend.\n",
            "frames:  31%|███▏      | 290/925 [00:54<01:53,  5.61it/s]No handles with labels found to put in legend.\n",
            "frames:  31%|███▏      | 291/925 [00:54<01:52,  5.65it/s]No handles with labels found to put in legend.\n",
            "frames:  32%|███▏      | 292/925 [00:54<01:51,  5.66it/s]No handles with labels found to put in legend.\n",
            "frames:  32%|███▏      | 293/925 [00:55<01:50,  5.71it/s]No handles with labels found to put in legend.\n",
            "frames:  32%|███▏      | 294/925 [00:55<01:49,  5.78it/s]No handles with labels found to put in legend.\n",
            "frames:  32%|███▏      | 295/925 [00:55<01:49,  5.75it/s]No handles with labels found to put in legend.\n",
            "frames:  32%|███▏      | 296/925 [00:55<01:50,  5.67it/s]No handles with labels found to put in legend.\n",
            "frames:  32%|███▏      | 297/925 [00:55<01:53,  5.56it/s]No handles with labels found to put in legend.\n",
            "frames:  32%|███▏      | 298/925 [00:56<01:53,  5.53it/s]No handles with labels found to put in legend.\n",
            "frames:  32%|███▏      | 299/925 [00:56<01:52,  5.59it/s]No handles with labels found to put in legend.\n",
            "frames:  32%|███▏      | 300/925 [00:56<01:53,  5.50it/s]No handles with labels found to put in legend.\n",
            "frames:  33%|███▎      | 301/925 [00:56<01:52,  5.52it/s]No handles with labels found to put in legend.\n",
            "frames:  33%|███▎      | 302/925 [00:56<01:49,  5.67it/s]No handles with labels found to put in legend.\n",
            "frames:  33%|███▎      | 303/925 [00:56<01:47,  5.77it/s]No handles with labels found to put in legend.\n",
            "frames:  33%|███▎      | 304/925 [00:57<01:48,  5.71it/s]No handles with labels found to put in legend.\n",
            "frames:  33%|███▎      | 305/925 [00:57<01:47,  5.75it/s]No handles with labels found to put in legend.\n",
            "frames:  33%|███▎      | 306/925 [00:57<01:49,  5.63it/s]No handles with labels found to put in legend.\n",
            "frames:  33%|███▎      | 307/925 [00:57<01:48,  5.70it/s]No handles with labels found to put in legend.\n",
            "frames:  33%|███▎      | 308/925 [00:57<01:47,  5.75it/s]No handles with labels found to put in legend.\n",
            "frames:  33%|███▎      | 309/925 [00:57<01:46,  5.78it/s]No handles with labels found to put in legend.\n",
            "frames:  34%|███▎      | 310/925 [00:58<01:45,  5.81it/s]No handles with labels found to put in legend.\n",
            "frames:  34%|███▎      | 311/925 [00:58<01:46,  5.78it/s]No handles with labels found to put in legend.\n",
            "frames:  34%|███▎      | 312/925 [00:58<01:46,  5.74it/s]No handles with labels found to put in legend.\n",
            "frames:  34%|███▍      | 313/925 [00:58<01:46,  5.75it/s]No handles with labels found to put in legend.\n",
            "frames:  34%|███▍      | 314/925 [00:58<01:49,  5.56it/s]No handles with labels found to put in legend.\n",
            "frames:  34%|███▍      | 315/925 [00:59<01:48,  5.61it/s]No handles with labels found to put in legend.\n",
            "frames:  34%|███▍      | 316/925 [00:59<01:48,  5.62it/s]No handles with labels found to put in legend.\n",
            "frames:  34%|███▍      | 317/925 [00:59<01:47,  5.65it/s]No handles with labels found to put in legend.\n",
            "frames:  34%|███▍      | 318/925 [00:59<01:46,  5.69it/s]No handles with labels found to put in legend.\n",
            "frames:  34%|███▍      | 319/925 [00:59<01:45,  5.74it/s]No handles with labels found to put in legend.\n",
            "frames:  35%|███▍      | 320/925 [00:59<01:45,  5.75it/s]No handles with labels found to put in legend.\n",
            "frames:  35%|███▍      | 321/925 [01:00<01:45,  5.74it/s]No handles with labels found to put in legend.\n",
            "frames:  35%|███▍      | 322/925 [01:00<01:45,  5.71it/s]No handles with labels found to put in legend.\n",
            "frames:  35%|███▍      | 323/925 [01:00<01:46,  5.67it/s]No handles with labels found to put in legend.\n",
            "frames:  35%|███▌      | 324/925 [01:00<01:48,  5.56it/s]No handles with labels found to put in legend.\n",
            "frames:  35%|███▌      | 325/925 [01:00<01:46,  5.62it/s]No handles with labels found to put in legend.\n",
            "frames:  35%|███▌      | 326/925 [01:00<01:45,  5.66it/s]No handles with labels found to put in legend.\n",
            "frames:  35%|███▌      | 327/925 [01:01<01:44,  5.75it/s]No handles with labels found to put in legend.\n",
            "frames:  35%|███▌      | 328/925 [01:01<01:43,  5.79it/s]No handles with labels found to put in legend.\n",
            "frames:  36%|███▌      | 329/925 [01:01<01:46,  5.59it/s]No handles with labels found to put in legend.\n",
            "frames:  36%|███▌      | 330/925 [01:01<01:46,  5.57it/s]No handles with labels found to put in legend.\n",
            "frames:  36%|███▌      | 331/925 [01:01<01:47,  5.54it/s]No handles with labels found to put in legend.\n",
            "frames:  36%|███▌      | 332/925 [01:02<01:46,  5.56it/s]No handles with labels found to put in legend.\n",
            "frames:  36%|███▌      | 333/925 [01:02<01:45,  5.59it/s]No handles with labels found to put in legend.\n",
            "frames:  36%|███▌      | 334/925 [01:02<01:46,  5.55it/s]No handles with labels found to put in legend.\n",
            "frames:  36%|███▌      | 335/925 [01:02<01:46,  5.54it/s]No handles with labels found to put in legend.\n",
            "frames:  36%|███▋      | 336/925 [01:02<01:46,  5.52it/s]No handles with labels found to put in legend.\n",
            "frames:  36%|███▋      | 337/925 [01:02<01:45,  5.60it/s]No handles with labels found to put in legend.\n",
            "frames:  37%|███▋      | 338/925 [01:03<01:46,  5.51it/s]No handles with labels found to put in legend.\n",
            "frames:  37%|███▋      | 339/925 [01:03<01:45,  5.53it/s]No handles with labels found to put in legend.\n",
            "frames:  37%|███▋      | 340/925 [01:03<01:44,  5.57it/s]No handles with labels found to put in legend.\n",
            "frames:  37%|███▋      | 341/925 [01:03<01:45,  5.55it/s]No handles with labels found to put in legend.\n",
            "frames:  37%|███▋      | 342/925 [01:03<01:45,  5.54it/s]No handles with labels found to put in legend.\n",
            "frames:  37%|███▋      | 343/925 [01:04<01:45,  5.53it/s]No handles with labels found to put in legend.\n",
            "frames:  37%|███▋      | 344/925 [01:04<01:44,  5.58it/s]No handles with labels found to put in legend.\n",
            "frames:  37%|███▋      | 345/925 [01:04<01:43,  5.62it/s]No handles with labels found to put in legend.\n",
            "frames:  37%|███▋      | 346/925 [01:04<01:46,  5.42it/s]No handles with labels found to put in legend.\n",
            "frames:  38%|███▊      | 347/925 [01:04<01:45,  5.47it/s]No handles with labels found to put in legend.\n",
            "frames:  38%|███▊      | 348/925 [01:04<01:44,  5.51it/s]No handles with labels found to put in legend.\n",
            "frames:  38%|███▊      | 349/925 [01:05<01:43,  5.58it/s]No handles with labels found to put in legend.\n",
            "frames:  38%|███▊      | 350/925 [01:05<01:45,  5.44it/s]No handles with labels found to put in legend.\n",
            "frames:  38%|███▊      | 351/925 [01:05<01:44,  5.47it/s]No handles with labels found to put in legend.\n",
            "frames:  38%|███▊      | 352/925 [01:05<01:43,  5.53it/s]No handles with labels found to put in legend.\n",
            "frames:  38%|███▊      | 353/925 [01:05<01:44,  5.49it/s]No handles with labels found to put in legend.\n",
            "frames:  38%|███▊      | 354/925 [01:06<01:43,  5.52it/s]No handles with labels found to put in legend.\n",
            "frames:  38%|███▊      | 355/925 [01:06<01:42,  5.57it/s]No handles with labels found to put in legend.\n",
            "frames:  38%|███▊      | 356/925 [01:06<01:41,  5.61it/s]No handles with labels found to put in legend.\n",
            "frames:  39%|███▊      | 357/925 [01:06<01:41,  5.60it/s]No handles with labels found to put in legend.\n",
            "frames:  39%|███▊      | 358/925 [01:06<01:42,  5.53it/s]No handles with labels found to put in legend.\n",
            "frames:  39%|███▉      | 359/925 [01:06<01:41,  5.57it/s]No handles with labels found to put in legend.\n",
            "frames:  39%|███▉      | 360/925 [01:07<01:41,  5.56it/s]No handles with labels found to put in legend.\n",
            "frames:  39%|███▉      | 361/925 [01:07<01:43,  5.47it/s]No handles with labels found to put in legend.\n",
            "frames:  39%|███▉      | 362/925 [01:07<01:47,  5.26it/s]No handles with labels found to put in legend.\n",
            "frames:  39%|███▉      | 363/925 [01:07<01:45,  5.33it/s]No handles with labels found to put in legend.\n",
            "frames:  39%|███▉      | 364/925 [01:07<01:43,  5.43it/s]No handles with labels found to put in legend.\n",
            "frames:  39%|███▉      | 365/925 [01:08<01:43,  5.43it/s]No handles with labels found to put in legend.\n",
            "frames:  40%|███▉      | 366/925 [01:08<01:42,  5.44it/s]No handles with labels found to put in legend.\n",
            "frames:  40%|███▉      | 367/925 [01:08<01:40,  5.54it/s]No handles with labels found to put in legend.\n",
            "frames:  40%|███▉      | 368/925 [01:08<01:41,  5.48it/s]No handles with labels found to put in legend.\n",
            "frames:  40%|███▉      | 369/925 [01:08<01:40,  5.51it/s]No handles with labels found to put in legend.\n",
            "frames:  40%|████      | 370/925 [01:08<01:40,  5.55it/s]No handles with labels found to put in legend.\n",
            "frames:  40%|████      | 371/925 [01:09<01:38,  5.63it/s]No handles with labels found to put in legend.\n",
            "frames:  40%|████      | 372/925 [01:09<01:39,  5.54it/s]No handles with labels found to put in legend.\n",
            "frames:  40%|████      | 373/925 [01:10<04:46,  1.92it/s]No handles with labels found to put in legend.\n",
            "frames:  40%|████      | 374/925 [01:10<03:49,  2.40it/s]No handles with labels found to put in legend.\n",
            "frames:  41%|████      | 375/925 [01:10<03:11,  2.88it/s]No handles with labels found to put in legend.\n",
            "frames:  41%|████      | 376/925 [01:11<02:46,  3.30it/s]No handles with labels found to put in legend.\n",
            "frames:  41%|████      | 377/925 [01:11<02:28,  3.68it/s]No handles with labels found to put in legend.\n",
            "frames:  41%|████      | 378/925 [01:11<02:12,  4.12it/s]No handles with labels found to put in legend.\n",
            "frames:  41%|████      | 379/925 [01:11<02:02,  4.46it/s]No handles with labels found to put in legend.\n",
            "frames:  41%|████      | 380/925 [01:11<01:57,  4.64it/s]No handles with labels found to put in legend.\n",
            "frames:  41%|████      | 381/925 [01:12<01:52,  4.85it/s]No handles with labels found to put in legend.\n",
            "frames:  41%|████▏     | 382/925 [01:12<01:47,  5.05it/s]No handles with labels found to put in legend.\n",
            "frames:  41%|████▏     | 383/925 [01:12<01:45,  5.12it/s]No handles with labels found to put in legend.\n",
            "frames:  42%|████▏     | 384/925 [01:12<01:44,  5.16it/s]No handles with labels found to put in legend.\n",
            "frames:  42%|████▏     | 385/925 [01:12<01:43,  5.23it/s]No handles with labels found to put in legend.\n",
            "frames:  42%|████▏     | 386/925 [01:13<01:41,  5.30it/s]No handles with labels found to put in legend.\n",
            "frames:  42%|████▏     | 387/925 [01:13<01:39,  5.40it/s]No handles with labels found to put in legend.\n",
            "frames:  42%|████▏     | 388/925 [01:13<01:44,  5.16it/s]No handles with labels found to put in legend.\n",
            "frames:  42%|████▏     | 389/925 [01:13<01:45,  5.07it/s]No handles with labels found to put in legend.\n",
            "frames:  42%|████▏     | 390/925 [01:13<01:42,  5.24it/s]No handles with labels found to put in legend.\n",
            "frames:  42%|████▏     | 391/925 [01:13<01:42,  5.24it/s]No handles with labels found to put in legend.\n",
            "frames:  42%|████▏     | 392/925 [01:14<01:39,  5.37it/s]No handles with labels found to put in legend.\n",
            "frames:  42%|████▏     | 393/925 [01:14<01:37,  5.44it/s]No handles with labels found to put in legend.\n",
            "frames:  43%|████▎     | 394/925 [01:14<01:36,  5.49it/s]No handles with labels found to put in legend.\n",
            "frames:  43%|████▎     | 395/925 [01:14<01:34,  5.63it/s]No handles with labels found to put in legend.\n",
            "frames:  43%|████▎     | 396/925 [01:14<01:33,  5.66it/s]No handles with labels found to put in legend.\n",
            "frames:  43%|████▎     | 397/925 [01:15<01:33,  5.62it/s]No handles with labels found to put in legend.\n",
            "frames:  43%|████▎     | 398/925 [01:15<01:32,  5.71it/s]No handles with labels found to put in legend.\n",
            "frames:  43%|████▎     | 399/925 [01:15<01:32,  5.68it/s]No handles with labels found to put in legend.\n",
            "frames:  43%|████▎     | 400/925 [01:15<01:32,  5.66it/s]No handles with labels found to put in legend.\n",
            "frames:  43%|████▎     | 401/925 [01:15<01:32,  5.68it/s]No handles with labels found to put in legend.\n",
            "frames:  43%|████▎     | 402/925 [01:15<01:30,  5.75it/s]No handles with labels found to put in legend.\n",
            "frames:  44%|████▎     | 403/925 [01:16<01:32,  5.65it/s]No handles with labels found to put in legend.\n",
            "frames:  44%|████▎     | 404/925 [01:16<01:31,  5.70it/s]No handles with labels found to put in legend.\n",
            "frames:  44%|████▍     | 405/925 [01:16<01:31,  5.68it/s]No handles with labels found to put in legend.\n",
            "frames:  44%|████▍     | 406/925 [01:16<01:35,  5.45it/s]No handles with labels found to put in legend.\n",
            "frames:  44%|████▍     | 407/925 [01:16<01:32,  5.57it/s]No handles with labels found to put in legend.\n",
            "frames:  44%|████▍     | 408/925 [01:16<01:32,  5.59it/s]No handles with labels found to put in legend.\n",
            "frames:  44%|████▍     | 409/925 [01:17<01:34,  5.47it/s]No handles with labels found to put in legend.\n",
            "frames:  44%|████▍     | 410/925 [01:17<01:33,  5.50it/s]No handles with labels found to put in legend.\n",
            "frames:  44%|████▍     | 411/925 [01:17<01:33,  5.53it/s]No handles with labels found to put in legend.\n",
            "frames:  45%|████▍     | 412/925 [01:17<01:31,  5.63it/s]No handles with labels found to put in legend.\n",
            "frames:  45%|████▍     | 413/925 [01:17<01:30,  5.64it/s]No handles with labels found to put in legend.\n",
            "frames:  45%|████▍     | 414/925 [01:18<01:29,  5.72it/s]No handles with labels found to put in legend.\n",
            "frames:  45%|████▍     | 415/925 [01:18<01:31,  5.60it/s]No handles with labels found to put in legend.\n",
            "frames:  45%|████▍     | 416/925 [01:18<01:30,  5.60it/s]No handles with labels found to put in legend.\n",
            "frames:  45%|████▌     | 417/925 [01:18<01:30,  5.61it/s]No handles with labels found to put in legend.\n",
            "frames:  45%|████▌     | 418/925 [01:18<01:29,  5.66it/s]No handles with labels found to put in legend.\n",
            "frames:  45%|████▌     | 419/925 [01:18<01:28,  5.71it/s]No handles with labels found to put in legend.\n",
            "frames:  45%|████▌     | 420/925 [01:19<01:31,  5.54it/s]No handles with labels found to put in legend.\n",
            "frames:  46%|████▌     | 421/925 [01:19<01:31,  5.51it/s]No handles with labels found to put in legend.\n",
            "frames:  46%|████▌     | 422/925 [01:19<01:33,  5.35it/s]No handles with labels found to put in legend.\n",
            "frames:  46%|████▌     | 423/925 [01:19<01:32,  5.42it/s]No handles with labels found to put in legend.\n",
            "frames:  46%|████▌     | 424/925 [01:19<01:32,  5.44it/s]No handles with labels found to put in legend.\n",
            "frames:  46%|████▌     | 425/925 [01:20<01:31,  5.44it/s]No handles with labels found to put in legend.\n",
            "frames:  46%|████▌     | 426/925 [01:20<01:31,  5.43it/s]No handles with labels found to put in legend.\n",
            "frames:  46%|████▌     | 427/925 [01:20<01:31,  5.45it/s]No handles with labels found to put in legend.\n",
            "frames:  46%|████▋     | 428/925 [01:20<01:29,  5.56it/s]No handles with labels found to put in legend.\n",
            "frames:  46%|████▋     | 429/925 [01:20<01:28,  5.59it/s]No handles with labels found to put in legend.\n",
            "frames:  46%|████▋     | 430/925 [01:20<01:28,  5.60it/s]No handles with labels found to put in legend.\n",
            "frames:  47%|████▋     | 431/925 [01:21<01:27,  5.63it/s]No handles with labels found to put in legend.\n",
            "frames:  47%|████▋     | 432/925 [01:21<01:28,  5.58it/s]No handles with labels found to put in legend.\n",
            "frames:  47%|████▋     | 433/925 [01:21<01:28,  5.57it/s]No handles with labels found to put in legend.\n",
            "frames:  47%|████▋     | 434/925 [01:21<01:26,  5.65it/s]No handles with labels found to put in legend.\n",
            "frames:  47%|████▋     | 435/925 [01:21<01:26,  5.63it/s]No handles with labels found to put in legend.\n",
            "frames:  47%|████▋     | 436/925 [01:21<01:25,  5.71it/s]No handles with labels found to put in legend.\n",
            "frames:  47%|████▋     | 437/925 [01:22<01:28,  5.54it/s]No handles with labels found to put in legend.\n",
            "frames:  47%|████▋     | 438/925 [01:22<01:29,  5.43it/s]No handles with labels found to put in legend.\n",
            "frames:  47%|████▋     | 439/925 [01:22<01:28,  5.52it/s]No handles with labels found to put in legend.\n",
            "frames:  48%|████▊     | 440/925 [01:22<01:28,  5.45it/s]No handles with labels found to put in legend.\n",
            "frames:  48%|████▊     | 441/925 [01:22<01:27,  5.56it/s]No handles with labels found to put in legend.\n",
            "frames:  48%|████▊     | 442/925 [01:23<01:26,  5.56it/s]No handles with labels found to put in legend.\n",
            "frames:  48%|████▊     | 443/925 [01:23<01:26,  5.55it/s]No handles with labels found to put in legend.\n",
            "frames:  48%|████▊     | 444/925 [01:23<01:26,  5.55it/s]No handles with labels found to put in legend.\n",
            "frames:  48%|████▊     | 445/925 [01:23<01:25,  5.64it/s]No handles with labels found to put in legend.\n",
            "frames:  48%|████▊     | 446/925 [01:23<01:23,  5.73it/s]No handles with labels found to put in legend.\n",
            "frames:  48%|████▊     | 447/925 [01:23<01:23,  5.71it/s]No handles with labels found to put in legend.\n",
            "frames:  48%|████▊     | 448/925 [01:24<01:23,  5.73it/s]No handles with labels found to put in legend.\n",
            "frames:  49%|████▊     | 449/925 [01:24<01:24,  5.66it/s]No handles with labels found to put in legend.\n",
            "frames:  49%|████▊     | 450/925 [01:24<01:22,  5.73it/s]No handles with labels found to put in legend.\n",
            "frames:  49%|████▉     | 451/925 [01:24<01:21,  5.79it/s]No handles with labels found to put in legend.\n",
            "frames:  49%|████▉     | 452/925 [01:24<01:21,  5.77it/s]No handles with labels found to put in legend.\n",
            "frames:  49%|████▉     | 453/925 [01:25<01:23,  5.67it/s]No handles with labels found to put in legend.\n",
            "frames:  49%|████▉     | 454/925 [01:25<01:22,  5.68it/s]No handles with labels found to put in legend.\n",
            "frames:  49%|████▉     | 455/925 [01:25<01:24,  5.57it/s]No handles with labels found to put in legend.\n",
            "frames:  49%|████▉     | 456/925 [01:25<01:26,  5.41it/s]No handles with labels found to put in legend.\n",
            "frames:  49%|████▉     | 457/925 [01:25<01:26,  5.41it/s]No handles with labels found to put in legend.\n",
            "frames:  50%|████▉     | 458/925 [01:25<01:26,  5.41it/s]No handles with labels found to put in legend.\n",
            "frames:  50%|████▉     | 459/925 [01:26<01:26,  5.38it/s]No handles with labels found to put in legend.\n",
            "frames:  50%|████▉     | 460/925 [01:26<01:26,  5.39it/s]No handles with labels found to put in legend.\n",
            "frames:  50%|████▉     | 461/925 [01:26<01:24,  5.51it/s]No handles with labels found to put in legend.\n",
            "frames:  50%|████▉     | 462/925 [01:26<01:23,  5.53it/s]No handles with labels found to put in legend.\n",
            "frames:  50%|█████     | 463/925 [01:26<01:23,  5.51it/s]No handles with labels found to put in legend.\n",
            "frames:  50%|█████     | 464/925 [01:27<01:24,  5.45it/s]No handles with labels found to put in legend.\n",
            "frames:  50%|█████     | 465/925 [01:27<01:24,  5.47it/s]No handles with labels found to put in legend.\n",
            "frames:  50%|█████     | 466/925 [01:27<01:23,  5.48it/s]No handles with labels found to put in legend.\n",
            "frames:  50%|█████     | 467/925 [01:27<01:23,  5.51it/s]No handles with labels found to put in legend.\n",
            "frames:  51%|█████     | 468/925 [01:27<01:21,  5.58it/s]No handles with labels found to put in legend.\n",
            "frames:  51%|█████     | 469/925 [01:27<01:23,  5.49it/s]No handles with labels found to put in legend.\n",
            "frames:  51%|█████     | 470/925 [01:28<01:22,  5.51it/s]No handles with labels found to put in legend.\n",
            "frames:  51%|█████     | 471/925 [01:28<01:20,  5.61it/s]No handles with labels found to put in legend.\n",
            "frames:  51%|█████     | 472/925 [01:28<01:24,  5.38it/s]No handles with labels found to put in legend.\n",
            "frames:  51%|█████     | 473/925 [01:28<01:22,  5.45it/s]No handles with labels found to put in legend.\n",
            "frames:  51%|█████     | 474/925 [01:28<01:21,  5.51it/s]No handles with labels found to put in legend.\n",
            "frames:  51%|█████▏    | 475/925 [01:29<01:19,  5.63it/s]No handles with labels found to put in legend.\n",
            "frames:  51%|█████▏    | 476/925 [01:29<01:18,  5.74it/s]No handles with labels found to put in legend.\n",
            "frames:  52%|█████▏    | 477/925 [01:29<01:17,  5.75it/s]No handles with labels found to put in legend.\n",
            "frames:  52%|█████▏    | 478/925 [01:29<01:20,  5.58it/s]No handles with labels found to put in legend.\n",
            "frames:  52%|█████▏    | 479/925 [01:29<01:18,  5.68it/s]No handles with labels found to put in legend.\n",
            "frames:  52%|█████▏    | 480/925 [01:29<01:17,  5.73it/s]No handles with labels found to put in legend.\n",
            "frames:  52%|█████▏    | 481/925 [01:30<01:18,  5.68it/s]No handles with labels found to put in legend.\n",
            "frames:  52%|█████▏    | 482/925 [01:30<01:17,  5.68it/s]No handles with labels found to put in legend.\n",
            "frames:  52%|█████▏    | 483/925 [01:30<01:18,  5.60it/s]No handles with labels found to put in legend.\n",
            "frames:  52%|█████▏    | 484/925 [01:30<01:17,  5.66it/s]No handles with labels found to put in legend.\n",
            "frames:  52%|█████▏    | 485/925 [01:30<01:18,  5.64it/s]No handles with labels found to put in legend.\n",
            "frames:  53%|█████▎    | 486/925 [01:30<01:17,  5.65it/s]No handles with labels found to put in legend.\n",
            "frames:  53%|█████▎    | 487/925 [01:31<01:16,  5.71it/s]No handles with labels found to put in legend.\n",
            "frames:  53%|█████▎    | 488/925 [01:31<01:18,  5.59it/s]No handles with labels found to put in legend.\n",
            "frames:  53%|█████▎    | 489/925 [01:31<01:20,  5.39it/s]No handles with labels found to put in legend.\n",
            "frames:  53%|█████▎    | 490/925 [01:31<01:19,  5.48it/s]No handles with labels found to put in legend.\n",
            "frames:  53%|█████▎    | 491/925 [01:31<01:18,  5.51it/s]No handles with labels found to put in legend.\n",
            "frames:  53%|█████▎    | 492/925 [01:33<04:32,  1.59it/s]No handles with labels found to put in legend.\n",
            "frames:  53%|█████▎    | 493/925 [01:33<03:32,  2.03it/s]No handles with labels found to put in legend.\n",
            "frames:  53%|█████▎    | 494/925 [01:33<02:51,  2.51it/s]No handles with labels found to put in legend.\n",
            "frames:  54%|█████▎    | 495/925 [01:34<02:24,  2.98it/s]No handles with labels found to put in legend.\n",
            "frames:  54%|█████▎    | 496/925 [01:34<02:03,  3.46it/s]No handles with labels found to put in legend.\n",
            "frames:  54%|█████▎    | 497/925 [01:34<01:48,  3.94it/s]No handles with labels found to put in legend.\n",
            "frames:  54%|█████▍    | 498/925 [01:34<01:41,  4.21it/s]No handles with labels found to put in legend.\n",
            "frames:  54%|█████▍    | 499/925 [01:34<01:32,  4.62it/s]No handles with labels found to put in legend.\n",
            "frames:  54%|█████▍    | 500/925 [01:34<01:27,  4.87it/s]No handles with labels found to put in legend.\n",
            "frames:  54%|█████▍    | 501/925 [01:35<01:24,  5.01it/s]No handles with labels found to put in legend.\n",
            "frames:  54%|█████▍    | 502/925 [01:35<01:26,  4.87it/s]No handles with labels found to put in legend.\n",
            "frames:  54%|█████▍    | 503/925 [01:35<01:25,  4.96it/s]No handles with labels found to put in legend.\n",
            "frames:  54%|█████▍    | 504/925 [01:35<01:22,  5.10it/s]No handles with labels found to put in legend.\n",
            "frames:  55%|█████▍    | 505/925 [01:35<01:20,  5.21it/s]No handles with labels found to put in legend.\n",
            "frames:  55%|█████▍    | 506/925 [01:36<01:18,  5.35it/s]No handles with labels found to put in legend.\n",
            "frames:  55%|█████▍    | 507/925 [01:36<01:18,  5.31it/s]No handles with labels found to put in legend.\n",
            "frames:  55%|█████▍    | 508/925 [01:36<01:16,  5.42it/s]No handles with labels found to put in legend.\n",
            "frames:  55%|█████▌    | 509/925 [01:36<01:16,  5.44it/s]No handles with labels found to put in legend.\n",
            "frames:  55%|█████▌    | 510/925 [01:36<01:17,  5.33it/s]No handles with labels found to put in legend.\n",
            "frames:  55%|█████▌    | 511/925 [01:37<01:15,  5.46it/s]No handles with labels found to put in legend.\n",
            "frames:  55%|█████▌    | 512/925 [01:37<01:15,  5.47it/s]No handles with labels found to put in legend.\n",
            "frames:  55%|█████▌    | 513/925 [01:37<01:14,  5.51it/s]No handles with labels found to put in legend.\n",
            "frames:  56%|█████▌    | 514/925 [01:37<01:14,  5.52it/s]No handles with labels found to put in legend.\n",
            "frames:  56%|█████▌    | 515/925 [01:37<01:15,  5.46it/s]No handles with labels found to put in legend.\n",
            "frames:  56%|█████▌    | 516/925 [01:37<01:14,  5.47it/s]No handles with labels found to put in legend.\n",
            "frames:  56%|█████▌    | 517/925 [01:38<01:13,  5.53it/s]No handles with labels found to put in legend.\n",
            "frames:  56%|█████▌    | 518/925 [01:38<01:13,  5.57it/s]No handles with labels found to put in legend.\n",
            "frames:  56%|█████▌    | 519/925 [01:38<01:14,  5.46it/s]No handles with labels found to put in legend.\n",
            "frames:  56%|█████▌    | 520/925 [01:38<01:14,  5.44it/s]No handles with labels found to put in legend.\n",
            "frames:  56%|█████▋    | 521/925 [01:38<01:13,  5.48it/s]No handles with labels found to put in legend.\n",
            "frames:  56%|█████▋    | 522/925 [01:39<01:12,  5.55it/s]No handles with labels found to put in legend.\n",
            "frames:  57%|█████▋    | 523/925 [01:39<01:12,  5.53it/s]No handles with labels found to put in legend.\n",
            "frames:  57%|█████▋    | 524/925 [01:39<01:12,  5.55it/s]No handles with labels found to put in legend.\n",
            "frames:  57%|█████▋    | 525/925 [01:39<01:11,  5.62it/s]No handles with labels found to put in legend.\n",
            "frames:  57%|█████▋    | 526/925 [01:39<01:12,  5.50it/s]No handles with labels found to put in legend.\n",
            "frames:  57%|█████▋    | 527/925 [01:39<01:12,  5.50it/s]No handles with labels found to put in legend.\n",
            "frames:  57%|█████▋    | 528/925 [01:40<01:10,  5.60it/s]No handles with labels found to put in legend.\n",
            "frames:  57%|█████▋    | 529/925 [01:40<01:10,  5.63it/s]No handles with labels found to put in legend.\n",
            "frames:  57%|█████▋    | 530/925 [01:40<01:09,  5.65it/s]No handles with labels found to put in legend.\n",
            "frames:  57%|█████▋    | 531/925 [01:40<01:09,  5.70it/s]No handles with labels found to put in legend.\n",
            "frames:  58%|█████▊    | 532/925 [01:40<01:10,  5.61it/s]No handles with labels found to put in legend.\n",
            "frames:  58%|█████▊    | 533/925 [01:41<01:09,  5.62it/s]No handles with labels found to put in legend.\n",
            "frames:  58%|█████▊    | 534/925 [01:41<01:08,  5.67it/s]No handles with labels found to put in legend.\n",
            "frames:  58%|█████▊    | 535/925 [01:41<01:08,  5.71it/s]No handles with labels found to put in legend.\n",
            "frames:  58%|█████▊    | 536/925 [01:41<01:10,  5.53it/s]No handles with labels found to put in legend.\n",
            "frames:  58%|█████▊    | 537/925 [01:41<01:09,  5.59it/s]No handles with labels found to put in legend.\n",
            "frames:  58%|█████▊    | 538/925 [01:41<01:09,  5.57it/s]No handles with labels found to put in legend.\n",
            "frames:  58%|█████▊    | 539/925 [01:42<01:08,  5.60it/s]No handles with labels found to put in legend.\n",
            "frames:  58%|█████▊    | 540/925 [01:42<01:08,  5.63it/s]No handles with labels found to put in legend.\n",
            "frames:  58%|█████▊    | 541/925 [01:42<01:07,  5.67it/s]No handles with labels found to put in legend.\n",
            "frames:  59%|█████▊    | 542/925 [01:42<01:08,  5.56it/s]No handles with labels found to put in legend.\n",
            "frames:  59%|█████▊    | 543/925 [01:42<01:12,  5.27it/s]No handles with labels found to put in legend.\n",
            "frames:  59%|█████▉    | 544/925 [01:43<01:11,  5.30it/s]No handles with labels found to put in legend.\n",
            "frames:  59%|█████▉    | 545/925 [01:43<01:09,  5.44it/s]No handles with labels found to put in legend.\n",
            "frames:  59%|█████▉    | 546/925 [01:43<01:09,  5.45it/s]No handles with labels found to put in legend.\n",
            "frames:  59%|█████▉    | 547/925 [01:43<01:08,  5.49it/s]No handles with labels found to put in legend.\n",
            "frames:  59%|█████▉    | 548/925 [01:43<01:08,  5.50it/s]No handles with labels found to put in legend.\n",
            "frames:  59%|█████▉    | 549/925 [01:43<01:08,  5.48it/s]No handles with labels found to put in legend.\n",
            "frames:  59%|█████▉    | 550/925 [01:44<01:08,  5.49it/s]No handles with labels found to put in legend.\n",
            "frames:  60%|█████▉    | 551/925 [01:44<01:07,  5.57it/s]No handles with labels found to put in legend.\n",
            "frames:  60%|█████▉    | 552/925 [01:44<01:06,  5.63it/s]No handles with labels found to put in legend.\n",
            "frames:  60%|█████▉    | 553/925 [01:44<01:09,  5.32it/s]No handles with labels found to put in legend.\n",
            "frames:  60%|█████▉    | 554/925 [01:44<01:08,  5.46it/s]No handles with labels found to put in legend.\n",
            "frames:  60%|██████    | 555/925 [01:45<01:08,  5.38it/s]No handles with labels found to put in legend.\n",
            "frames:  60%|██████    | 556/925 [01:45<01:09,  5.31it/s]No handles with labels found to put in legend.\n",
            "frames:  60%|██████    | 557/925 [01:45<01:08,  5.35it/s]No handles with labels found to put in legend.\n",
            "frames:  60%|██████    | 558/925 [01:45<01:06,  5.50it/s]No handles with labels found to put in legend.\n",
            "frames:  60%|██████    | 559/925 [01:45<01:06,  5.49it/s]No handles with labels found to put in legend.\n",
            "frames:  61%|██████    | 560/925 [01:45<01:07,  5.41it/s]No handles with labels found to put in legend.\n",
            "frames:  61%|██████    | 561/925 [01:46<01:07,  5.38it/s]No handles with labels found to put in legend.\n",
            "frames:  61%|██████    | 562/925 [01:46<01:06,  5.47it/s]No handles with labels found to put in legend.\n",
            "frames:  61%|██████    | 563/925 [01:46<01:05,  5.57it/s]No handles with labels found to put in legend.\n",
            "frames:  61%|██████    | 564/925 [01:46<01:05,  5.50it/s]No handles with labels found to put in legend.\n",
            "frames:  61%|██████    | 565/925 [01:46<01:06,  5.43it/s]No handles with labels found to put in legend.\n",
            "frames:  61%|██████    | 566/925 [01:47<01:08,  5.22it/s]No handles with labels found to put in legend.\n",
            "frames:  61%|██████▏   | 567/925 [01:47<01:07,  5.33it/s]No handles with labels found to put in legend.\n",
            "frames:  61%|██████▏   | 568/925 [01:47<01:06,  5.40it/s]No handles with labels found to put in legend.\n",
            "frames:  62%|██████▏   | 569/925 [01:47<01:07,  5.28it/s]No handles with labels found to put in legend.\n",
            "frames:  62%|██████▏   | 570/925 [01:47<01:05,  5.46it/s]No handles with labels found to put in legend.\n",
            "frames:  62%|██████▏   | 571/925 [01:47<01:05,  5.43it/s]No handles with labels found to put in legend.\n",
            "frames:  62%|██████▏   | 572/925 [01:48<01:04,  5.46it/s]No handles with labels found to put in legend.\n",
            "frames:  62%|██████▏   | 573/925 [01:48<01:04,  5.42it/s]No handles with labels found to put in legend.\n",
            "frames:  62%|██████▏   | 574/925 [01:48<01:05,  5.34it/s]No handles with labels found to put in legend.\n",
            "frames:  62%|██████▏   | 575/925 [01:48<01:04,  5.47it/s]No handles with labels found to put in legend.\n",
            "frames:  62%|██████▏   | 576/925 [01:48<01:02,  5.55it/s]No handles with labels found to put in legend.\n",
            "frames:  62%|██████▏   | 577/925 [01:49<01:03,  5.49it/s]No handles with labels found to put in legend.\n",
            "frames:  62%|██████▏   | 578/925 [01:49<01:02,  5.52it/s]No handles with labels found to put in legend.\n",
            "frames:  63%|██████▎   | 579/925 [01:49<01:02,  5.54it/s]No handles with labels found to put in legend.\n",
            "frames:  63%|██████▎   | 580/925 [01:49<01:02,  5.54it/s]No handles with labels found to put in legend.\n",
            "frames:  63%|██████▎   | 581/925 [01:49<01:01,  5.59it/s]No handles with labels found to put in legend.\n",
            "frames:  63%|██████▎   | 582/925 [01:49<01:01,  5.56it/s]No handles with labels found to put in legend.\n",
            "frames:  63%|██████▎   | 583/925 [01:50<01:02,  5.48it/s]No handles with labels found to put in legend.\n",
            "frames:  63%|██████▎   | 584/925 [01:50<01:01,  5.51it/s]No handles with labels found to put in legend.\n",
            "frames:  63%|██████▎   | 585/925 [01:50<01:04,  5.26it/s]No handles with labels found to put in legend.\n",
            "frames:  63%|██████▎   | 586/925 [01:50<01:03,  5.38it/s]No handles with labels found to put in legend.\n",
            "frames:  63%|██████▎   | 587/925 [01:50<01:04,  5.21it/s]No handles with labels found to put in legend.\n",
            "frames:  64%|██████▎   | 588/925 [01:51<01:04,  5.25it/s]No handles with labels found to put in legend.\n",
            "frames:  64%|██████▎   | 589/925 [01:51<01:02,  5.36it/s]No handles with labels found to put in legend.\n",
            "frames:  64%|██████▍   | 590/925 [01:51<01:03,  5.28it/s]No handles with labels found to put in legend.\n",
            "frames:  64%|██████▍   | 591/925 [01:51<01:01,  5.40it/s]No handles with labels found to put in legend.\n",
            "frames:  64%|██████▍   | 592/925 [01:51<01:01,  5.43it/s]No handles with labels found to put in legend.\n",
            "frames:  64%|██████▍   | 593/925 [01:52<01:02,  5.31it/s]No handles with labels found to put in legend.\n",
            "frames:  64%|██████▍   | 594/925 [01:52<01:02,  5.29it/s]No handles with labels found to put in legend.\n",
            "frames:  64%|██████▍   | 595/925 [01:52<01:01,  5.36it/s]No handles with labels found to put in legend.\n",
            "frames:  64%|██████▍   | 596/925 [01:52<01:00,  5.41it/s]No handles with labels found to put in legend.\n",
            "frames:  65%|██████▍   | 597/925 [01:52<01:00,  5.45it/s]No handles with labels found to put in legend.\n",
            "frames:  65%|██████▍   | 598/925 [01:52<00:59,  5.51it/s]No handles with labels found to put in legend.\n",
            "frames:  65%|██████▍   | 599/925 [01:53<00:58,  5.59it/s]No handles with labels found to put in legend.\n",
            "frames:  65%|██████▍   | 600/925 [01:53<00:59,  5.48it/s]No handles with labels found to put in legend.\n",
            "frames:  65%|██████▍   | 601/925 [01:53<01:02,  5.20it/s]No handles with labels found to put in legend.\n",
            "frames:  65%|██████▌   | 602/925 [01:53<01:01,  5.24it/s]No handles with labels found to put in legend.\n",
            "frames:  65%|██████▌   | 603/925 [01:53<01:00,  5.35it/s]No handles with labels found to put in legend.\n",
            "frames:  65%|██████▌   | 604/925 [01:54<00:58,  5.48it/s]No handles with labels found to put in legend.\n",
            "frames:  65%|██████▌   | 605/925 [01:54<00:58,  5.45it/s]No handles with labels found to put in legend.\n",
            "frames:  66%|██████▌   | 606/925 [01:54<00:57,  5.53it/s]No handles with labels found to put in legend.\n",
            "frames:  66%|██████▌   | 607/925 [01:54<00:57,  5.57it/s]No handles with labels found to put in legend.\n",
            "frames:  66%|██████▌   | 608/925 [01:54<00:56,  5.58it/s]No handles with labels found to put in legend.\n",
            "frames:  66%|██████▌   | 609/925 [01:54<00:57,  5.52it/s]No handles with labels found to put in legend.\n",
            "frames:  66%|██████▌   | 610/925 [01:55<00:57,  5.50it/s]No handles with labels found to put in legend.\n",
            "frames:  66%|██████▌   | 611/925 [01:55<00:58,  5.38it/s]No handles with labels found to put in legend.\n",
            "frames:  66%|██████▌   | 612/925 [01:55<00:56,  5.55it/s]No handles with labels found to put in legend.\n",
            "frames:  66%|██████▋   | 613/925 [01:55<00:55,  5.62it/s]No handles with labels found to put in legend.\n",
            "frames:  66%|██████▋   | 614/925 [01:55<00:55,  5.64it/s]No handles with labels found to put in legend.\n",
            "frames:  66%|██████▋   | 615/925 [01:56<00:55,  5.63it/s]No handles with labels found to put in legend.\n",
            "frames:  67%|██████▋   | 616/925 [01:56<00:56,  5.45it/s]No handles with labels found to put in legend.\n",
            "frames:  67%|██████▋   | 617/925 [01:56<00:57,  5.32it/s]No handles with labels found to put in legend.\n",
            "frames:  67%|██████▋   | 618/925 [01:56<00:56,  5.42it/s]No handles with labels found to put in legend.\n",
            "frames:  67%|██████▋   | 619/925 [01:56<00:56,  5.46it/s]No handles with labels found to put in legend.\n",
            "frames:  67%|██████▋   | 620/925 [01:56<00:56,  5.37it/s]No handles with labels found to put in legend.\n",
            "frames:  67%|██████▋   | 621/925 [01:57<00:55,  5.50it/s]No handles with labels found to put in legend.\n",
            "frames:  67%|██████▋   | 622/925 [01:57<00:55,  5.42it/s]No handles with labels found to put in legend.\n",
            "frames:  67%|██████▋   | 623/925 [01:57<00:55,  5.46it/s]No handles with labels found to put in legend.\n",
            "frames:  67%|██████▋   | 624/925 [01:57<00:54,  5.51it/s]No handles with labels found to put in legend.\n",
            "frames:  68%|██████▊   | 625/925 [01:57<00:53,  5.57it/s]No handles with labels found to put in legend.\n",
            "frames:  68%|██████▊   | 626/925 [01:58<00:53,  5.59it/s]No handles with labels found to put in legend.\n",
            "frames:  68%|██████▊   | 627/925 [01:58<00:53,  5.58it/s]No handles with labels found to put in legend.\n",
            "frames:  68%|██████▊   | 628/925 [01:58<00:53,  5.56it/s]No handles with labels found to put in legend.\n",
            "frames:  68%|██████▊   | 629/925 [01:58<00:53,  5.52it/s]No handles with labels found to put in legend.\n",
            "frames:  68%|██████▊   | 630/925 [01:58<00:53,  5.52it/s]No handles with labels found to put in legend.\n",
            "frames:  68%|██████▊   | 631/925 [01:59<00:56,  5.17it/s]No handles with labels found to put in legend.\n",
            "frames:  68%|██████▊   | 632/925 [01:59<00:55,  5.28it/s]No handles with labels found to put in legend.\n",
            "frames:  68%|██████▊   | 633/925 [01:59<00:54,  5.32it/s]No handles with labels found to put in legend.\n",
            "frames:  69%|██████▊   | 634/925 [01:59<00:53,  5.47it/s]No handles with labels found to put in legend.\n",
            "frames:  69%|██████▊   | 635/925 [01:59<00:52,  5.48it/s]No handles with labels found to put in legend.\n",
            "frames:  69%|██████▉   | 636/925 [01:59<00:52,  5.52it/s]No handles with labels found to put in legend.\n",
            "frames:  69%|██████▉   | 637/925 [02:00<00:51,  5.57it/s]No handles with labels found to put in legend.\n",
            "frames:  69%|██████▉   | 638/925 [02:00<00:52,  5.43it/s]No handles with labels found to put in legend.\n",
            "frames:  69%|██████▉   | 639/925 [02:00<00:51,  5.50it/s]No handles with labels found to put in legend.\n",
            "frames:  69%|██████▉   | 640/925 [02:02<03:31,  1.35it/s]No handles with labels found to put in legend.\n",
            "frames:  69%|██████▉   | 641/925 [02:02<02:42,  1.75it/s]No handles with labels found to put in legend.\n",
            "frames:  69%|██████▉   | 642/925 [02:02<02:07,  2.21it/s]No handles with labels found to put in legend.\n",
            "frames:  70%|██████▉   | 643/925 [02:03<01:44,  2.70it/s]No handles with labels found to put in legend.\n",
            "frames:  70%|██████▉   | 644/925 [02:03<01:28,  3.19it/s]No handles with labels found to put in legend.\n",
            "frames:  70%|██████▉   | 645/925 [02:03<01:17,  3.62it/s]No handles with labels found to put in legend.\n",
            "frames:  70%|██████▉   | 646/925 [02:03<01:10,  3.96it/s]No handles with labels found to put in legend.\n",
            "frames:  70%|██████▉   | 647/925 [02:03<01:04,  4.33it/s]No handles with labels found to put in legend.\n",
            "frames:  70%|███████   | 648/925 [02:03<01:00,  4.54it/s]No handles with labels found to put in legend.\n",
            "frames:  70%|███████   | 649/925 [02:04<00:57,  4.78it/s]No handles with labels found to put in legend.\n",
            "frames:  70%|███████   | 650/925 [02:04<00:56,  4.91it/s]No handles with labels found to put in legend.\n",
            "frames:  70%|███████   | 651/925 [02:04<00:54,  5.00it/s]No handles with labels found to put in legend.\n",
            "frames:  70%|███████   | 652/925 [02:04<00:52,  5.17it/s]No handles with labels found to put in legend.\n",
            "frames:  71%|███████   | 653/925 [02:04<00:51,  5.31it/s]No handles with labels found to put in legend.\n",
            "frames:  71%|███████   | 654/925 [02:05<00:51,  5.26it/s]No handles with labels found to put in legend.\n",
            "frames:  71%|███████   | 655/925 [02:05<00:50,  5.36it/s]No handles with labels found to put in legend.\n",
            "frames:  71%|███████   | 656/925 [02:05<00:49,  5.46it/s]No handles with labels found to put in legend.\n",
            "frames:  71%|███████   | 657/925 [02:05<00:49,  5.47it/s]No handles with labels found to put in legend.\n",
            "frames:  71%|███████   | 658/925 [02:05<00:48,  5.49it/s]No handles with labels found to put in legend.\n",
            "frames:  71%|███████   | 659/925 [02:05<00:49,  5.39it/s]No handles with labels found to put in legend.\n",
            "frames:  71%|███████▏  | 660/925 [02:06<00:48,  5.42it/s]No handles with labels found to put in legend.\n",
            "frames:  71%|███████▏  | 661/925 [02:06<00:48,  5.46it/s]No handles with labels found to put in legend.\n",
            "frames:  72%|███████▏  | 662/925 [02:06<00:49,  5.27it/s]No handles with labels found to put in legend.\n",
            "frames:  72%|███████▏  | 663/925 [02:06<00:48,  5.37it/s]No handles with labels found to put in legend.\n",
            "frames:  72%|███████▏  | 664/925 [02:06<00:48,  5.40it/s]No handles with labels found to put in legend.\n",
            "frames:  72%|███████▏  | 665/925 [02:07<00:47,  5.47it/s]No handles with labels found to put in legend.\n",
            "frames:  72%|███████▏  | 666/925 [02:07<00:48,  5.32it/s]No handles with labels found to put in legend.\n",
            "frames:  72%|███████▏  | 667/925 [02:07<00:48,  5.36it/s]No handles with labels found to put in legend.\n",
            "frames:  72%|███████▏  | 668/925 [02:07<00:47,  5.37it/s]No handles with labels found to put in legend.\n",
            "frames:  72%|███████▏  | 669/925 [02:07<00:47,  5.40it/s]No handles with labels found to put in legend.\n",
            "frames:  72%|███████▏  | 670/925 [02:08<00:46,  5.48it/s]No handles with labels found to put in legend.\n",
            "frames:  73%|███████▎  | 671/925 [02:08<00:46,  5.52it/s]No handles with labels found to put in legend.\n",
            "frames:  73%|███████▎  | 672/925 [02:08<00:45,  5.54it/s]No handles with labels found to put in legend.\n",
            "frames:  73%|███████▎  | 673/925 [02:08<00:46,  5.45it/s]No handles with labels found to put in legend.\n",
            "frames:  73%|███████▎  | 674/925 [02:08<00:46,  5.36it/s]No handles with labels found to put in legend.\n",
            "frames:  73%|███████▎  | 675/925 [02:08<00:46,  5.36it/s]No handles with labels found to put in legend.\n",
            "frames:  73%|███████▎  | 676/925 [02:09<00:46,  5.41it/s]No handles with labels found to put in legend.\n",
            "frames:  73%|███████▎  | 677/925 [02:09<00:45,  5.44it/s]No handles with labels found to put in legend.\n",
            "frames:  73%|███████▎  | 678/925 [02:09<00:44,  5.55it/s]No handles with labels found to put in legend.\n",
            "frames:  73%|███████▎  | 679/925 [02:09<00:46,  5.30it/s]No handles with labels found to put in legend.\n",
            "frames:  74%|███████▎  | 680/925 [02:09<00:45,  5.44it/s]No handles with labels found to put in legend.\n",
            "frames:  74%|███████▎  | 681/925 [02:10<00:44,  5.49it/s]No handles with labels found to put in legend.\n",
            "frames:  74%|███████▎  | 682/925 [02:10<00:45,  5.38it/s]No handles with labels found to put in legend.\n",
            "frames:  74%|███████▍  | 683/925 [02:10<00:44,  5.42it/s]No handles with labels found to put in legend.\n",
            "frames:  74%|███████▍  | 684/925 [02:10<00:44,  5.44it/s]No handles with labels found to put in legend.\n",
            "frames:  74%|███████▍  | 685/925 [02:10<00:44,  5.34it/s]No handles with labels found to put in legend.\n",
            "frames:  74%|███████▍  | 686/925 [02:10<00:44,  5.38it/s]No handles with labels found to put in legend.\n",
            "frames:  74%|███████▍  | 687/925 [02:11<00:43,  5.43it/s]No handles with labels found to put in legend.\n",
            "frames:  74%|███████▍  | 688/925 [02:11<00:42,  5.52it/s]No handles with labels found to put in legend.\n",
            "frames:  74%|███████▍  | 689/925 [02:11<00:42,  5.57it/s]No handles with labels found to put in legend.\n",
            "frames:  75%|███████▍  | 690/925 [02:11<00:41,  5.63it/s]No handles with labels found to put in legend.\n",
            "frames:  75%|███████▍  | 691/925 [02:11<00:42,  5.52it/s]No handles with labels found to put in legend.\n",
            "frames:  75%|███████▍  | 692/925 [02:12<00:41,  5.61it/s]No handles with labels found to put in legend.\n",
            "frames:  75%|███████▍  | 693/925 [02:12<00:41,  5.59it/s]No handles with labels found to put in legend.\n",
            "frames:  75%|███████▌  | 694/925 [02:12<00:41,  5.53it/s]No handles with labels found to put in legend.\n",
            "frames:  75%|███████▌  | 695/925 [02:12<00:43,  5.31it/s]No handles with labels found to put in legend.\n",
            "frames:  75%|███████▌  | 696/925 [02:12<00:42,  5.37it/s]No handles with labels found to put in legend.\n",
            "frames:  75%|███████▌  | 697/925 [02:12<00:42,  5.35it/s]No handles with labels found to put in legend.\n",
            "frames:  75%|███████▌  | 698/925 [02:13<00:42,  5.35it/s]No handles with labels found to put in legend.\n",
            "frames:  76%|███████▌  | 699/925 [02:13<00:41,  5.46it/s]No handles with labels found to put in legend.\n",
            "frames:  76%|███████▌  | 700/925 [02:13<00:40,  5.53it/s]No handles with labels found to put in legend.\n",
            "frames:  76%|███████▌  | 701/925 [02:13<00:40,  5.55it/s]No handles with labels found to put in legend.\n",
            "frames:  76%|███████▌  | 702/925 [02:13<00:40,  5.45it/s]No handles with labels found to put in legend.\n",
            "frames:  76%|███████▌  | 703/925 [02:14<00:40,  5.53it/s]No handles with labels found to put in legend.\n",
            "frames:  76%|███████▌  | 704/925 [02:14<00:39,  5.64it/s]No handles with labels found to put in legend.\n",
            "frames:  76%|███████▌  | 705/925 [02:14<00:38,  5.66it/s]No handles with labels found to put in legend.\n",
            "frames:  76%|███████▋  | 706/925 [02:14<00:38,  5.64it/s]No handles with labels found to put in legend.\n",
            "frames:  76%|███████▋  | 707/925 [02:14<00:38,  5.60it/s]No handles with labels found to put in legend.\n",
            "frames:  77%|███████▋  | 708/925 [02:14<00:40,  5.33it/s]No handles with labels found to put in legend.\n",
            "frames:  77%|███████▋  | 709/925 [02:15<00:39,  5.41it/s]No handles with labels found to put in legend.\n",
            "frames:  77%|███████▋  | 710/925 [02:15<00:39,  5.47it/s]No handles with labels found to put in legend.\n",
            "frames:  77%|███████▋  | 711/925 [02:15<00:40,  5.28it/s]No handles with labels found to put in legend.\n",
            "frames:  77%|███████▋  | 712/925 [02:15<00:39,  5.36it/s]No handles with labels found to put in legend.\n",
            "frames:  77%|███████▋  | 713/925 [02:15<00:39,  5.33it/s]No handles with labels found to put in legend.\n",
            "frames:  77%|███████▋  | 714/925 [02:16<00:39,  5.36it/s]No handles with labels found to put in legend.\n",
            "frames:  77%|███████▋  | 715/925 [02:16<00:39,  5.25it/s]No handles with labels found to put in legend.\n",
            "frames:  77%|███████▋  | 716/925 [02:16<00:38,  5.37it/s]No handles with labels found to put in legend.\n",
            "frames:  78%|███████▊  | 717/925 [02:16<00:38,  5.44it/s]No handles with labels found to put in legend.\n",
            "frames:  78%|███████▊  | 718/925 [02:16<00:38,  5.43it/s]No handles with labels found to put in legend.\n",
            "frames:  78%|███████▊  | 719/925 [02:17<00:38,  5.34it/s]No handles with labels found to put in legend.\n",
            "frames:  78%|███████▊  | 720/925 [02:17<00:37,  5.45it/s]No handles with labels found to put in legend.\n",
            "frames:  78%|███████▊  | 721/925 [02:17<00:37,  5.40it/s]No handles with labels found to put in legend.\n",
            "frames:  78%|███████▊  | 722/925 [02:17<00:36,  5.49it/s]No handles with labels found to put in legend.\n",
            "frames:  78%|███████▊  | 723/925 [02:17<00:36,  5.53it/s]No handles with labels found to put in legend.\n",
            "frames:  78%|███████▊  | 724/925 [02:17<00:36,  5.47it/s]No handles with labels found to put in legend.\n",
            "frames:  78%|███████▊  | 725/925 [02:18<00:37,  5.34it/s]No handles with labels found to put in legend.\n",
            "frames:  78%|███████▊  | 726/925 [02:18<00:37,  5.28it/s]No handles with labels found to put in legend.\n",
            "frames:  79%|███████▊  | 727/925 [02:18<00:38,  5.11it/s]No handles with labels found to put in legend.\n",
            "frames:  79%|███████▊  | 728/925 [02:18<00:40,  4.88it/s]No handles with labels found to put in legend.\n",
            "frames:  79%|███████▉  | 729/925 [02:18<00:38,  5.09it/s]No handles with labels found to put in legend.\n",
            "frames:  79%|███████▉  | 730/925 [02:19<00:38,  5.10it/s]No handles with labels found to put in legend.\n",
            "frames:  79%|███████▉  | 731/925 [02:19<00:36,  5.29it/s]No handles with labels found to put in legend.\n",
            "frames:  79%|███████▉  | 732/925 [02:19<00:35,  5.39it/s]No handles with labels found to put in legend.\n",
            "frames:  79%|███████▉  | 733/925 [02:19<00:34,  5.50it/s]No handles with labels found to put in legend.\n",
            "frames:  79%|███████▉  | 734/925 [02:19<00:34,  5.52it/s]No handles with labels found to put in legend.\n",
            "frames:  79%|███████▉  | 735/925 [02:20<00:34,  5.51it/s]No handles with labels found to put in legend.\n",
            "frames:  80%|███████▉  | 736/925 [02:20<00:34,  5.44it/s]No handles with labels found to put in legend.\n",
            "frames:  80%|███████▉  | 737/925 [02:20<00:34,  5.52it/s]No handles with labels found to put in legend.\n",
            "frames:  80%|███████▉  | 738/925 [02:20<00:33,  5.60it/s]No handles with labels found to put in legend.\n",
            "frames:  80%|███████▉  | 739/925 [02:20<00:35,  5.23it/s]No handles with labels found to put in legend.\n",
            "frames:  80%|████████  | 740/925 [02:20<00:34,  5.32it/s]No handles with labels found to put in legend.\n",
            "frames:  80%|████████  | 741/925 [02:21<00:34,  5.36it/s]No handles with labels found to put in legend.\n",
            "frames:  80%|████████  | 742/925 [02:21<00:33,  5.42it/s]No handles with labels found to put in legend.\n",
            "frames:  80%|████████  | 743/925 [02:21<00:33,  5.49it/s]No handles with labels found to put in legend.\n",
            "frames:  80%|████████  | 744/925 [02:21<00:33,  5.39it/s]No handles with labels found to put in legend.\n",
            "frames:  81%|████████  | 745/925 [02:21<00:33,  5.42it/s]No handles with labels found to put in legend.\n",
            "frames:  81%|████████  | 746/925 [02:22<00:32,  5.53it/s]No handles with labels found to put in legend.\n",
            "frames:  81%|████████  | 747/925 [02:22<00:32,  5.55it/s]No handles with labels found to put in legend.\n",
            "frames:  81%|████████  | 748/925 [02:22<00:31,  5.57it/s]No handles with labels found to put in legend.\n",
            "frames:  81%|████████  | 749/925 [02:22<00:31,  5.60it/s]No handles with labels found to put in legend.\n",
            "frames:  81%|████████  | 750/925 [02:22<00:31,  5.55it/s]No handles with labels found to put in legend.\n",
            "frames:  81%|████████  | 751/925 [02:22<00:31,  5.56it/s]No handles with labels found to put in legend.\n",
            "frames:  81%|████████▏ | 752/925 [02:23<00:32,  5.37it/s]No handles with labels found to put in legend.\n",
            "frames:  81%|████████▏ | 753/925 [02:23<00:31,  5.47it/s]No handles with labels found to put in legend.\n",
            "frames:  82%|████████▏ | 754/925 [02:23<00:30,  5.54it/s]No handles with labels found to put in legend.\n",
            "frames:  82%|████████▏ | 755/925 [02:23<00:30,  5.52it/s]No handles with labels found to put in legend.\n",
            "frames:  82%|████████▏ | 756/925 [02:23<00:30,  5.52it/s]No handles with labels found to put in legend.\n",
            "frames:  82%|████████▏ | 757/925 [02:24<00:30,  5.48it/s]No handles with labels found to put in legend.\n",
            "frames:  82%|████████▏ | 758/925 [02:24<00:30,  5.44it/s]No handles with labels found to put in legend.\n",
            "frames:  82%|████████▏ | 759/925 [02:24<00:30,  5.52it/s]No handles with labels found to put in legend.\n",
            "frames:  82%|████████▏ | 760/925 [02:24<00:29,  5.54it/s]No handles with labels found to put in legend.\n",
            "frames:  82%|████████▏ | 761/925 [02:24<00:29,  5.51it/s]No handles with labels found to put in legend.\n",
            "frames:  82%|████████▏ | 762/925 [02:24<00:29,  5.54it/s]No handles with labels found to put in legend.\n",
            "frames:  82%|████████▏ | 763/925 [02:25<00:28,  5.61it/s]No handles with labels found to put in legend.\n",
            "frames:  83%|████████▎ | 764/925 [02:25<00:28,  5.56it/s]No handles with labels found to put in legend.\n",
            "frames:  83%|████████▎ | 765/925 [02:25<00:28,  5.59it/s]No handles with labels found to put in legend.\n",
            "frames:  83%|████████▎ | 766/925 [02:25<00:28,  5.57it/s]No handles with labels found to put in legend.\n",
            "frames:  83%|████████▎ | 767/925 [02:25<00:28,  5.59it/s]No handles with labels found to put in legend.\n",
            "frames:  83%|████████▎ | 768/925 [02:26<00:27,  5.63it/s]No handles with labels found to put in legend.\n",
            "frames:  83%|████████▎ | 769/925 [02:26<00:29,  5.25it/s]No handles with labels found to put in legend.\n",
            "frames:  83%|████████▎ | 770/925 [02:26<00:29,  5.34it/s]No handles with labels found to put in legend.\n",
            "frames:  83%|████████▎ | 771/925 [02:26<00:28,  5.40it/s]No handles with labels found to put in legend.\n",
            "frames:  83%|████████▎ | 772/925 [02:26<00:28,  5.30it/s]No handles with labels found to put in legend.\n",
            "frames:  84%|████████▎ | 773/925 [02:26<00:28,  5.34it/s]No handles with labels found to put in legend.\n",
            "frames:  84%|████████▎ | 774/925 [02:27<00:29,  5.12it/s]No handles with labels found to put in legend.\n",
            "frames:  84%|████████▍ | 775/925 [02:27<00:29,  5.16it/s]No handles with labels found to put in legend.\n",
            "frames:  84%|████████▍ | 776/925 [02:27<00:28,  5.25it/s]No handles with labels found to put in legend.\n",
            "frames:  84%|████████▍ | 777/925 [02:27<00:27,  5.31it/s]No handles with labels found to put in legend.\n",
            "frames:  84%|████████▍ | 778/925 [02:27<00:27,  5.33it/s]No handles with labels found to put in legend.\n",
            "frames:  84%|████████▍ | 779/925 [02:28<00:28,  5.20it/s]No handles with labels found to put in legend.\n",
            "frames:  84%|████████▍ | 780/925 [02:28<00:27,  5.22it/s]No handles with labels found to put in legend.\n",
            "frames:  84%|████████▍ | 781/925 [02:28<00:27,  5.33it/s]No handles with labels found to put in legend.\n",
            "frames:  85%|████████▍ | 782/925 [02:28<00:26,  5.34it/s]No handles with labels found to put in legend.\n",
            "frames:  85%|████████▍ | 783/925 [02:28<00:26,  5.38it/s]No handles with labels found to put in legend.\n",
            "frames:  85%|████████▍ | 784/925 [02:29<00:25,  5.47it/s]No handles with labels found to put in legend.\n",
            "frames:  85%|████████▍ | 785/925 [02:29<00:25,  5.50it/s]No handles with labels found to put in legend.\n",
            "frames:  85%|████████▍ | 786/925 [02:29<00:26,  5.34it/s]No handles with labels found to put in legend.\n",
            "frames:  85%|████████▌ | 787/925 [02:29<00:25,  5.45it/s]No handles with labels found to put in legend.\n",
            "frames:  85%|████████▌ | 788/925 [02:29<00:25,  5.30it/s]No handles with labels found to put in legend.\n",
            "frames:  85%|████████▌ | 789/925 [02:30<00:26,  5.23it/s]No handles with labels found to put in legend.\n",
            "frames:  85%|████████▌ | 790/925 [02:30<00:25,  5.32it/s]No handles with labels found to put in legend.\n",
            "frames:  86%|████████▌ | 791/925 [02:30<00:25,  5.26it/s]No handles with labels found to put in legend.\n",
            "frames:  86%|████████▌ | 792/925 [02:30<00:24,  5.41it/s]No handles with labels found to put in legend.\n",
            "frames:  86%|████████▌ | 793/925 [02:30<00:24,  5.42it/s]No handles with labels found to put in legend.\n",
            "frames:  86%|████████▌ | 794/925 [02:30<00:23,  5.55it/s]No handles with labels found to put in legend.\n",
            "frames:  86%|████████▌ | 795/925 [02:31<00:23,  5.50it/s]No handles with labels found to put in legend.\n",
            "frames:  86%|████████▌ | 796/925 [02:31<00:23,  5.49it/s]No handles with labels found to put in legend.\n",
            "frames:  86%|████████▌ | 797/925 [02:31<00:23,  5.39it/s]No handles with labels found to put in legend.\n",
            "frames:  86%|████████▋ | 798/925 [02:31<00:23,  5.45it/s]No handles with labels found to put in legend.\n",
            "frames:  86%|████████▋ | 799/925 [02:31<00:22,  5.56it/s]No handles with labels found to put in legend.\n",
            "frames:  86%|████████▋ | 800/925 [02:31<00:22,  5.59it/s]No handles with labels found to put in legend.\n",
            "frames:  87%|████████▋ | 801/925 [02:32<00:22,  5.63it/s]No handles with labels found to put in legend.\n",
            "frames:  87%|████████▋ | 802/925 [02:32<00:21,  5.65it/s]No handles with labels found to put in legend.\n",
            "frames:  87%|████████▋ | 803/925 [02:32<00:21,  5.64it/s]No handles with labels found to put in legend.\n",
            "frames:  87%|████████▋ | 804/925 [02:32<00:21,  5.55it/s]No handles with labels found to put in legend.\n",
            "frames:  87%|████████▋ | 805/925 [02:32<00:22,  5.45it/s]No handles with labels found to put in legend.\n",
            "frames:  87%|████████▋ | 806/925 [02:33<00:21,  5.43it/s]No handles with labels found to put in legend.\n",
            "frames:  87%|████████▋ | 807/925 [02:33<00:21,  5.55it/s]No handles with labels found to put in legend.\n",
            "frames:  87%|████████▋ | 808/925 [02:33<00:20,  5.58it/s]No handles with labels found to put in legend.\n",
            "frames:  87%|████████▋ | 809/925 [02:33<00:20,  5.53it/s]No handles with labels found to put in legend.\n",
            "frames:  88%|████████▊ | 810/925 [02:33<00:20,  5.65it/s]No handles with labels found to put in legend.\n",
            "frames:  88%|████████▊ | 811/925 [02:33<00:20,  5.64it/s]No handles with labels found to put in legend.\n",
            "frames:  88%|████████▊ | 812/925 [02:34<00:20,  5.59it/s]No handles with labels found to put in legend.\n",
            "frames:  88%|████████▊ | 813/925 [02:34<00:20,  5.55it/s]No handles with labels found to put in legend.\n",
            "frames:  88%|████████▊ | 814/925 [02:34<00:20,  5.46it/s]No handles with labels found to put in legend.\n",
            "frames:  88%|████████▊ | 815/925 [02:34<00:20,  5.34it/s]No handles with labels found to put in legend.\n",
            "frames:  88%|████████▊ | 816/925 [02:34<00:20,  5.44it/s]No handles with labels found to put in legend.\n",
            "frames:  88%|████████▊ | 817/925 [02:35<00:20,  5.33it/s]No handles with labels found to put in legend.\n",
            "frames:  88%|████████▊ | 818/925 [02:35<00:19,  5.41it/s]No handles with labels found to put in legend.\n",
            "frames:  89%|████████▊ | 819/925 [02:35<00:19,  5.51it/s]No handles with labels found to put in legend.\n",
            "frames:  89%|████████▊ | 820/925 [02:35<00:19,  5.47it/s]No handles with labels found to put in legend.\n",
            "frames:  89%|████████▉ | 821/925 [02:35<00:19,  5.41it/s]No handles with labels found to put in legend.\n",
            "frames:  89%|████████▉ | 822/925 [02:38<01:35,  1.08it/s]No handles with labels found to put in legend.\n",
            "frames:  89%|████████▉ | 823/925 [02:38<01:11,  1.43it/s]No handles with labels found to put in legend.\n",
            "frames:  89%|████████▉ | 824/925 [02:38<00:54,  1.84it/s]No handles with labels found to put in legend.\n",
            "frames:  89%|████████▉ | 825/925 [02:38<00:43,  2.31it/s]No handles with labels found to put in legend.\n",
            "frames:  89%|████████▉ | 826/925 [02:39<00:35,  2.77it/s]No handles with labels found to put in legend.\n",
            "frames:  89%|████████▉ | 827/925 [02:39<00:30,  3.26it/s]No handles with labels found to put in legend.\n",
            "frames:  90%|████████▉ | 828/925 [02:39<00:25,  3.74it/s]No handles with labels found to put in legend.\n",
            "frames:  90%|████████▉ | 829/925 [02:39<00:22,  4.18it/s]No handles with labels found to put in legend.\n",
            "frames:  90%|████████▉ | 830/925 [02:39<00:21,  4.52it/s]No handles with labels found to put in legend.\n",
            "frames:  90%|████████▉ | 831/925 [02:40<00:19,  4.82it/s]No handles with labels found to put in legend.\n",
            "frames:  90%|████████▉ | 832/925 [02:40<00:18,  5.02it/s]No handles with labels found to put in legend.\n",
            "frames:  90%|█████████ | 833/925 [02:40<00:17,  5.18it/s]No handles with labels found to put in legend.\n",
            "frames:  90%|█████████ | 834/925 [02:40<00:17,  5.26it/s]No handles with labels found to put in legend.\n",
            "frames:  90%|█████████ | 835/925 [02:40<00:19,  4.72it/s]No handles with labels found to put in legend.\n",
            "frames:  90%|█████████ | 836/925 [02:41<00:17,  4.96it/s]No handles with labels found to put in legend.\n",
            "frames:  90%|█████████ | 837/925 [02:41<00:17,  5.00it/s]No handles with labels found to put in legend.\n",
            "frames:  91%|█████████ | 838/925 [02:41<00:17,  5.10it/s]No handles with labels found to put in legend.\n",
            "frames:  91%|█████████ | 839/925 [02:41<00:16,  5.28it/s]No handles with labels found to put in legend.\n",
            "frames:  91%|█████████ | 840/925 [02:41<00:16,  5.26it/s]No handles with labels found to put in legend.\n",
            "frames:  91%|█████████ | 841/925 [02:41<00:15,  5.31it/s]No handles with labels found to put in legend.\n",
            "frames:  91%|█████████ | 842/925 [02:42<00:15,  5.34it/s]No handles with labels found to put in legend.\n",
            "frames:  91%|█████████ | 843/925 [02:42<00:15,  5.35it/s]No handles with labels found to put in legend.\n",
            "frames:  91%|█████████ | 844/925 [02:42<00:15,  5.40it/s]No handles with labels found to put in legend.\n",
            "frames:  91%|█████████▏| 845/925 [02:42<00:15,  5.28it/s]No handles with labels found to put in legend.\n",
            "frames:  91%|█████████▏| 846/925 [02:42<00:15,  5.23it/s]No handles with labels found to put in legend.\n",
            "frames:  92%|█████████▏| 847/925 [02:43<00:14,  5.33it/s]No handles with labels found to put in legend.\n",
            "frames:  92%|█████████▏| 848/925 [02:43<00:14,  5.36it/s]No handles with labels found to put in legend.\n",
            "frames:  92%|█████████▏| 849/925 [02:43<00:14,  5.26it/s]No handles with labels found to put in legend.\n",
            "frames:  92%|█████████▏| 850/925 [02:43<00:13,  5.38it/s]No handles with labels found to put in legend.\n",
            "frames:  92%|█████████▏| 851/925 [02:43<00:14,  5.11it/s]No handles with labels found to put in legend.\n",
            "frames:  92%|█████████▏| 852/925 [02:44<00:13,  5.28it/s]No handles with labels found to put in legend.\n",
            "frames:  92%|█████████▏| 853/925 [02:44<00:13,  5.32it/s]No handles with labels found to put in legend.\n",
            "frames:  92%|█████████▏| 854/925 [02:44<00:13,  5.36it/s]No handles with labels found to put in legend.\n",
            "frames:  92%|█████████▏| 855/925 [02:44<00:12,  5.48it/s]No handles with labels found to put in legend.\n",
            "frames:  93%|█████████▎| 856/925 [02:44<00:12,  5.50it/s]No handles with labels found to put in legend.\n",
            "frames:  93%|█████████▎| 857/925 [02:44<00:12,  5.45it/s]No handles with labels found to put in legend.\n",
            "frames:  93%|█████████▎| 858/925 [02:45<00:12,  5.50it/s]No handles with labels found to put in legend.\n",
            "frames:  93%|█████████▎| 859/925 [02:45<00:11,  5.53it/s]No handles with labels found to put in legend.\n",
            "frames:  93%|█████████▎| 860/925 [02:45<00:11,  5.58it/s]No handles with labels found to put in legend.\n",
            "frames:  93%|█████████▎| 861/925 [02:45<00:11,  5.62it/s]No handles with labels found to put in legend.\n",
            "frames:  93%|█████████▎| 862/925 [02:45<00:11,  5.57it/s]No handles with labels found to put in legend.\n",
            "frames:  93%|█████████▎| 863/925 [02:46<00:11,  5.44it/s]No handles with labels found to put in legend.\n",
            "frames:  93%|█████████▎| 864/925 [02:46<00:11,  5.51it/s]No handles with labels found to put in legend.\n",
            "frames:  94%|█████████▎| 865/925 [02:46<00:10,  5.53it/s]No handles with labels found to put in legend.\n",
            "frames:  94%|█████████▎| 866/925 [02:46<00:10,  5.54it/s]No handles with labels found to put in legend.\n",
            "frames:  94%|█████████▎| 867/925 [02:46<00:10,  5.39it/s]No handles with labels found to put in legend.\n",
            "frames:  94%|█████████▍| 868/925 [02:47<00:11,  5.17it/s]No handles with labels found to put in legend.\n",
            "frames:  94%|█████████▍| 869/925 [02:47<00:10,  5.13it/s]No handles with labels found to put in legend.\n",
            "frames:  94%|█████████▍| 870/925 [02:47<00:10,  5.31it/s]No handles with labels found to put in legend.\n",
            "frames:  94%|█████████▍| 871/925 [02:47<00:09,  5.42it/s]No handles with labels found to put in legend.\n",
            "frames:  94%|█████████▍| 872/925 [02:47<00:09,  5.52it/s]No handles with labels found to put in legend.\n",
            "frames:  94%|█████████▍| 873/925 [02:47<00:09,  5.62it/s]No handles with labels found to put in legend.\n",
            "frames:  94%|█████████▍| 874/925 [02:48<00:09,  5.49it/s]No handles with labels found to put in legend.\n",
            "frames:  95%|█████████▍| 875/925 [02:48<00:09,  5.36it/s]No handles with labels found to put in legend.\n",
            "frames:  95%|█████████▍| 876/925 [02:48<00:09,  5.35it/s]No handles with labels found to put in legend.\n",
            "frames:  95%|█████████▍| 877/925 [02:48<00:09,  5.32it/s]No handles with labels found to put in legend.\n",
            "frames:  95%|█████████▍| 878/925 [02:48<00:08,  5.34it/s]No handles with labels found to put in legend.\n",
            "frames:  95%|█████████▌| 879/925 [02:49<00:08,  5.32it/s]No handles with labels found to put in legend.\n",
            "frames:  95%|█████████▌| 880/925 [02:49<00:08,  5.43it/s]No handles with labels found to put in legend.\n",
            "frames:  95%|█████████▌| 881/925 [02:49<00:08,  5.39it/s]No handles with labels found to put in legend.\n",
            "frames:  95%|█████████▌| 882/925 [02:49<00:07,  5.48it/s]No handles with labels found to put in legend.\n",
            "frames:  95%|█████████▌| 883/925 [02:49<00:07,  5.54it/s]No handles with labels found to put in legend.\n",
            "frames:  96%|█████████▌| 884/925 [02:49<00:07,  5.26it/s]No handles with labels found to put in legend.\n",
            "frames:  96%|█████████▌| 885/925 [02:50<00:07,  5.34it/s]No handles with labels found to put in legend.\n",
            "frames:  96%|█████████▌| 886/925 [02:50<00:07,  5.37it/s]No handles with labels found to put in legend.\n",
            "frames:  96%|█████████▌| 887/925 [02:50<00:06,  5.47it/s]No handles with labels found to put in legend.\n",
            "frames:  96%|█████████▌| 888/925 [02:50<00:06,  5.48it/s]No handles with labels found to put in legend.\n",
            "frames:  96%|█████████▌| 889/925 [02:50<00:06,  5.45it/s]No handles with labels found to put in legend.\n",
            "frames:  96%|█████████▌| 890/925 [02:51<00:06,  5.26it/s]No handles with labels found to put in legend.\n",
            "frames:  96%|█████████▋| 891/925 [02:51<00:06,  5.41it/s]No handles with labels found to put in legend.\n",
            "frames:  96%|█████████▋| 892/925 [02:51<00:06,  5.33it/s]No handles with labels found to put in legend.\n",
            "frames:  97%|█████████▋| 893/925 [02:51<00:05,  5.46it/s]No handles with labels found to put in legend.\n",
            "frames:  97%|█████████▋| 894/925 [02:51<00:05,  5.50it/s]No handles with labels found to put in legend.\n",
            "frames:  97%|█████████▋| 895/925 [02:51<00:05,  5.45it/s]No handles with labels found to put in legend.\n",
            "frames:  97%|█████████▋| 896/925 [02:52<00:05,  5.49it/s]No handles with labels found to put in legend.\n",
            "frames:  97%|█████████▋| 897/925 [02:52<00:05,  5.56it/s]No handles with labels found to put in legend.\n",
            "frames:  97%|█████████▋| 898/925 [02:52<00:04,  5.58it/s]No handles with labels found to put in legend.\n",
            "frames:  97%|█████████▋| 899/925 [02:52<00:04,  5.59it/s]No handles with labels found to put in legend.\n",
            "frames:  97%|█████████▋| 900/925 [02:52<00:04,  5.59it/s]No handles with labels found to put in legend.\n",
            "frames:  97%|█████████▋| 901/925 [02:53<00:04,  5.53it/s]No handles with labels found to put in legend.\n",
            "frames:  98%|█████████▊| 902/925 [02:53<00:04,  5.46it/s]No handles with labels found to put in legend.\n",
            "frames:  98%|█████████▊| 903/925 [02:53<00:04,  5.49it/s]No handles with labels found to put in legend.\n",
            "frames:  98%|█████████▊| 904/925 [02:53<00:03,  5.56it/s]No handles with labels found to put in legend.\n",
            "frames:  98%|█████████▊| 905/925 [02:53<00:03,  5.56it/s]No handles with labels found to put in legend.\n",
            "frames:  98%|█████████▊| 906/925 [02:53<00:03,  5.43it/s]No handles with labels found to put in legend.\n",
            "frames:  98%|█████████▊| 907/925 [02:54<00:03,  5.34it/s]No handles with labels found to put in legend.\n",
            "frames:  98%|█████████▊| 908/925 [02:54<00:03,  5.46it/s]No handles with labels found to put in legend.\n",
            "frames:  98%|█████████▊| 909/925 [02:54<00:02,  5.48it/s]No handles with labels found to put in legend.\n",
            "frames:  98%|█████████▊| 910/925 [02:54<00:02,  5.47it/s]No handles with labels found to put in legend.\n",
            "frames:  98%|█████████▊| 911/925 [02:54<00:02,  5.54it/s]No handles with labels found to put in legend.\n",
            "frames:  99%|█████████▊| 912/925 [02:55<00:02,  5.36it/s]No handles with labels found to put in legend.\n",
            "frames:  99%|█████████▊| 913/925 [02:55<00:02,  5.39it/s]No handles with labels found to put in legend.\n",
            "frames:  99%|█████████▉| 914/925 [02:55<00:02,  5.50it/s]No handles with labels found to put in legend.\n",
            "frames:  99%|█████████▉| 915/925 [02:55<00:01,  5.37it/s]No handles with labels found to put in legend.\n",
            "frames:  99%|█████████▉| 916/925 [02:55<00:01,  5.37it/s]No handles with labels found to put in legend.\n",
            "frames:  99%|█████████▉| 917/925 [02:56<00:01,  5.14it/s]No handles with labels found to put in legend.\n",
            "frames:  99%|█████████▉| 918/925 [02:56<00:01,  5.22it/s]No handles with labels found to put in legend.\n",
            "frames:  99%|█████████▉| 919/925 [02:56<00:01,  5.35it/s]No handles with labels found to put in legend.\n",
            "frames:  99%|█████████▉| 920/925 [02:56<00:00,  5.45it/s]No handles with labels found to put in legend.\n",
            "frames: 100%|█████████▉| 921/925 [02:56<00:00,  5.51it/s]No handles with labels found to put in legend.\n",
            "frames: 100%|█████████▉| 922/925 [02:56<00:00,  5.52it/s]No handles with labels found to put in legend.\n",
            "frames: 100%|█████████▉| 923/925 [02:57<00:00,  5.49it/s]No handles with labels found to put in legend.\n",
            "frames: 100%|█████████▉| 924/925 [02:57<00:00,  5.34it/s]No handles with labels found to put in legend.\n",
            "frames: 100%|██████████| 925/925 [02:57<00:00,  5.21it/s]\n"
          ]
        }
      ],
      "source": [
        "from viz import *\n",
        "viz_seq(seq, '/content/drive/Shareddrives/vid tokenization/kit_viz/02052', 'kitml', debug=True)\n",
        "# viz_seq(normalized_seq, '/content/drive/Shareddrives/vid tokenization/kit_viz/02052_normalized', 'kitml', debug=True)"
      ]
    },
    {
      "cell_type": "markdown",
      "metadata": {
        "id": "zBeG4v_z05lK"
      },
      "source": [
        "##viz"
      ]
    },
    {
      "cell_type": "code",
      "execution_count": null,
      "metadata": {
        "colab": {
          "base_uri": "https://localhost:8080/"
        },
        "id": "SKs_mdDYP7Ui",
        "outputId": "9f9c8f89-f694-44a1-80e0-10d5b54b1048"
      },
      "outputs": [
        {
          "name": "stdout",
          "output_type": "stream",
          "text": [
            "/content/drive/Shareddrives/vid tokenization/asymov\n"
          ]
        }
      ],
      "source": [
        "%cd '/content/drive/Shareddrives/vid tokenization/asymov'\n",
        "# sys.path.append('/content/drive/Shareddrives/vid tokenization/asymov/packages/acton/')\n",
        "# sys.path.append('/content/drive/Shareddrives/vid tokenization/asymov/kit-molan/code/')\n",
        "# sys.path.append('/content/drive/Shareddrives/vid tokenization/asymov/packages/Complextext2animation/src/')\n",
        "# %cd '/content/drive/Shareddrives/vid tokenization/asymov/packages/acton'\n",
        "\n",
        "import packages.Complextext2animation.src.data as d\n",
        "reload(d)"
      ]
    },
    {
      "cell_type": "code",
      "execution_count": null,
      "metadata": {
        "id": "z0uFeu0SRMdQ"
      },
      "outputs": [],
      "source": [
        "kitml_fol_p = '/content/drive/Shareddrives/vid tokenization/asymov/kit-molan/dataset'\n",
        "Kk = d.KITMocap(path2data=kitml_fol_p, preProcess_flag=False)"
      ]
    },
    {
      "cell_type": "code",
      "execution_count": null,
      "metadata": {
        "colab": {
          "base_uri": "https://localhost:8080/",
          "height": 883
        },
        "id": "He1VV9IcdLpi",
        "outputId": "31124405-2478-4daa-fa88-cce55085b1af"
      },
      "outputs": [
        {
          "ename": "FileNotFoundError",
          "evalue": "ignored",
          "output_type": "error",
          "traceback": [
            "\u001b[0;31m---------------------------------------------------------------------------\u001b[0m",
            "\u001b[0;31mFileNotFoundError\u001b[0m                         Traceback (most recent call last)",
            "\u001b[0;32m<ipython-input-13-3dd89e3e608e>\u001b[0m in \u001b[0;36m<module>\u001b[0;34m()\u001b[0m\n\u001b[1;32m      2\u001b[0m \u001b[0mfp1\u001b[0m \u001b[0;34m=\u001b[0m \u001b[0mPath\u001b[0m\u001b[0;34m(\u001b[0m\u001b[0mospj\u001b[0m\u001b[0;34m(\u001b[0m\u001b[0mkitml_fol_p\u001b[0m\u001b[0;34m,\u001b[0m \u001b[0;34m'03269_mmm.xml'\u001b[0m\u001b[0;34m)\u001b[0m\u001b[0;34m)\u001b[0m\u001b[0;34m\u001b[0m\u001b[0;34m\u001b[0m\u001b[0m\n\u001b[1;32m      3\u001b[0m \u001b[0mfp2\u001b[0m \u001b[0;34m=\u001b[0m \u001b[0mPath\u001b[0m\u001b[0;34m(\u001b[0m\u001b[0mospj\u001b[0m\u001b[0;34m(\u001b[0m\u001b[0mkitml_fol_p\u001b[0m\u001b[0;34m,\u001b[0m \u001b[0;34m'00001_mmm.xml'\u001b[0m\u001b[0;34m)\u001b[0m\u001b[0;34m)\u001b[0m\u001b[0;34m\u001b[0m\u001b[0;34m\u001b[0m\u001b[0m\n\u001b[0;32m----> 4\u001b[0;31m \u001b[0mxyz_data1\u001b[0m\u001b[0;34m,\u001b[0m \u001b[0mskel_obj1\u001b[0m\u001b[0;34m,\u001b[0m \u001b[0mjoints1\u001b[0m\u001b[0;34m,\u001b[0m \u001b[0mroot_pos1\u001b[0m\u001b[0;34m,\u001b[0m \u001b[0mroot_rot1\u001b[0m \u001b[0;34m=\u001b[0m \u001b[0mKk\u001b[0m\u001b[0;34m.\u001b[0m\u001b[0mmmm2quat\u001b[0m\u001b[0;34m(\u001b[0m\u001b[0mfp1\u001b[0m\u001b[0;34m)\u001b[0m\u001b[0;34m\u001b[0m\u001b[0;34m\u001b[0m\u001b[0m\n\u001b[0m\u001b[1;32m      5\u001b[0m \u001b[0mxyz_data2\u001b[0m\u001b[0;34m,\u001b[0m \u001b[0mskel_obj2\u001b[0m\u001b[0;34m,\u001b[0m \u001b[0mjoints2\u001b[0m\u001b[0;34m,\u001b[0m \u001b[0mroot_pos2\u001b[0m\u001b[0;34m,\u001b[0m \u001b[0mroot_rot2\u001b[0m \u001b[0;34m=\u001b[0m \u001b[0mKk\u001b[0m\u001b[0;34m.\u001b[0m\u001b[0mmmm2quat\u001b[0m\u001b[0;34m(\u001b[0m\u001b[0mfp2\u001b[0m\u001b[0;34m)\u001b[0m\u001b[0;34m\u001b[0m\u001b[0;34m\u001b[0m\u001b[0m\n\u001b[1;32m      6\u001b[0m \u001b[0;34m\u001b[0m\u001b[0m\n",
            "\u001b[0;32m/content/drive/Shareddrives/vid tokenization/asymov/packages/Complextext2animation/src/data.py\u001b[0m in \u001b[0;36mmmm2quat\u001b[0;34m(self, path)\u001b[0m\n\u001b[1;32m    594\u001b[0m     \u001b[0;32mdef\u001b[0m \u001b[0mmmm2quat\u001b[0m\u001b[0;34m(\u001b[0m\u001b[0mself\u001b[0m\u001b[0;34m,\u001b[0m \u001b[0mpath\u001b[0m\u001b[0;34m)\u001b[0m\u001b[0;34m:\u001b[0m\u001b[0;34m\u001b[0m\u001b[0;34m\u001b[0m\u001b[0m\n\u001b[1;32m    595\u001b[0m         \u001b[0;31m# pdb.set_trace()\u001b[0m\u001b[0;34m\u001b[0m\u001b[0;34m\u001b[0m\u001b[0;34m\u001b[0m\u001b[0m\n\u001b[0;32m--> 596\u001b[0;31m         \u001b[0mjoints\u001b[0m\u001b[0;34m,\u001b[0m \u001b[0mroot_pos\u001b[0m\u001b[0;34m,\u001b[0m \u001b[0mroot_rot\u001b[0m\u001b[0;34m,\u001b[0m \u001b[0mvalues\u001b[0m \u001b[0;34m=\u001b[0m \u001b[0mself\u001b[0m\u001b[0;34m.\u001b[0m\u001b[0mmmm2csv\u001b[0m\u001b[0;34m(\u001b[0m\u001b[0mpath\u001b[0m\u001b[0;34m)\u001b[0m\u001b[0;34m\u001b[0m\u001b[0;34m\u001b[0m\u001b[0m\n\u001b[0m\u001b[1;32m    597\u001b[0m \u001b[0;34m\u001b[0m\u001b[0m\n\u001b[1;32m    598\u001b[0m         \u001b[0;31m# convert to quaternions. values:  # (J, T, 4)\u001b[0m\u001b[0;34m\u001b[0m\u001b[0;34m\u001b[0m\u001b[0;34m\u001b[0m\u001b[0m\n",
            "\u001b[0;32m/content/drive/Shareddrives/vid tokenization/asymov/packages/Complextext2animation/src/data.py\u001b[0m in \u001b[0;36mmmm2csv\u001b[0;34m(self, src)\u001b[0m\n\u001b[1;32m    510\u001b[0m     \u001b[0;31m# read an xml file\u001b[0m\u001b[0;34m\u001b[0m\u001b[0;34m\u001b[0m\u001b[0;34m\u001b[0m\u001b[0m\n\u001b[1;32m    511\u001b[0m     \u001b[0;32mdef\u001b[0m \u001b[0mmmm2csv\u001b[0m\u001b[0;34m(\u001b[0m\u001b[0mself\u001b[0m\u001b[0;34m,\u001b[0m \u001b[0msrc\u001b[0m\u001b[0;34m)\u001b[0m\u001b[0;34m:\u001b[0m\u001b[0;34m\u001b[0m\u001b[0;34m\u001b[0m\u001b[0m\n\u001b[0;32m--> 512\u001b[0;31m         \u001b[0mjoint_names\u001b[0m\u001b[0;34m,\u001b[0m \u001b[0mmmm_dict\u001b[0m \u001b[0;34m=\u001b[0m \u001b[0mparse_motions\u001b[0m\u001b[0;34m(\u001b[0m\u001b[0msrc\u001b[0m\u001b[0;34m.\u001b[0m\u001b[0mas_posix\u001b[0m\u001b[0;34m(\u001b[0m\u001b[0;34m)\u001b[0m\u001b[0;34m)\u001b[0m\u001b[0;34m[\u001b[0m\u001b[0;36m0\u001b[0m\u001b[0;34m]\u001b[0m\u001b[0;34m\u001b[0m\u001b[0;34m\u001b[0m\u001b[0m\n\u001b[0m\u001b[1;32m    513\u001b[0m         root_pos = np.array(mmm_dict['root_pos'],\n\u001b[1;32m    514\u001b[0m                             dtype=np.float)  # * 0.001 / 0.056444\n",
            "\u001b[0;32m/content/drive/Shareddrives/vid tokenization/asymov/packages/Complextext2animation/src/common/mmm.py\u001b[0m in \u001b[0;36mparse_motions\u001b[0;34m(path)\u001b[0m\n\u001b[1;32m     12\u001b[0m \u001b[0;34m\u001b[0m\u001b[0m\n\u001b[1;32m     13\u001b[0m \u001b[0;32mdef\u001b[0m \u001b[0mparse_motions\u001b[0m\u001b[0;34m(\u001b[0m\u001b[0mpath\u001b[0m\u001b[0;34m)\u001b[0m\u001b[0;34m:\u001b[0m\u001b[0;34m\u001b[0m\u001b[0;34m\u001b[0m\u001b[0m\n\u001b[0;32m---> 14\u001b[0;31m     \u001b[0mxml_tree\u001b[0m \u001b[0;34m=\u001b[0m \u001b[0mET\u001b[0m\u001b[0;34m.\u001b[0m\u001b[0mparse\u001b[0m\u001b[0;34m(\u001b[0m\u001b[0mpath\u001b[0m\u001b[0;34m)\u001b[0m\u001b[0;34m\u001b[0m\u001b[0;34m\u001b[0m\u001b[0m\n\u001b[0m\u001b[1;32m     15\u001b[0m     \u001b[0mxml_root\u001b[0m \u001b[0;34m=\u001b[0m \u001b[0mxml_tree\u001b[0m\u001b[0;34m.\u001b[0m\u001b[0mgetroot\u001b[0m\u001b[0;34m(\u001b[0m\u001b[0;34m)\u001b[0m\u001b[0;34m\u001b[0m\u001b[0;34m\u001b[0m\u001b[0m\n\u001b[1;32m     16\u001b[0m     \u001b[0mxml_motions\u001b[0m \u001b[0;34m=\u001b[0m \u001b[0mxml_root\u001b[0m\u001b[0;34m.\u001b[0m\u001b[0mfindall\u001b[0m\u001b[0;34m(\u001b[0m\u001b[0;34m'Motion'\u001b[0m\u001b[0;34m)\u001b[0m\u001b[0;34m\u001b[0m\u001b[0;34m\u001b[0m\u001b[0m\n",
            "\u001b[0;32m/usr/lib/python3.7/xml/etree/ElementTree.py\u001b[0m in \u001b[0;36mparse\u001b[0;34m(source, parser)\u001b[0m\n\u001b[1;32m   1195\u001b[0m     \"\"\"\n\u001b[1;32m   1196\u001b[0m     \u001b[0mtree\u001b[0m \u001b[0;34m=\u001b[0m \u001b[0mElementTree\u001b[0m\u001b[0;34m(\u001b[0m\u001b[0;34m)\u001b[0m\u001b[0;34m\u001b[0m\u001b[0;34m\u001b[0m\u001b[0m\n\u001b[0;32m-> 1197\u001b[0;31m     \u001b[0mtree\u001b[0m\u001b[0;34m.\u001b[0m\u001b[0mparse\u001b[0m\u001b[0;34m(\u001b[0m\u001b[0msource\u001b[0m\u001b[0;34m,\u001b[0m \u001b[0mparser\u001b[0m\u001b[0;34m)\u001b[0m\u001b[0;34m\u001b[0m\u001b[0;34m\u001b[0m\u001b[0m\n\u001b[0m\u001b[1;32m   1198\u001b[0m     \u001b[0;32mreturn\u001b[0m \u001b[0mtree\u001b[0m\u001b[0;34m\u001b[0m\u001b[0;34m\u001b[0m\u001b[0m\n\u001b[1;32m   1199\u001b[0m \u001b[0;34m\u001b[0m\u001b[0m\n",
            "\u001b[0;32m/usr/lib/python3.7/xml/etree/ElementTree.py\u001b[0m in \u001b[0;36mparse\u001b[0;34m(self, source, parser)\u001b[0m\n\u001b[1;32m    585\u001b[0m         \u001b[0mclose_source\u001b[0m \u001b[0;34m=\u001b[0m \u001b[0;32mFalse\u001b[0m\u001b[0;34m\u001b[0m\u001b[0;34m\u001b[0m\u001b[0m\n\u001b[1;32m    586\u001b[0m         \u001b[0;32mif\u001b[0m \u001b[0;32mnot\u001b[0m \u001b[0mhasattr\u001b[0m\u001b[0;34m(\u001b[0m\u001b[0msource\u001b[0m\u001b[0;34m,\u001b[0m \u001b[0;34m\"read\"\u001b[0m\u001b[0;34m)\u001b[0m\u001b[0;34m:\u001b[0m\u001b[0;34m\u001b[0m\u001b[0;34m\u001b[0m\u001b[0m\n\u001b[0;32m--> 587\u001b[0;31m             \u001b[0msource\u001b[0m \u001b[0;34m=\u001b[0m \u001b[0mopen\u001b[0m\u001b[0;34m(\u001b[0m\u001b[0msource\u001b[0m\u001b[0;34m,\u001b[0m \u001b[0;34m\"rb\"\u001b[0m\u001b[0;34m)\u001b[0m\u001b[0;34m\u001b[0m\u001b[0;34m\u001b[0m\u001b[0m\n\u001b[0m\u001b[1;32m    588\u001b[0m             \u001b[0mclose_source\u001b[0m \u001b[0;34m=\u001b[0m \u001b[0;32mTrue\u001b[0m\u001b[0;34m\u001b[0m\u001b[0;34m\u001b[0m\u001b[0m\n\u001b[1;32m    589\u001b[0m         \u001b[0;32mtry\u001b[0m\u001b[0;34m:\u001b[0m\u001b[0;34m\u001b[0m\u001b[0;34m\u001b[0m\u001b[0m\n",
            "\u001b[0;31mFileNotFoundError\u001b[0m: [Errno 2] No such file or directory: '/content/drive/Shareddrives/vid tokenization/asymov/kit-molan/dataset/03269_mmm.xml'"
          ]
        }
      ],
      "source": [
        "# %cd '/content/drive/Shareddrives/vid tokenization/asymov/packages/Complextext2animation/src'\n",
        "fp1 = Path(ospj(kitml_fol_p, '03269_mmm.xml'))\n",
        "fp2 = Path(ospj(kitml_fol_p, '00001_mmm.xml'))\n",
        "xyz_data1, skel_obj1, joints1, root_pos1, root_rot1 = Kk.mmm2quat(fp1)\n",
        "xyz_data2, skel_obj2, joints2, root_pos2, root_rot2 = Kk.mmm2quat(fp2)\n",
        "\n",
        "xyz_data1.shape, xyz_data2.shape"
      ]
    },
    {
      "cell_type": "code",
      "execution_count": null,
      "metadata": {
        "colab": {
          "base_uri": "https://localhost:8080/"
        },
        "id": "ja60ExjeNS_9",
        "outputId": "cbb1cf75-d4e7-460a-91ed-584c2417cadd"
      },
      "outputs": [
        {
          "data": {
            "text/plain": [
              "(530, 21, 3)"
            ]
          },
          "execution_count": 34,
          "metadata": {},
          "output_type": "execute_result"
        }
      ],
      "source": [
        "xyz_data3, skel_obj3, joints3, root_pos3, root_rot3 = Kk.mmm2quat(fp1)\n",
        "xyz_data3.shape"
      ]
    },
    {
      "cell_type": "code",
      "execution_count": null,
      "metadata": {
        "colab": {
          "base_uri": "https://localhost:8080/"
        },
        "id": "6HNtj0ScUTRs",
        "outputId": "28d74546-03d3-4ba5-8828-b9dfc3a2d6c2"
      },
      "outputs": [
        {
          "name": "stdout",
          "output_type": "stream",
          "text": [
            "/content/drive/Shareddrives/vid tokenization/asymov\n"
          ]
        }
      ],
      "source": [
        "%cd '/content/drive/Shareddrives/vid tokenization/asymov'"
      ]
    },
    {
      "cell_type": "code",
      "execution_count": null,
      "metadata": {
        "colab": {
          "base_uri": "https://localhost:8080/"
        },
        "id": "Lul-VTR0TOwF",
        "outputId": "33707142-0b95-4ecb-d992-3f32023cfbaa"
      },
      "outputs": [
        {
          "data": {
            "text/plain": [
              "<module 'viz' from '/content/drive/Shareddrives/vid tokenization/asymov/viz.py'>"
            ]
          },
          "execution_count": 13,
          "metadata": {},
          "output_type": "execute_result"
        }
      ],
      "source": [
        "import viz as viz\n",
        "reload(viz)\n",
        "# from viz import *"
      ]
    },
    {
      "cell_type": "code",
      "execution_count": null,
      "metadata": {
        "colab": {
          "base_uri": "https://localhost:8080/",
          "height": 700
        },
        "id": "rrNLdhUH6TZE",
        "outputId": "6ec9722c-1f3c-4beb-de01-abebece89d72"
      },
      "outputs": [
        {
          "name": "stdout",
          "output_type": "stream",
          "text": [
            "Deleting existing folder  /content/drive/Shareddrives/vid tokenization/kit_viz/00001\n"
          ]
        },
        {
          "name": "stderr",
          "output_type": "stream",
          "text": [
            "frames:   1%|          | 23/2104 [00:03<04:38,  7.47it/s]\n"
          ]
        },
        {
          "ename": "KeyboardInterrupt",
          "evalue": "ignored",
          "output_type": "error",
          "traceback": [
            "\u001b[0;31m---------------------------------------------------------------------------\u001b[0m",
            "\u001b[0;31mKeyboardInterrupt\u001b[0m                         Traceback (most recent call last)",
            "\u001b[0;32m<ipython-input-15-a3b8476f29e6>\u001b[0m in \u001b[0;36m<module>\u001b[0;34m()\u001b[0m\n\u001b[0;32m----> 1\u001b[0;31m \u001b[0mviz\u001b[0m\u001b[0;34m.\u001b[0m\u001b[0mviz_seq\u001b[0m\u001b[0;34m(\u001b[0m\u001b[0mxyz_data1\u001b[0m\u001b[0;34m,\u001b[0m \u001b[0;34m'/content/drive/Shareddrives/vid tokenization/kit_viz/00001'\u001b[0m\u001b[0;34m,\u001b[0m \u001b[0;34m'kitml'\u001b[0m\u001b[0;34m,\u001b[0m \u001b[0mdebug\u001b[0m\u001b[0;34m=\u001b[0m\u001b[0;32mFalse\u001b[0m\u001b[0;34m)\u001b[0m\u001b[0;34m\u001b[0m\u001b[0;34m\u001b[0m\u001b[0m\n\u001b[0m\u001b[1;32m      2\u001b[0m \u001b[0mviz\u001b[0m\u001b[0;34m.\u001b[0m\u001b[0mviz_seq\u001b[0m\u001b[0;34m(\u001b[0m\u001b[0mxyz_data2\u001b[0m\u001b[0;34m,\u001b[0m \u001b[0;34m'/content/drive/Shareddrives/vid tokenization/kit_viz/00002'\u001b[0m\u001b[0;34m,\u001b[0m \u001b[0;34m'kitml'\u001b[0m\u001b[0;34m,\u001b[0m \u001b[0mdebug\u001b[0m\u001b[0;34m=\u001b[0m\u001b[0;32mFalse\u001b[0m\u001b[0;34m)\u001b[0m\u001b[0;34m\u001b[0m\u001b[0;34m\u001b[0m\u001b[0m\n",
            "\u001b[0;32m/content/drive/Shareddrives/vid tokenization/asymov/viz.py\u001b[0m in \u001b[0;36mviz_seq\u001b[0;34m(seq, folder_p, sk_type, debug)\u001b[0m\n\u001b[1;32m    557\u001b[0m \u001b[0;34m\u001b[0m\u001b[0m\n\u001b[1;32m    558\u001b[0m     \u001b[0;31m# Dump frames into folder. Args: (data, radius, frames path)\u001b[0m\u001b[0;34m\u001b[0m\u001b[0;34m\u001b[0m\u001b[0;34m\u001b[0m\u001b[0m\n\u001b[0;32m--> 559\u001b[0;31m     \u001b[0mviz_skeleton\u001b[0m\u001b[0;34m(\u001b[0m\u001b[0mseq\u001b[0m\u001b[0;34m,\u001b[0m \u001b[0mfolder_p\u001b[0m\u001b[0;34m=\u001b[0m\u001b[0mfolder_p\u001b[0m\u001b[0;34m,\u001b[0m \u001b[0msk_type\u001b[0m\u001b[0;34m=\u001b[0m\u001b[0msk_type\u001b[0m\u001b[0;34m,\u001b[0m \u001b[0mradius\u001b[0m\u001b[0;34m=\u001b[0m\u001b[0;36m1.2\u001b[0m\u001b[0;34m,\u001b[0m \u001b[0mdebug\u001b[0m\u001b[0;34m=\u001b[0m\u001b[0mdebug\u001b[0m\u001b[0;34m)\u001b[0m\u001b[0;34m\u001b[0m\u001b[0;34m\u001b[0m\u001b[0m\n\u001b[0m\u001b[1;32m    560\u001b[0m     \u001b[0;32mif\u001b[0m \u001b[0msk_type\u001b[0m \u001b[0;34m==\u001b[0m \u001b[0;34m'kitml'\u001b[0m \u001b[0;32mor\u001b[0m \u001b[0msk_type\u001b[0m \u001b[0;34m==\u001b[0m \u001b[0;34m'coco17'\u001b[0m\u001b[0;34m:\u001b[0m\u001b[0;34m\u001b[0m\u001b[0;34m\u001b[0m\u001b[0m\n\u001b[1;32m    561\u001b[0m         \u001b[0mwrite_vid_from_imgs\u001b[0m\u001b[0;34m(\u001b[0m\u001b[0mfolder_p\u001b[0m\u001b[0;34m,\u001b[0m \u001b[0;36m60.0\u001b[0m\u001b[0;34m)\u001b[0m\u001b[0;34m\u001b[0m\u001b[0;34m\u001b[0m\u001b[0m\n",
            "\u001b[0;32m/content/drive/Shareddrives/vid tokenization/asymov/viz.py\u001b[0m in \u001b[0;36mviz_skeleton\u001b[0;34m(seq, folder_p, sk_type, radius, lcolor, rcolor, action, debug)\u001b[0m\n\u001b[1;32m    507\u001b[0m \u001b[0;34m\u001b[0m\u001b[0m\n\u001b[1;32m    508\u001b[0m         \u001b[0;31m# fig.savefig(osp.join(folder_p, 'frames', '{1}_{0}.jpg'.format(t, ii)))\u001b[0m\u001b[0;34m\u001b[0m\u001b[0;34m\u001b[0m\u001b[0;34m\u001b[0m\u001b[0m\n\u001b[0;32m--> 509\u001b[0;31m         \u001b[0mfig\u001b[0m\u001b[0;34m.\u001b[0m\u001b[0msavefig\u001b[0m\u001b[0;34m(\u001b[0m\u001b[0mosp\u001b[0m\u001b[0;34m.\u001b[0m\u001b[0mjoin\u001b[0m\u001b[0;34m(\u001b[0m\u001b[0mfolder_p\u001b[0m\u001b[0;34m,\u001b[0m \u001b[0;34m'frames'\u001b[0m\u001b[0;34m,\u001b[0m \u001b[0;34m'{0}.jpg'\u001b[0m\u001b[0;34m.\u001b[0m\u001b[0mformat\u001b[0m\u001b[0;34m(\u001b[0m\u001b[0mt\u001b[0m\u001b[0;34m)\u001b[0m\u001b[0;34m)\u001b[0m\u001b[0;34m)\u001b[0m\u001b[0;34m\u001b[0m\u001b[0;34m\u001b[0m\u001b[0m\n\u001b[0m\u001b[1;32m    510\u001b[0m         \u001b[0mplt\u001b[0m\u001b[0;34m.\u001b[0m\u001b[0mclose\u001b[0m\u001b[0;34m(\u001b[0m\u001b[0mfig\u001b[0m\u001b[0;34m)\u001b[0m\u001b[0;34m\u001b[0m\u001b[0;34m\u001b[0m\u001b[0m\n\u001b[1;32m    511\u001b[0m \u001b[0;34m\u001b[0m\u001b[0m\n",
            "\u001b[0;32m/usr/local/lib/python3.7/dist-packages/matplotlib/figure.py\u001b[0m in \u001b[0;36msavefig\u001b[0;34m(self, fname, transparent, **kwargs)\u001b[0m\n\u001b[1;32m   2201\u001b[0m             \u001b[0mself\u001b[0m\u001b[0;34m.\u001b[0m\u001b[0mpatch\u001b[0m\u001b[0;34m.\u001b[0m\u001b[0mset_visible\u001b[0m\u001b[0;34m(\u001b[0m\u001b[0mframeon\u001b[0m\u001b[0;34m)\u001b[0m\u001b[0;34m\u001b[0m\u001b[0;34m\u001b[0m\u001b[0m\n\u001b[1;32m   2202\u001b[0m \u001b[0;34m\u001b[0m\u001b[0m\n\u001b[0;32m-> 2203\u001b[0;31m         \u001b[0mself\u001b[0m\u001b[0;34m.\u001b[0m\u001b[0mcanvas\u001b[0m\u001b[0;34m.\u001b[0m\u001b[0mprint_figure\u001b[0m\u001b[0;34m(\u001b[0m\u001b[0mfname\u001b[0m\u001b[0;34m,\u001b[0m \u001b[0;34m**\u001b[0m\u001b[0mkwargs\u001b[0m\u001b[0;34m)\u001b[0m\u001b[0;34m\u001b[0m\u001b[0;34m\u001b[0m\u001b[0m\n\u001b[0m\u001b[1;32m   2204\u001b[0m \u001b[0;34m\u001b[0m\u001b[0m\n\u001b[1;32m   2205\u001b[0m         \u001b[0;32mif\u001b[0m \u001b[0mframeon\u001b[0m\u001b[0;34m:\u001b[0m\u001b[0;34m\u001b[0m\u001b[0;34m\u001b[0m\u001b[0m\n",
            "\u001b[0;32m/usr/local/lib/python3.7/dist-packages/matplotlib/backend_bases.py\u001b[0m in \u001b[0;36mprint_figure\u001b[0;34m(self, filename, dpi, facecolor, edgecolor, orientation, format, bbox_inches, **kwargs)\u001b[0m\n\u001b[1;32m   2124\u001b[0m                     \u001b[0morientation\u001b[0m\u001b[0;34m=\u001b[0m\u001b[0morientation\u001b[0m\u001b[0;34m,\u001b[0m\u001b[0;34m\u001b[0m\u001b[0;34m\u001b[0m\u001b[0m\n\u001b[1;32m   2125\u001b[0m                     \u001b[0mbbox_inches_restore\u001b[0m\u001b[0;34m=\u001b[0m\u001b[0m_bbox_inches_restore\u001b[0m\u001b[0;34m,\u001b[0m\u001b[0;34m\u001b[0m\u001b[0;34m\u001b[0m\u001b[0m\n\u001b[0;32m-> 2126\u001b[0;31m                     **kwargs)\n\u001b[0m\u001b[1;32m   2127\u001b[0m             \u001b[0;32mfinally\u001b[0m\u001b[0;34m:\u001b[0m\u001b[0;34m\u001b[0m\u001b[0;34m\u001b[0m\u001b[0m\n\u001b[1;32m   2128\u001b[0m                 \u001b[0;32mif\u001b[0m \u001b[0mbbox_inches\u001b[0m \u001b[0;32mand\u001b[0m \u001b[0mrestore_bbox\u001b[0m\u001b[0;34m:\u001b[0m\u001b[0;34m\u001b[0m\u001b[0;34m\u001b[0m\u001b[0m\n",
            "\u001b[0;32m/usr/local/lib/python3.7/dist-packages/matplotlib/cbook/deprecation.py\u001b[0m in \u001b[0;36mwrapper\u001b[0;34m(*args, **kwargs)\u001b[0m\n\u001b[1;32m    356\u001b[0m                 \u001b[0;34mf\"%(removal)s.  If any parameter follows {name!r}, they \"\u001b[0m\u001b[0;34m\u001b[0m\u001b[0;34m\u001b[0m\u001b[0m\n\u001b[1;32m    357\u001b[0m                 f\"should be pass as keyword, not positionally.\")\n\u001b[0;32m--> 358\u001b[0;31m         \u001b[0;32mreturn\u001b[0m \u001b[0mfunc\u001b[0m\u001b[0;34m(\u001b[0m\u001b[0;34m*\u001b[0m\u001b[0margs\u001b[0m\u001b[0;34m,\u001b[0m \u001b[0;34m**\u001b[0m\u001b[0mkwargs\u001b[0m\u001b[0;34m)\u001b[0m\u001b[0;34m\u001b[0m\u001b[0;34m\u001b[0m\u001b[0m\n\u001b[0m\u001b[1;32m    359\u001b[0m \u001b[0;34m\u001b[0m\u001b[0m\n\u001b[1;32m    360\u001b[0m     \u001b[0;32mreturn\u001b[0m \u001b[0mwrapper\u001b[0m\u001b[0;34m\u001b[0m\u001b[0;34m\u001b[0m\u001b[0m\n",
            "\u001b[0;32m/usr/local/lib/python3.7/dist-packages/matplotlib/backends/backend_agg.py\u001b[0m in \u001b[0;36mprint_jpg\u001b[0;34m(self, filename_or_obj, dryrun, pil_kwargs, *args, **kwargs)\u001b[0m\n\u001b[1;32m    582\u001b[0m                 \u001b[0mover\u001b[0m \u001b[0;34m*\u001b[0m\u001b[0mquality\u001b[0m\u001b[0;34m*\u001b[0m\u001b[0;34m,\u001b[0m \u001b[0;34m*\u001b[0m\u001b[0moptimize\u001b[0m\u001b[0;34m*\u001b[0m \u001b[0;32mand\u001b[0m \u001b[0;34m*\u001b[0m\u001b[0mprogressive\u001b[0m\u001b[0;34m*\u001b[0m\u001b[0;34m.\u001b[0m\u001b[0;34m\u001b[0m\u001b[0;34m\u001b[0m\u001b[0m\n\u001b[1;32m    583\u001b[0m             \"\"\"\n\u001b[0;32m--> 584\u001b[0;31m             \u001b[0mFigureCanvasAgg\u001b[0m\u001b[0;34m.\u001b[0m\u001b[0mdraw\u001b[0m\u001b[0;34m(\u001b[0m\u001b[0mself\u001b[0m\u001b[0;34m)\u001b[0m\u001b[0;34m\u001b[0m\u001b[0;34m\u001b[0m\u001b[0m\n\u001b[0m\u001b[1;32m    585\u001b[0m             \u001b[0;32mif\u001b[0m \u001b[0mdryrun\u001b[0m\u001b[0;34m:\u001b[0m\u001b[0;34m\u001b[0m\u001b[0;34m\u001b[0m\u001b[0m\n\u001b[1;32m    586\u001b[0m                 \u001b[0;32mreturn\u001b[0m\u001b[0;34m\u001b[0m\u001b[0;34m\u001b[0m\u001b[0m\n",
            "\u001b[0;32m/usr/local/lib/python3.7/dist-packages/matplotlib/backends/backend_agg.py\u001b[0m in \u001b[0;36mdraw\u001b[0;34m(self)\u001b[0m\n\u001b[1;32m    391\u001b[0m              (self.toolbar._wait_cursor_for_draw_cm() if self.toolbar\n\u001b[1;32m    392\u001b[0m               else nullcontext()):\n\u001b[0;32m--> 393\u001b[0;31m             \u001b[0mself\u001b[0m\u001b[0;34m.\u001b[0m\u001b[0mfigure\u001b[0m\u001b[0;34m.\u001b[0m\u001b[0mdraw\u001b[0m\u001b[0;34m(\u001b[0m\u001b[0mself\u001b[0m\u001b[0;34m.\u001b[0m\u001b[0mrenderer\u001b[0m\u001b[0;34m)\u001b[0m\u001b[0;34m\u001b[0m\u001b[0;34m\u001b[0m\u001b[0m\n\u001b[0m\u001b[1;32m    394\u001b[0m             \u001b[0;31m# A GUI class may be need to update a window using this draw, so\u001b[0m\u001b[0;34m\u001b[0m\u001b[0;34m\u001b[0m\u001b[0;34m\u001b[0m\u001b[0m\n\u001b[1;32m    395\u001b[0m             \u001b[0;31m# don't forget to call the superclass.\u001b[0m\u001b[0;34m\u001b[0m\u001b[0;34m\u001b[0m\u001b[0;34m\u001b[0m\u001b[0m\n",
            "\u001b[0;32m/usr/local/lib/python3.7/dist-packages/matplotlib/artist.py\u001b[0m in \u001b[0;36mdraw_wrapper\u001b[0;34m(artist, renderer, *args, **kwargs)\u001b[0m\n\u001b[1;32m     36\u001b[0m                 \u001b[0mrenderer\u001b[0m\u001b[0;34m.\u001b[0m\u001b[0mstart_filter\u001b[0m\u001b[0;34m(\u001b[0m\u001b[0;34m)\u001b[0m\u001b[0;34m\u001b[0m\u001b[0;34m\u001b[0m\u001b[0m\n\u001b[1;32m     37\u001b[0m \u001b[0;34m\u001b[0m\u001b[0m\n\u001b[0;32m---> 38\u001b[0;31m             \u001b[0;32mreturn\u001b[0m \u001b[0mdraw\u001b[0m\u001b[0;34m(\u001b[0m\u001b[0martist\u001b[0m\u001b[0;34m,\u001b[0m \u001b[0mrenderer\u001b[0m\u001b[0;34m,\u001b[0m \u001b[0;34m*\u001b[0m\u001b[0margs\u001b[0m\u001b[0;34m,\u001b[0m \u001b[0;34m**\u001b[0m\u001b[0mkwargs\u001b[0m\u001b[0;34m)\u001b[0m\u001b[0;34m\u001b[0m\u001b[0;34m\u001b[0m\u001b[0m\n\u001b[0m\u001b[1;32m     39\u001b[0m         \u001b[0;32mfinally\u001b[0m\u001b[0;34m:\u001b[0m\u001b[0;34m\u001b[0m\u001b[0;34m\u001b[0m\u001b[0m\n\u001b[1;32m     40\u001b[0m             \u001b[0;32mif\u001b[0m \u001b[0martist\u001b[0m\u001b[0;34m.\u001b[0m\u001b[0mget_agg_filter\u001b[0m\u001b[0;34m(\u001b[0m\u001b[0;34m)\u001b[0m \u001b[0;32mis\u001b[0m \u001b[0;32mnot\u001b[0m \u001b[0;32mNone\u001b[0m\u001b[0;34m:\u001b[0m\u001b[0;34m\u001b[0m\u001b[0;34m\u001b[0m\u001b[0m\n",
            "\u001b[0;32m/usr/local/lib/python3.7/dist-packages/matplotlib/figure.py\u001b[0m in \u001b[0;36mdraw\u001b[0;34m(self, renderer)\u001b[0m\n\u001b[1;32m   1734\u001b[0m             \u001b[0mself\u001b[0m\u001b[0;34m.\u001b[0m\u001b[0mpatch\u001b[0m\u001b[0;34m.\u001b[0m\u001b[0mdraw\u001b[0m\u001b[0;34m(\u001b[0m\u001b[0mrenderer\u001b[0m\u001b[0;34m)\u001b[0m\u001b[0;34m\u001b[0m\u001b[0;34m\u001b[0m\u001b[0m\n\u001b[1;32m   1735\u001b[0m             mimage._draw_list_compositing_images(\n\u001b[0;32m-> 1736\u001b[0;31m                 renderer, self, artists, self.suppressComposite)\n\u001b[0m\u001b[1;32m   1737\u001b[0m \u001b[0;34m\u001b[0m\u001b[0m\n\u001b[1;32m   1738\u001b[0m             \u001b[0mrenderer\u001b[0m\u001b[0;34m.\u001b[0m\u001b[0mclose_group\u001b[0m\u001b[0;34m(\u001b[0m\u001b[0;34m'figure'\u001b[0m\u001b[0;34m)\u001b[0m\u001b[0;34m\u001b[0m\u001b[0;34m\u001b[0m\u001b[0m\n",
            "\u001b[0;32m/usr/local/lib/python3.7/dist-packages/matplotlib/image.py\u001b[0m in \u001b[0;36m_draw_list_compositing_images\u001b[0;34m(renderer, parent, artists, suppress_composite)\u001b[0m\n\u001b[1;32m    135\u001b[0m     \u001b[0;32mif\u001b[0m \u001b[0mnot_composite\u001b[0m \u001b[0;32mor\u001b[0m \u001b[0;32mnot\u001b[0m \u001b[0mhas_images\u001b[0m\u001b[0;34m:\u001b[0m\u001b[0;34m\u001b[0m\u001b[0;34m\u001b[0m\u001b[0m\n\u001b[1;32m    136\u001b[0m         \u001b[0;32mfor\u001b[0m \u001b[0ma\u001b[0m \u001b[0;32min\u001b[0m \u001b[0martists\u001b[0m\u001b[0;34m:\u001b[0m\u001b[0;34m\u001b[0m\u001b[0;34m\u001b[0m\u001b[0m\n\u001b[0;32m--> 137\u001b[0;31m             \u001b[0ma\u001b[0m\u001b[0;34m.\u001b[0m\u001b[0mdraw\u001b[0m\u001b[0;34m(\u001b[0m\u001b[0mrenderer\u001b[0m\u001b[0;34m)\u001b[0m\u001b[0;34m\u001b[0m\u001b[0;34m\u001b[0m\u001b[0m\n\u001b[0m\u001b[1;32m    138\u001b[0m     \u001b[0;32melse\u001b[0m\u001b[0;34m:\u001b[0m\u001b[0;34m\u001b[0m\u001b[0;34m\u001b[0m\u001b[0m\n\u001b[1;32m    139\u001b[0m         \u001b[0;31m# Composite any adjacent images together\u001b[0m\u001b[0;34m\u001b[0m\u001b[0;34m\u001b[0m\u001b[0;34m\u001b[0m\u001b[0m\n",
            "\u001b[0;32m/usr/local/lib/python3.7/dist-packages/matplotlib/artist.py\u001b[0m in \u001b[0;36mdraw_wrapper\u001b[0;34m(artist, renderer, *args, **kwargs)\u001b[0m\n\u001b[1;32m     36\u001b[0m                 \u001b[0mrenderer\u001b[0m\u001b[0;34m.\u001b[0m\u001b[0mstart_filter\u001b[0m\u001b[0;34m(\u001b[0m\u001b[0;34m)\u001b[0m\u001b[0;34m\u001b[0m\u001b[0;34m\u001b[0m\u001b[0m\n\u001b[1;32m     37\u001b[0m \u001b[0;34m\u001b[0m\u001b[0m\n\u001b[0;32m---> 38\u001b[0;31m             \u001b[0;32mreturn\u001b[0m \u001b[0mdraw\u001b[0m\u001b[0;34m(\u001b[0m\u001b[0martist\u001b[0m\u001b[0;34m,\u001b[0m \u001b[0mrenderer\u001b[0m\u001b[0;34m,\u001b[0m \u001b[0;34m*\u001b[0m\u001b[0margs\u001b[0m\u001b[0;34m,\u001b[0m \u001b[0;34m**\u001b[0m\u001b[0mkwargs\u001b[0m\u001b[0;34m)\u001b[0m\u001b[0;34m\u001b[0m\u001b[0;34m\u001b[0m\u001b[0m\n\u001b[0m\u001b[1;32m     39\u001b[0m         \u001b[0;32mfinally\u001b[0m\u001b[0;34m:\u001b[0m\u001b[0;34m\u001b[0m\u001b[0;34m\u001b[0m\u001b[0m\n\u001b[1;32m     40\u001b[0m             \u001b[0;32mif\u001b[0m \u001b[0martist\u001b[0m\u001b[0;34m.\u001b[0m\u001b[0mget_agg_filter\u001b[0m\u001b[0;34m(\u001b[0m\u001b[0;34m)\u001b[0m \u001b[0;32mis\u001b[0m \u001b[0;32mnot\u001b[0m \u001b[0;32mNone\u001b[0m\u001b[0;34m:\u001b[0m\u001b[0;34m\u001b[0m\u001b[0;34m\u001b[0m\u001b[0m\n",
            "\u001b[0;32m/usr/local/lib/python3.7/dist-packages/mpl_toolkits/mplot3d/axes3d.py\u001b[0m in \u001b[0;36mdraw\u001b[0;34m(self, renderer)\u001b[0m\n\u001b[1;32m    308\u001b[0m \u001b[0;34m\u001b[0m\u001b[0m\n\u001b[1;32m    309\u001b[0m         \u001b[0;31m# Then rest\u001b[0m\u001b[0;34m\u001b[0m\u001b[0;34m\u001b[0m\u001b[0;34m\u001b[0m\u001b[0m\n\u001b[0;32m--> 310\u001b[0;31m         \u001b[0msuper\u001b[0m\u001b[0;34m(\u001b[0m\u001b[0;34m)\u001b[0m\u001b[0;34m.\u001b[0m\u001b[0mdraw\u001b[0m\u001b[0;34m(\u001b[0m\u001b[0mrenderer\u001b[0m\u001b[0;34m)\u001b[0m\u001b[0;34m\u001b[0m\u001b[0;34m\u001b[0m\u001b[0m\n\u001b[0m\u001b[1;32m    311\u001b[0m \u001b[0;34m\u001b[0m\u001b[0m\n\u001b[1;32m    312\u001b[0m     \u001b[0;32mdef\u001b[0m \u001b[0mget_axis_position\u001b[0m\u001b[0;34m(\u001b[0m\u001b[0mself\u001b[0m\u001b[0;34m)\u001b[0m\u001b[0;34m:\u001b[0m\u001b[0;34m\u001b[0m\u001b[0;34m\u001b[0m\u001b[0m\n",
            "\u001b[0;32m/usr/local/lib/python3.7/dist-packages/matplotlib/artist.py\u001b[0m in \u001b[0;36mdraw_wrapper\u001b[0;34m(artist, renderer, *args, **kwargs)\u001b[0m\n\u001b[1;32m     36\u001b[0m                 \u001b[0mrenderer\u001b[0m\u001b[0;34m.\u001b[0m\u001b[0mstart_filter\u001b[0m\u001b[0;34m(\u001b[0m\u001b[0;34m)\u001b[0m\u001b[0;34m\u001b[0m\u001b[0;34m\u001b[0m\u001b[0m\n\u001b[1;32m     37\u001b[0m \u001b[0;34m\u001b[0m\u001b[0m\n\u001b[0;32m---> 38\u001b[0;31m             \u001b[0;32mreturn\u001b[0m \u001b[0mdraw\u001b[0m\u001b[0;34m(\u001b[0m\u001b[0martist\u001b[0m\u001b[0;34m,\u001b[0m \u001b[0mrenderer\u001b[0m\u001b[0;34m,\u001b[0m \u001b[0;34m*\u001b[0m\u001b[0margs\u001b[0m\u001b[0;34m,\u001b[0m \u001b[0;34m**\u001b[0m\u001b[0mkwargs\u001b[0m\u001b[0;34m)\u001b[0m\u001b[0;34m\u001b[0m\u001b[0;34m\u001b[0m\u001b[0m\n\u001b[0m\u001b[1;32m     39\u001b[0m         \u001b[0;32mfinally\u001b[0m\u001b[0;34m:\u001b[0m\u001b[0;34m\u001b[0m\u001b[0;34m\u001b[0m\u001b[0m\n\u001b[1;32m     40\u001b[0m             \u001b[0;32mif\u001b[0m \u001b[0martist\u001b[0m\u001b[0;34m.\u001b[0m\u001b[0mget_agg_filter\u001b[0m\u001b[0;34m(\u001b[0m\u001b[0;34m)\u001b[0m \u001b[0;32mis\u001b[0m \u001b[0;32mnot\u001b[0m \u001b[0;32mNone\u001b[0m\u001b[0;34m:\u001b[0m\u001b[0;34m\u001b[0m\u001b[0;34m\u001b[0m\u001b[0m\n",
            "\u001b[0;32m/usr/local/lib/python3.7/dist-packages/matplotlib/axes/_base.py\u001b[0m in \u001b[0;36mdraw\u001b[0;34m(self, renderer, inframe)\u001b[0m\n\u001b[1;32m   2628\u001b[0m             \u001b[0mrenderer\u001b[0m\u001b[0;34m.\u001b[0m\u001b[0mstop_rasterizing\u001b[0m\u001b[0;34m(\u001b[0m\u001b[0;34m)\u001b[0m\u001b[0;34m\u001b[0m\u001b[0;34m\u001b[0m\u001b[0m\n\u001b[1;32m   2629\u001b[0m \u001b[0;34m\u001b[0m\u001b[0m\n\u001b[0;32m-> 2630\u001b[0;31m         \u001b[0mmimage\u001b[0m\u001b[0;34m.\u001b[0m\u001b[0m_draw_list_compositing_images\u001b[0m\u001b[0;34m(\u001b[0m\u001b[0mrenderer\u001b[0m\u001b[0;34m,\u001b[0m \u001b[0mself\u001b[0m\u001b[0;34m,\u001b[0m \u001b[0martists\u001b[0m\u001b[0;34m)\u001b[0m\u001b[0;34m\u001b[0m\u001b[0;34m\u001b[0m\u001b[0m\n\u001b[0m\u001b[1;32m   2631\u001b[0m \u001b[0;34m\u001b[0m\u001b[0m\n\u001b[1;32m   2632\u001b[0m         \u001b[0mrenderer\u001b[0m\u001b[0;34m.\u001b[0m\u001b[0mclose_group\u001b[0m\u001b[0;34m(\u001b[0m\u001b[0;34m'axes'\u001b[0m\u001b[0;34m)\u001b[0m\u001b[0;34m\u001b[0m\u001b[0;34m\u001b[0m\u001b[0m\n",
            "\u001b[0;32m/usr/local/lib/python3.7/dist-packages/matplotlib/image.py\u001b[0m in \u001b[0;36m_draw_list_compositing_images\u001b[0;34m(renderer, parent, artists, suppress_composite)\u001b[0m\n\u001b[1;32m    135\u001b[0m     \u001b[0;32mif\u001b[0m \u001b[0mnot_composite\u001b[0m \u001b[0;32mor\u001b[0m \u001b[0;32mnot\u001b[0m \u001b[0mhas_images\u001b[0m\u001b[0;34m:\u001b[0m\u001b[0;34m\u001b[0m\u001b[0;34m\u001b[0m\u001b[0m\n\u001b[1;32m    136\u001b[0m         \u001b[0;32mfor\u001b[0m \u001b[0ma\u001b[0m \u001b[0;32min\u001b[0m \u001b[0martists\u001b[0m\u001b[0;34m:\u001b[0m\u001b[0;34m\u001b[0m\u001b[0;34m\u001b[0m\u001b[0m\n\u001b[0;32m--> 137\u001b[0;31m             \u001b[0ma\u001b[0m\u001b[0;34m.\u001b[0m\u001b[0mdraw\u001b[0m\u001b[0;34m(\u001b[0m\u001b[0mrenderer\u001b[0m\u001b[0;34m)\u001b[0m\u001b[0;34m\u001b[0m\u001b[0;34m\u001b[0m\u001b[0m\n\u001b[0m\u001b[1;32m    138\u001b[0m     \u001b[0;32melse\u001b[0m\u001b[0;34m:\u001b[0m\u001b[0;34m\u001b[0m\u001b[0;34m\u001b[0m\u001b[0m\n\u001b[1;32m    139\u001b[0m         \u001b[0;31m# Composite any adjacent images together\u001b[0m\u001b[0;34m\u001b[0m\u001b[0;34m\u001b[0m\u001b[0;34m\u001b[0m\u001b[0m\n",
            "\u001b[0;32m/usr/local/lib/python3.7/dist-packages/matplotlib/artist.py\u001b[0m in \u001b[0;36mdraw_wrapper\u001b[0;34m(artist, renderer, *args, **kwargs)\u001b[0m\n\u001b[1;32m     36\u001b[0m                 \u001b[0mrenderer\u001b[0m\u001b[0;34m.\u001b[0m\u001b[0mstart_filter\u001b[0m\u001b[0;34m(\u001b[0m\u001b[0;34m)\u001b[0m\u001b[0;34m\u001b[0m\u001b[0;34m\u001b[0m\u001b[0m\n\u001b[1;32m     37\u001b[0m \u001b[0;34m\u001b[0m\u001b[0m\n\u001b[0;32m---> 38\u001b[0;31m             \u001b[0;32mreturn\u001b[0m \u001b[0mdraw\u001b[0m\u001b[0;34m(\u001b[0m\u001b[0martist\u001b[0m\u001b[0;34m,\u001b[0m \u001b[0mrenderer\u001b[0m\u001b[0;34m,\u001b[0m \u001b[0;34m*\u001b[0m\u001b[0margs\u001b[0m\u001b[0;34m,\u001b[0m \u001b[0;34m**\u001b[0m\u001b[0mkwargs\u001b[0m\u001b[0;34m)\u001b[0m\u001b[0;34m\u001b[0m\u001b[0;34m\u001b[0m\u001b[0m\n\u001b[0m\u001b[1;32m     39\u001b[0m         \u001b[0;32mfinally\u001b[0m\u001b[0;34m:\u001b[0m\u001b[0;34m\u001b[0m\u001b[0;34m\u001b[0m\u001b[0m\n\u001b[1;32m     40\u001b[0m             \u001b[0;32mif\u001b[0m \u001b[0martist\u001b[0m\u001b[0;34m.\u001b[0m\u001b[0mget_agg_filter\u001b[0m\u001b[0;34m(\u001b[0m\u001b[0;34m)\u001b[0m \u001b[0;32mis\u001b[0m \u001b[0;32mnot\u001b[0m \u001b[0;32mNone\u001b[0m\u001b[0;34m:\u001b[0m\u001b[0;34m\u001b[0m\u001b[0;34m\u001b[0m\u001b[0m\n",
            "\u001b[0;32m/usr/local/lib/python3.7/dist-packages/mpl_toolkits/mplot3d/art3d.py\u001b[0m in \u001b[0;36mdraw\u001b[0;34m(self, renderer)\u001b[0m\n\u001b[1;32m    202\u001b[0m         \u001b[0mxs\u001b[0m\u001b[0;34m,\u001b[0m \u001b[0mys\u001b[0m\u001b[0;34m,\u001b[0m \u001b[0mzs\u001b[0m \u001b[0;34m=\u001b[0m \u001b[0mproj3d\u001b[0m\u001b[0;34m.\u001b[0m\u001b[0mproj_transform\u001b[0m\u001b[0;34m(\u001b[0m\u001b[0mxs3d\u001b[0m\u001b[0;34m,\u001b[0m \u001b[0mys3d\u001b[0m\u001b[0;34m,\u001b[0m \u001b[0mzs3d\u001b[0m\u001b[0;34m,\u001b[0m \u001b[0mrenderer\u001b[0m\u001b[0;34m.\u001b[0m\u001b[0mM\u001b[0m\u001b[0;34m)\u001b[0m\u001b[0;34m\u001b[0m\u001b[0;34m\u001b[0m\u001b[0m\n\u001b[1;32m    203\u001b[0m         \u001b[0mself\u001b[0m\u001b[0;34m.\u001b[0m\u001b[0mset_data\u001b[0m\u001b[0;34m(\u001b[0m\u001b[0mxs\u001b[0m\u001b[0;34m,\u001b[0m \u001b[0mys\u001b[0m\u001b[0;34m)\u001b[0m\u001b[0;34m\u001b[0m\u001b[0;34m\u001b[0m\u001b[0m\n\u001b[0;32m--> 204\u001b[0;31m         \u001b[0mlines\u001b[0m\u001b[0;34m.\u001b[0m\u001b[0mLine2D\u001b[0m\u001b[0;34m.\u001b[0m\u001b[0mdraw\u001b[0m\u001b[0;34m(\u001b[0m\u001b[0mself\u001b[0m\u001b[0;34m,\u001b[0m \u001b[0mrenderer\u001b[0m\u001b[0;34m)\u001b[0m\u001b[0;34m\u001b[0m\u001b[0;34m\u001b[0m\u001b[0m\n\u001b[0m\u001b[1;32m    205\u001b[0m         \u001b[0mself\u001b[0m\u001b[0;34m.\u001b[0m\u001b[0mstale\u001b[0m \u001b[0;34m=\u001b[0m \u001b[0;32mFalse\u001b[0m\u001b[0;34m\u001b[0m\u001b[0;34m\u001b[0m\u001b[0m\n\u001b[1;32m    206\u001b[0m \u001b[0;34m\u001b[0m\u001b[0m\n",
            "\u001b[0;32m/usr/local/lib/python3.7/dist-packages/matplotlib/artist.py\u001b[0m in \u001b[0;36mdraw_wrapper\u001b[0;34m(artist, renderer, *args, **kwargs)\u001b[0m\n\u001b[1;32m     36\u001b[0m                 \u001b[0mrenderer\u001b[0m\u001b[0;34m.\u001b[0m\u001b[0mstart_filter\u001b[0m\u001b[0;34m(\u001b[0m\u001b[0;34m)\u001b[0m\u001b[0;34m\u001b[0m\u001b[0;34m\u001b[0m\u001b[0m\n\u001b[1;32m     37\u001b[0m \u001b[0;34m\u001b[0m\u001b[0m\n\u001b[0;32m---> 38\u001b[0;31m             \u001b[0;32mreturn\u001b[0m \u001b[0mdraw\u001b[0m\u001b[0;34m(\u001b[0m\u001b[0martist\u001b[0m\u001b[0;34m,\u001b[0m \u001b[0mrenderer\u001b[0m\u001b[0;34m,\u001b[0m \u001b[0;34m*\u001b[0m\u001b[0margs\u001b[0m\u001b[0;34m,\u001b[0m \u001b[0;34m**\u001b[0m\u001b[0mkwargs\u001b[0m\u001b[0;34m)\u001b[0m\u001b[0;34m\u001b[0m\u001b[0;34m\u001b[0m\u001b[0m\n\u001b[0m\u001b[1;32m     39\u001b[0m         \u001b[0;32mfinally\u001b[0m\u001b[0;34m:\u001b[0m\u001b[0;34m\u001b[0m\u001b[0;34m\u001b[0m\u001b[0m\n\u001b[1;32m     40\u001b[0m             \u001b[0;32mif\u001b[0m \u001b[0martist\u001b[0m\u001b[0;34m.\u001b[0m\u001b[0mget_agg_filter\u001b[0m\u001b[0;34m(\u001b[0m\u001b[0;34m)\u001b[0m \u001b[0;32mis\u001b[0m \u001b[0;32mnot\u001b[0m \u001b[0;32mNone\u001b[0m\u001b[0;34m:\u001b[0m\u001b[0;34m\u001b[0m\u001b[0;34m\u001b[0m\u001b[0m\n",
            "\u001b[0;32m/usr/local/lib/python3.7/dist-packages/matplotlib/lines.py\u001b[0m in \u001b[0;36mdraw\u001b[0;34m(self, renderer)\u001b[0m\n\u001b[1;32m    801\u001b[0m                 \u001b[0mgc\u001b[0m\u001b[0;34m.\u001b[0m\u001b[0mset_dashes\u001b[0m\u001b[0;34m(\u001b[0m\u001b[0mself\u001b[0m\u001b[0;34m.\u001b[0m\u001b[0m_dashOffset\u001b[0m\u001b[0;34m,\u001b[0m \u001b[0mself\u001b[0m\u001b[0;34m.\u001b[0m\u001b[0m_dashSeq\u001b[0m\u001b[0;34m)\u001b[0m\u001b[0;34m\u001b[0m\u001b[0;34m\u001b[0m\u001b[0m\n\u001b[1;32m    802\u001b[0m                 \u001b[0mrenderer\u001b[0m\u001b[0;34m.\u001b[0m\u001b[0mdraw_path\u001b[0m\u001b[0;34m(\u001b[0m\u001b[0mgc\u001b[0m\u001b[0;34m,\u001b[0m \u001b[0mtpath\u001b[0m\u001b[0;34m,\u001b[0m \u001b[0maffine\u001b[0m\u001b[0;34m.\u001b[0m\u001b[0mfrozen\u001b[0m\u001b[0;34m(\u001b[0m\u001b[0;34m)\u001b[0m\u001b[0;34m)\u001b[0m\u001b[0;34m\u001b[0m\u001b[0;34m\u001b[0m\u001b[0m\n\u001b[0;32m--> 803\u001b[0;31m                 \u001b[0mgc\u001b[0m\u001b[0;34m.\u001b[0m\u001b[0mrestore\u001b[0m\u001b[0;34m(\u001b[0m\u001b[0;34m)\u001b[0m\u001b[0;34m\u001b[0m\u001b[0;34m\u001b[0m\u001b[0m\n\u001b[0m\u001b[1;32m    804\u001b[0m \u001b[0;34m\u001b[0m\u001b[0m\n\u001b[1;32m    805\u001b[0m         \u001b[0;32mif\u001b[0m \u001b[0mself\u001b[0m\u001b[0;34m.\u001b[0m\u001b[0m_marker\u001b[0m \u001b[0;32mand\u001b[0m \u001b[0mself\u001b[0m\u001b[0;34m.\u001b[0m\u001b[0m_markersize\u001b[0m \u001b[0;34m>\u001b[0m \u001b[0;36m0\u001b[0m\u001b[0;34m:\u001b[0m\u001b[0;34m\u001b[0m\u001b[0;34m\u001b[0m\u001b[0m\n",
            "\u001b[0;31mKeyboardInterrupt\u001b[0m: "
          ]
        },
        {
          "data": {
            "image/png": "[encoded data removed]",
            "text/plain": [
              "<Figure size 360x360 with 1 Axes>"
            ]
          },
          "metadata": {
            "needs_background": "light"
          },
          "output_type": "display_data"
        }
      ],
      "source": [
        "viz.viz_seq(xyz_data1, '/content/drive/Shareddrives/vid tokenization/kit_viz/00001', 'kitml', debug=False)\n",
        "viz.viz_seq(xyz_data2, '/content/drive/Shareddrives/vid tokenization/kit_viz/00002', 'kitml', debug=False)"
      ]
    },
    {
      "cell_type": "markdown",
      "metadata": {
        "id": "hyc9DtVG1Aga"
      },
      "source": [
        "##data.h5"
      ]
    },
    {
      "cell_type": "code",
      "execution_count": null,
      "metadata": {
        "colab": {
          "base_uri": "https://localhost:8080/",
          "height": 852
        },
        "id": "jnUMiB3Uerxw",
        "outputId": "14410d16-ac90-475d-daf1-5b2db0024491"
      },
      "outputs": [
        {
          "data": {
            "text/html": [
              "\n",
              "  <div id=\"df-c31b49d8-f7b9-4f4e-ab28-4bd9a38a576d\">\n",
              "    <div class=\"colab-df-container\">\n",
              "      <div>\n",
              "<style scoped>\n",
              "    .dataframe tbody tr th:only-of-type {\n",
              "        vertical-align: middle;\n",
              "    }\n",
              "\n",
              "    .dataframe tbody tr th {\n",
              "        vertical-align: top;\n",
              "    }\n",
              "\n",
              "    .dataframe thead th {\n",
              "        text-align: right;\n",
              "    }\n",
              "</style>\n",
              "<table border=\"1\" class=\"dataframe\">\n",
              "  <thead>\n",
              "    <tr style=\"text-align: right;\">\n",
              "      <th></th>\n",
              "      <th>euler</th>\n",
              "      <th>descriptions</th>\n",
              "      <th>quaternion</th>\n",
              "      <th>axis-angle</th>\n",
              "      <th>fke</th>\n",
              "      <th>rifke</th>\n",
              "      <th>perplexity</th>\n",
              "      <th>symbol</th>\n",
              "    </tr>\n",
              "  </thead>\n",
              "  <tbody>\n",
              "    <tr>\n",
              "      <th>0</th>\n",
              "      <td>./kit-molan/dataset/00001_mmm.xml</td>\n",
              "      <td>A person is walking forwards.</td>\n",
              "      <td>./kit-molan/dataset/00001_quat.csv</td>\n",
              "      <td>./kit-molan/dataset/00001_ax.csv</td>\n",
              "      <td>./kit-molan/dataset/00001_fke.csv</td>\n",
              "      <td>./kit-molan/dataset/00001_rifke.csv</td>\n",
              "      <td>4.8936</td>\n",
              "      <td>/ps/project/conditional_action_gen/asymov/kit-...</td>\n",
              "    </tr>\n",
              "    <tr>\n",
              "      <th>1</th>\n",
              "      <td>./kit-molan/dataset/00002_mmm.xml</td>\n",
              "      <td>A person walks 4 steps forward.</td>\n",
              "      <td>./kit-molan/dataset/00002_quat.csv</td>\n",
              "      <td>./kit-molan/dataset/00002_ax.csv</td>\n",
              "      <td>./kit-molan/dataset/00002_fke.csv</td>\n",
              "      <td>./kit-molan/dataset/00002_rifke.csv</td>\n",
              "      <td>2.9028</td>\n",
              "      <td>/ps/project/conditional_action_gen/asymov/kit-...</td>\n",
              "    </tr>\n",
              "    <tr>\n",
              "      <th>2</th>\n",
              "      <td>./kit-molan/dataset/00003_mmm.xml</td>\n",
              "      <td>A human walking</td>\n",
              "      <td>./kit-molan/dataset/00003_quat.csv</td>\n",
              "      <td>./kit-molan/dataset/00003_ax.csv</td>\n",
              "      <td>./kit-molan/dataset/00003_fke.csv</td>\n",
              "      <td>./kit-molan/dataset/00003_rifke.csv</td>\n",
              "      <td>11.4383</td>\n",
              "      <td>/ps/project/conditional_action_gen/asymov/kit-...</td>\n",
              "    </tr>\n",
              "    <tr>\n",
              "      <th>3</th>\n",
              "      <td>./kit-molan/dataset/00004_mmm.xml</td>\n",
              "      <td>A person walks forward at medium speed.</td>\n",
              "      <td>./kit-molan/dataset/00004_quat.csv</td>\n",
              "      <td>./kit-molan/dataset/00004_ax.csv</td>\n",
              "      <td>./kit-molan/dataset/00004_fke.csv</td>\n",
              "      <td>./kit-molan/dataset/00004_rifke.csv</td>\n",
              "      <td>2.84528</td>\n",
              "      <td>/ps/project/conditional_action_gen/asymov/kit-...</td>\n",
              "    </tr>\n",
              "    <tr>\n",
              "      <th>4</th>\n",
              "      <td>./kit-molan/dataset/00004_mmm.xml</td>\n",
              "      <td>human slowly goes forward</td>\n",
              "      <td>./kit-molan/dataset/00004_quat.csv</td>\n",
              "      <td>./kit-molan/dataset/00004_ax.csv</td>\n",
              "      <td>./kit-molan/dataset/00004_fke.csv</td>\n",
              "      <td>./kit-molan/dataset/00004_rifke.csv</td>\n",
              "      <td>7.81427</td>\n",
              "      <td>/ps/project/conditional_action_gen/asymov/kit-...</td>\n",
              "    </tr>\n",
              "    <tr>\n",
              "      <th>...</th>\n",
              "      <td>...</td>\n",
              "      <td>...</td>\n",
              "      <td>...</td>\n",
              "      <td>...</td>\n",
              "      <td>...</td>\n",
              "      <td>...</td>\n",
              "      <td>...</td>\n",
              "      <td>...</td>\n",
              "    </tr>\n",
              "    <tr>\n",
              "      <th>7247</th>\n",
              "      <td>./kit-molan/dataset/03962_mmm.xml</td>\n",
              "      <td>A person runs straight forward.</td>\n",
              "      <td>./kit-molan/dataset/03962_quat.csv</td>\n",
              "      <td>./kit-molan/dataset/03962_ax.csv</td>\n",
              "      <td>./kit-molan/dataset/03962_fke.csv</td>\n",
              "      <td>./kit-molan/dataset/03962_rifke.csv</td>\n",
              "      <td>6.23501</td>\n",
              "      <td>/ps/project/conditional_action_gen/asymov/kit-...</td>\n",
              "    </tr>\n",
              "    <tr>\n",
              "      <th>7248</th>\n",
              "      <td>./kit-molan/dataset/03963_mmm.xml</td>\n",
              "      <td></td>\n",
              "      <td>./kit-molan/dataset/03963_quat.csv</td>\n",
              "      <td>./kit-molan/dataset/03963_ax.csv</td>\n",
              "      <td>./kit-molan/dataset/03963_fke.csv</td>\n",
              "      <td>./kit-molan/dataset/03963_rifke.csv</td>\n",
              "      <td></td>\n",
              "      <td>/ps/project/conditional_action_gen/asymov/kit-...</td>\n",
              "    </tr>\n",
              "    <tr>\n",
              "      <th>7249</th>\n",
              "      <td>./kit-molan/dataset/03964_mmm.xml</td>\n",
              "      <td>A person is sprinting up and down a small hill...</td>\n",
              "      <td>./kit-molan/dataset/03964_quat.csv</td>\n",
              "      <td>./kit-molan/dataset/03964_ax.csv</td>\n",
              "      <td>./kit-molan/dataset/03964_fke.csv</td>\n",
              "      <td>./kit-molan/dataset/03964_rifke.csv</td>\n",
              "      <td>10.7536</td>\n",
              "      <td>/ps/project/conditional_action_gen/asymov/kit-...</td>\n",
              "    </tr>\n",
              "    <tr>\n",
              "      <th>7250</th>\n",
              "      <td>./kit-molan/dataset/03965_mmm.xml</td>\n",
              "      <td>A person runs forward, briefly touches the gro...</td>\n",
              "      <td>./kit-molan/dataset/03965_quat.csv</td>\n",
              "      <td>./kit-molan/dataset/03965_ax.csv</td>\n",
              "      <td>./kit-molan/dataset/03965_fke.csv</td>\n",
              "      <td>./kit-molan/dataset/03965_rifke.csv</td>\n",
              "      <td>13.0177</td>\n",
              "      <td>/ps/project/conditional_action_gen/asymov/kit-...</td>\n",
              "    </tr>\n",
              "    <tr>\n",
              "      <th>7251</th>\n",
              "      <td>./kit-molan/dataset/03966_mmm.xml</td>\n",
              "      <td>a person stumbles on the ground but gets up an...</td>\n",
              "      <td>./kit-molan/dataset/03966_quat.csv</td>\n",
              "      <td>./kit-molan/dataset/03966_ax.csv</td>\n",
              "      <td>./kit-molan/dataset/03966_fke.csv</td>\n",
              "      <td>./kit-molan/dataset/03966_rifke.csv</td>\n",
              "      <td>22.5325</td>\n",
              "      <td>/ps/project/conditional_action_gen/asymov/kit-...</td>\n",
              "    </tr>\n",
              "  </tbody>\n",
              "</table>\n",
              "<p>7252 rows × 8 columns</p>\n",
              "</div>\n",
              "      <button class=\"colab-df-convert\" onclick=\"convertToInteractive('df-c31b49d8-f7b9-4f4e-ab28-4bd9a38a576d')\"\n",
              "              title=\"Convert this dataframe to an interactive table.\"\n",
              "              style=\"display:none;\">\n",
              "        \n",
              "  <svg xmlns=\"http://www.w3.org/2000/svg\" height=\"24px\"viewBox=\"0 0 24 24\"\n",
              "       width=\"24px\">\n",
              "    <path d=\"M0 0h24v24H0V0z\" fill=\"none\"/>\n",
              "    <path d=\"M18.56 5.44l.94 2.06.94-2.06 2.06-.94-2.06-.94-.94-2.06-.94 2.06-2.06.94zm-11 1L8.5 8.5l.94-2.06 2.06-.94-2.06-.94L8.5 2.5l-.94 2.06-2.06.94zm10 10l.94 2.06.94-2.06 2.06-.94-2.06-.94-.94-2.06-.94 2.06-2.06.94z\"/><path d=\"M17.41 7.96l-1.37-1.37c-.4-.4-.92-.59-1.43-.59-.52 0-1.04.2-1.43.59L10.3 9.45l-7.72 7.72c-.78.78-.78 2.05 0 2.83L4 21.41c.39.39.9.59 1.41.59.51 0 1.02-.2 1.41-.59l7.78-7.78 2.81-2.81c.8-.78.8-2.07 0-2.86zM5.41 20L4 18.59l7.72-7.72 1.47 1.35L5.41 20z\"/>\n",
              "  </svg>\n",
              "      </button>\n",
              "      \n",
              "  <style>\n",
              "    .colab-df-container {\n",
              "      display:flex;\n",
              "      flex-wrap:wrap;\n",
              "      gap: 12px;\n",
              "    }\n",
              "\n",
              "    .colab-df-convert {\n",
              "      background-color: #E8F0FE;\n",
              "      border: none;\n",
              "      border-radius: 50%;\n",
              "      cursor: pointer;\n",
              "      display: none;\n",
              "      fill: #1967D2;\n",
              "      height: 32px;\n",
              "      padding: 0 0 0 0;\n",
              "      width: 32px;\n",
              "    }\n",
              "\n",
              "    .colab-df-convert:hover {\n",
              "      background-color: #E2EBFA;\n",
              "      box-shadow: 0px 1px 2px rgba(60, 64, 67, 0.3), 0px 1px 3px 1px rgba(60, 64, 67, 0.15);\n",
              "      fill: #174EA6;\n",
              "    }\n",
              "\n",
              "    [theme=dark] .colab-df-convert {\n",
              "      background-color: #3B4455;\n",
              "      fill: #D2E3FC;\n",
              "    }\n",
              "\n",
              "    [theme=dark] .colab-df-convert:hover {\n",
              "      background-color: #434B5C;\n",
              "      box-shadow: 0px 1px 3px 1px rgba(0, 0, 0, 0.15);\n",
              "      filter: drop-shadow(0px 1px 2px rgba(0, 0, 0, 0.3));\n",
              "      fill: #FFFFFF;\n",
              "    }\n",
              "  </style>\n",
              "\n",
              "      <script>\n",
              "        const buttonEl =\n",
              "          document.querySelector('#df-c31b49d8-f7b9-4f4e-ab28-4bd9a38a576d button.colab-df-convert');\n",
              "        buttonEl.style.display =\n",
              "          google.colab.kernel.accessAllowed ? 'block' : 'none';\n",
              "\n",
              "        async function convertToInteractive(key) {\n",
              "          const element = document.querySelector('#df-c31b49d8-f7b9-4f4e-ab28-4bd9a38a576d');\n",
              "          const dataTable =\n",
              "            await google.colab.kernel.invokeFunction('convertToInteractive',\n",
              "                                                     [key], {});\n",
              "          if (!dataTable) return;\n",
              "\n",
              "          const docLinkHtml = 'Like what you see? Visit the ' +\n",
              "            '<a target=\"_blank\" href=https://colab.research.google.com/notebooks/data_table.ipynb>data table notebook</a>'\n",
              "            + ' to learn more about interactive tables.';\n",
              "          element.innerHTML = '';\n",
              "          dataTable['output_type'] = 'display_data';\n",
              "          await google.colab.output.renderOutput(dataTable, element);\n",
              "          const docLink = document.createElement('div');\n",
              "          docLink.innerHTML = docLinkHtml;\n",
              "          element.appendChild(docLink);\n",
              "        }\n",
              "      </script>\n",
              "    </div>\n",
              "  </div>\n",
              "  "
            ],
            "text/plain": [
              "                                  euler  ...                                             symbol\n",
              "0     ./kit-molan/dataset/00001_mmm.xml  ...  /ps/project/conditional_action_gen/asymov/kit-...\n",
              "1     ./kit-molan/dataset/00002_mmm.xml  ...  /ps/project/conditional_action_gen/asymov/kit-...\n",
              "2     ./kit-molan/dataset/00003_mmm.xml  ...  /ps/project/conditional_action_gen/asymov/kit-...\n",
              "3     ./kit-molan/dataset/00004_mmm.xml  ...  /ps/project/conditional_action_gen/asymov/kit-...\n",
              "4     ./kit-molan/dataset/00004_mmm.xml  ...  /ps/project/conditional_action_gen/asymov/kit-...\n",
              "...                                 ...  ...                                                ...\n",
              "7247  ./kit-molan/dataset/03962_mmm.xml  ...  /ps/project/conditional_action_gen/asymov/kit-...\n",
              "7248  ./kit-molan/dataset/03963_mmm.xml  ...  /ps/project/conditional_action_gen/asymov/kit-...\n",
              "7249  ./kit-molan/dataset/03964_mmm.xml  ...  /ps/project/conditional_action_gen/asymov/kit-...\n",
              "7250  ./kit-molan/dataset/03965_mmm.xml  ...  /ps/project/conditional_action_gen/asymov/kit-...\n",
              "7251  ./kit-molan/dataset/03966_mmm.xml  ...  /ps/project/conditional_action_gen/asymov/kit-...\n",
              "\n",
              "[7252 rows x 8 columns]"
            ]
          },
          "execution_count": 38,
          "metadata": {},
          "output_type": "execute_result"
        }
      ],
      "source": [
        "\n",
        "base_path = '/content/drive/Shareddrives/vid tokenization/asymov/packages/Complextext2animation/src/'\n",
        "df=pd.read_hdf(base_path + 'dataProcessing/data.h5', 'df')\n",
        "df"
      ]
    },
    {
      "cell_type": "code",
      "execution_count": null,
      "metadata": {
        "colab": {
          "base_uri": "https://localhost:8080/",
          "height": 938
        },
        "id": "1QZGOWeLqDZI",
        "outputId": "a906de61-e61f-4530-f219-6204d5b1824b"
      },
      "outputs": [
        {
          "data": {
            "text/html": [
              "\n",
              "  <div id=\"df-60050008-d30e-41d5-8eb7-fc3501cf945b\">\n",
              "    <div class=\"colab-df-container\">\n",
              "      <div>\n",
              "<style scoped>\n",
              "    .dataframe tbody tr th:only-of-type {\n",
              "        vertical-align: middle;\n",
              "    }\n",
              "\n",
              "    .dataframe tbody tr th {\n",
              "        vertical-align: top;\n",
              "    }\n",
              "\n",
              "    .dataframe thead th {\n",
              "        text-align: right;\n",
              "    }\n",
              "</style>\n",
              "<table border=\"1\" class=\"dataframe\">\n",
              "  <thead>\n",
              "    <tr style=\"text-align: right;\">\n",
              "      <th></th>\n",
              "      <th>euler</th>\n",
              "      <th>descriptions</th>\n",
              "      <th>quaternion</th>\n",
              "      <th>axis-angle</th>\n",
              "      <th>fke</th>\n",
              "      <th>rifke</th>\n",
              "      <th>perplexity</th>\n",
              "      <th>symbol</th>\n",
              "    </tr>\n",
              "  </thead>\n",
              "  <tbody>\n",
              "    <tr>\n",
              "      <th>0</th>\n",
              "      <td>./kit-molan/dataset/02968_mmm.xml</td>\n",
              "      <td>A person is walking forward very slowly while ...</td>\n",
              "      <td>./kit-molan/dataset/02968_quat.csv</td>\n",
              "      <td>./kit-molan/dataset/02968_ax.csv</td>\n",
              "      <td>./kit-molan/dataset/02968_fke.csv</td>\n",
              "      <td>./kit-molan/dataset/02968_rifke.csv</td>\n",
              "      <td>9.46775</td>\n",
              "      <td>/ps/project/conditional_action_gen/asymov/kit-...</td>\n",
              "    </tr>\n",
              "    <tr>\n",
              "      <th>1</th>\n",
              "      <td>./kit-molan/dataset/00550_mmm.xml</td>\n",
              "      <td>A person walks forward at medium speed.</td>\n",
              "      <td>./kit-molan/dataset/00550_quat.csv</td>\n",
              "      <td>./kit-molan/dataset/00550_ax.csv</td>\n",
              "      <td>./kit-molan/dataset/00550_fke.csv</td>\n",
              "      <td>./kit-molan/dataset/00550_rifke.csv</td>\n",
              "      <td>2.84528</td>\n",
              "      <td>/ps/project/conditional_action_gen/asymov/kit-...</td>\n",
              "    </tr>\n",
              "    <tr>\n",
              "      <th>2</th>\n",
              "      <td>./kit-molan/dataset/01899_mmm.xml</td>\n",
              "      <td>a person walks forwards</td>\n",
              "      <td>./kit-molan/dataset/01899_quat.csv</td>\n",
              "      <td>./kit-molan/dataset/01899_ax.csv</td>\n",
              "      <td>./kit-molan/dataset/01899_fke.csv</td>\n",
              "      <td>./kit-molan/dataset/01899_rifke.csv</td>\n",
              "      <td>3.55011</td>\n",
              "      <td>/ps/project/conditional_action_gen/asymov/kit-...</td>\n",
              "    </tr>\n",
              "    <tr>\n",
              "      <th>3</th>\n",
              "      <td>./kit-molan/dataset/03751_mmm.xml</td>\n",
              "      <td></td>\n",
              "      <td>./kit-molan/dataset/03751_quat.csv</td>\n",
              "      <td>./kit-molan/dataset/03751_ax.csv</td>\n",
              "      <td>./kit-molan/dataset/03751_fke.csv</td>\n",
              "      <td>./kit-molan/dataset/03751_rifke.csv</td>\n",
              "      <td></td>\n",
              "      <td>/ps/project/conditional_action_gen/asymov/kit-...</td>\n",
              "    </tr>\n",
              "    <tr>\n",
              "      <th>4</th>\n",
              "      <td>./kit-molan/dataset/02052_mmm.xml</td>\n",
              "      <td>A person raises his hands in a T pose and knee...</td>\n",
              "      <td>./kit-molan/dataset/02052_quat.csv</td>\n",
              "      <td>./kit-molan/dataset/02052_ax.csv</td>\n",
              "      <td>./kit-molan/dataset/02052_fke.csv</td>\n",
              "      <td>./kit-molan/dataset/02052_rifke.csv</td>\n",
              "      <td>8.47807</td>\n",
              "      <td>/ps/project/conditional_action_gen/asymov/kit-...</td>\n",
              "    </tr>\n",
              "    <tr>\n",
              "      <th>...</th>\n",
              "      <td>...</td>\n",
              "      <td>...</td>\n",
              "      <td>...</td>\n",
              "      <td>...</td>\n",
              "      <td>...</td>\n",
              "      <td>...</td>\n",
              "      <td>...</td>\n",
              "      <td>...</td>\n",
              "    </tr>\n",
              "    <tr>\n",
              "      <th>7247</th>\n",
              "      <td>./kit-molan/dataset/00168_mmm.xml</td>\n",
              "      <td>A human goes slowly 5 steps backward.</td>\n",
              "      <td>./kit-molan/dataset/00168_quat.csv</td>\n",
              "      <td>./kit-molan/dataset/00168_ax.csv</td>\n",
              "      <td>./kit-molan/dataset/00168_fke.csv</td>\n",
              "      <td>./kit-molan/dataset/00168_rifke.csv</td>\n",
              "      <td>8.32939</td>\n",
              "      <td>/ps/project/conditional_action_gen/asymov/kit-...</td>\n",
              "    </tr>\n",
              "    <tr>\n",
              "      <th>7248</th>\n",
              "      <td>./kit-molan/dataset/00168_mmm.xml</td>\n",
              "      <td>A person takes 5 steps backwards staring with ...</td>\n",
              "      <td>./kit-molan/dataset/00168_quat.csv</td>\n",
              "      <td>./kit-molan/dataset/00168_ax.csv</td>\n",
              "      <td>./kit-molan/dataset/00168_fke.csv</td>\n",
              "      <td>./kit-molan/dataset/00168_rifke.csv</td>\n",
              "      <td>7.18742</td>\n",
              "      <td>/ps/project/conditional_action_gen/asymov/kit-...</td>\n",
              "    </tr>\n",
              "    <tr>\n",
              "      <th>7249</th>\n",
              "      <td>./kit-molan/dataset/00168_mmm.xml</td>\n",
              "      <td>A person walks backwards.</td>\n",
              "      <td>./kit-molan/dataset/00168_quat.csv</td>\n",
              "      <td>./kit-molan/dataset/00168_ax.csv</td>\n",
              "      <td>./kit-molan/dataset/00168_fke.csv</td>\n",
              "      <td>./kit-molan/dataset/00168_rifke.csv</td>\n",
              "      <td>3.70885</td>\n",
              "      <td>/ps/project/conditional_action_gen/asymov/kit-...</td>\n",
              "    </tr>\n",
              "    <tr>\n",
              "      <th>7250</th>\n",
              "      <td>./kit-molan/dataset/00168_mmm.xml</td>\n",
              "      <td>A person walks five steps backwards.</td>\n",
              "      <td>./kit-molan/dataset/00168_quat.csv</td>\n",
              "      <td>./kit-molan/dataset/00168_ax.csv</td>\n",
              "      <td>./kit-molan/dataset/00168_fke.csv</td>\n",
              "      <td>./kit-molan/dataset/00168_rifke.csv</td>\n",
              "      <td>6.23208</td>\n",
              "      <td>/ps/project/conditional_action_gen/asymov/kit-...</td>\n",
              "    </tr>\n",
              "    <tr>\n",
              "      <th>7251</th>\n",
              "      <td>./kit-molan/dataset/03417_mmm.xml</td>\n",
              "      <td>A person walks straight, turns around, walks b...</td>\n",
              "      <td>./kit-molan/dataset/03417_quat.csv</td>\n",
              "      <td>./kit-molan/dataset/03417_ax.csv</td>\n",
              "      <td>./kit-molan/dataset/03417_fke.csv</td>\n",
              "      <td>./kit-molan/dataset/03417_rifke.csv</td>\n",
              "      <td>17.7083</td>\n",
              "      <td>/ps/project/conditional_action_gen/asymov/kit-...</td>\n",
              "    </tr>\n",
              "  </tbody>\n",
              "</table>\n",
              "<p>7252 rows × 8 columns</p>\n",
              "</div>\n",
              "      <button class=\"colab-df-convert\" onclick=\"convertToInteractive('df-60050008-d30e-41d5-8eb7-fc3501cf945b')\"\n",
              "              title=\"Convert this dataframe to an interactive table.\"\n",
              "              style=\"display:none;\">\n",
              "        \n",
              "  <svg xmlns=\"http://www.w3.org/2000/svg\" height=\"24px\"viewBox=\"0 0 24 24\"\n",
              "       width=\"24px\">\n",
              "    <path d=\"M0 0h24v24H0V0z\" fill=\"none\"/>\n",
              "    <path d=\"M18.56 5.44l.94 2.06.94-2.06 2.06-.94-2.06-.94-.94-2.06-.94 2.06-2.06.94zm-11 1L8.5 8.5l.94-2.06 2.06-.94-2.06-.94L8.5 2.5l-.94 2.06-2.06.94zm10 10l.94 2.06.94-2.06 2.06-.94-2.06-.94-.94-2.06-.94 2.06-2.06.94z\"/><path d=\"M17.41 7.96l-1.37-1.37c-.4-.4-.92-.59-1.43-.59-.52 0-1.04.2-1.43.59L10.3 9.45l-7.72 7.72c-.78.78-.78 2.05 0 2.83L4 21.41c.39.39.9.59 1.41.59.51 0 1.02-.2 1.41-.59l7.78-7.78 2.81-2.81c.8-.78.8-2.07 0-2.86zM5.41 20L4 18.59l7.72-7.72 1.47 1.35L5.41 20z\"/>\n",
              "  </svg>\n",
              "      </button>\n",
              "      \n",
              "  <style>\n",
              "    .colab-df-container {\n",
              "      display:flex;\n",
              "      flex-wrap:wrap;\n",
              "      gap: 12px;\n",
              "    }\n",
              "\n",
              "    .colab-df-convert {\n",
              "      background-color: #E8F0FE;\n",
              "      border: none;\n",
              "      border-radius: 50%;\n",
              "      cursor: pointer;\n",
              "      display: none;\n",
              "      fill: #1967D2;\n",
              "      height: 32px;\n",
              "      padding: 0 0 0 0;\n",
              "      width: 32px;\n",
              "    }\n",
              "\n",
              "    .colab-df-convert:hover {\n",
              "      background-color: #E2EBFA;\n",
              "      box-shadow: 0px 1px 2px rgba(60, 64, 67, 0.3), 0px 1px 3px 1px rgba(60, 64, 67, 0.15);\n",
              "      fill: #174EA6;\n",
              "    }\n",
              "\n",
              "    [theme=dark] .colab-df-convert {\n",
              "      background-color: #3B4455;\n",
              "      fill: #D2E3FC;\n",
              "    }\n",
              "\n",
              "    [theme=dark] .colab-df-convert:hover {\n",
              "      background-color: #434B5C;\n",
              "      box-shadow: 0px 1px 3px 1px rgba(0, 0, 0, 0.15);\n",
              "      filter: drop-shadow(0px 1px 2px rgba(0, 0, 0, 0.3));\n",
              "      fill: #FFFFFF;\n",
              "    }\n",
              "  </style>\n",
              "\n",
              "      <script>\n",
              "        const buttonEl =\n",
              "          document.querySelector('#df-60050008-d30e-41d5-8eb7-fc3501cf945b button.colab-df-convert');\n",
              "        buttonEl.style.display =\n",
              "          google.colab.kernel.accessAllowed ? 'block' : 'none';\n",
              "\n",
              "        async function convertToInteractive(key) {\n",
              "          const element = document.querySelector('#df-60050008-d30e-41d5-8eb7-fc3501cf945b');\n",
              "          const dataTable =\n",
              "            await google.colab.kernel.invokeFunction('convertToInteractive',\n",
              "                                                     [key], {});\n",
              "          if (!dataTable) return;\n",
              "\n",
              "          const docLinkHtml = 'Like what you see? Visit the ' +\n",
              "            '<a target=\"_blank\" href=https://colab.research.google.com/notebooks/data_table.ipynb>data table notebook</a>'\n",
              "            + ' to learn more about interactive tables.';\n",
              "          element.innerHTML = '';\n",
              "          dataTable['output_type'] = 'display_data';\n",
              "          await google.colab.output.renderOutput(dataTable, element);\n",
              "          const docLink = document.createElement('div');\n",
              "          docLink.innerHTML = docLinkHtml;\n",
              "          element.appendChild(docLink);\n",
              "        }\n",
              "      </script>\n",
              "    </div>\n",
              "  </div>\n",
              "  "
            ],
            "text/plain": [
              "                                  euler  ...                                             symbol\n",
              "0     ./kit-molan/dataset/02968_mmm.xml  ...  /ps/project/conditional_action_gen/asymov/kit-...\n",
              "1     ./kit-molan/dataset/00550_mmm.xml  ...  /ps/project/conditional_action_gen/asymov/kit-...\n",
              "2     ./kit-molan/dataset/01899_mmm.xml  ...  /ps/project/conditional_action_gen/asymov/kit-...\n",
              "3     ./kit-molan/dataset/03751_mmm.xml  ...  /ps/project/conditional_action_gen/asymov/kit-...\n",
              "4     ./kit-molan/dataset/02052_mmm.xml  ...  /ps/project/conditional_action_gen/asymov/kit-...\n",
              "...                                 ...  ...                                                ...\n",
              "7247  ./kit-molan/dataset/00168_mmm.xml  ...  /ps/project/conditional_action_gen/asymov/kit-...\n",
              "7248  ./kit-molan/dataset/00168_mmm.xml  ...  /ps/project/conditional_action_gen/asymov/kit-...\n",
              "7249  ./kit-molan/dataset/00168_mmm.xml  ...  /ps/project/conditional_action_gen/asymov/kit-...\n",
              "7250  ./kit-molan/dataset/00168_mmm.xml  ...  /ps/project/conditional_action_gen/asymov/kit-...\n",
              "7251  ./kit-molan/dataset/03417_mmm.xml  ...  /ps/project/conditional_action_gen/asymov/kit-...\n",
              "\n",
              "[7252 rows x 8 columns]"
            ]
          },
          "execution_count": 17,
          "metadata": {},
          "output_type": "execute_result"
        }
      ],
      "source": [
        "df['euler']=df['euler'].apply(\n",
        "    lambda x: x[7:]\n",
        ") \n",
        "df['quaternion']=df['quaternion'].apply(\n",
        "    lambda x: x[7:]\n",
        ") \n",
        "df['axis-angle']=df['axis-angle'].apply(\n",
        "    lambda x: x[7:]\n",
        ") \n",
        "df['fke']=df['fke'].apply(\n",
        "    lambda x: x[7:]\n",
        ") \n",
        "df['rifke']=df['rifke'].apply(\n",
        "    lambda x: x[7:]\n",
        ")\n",
        "df"
      ]
    },
    {
      "cell_type": "code",
      "execution_count": null,
      "metadata": {
        "colab": {
          "base_uri": "https://localhost:8080/",
          "height": 852
        },
        "id": "d-Lyk9FL4B3W",
        "outputId": "a2f9ddb1-00d6-4043-e1e7-9cf034dc78c1"
      },
      "outputs": [
        {
          "data": {
            "text/html": [
              "\n",
              "  <div id=\"df-659612a6-9f6a-4779-ab48-7e2bb6f83d95\">\n",
              "    <div class=\"colab-df-container\">\n",
              "      <div>\n",
              "<style scoped>\n",
              "    .dataframe tbody tr th:only-of-type {\n",
              "        vertical-align: middle;\n",
              "    }\n",
              "\n",
              "    .dataframe tbody tr th {\n",
              "        vertical-align: top;\n",
              "    }\n",
              "\n",
              "    .dataframe thead th {\n",
              "        text-align: right;\n",
              "    }\n",
              "</style>\n",
              "<table border=\"1\" class=\"dataframe\">\n",
              "  <thead>\n",
              "    <tr style=\"text-align: right;\">\n",
              "      <th></th>\n",
              "      <th>euler</th>\n",
              "      <th>descriptions</th>\n",
              "      <th>quaternion</th>\n",
              "      <th>axis-angle</th>\n",
              "      <th>fke</th>\n",
              "      <th>rifke</th>\n",
              "      <th>perplexity</th>\n",
              "      <th>symbol</th>\n",
              "    </tr>\n",
              "  </thead>\n",
              "  <tbody>\n",
              "    <tr>\n",
              "      <th>0</th>\n",
              "      <td>./kit-molan/dataset/00001_mmm.xml</td>\n",
              "      <td>A person is walking forwards.</td>\n",
              "      <td>./kit-molan/dataset/00001_quat.csv</td>\n",
              "      <td>./kit-molan/dataset/00001_ax.csv</td>\n",
              "      <td>./kit-molan/dataset/00001_fke.csv</td>\n",
              "      <td>./kit-molan/dataset/00001_rifke.csv</td>\n",
              "      <td>4.8936</td>\n",
              "      <td>/ps/project/conditional_action_gen/asymov/kit-...</td>\n",
              "    </tr>\n",
              "    <tr>\n",
              "      <th>1</th>\n",
              "      <td>./kit-molan/dataset/00002_mmm.xml</td>\n",
              "      <td>A person walks 4 steps forward.</td>\n",
              "      <td>./kit-molan/dataset/00002_quat.csv</td>\n",
              "      <td>./kit-molan/dataset/00002_ax.csv</td>\n",
              "      <td>./kit-molan/dataset/00002_fke.csv</td>\n",
              "      <td>./kit-molan/dataset/00002_rifke.csv</td>\n",
              "      <td>2.9028</td>\n",
              "      <td>/ps/project/conditional_action_gen/asymov/kit-...</td>\n",
              "    </tr>\n",
              "    <tr>\n",
              "      <th>2</th>\n",
              "      <td>./kit-molan/dataset/00003_mmm.xml</td>\n",
              "      <td>A human walking</td>\n",
              "      <td>./kit-molan/dataset/00003_quat.csv</td>\n",
              "      <td>./kit-molan/dataset/00003_ax.csv</td>\n",
              "      <td>./kit-molan/dataset/00003_fke.csv</td>\n",
              "      <td>./kit-molan/dataset/00003_rifke.csv</td>\n",
              "      <td>11.4383</td>\n",
              "      <td>/ps/project/conditional_action_gen/asymov/kit-...</td>\n",
              "    </tr>\n",
              "    <tr>\n",
              "      <th>3</th>\n",
              "      <td>./kit-molan/dataset/00004_mmm.xml</td>\n",
              "      <td>A person walks forward at medium speed.</td>\n",
              "      <td>./kit-molan/dataset/00004_quat.csv</td>\n",
              "      <td>./kit-molan/dataset/00004_ax.csv</td>\n",
              "      <td>./kit-molan/dataset/00004_fke.csv</td>\n",
              "      <td>./kit-molan/dataset/00004_rifke.csv</td>\n",
              "      <td>2.84528</td>\n",
              "      <td>/ps/project/conditional_action_gen/asymov/kit-...</td>\n",
              "    </tr>\n",
              "    <tr>\n",
              "      <th>4</th>\n",
              "      <td>./kit-molan/dataset/00004_mmm.xml</td>\n",
              "      <td>human slowly goes forward</td>\n",
              "      <td>./kit-molan/dataset/00004_quat.csv</td>\n",
              "      <td>./kit-molan/dataset/00004_ax.csv</td>\n",
              "      <td>./kit-molan/dataset/00004_fke.csv</td>\n",
              "      <td>./kit-molan/dataset/00004_rifke.csv</td>\n",
              "      <td>7.81427</td>\n",
              "      <td>/ps/project/conditional_action_gen/asymov/kit-...</td>\n",
              "    </tr>\n",
              "    <tr>\n",
              "      <th>...</th>\n",
              "      <td>...</td>\n",
              "      <td>...</td>\n",
              "      <td>...</td>\n",
              "      <td>...</td>\n",
              "      <td>...</td>\n",
              "      <td>...</td>\n",
              "      <td>...</td>\n",
              "      <td>...</td>\n",
              "    </tr>\n",
              "    <tr>\n",
              "      <th>7247</th>\n",
              "      <td>./kit-molan/dataset/03962_mmm.xml</td>\n",
              "      <td>A person runs straight forward.</td>\n",
              "      <td>./kit-molan/dataset/03962_quat.csv</td>\n",
              "      <td>./kit-molan/dataset/03962_ax.csv</td>\n",
              "      <td>./kit-molan/dataset/03962_fke.csv</td>\n",
              "      <td>./kit-molan/dataset/03962_rifke.csv</td>\n",
              "      <td>6.23501</td>\n",
              "      <td>/ps/project/conditional_action_gen/asymov/kit-...</td>\n",
              "    </tr>\n",
              "    <tr>\n",
              "      <th>7248</th>\n",
              "      <td>./kit-molan/dataset/03963_mmm.xml</td>\n",
              "      <td></td>\n",
              "      <td>./kit-molan/dataset/03963_quat.csv</td>\n",
              "      <td>./kit-molan/dataset/03963_ax.csv</td>\n",
              "      <td>./kit-molan/dataset/03963_fke.csv</td>\n",
              "      <td>./kit-molan/dataset/03963_rifke.csv</td>\n",
              "      <td></td>\n",
              "      <td>/ps/project/conditional_action_gen/asymov/kit-...</td>\n",
              "    </tr>\n",
              "    <tr>\n",
              "      <th>7249</th>\n",
              "      <td>./kit-molan/dataset/03964_mmm.xml</td>\n",
              "      <td>A person is sprinting up and down a small hill...</td>\n",
              "      <td>./kit-molan/dataset/03964_quat.csv</td>\n",
              "      <td>./kit-molan/dataset/03964_ax.csv</td>\n",
              "      <td>./kit-molan/dataset/03964_fke.csv</td>\n",
              "      <td>./kit-molan/dataset/03964_rifke.csv</td>\n",
              "      <td>10.7536</td>\n",
              "      <td>/ps/project/conditional_action_gen/asymov/kit-...</td>\n",
              "    </tr>\n",
              "    <tr>\n",
              "      <th>7250</th>\n",
              "      <td>./kit-molan/dataset/03965_mmm.xml</td>\n",
              "      <td>A person runs forward, briefly touches the gro...</td>\n",
              "      <td>./kit-molan/dataset/03965_quat.csv</td>\n",
              "      <td>./kit-molan/dataset/03965_ax.csv</td>\n",
              "      <td>./kit-molan/dataset/03965_fke.csv</td>\n",
              "      <td>./kit-molan/dataset/03965_rifke.csv</td>\n",
              "      <td>13.0177</td>\n",
              "      <td>/ps/project/conditional_action_gen/asymov/kit-...</td>\n",
              "    </tr>\n",
              "    <tr>\n",
              "      <th>7251</th>\n",
              "      <td>./kit-molan/dataset/03966_mmm.xml</td>\n",
              "      <td>a person stumbles on the ground but gets up an...</td>\n",
              "      <td>./kit-molan/dataset/03966_quat.csv</td>\n",
              "      <td>./kit-molan/dataset/03966_ax.csv</td>\n",
              "      <td>./kit-molan/dataset/03966_fke.csv</td>\n",
              "      <td>./kit-molan/dataset/03966_rifke.csv</td>\n",
              "      <td>22.5325</td>\n",
              "      <td>/ps/project/conditional_action_gen/asymov/kit-...</td>\n",
              "    </tr>\n",
              "  </tbody>\n",
              "</table>\n",
              "<p>7252 rows × 8 columns</p>\n",
              "</div>\n",
              "      <button class=\"colab-df-convert\" onclick=\"convertToInteractive('df-659612a6-9f6a-4779-ab48-7e2bb6f83d95')\"\n",
              "              title=\"Convert this dataframe to an interactive table.\"\n",
              "              style=\"display:none;\">\n",
              "        \n",
              "  <svg xmlns=\"http://www.w3.org/2000/svg\" height=\"24px\"viewBox=\"0 0 24 24\"\n",
              "       width=\"24px\">\n",
              "    <path d=\"M0 0h24v24H0V0z\" fill=\"none\"/>\n",
              "    <path d=\"M18.56 5.44l.94 2.06.94-2.06 2.06-.94-2.06-.94-.94-2.06-.94 2.06-2.06.94zm-11 1L8.5 8.5l.94-2.06 2.06-.94-2.06-.94L8.5 2.5l-.94 2.06-2.06.94zm10 10l.94 2.06.94-2.06 2.06-.94-2.06-.94-.94-2.06-.94 2.06-2.06.94z\"/><path d=\"M17.41 7.96l-1.37-1.37c-.4-.4-.92-.59-1.43-.59-.52 0-1.04.2-1.43.59L10.3 9.45l-7.72 7.72c-.78.78-.78 2.05 0 2.83L4 21.41c.39.39.9.59 1.41.59.51 0 1.02-.2 1.41-.59l7.78-7.78 2.81-2.81c.8-.78.8-2.07 0-2.86zM5.41 20L4 18.59l7.72-7.72 1.47 1.35L5.41 20z\"/>\n",
              "  </svg>\n",
              "      </button>\n",
              "      \n",
              "  <style>\n",
              "    .colab-df-container {\n",
              "      display:flex;\n",
              "      flex-wrap:wrap;\n",
              "      gap: 12px;\n",
              "    }\n",
              "\n",
              "    .colab-df-convert {\n",
              "      background-color: #E8F0FE;\n",
              "      border: none;\n",
              "      border-radius: 50%;\n",
              "      cursor: pointer;\n",
              "      display: none;\n",
              "      fill: #1967D2;\n",
              "      height: 32px;\n",
              "      padding: 0 0 0 0;\n",
              "      width: 32px;\n",
              "    }\n",
              "\n",
              "    .colab-df-convert:hover {\n",
              "      background-color: #E2EBFA;\n",
              "      box-shadow: 0px 1px 2px rgba(60, 64, 67, 0.3), 0px 1px 3px 1px rgba(60, 64, 67, 0.15);\n",
              "      fill: #174EA6;\n",
              "    }\n",
              "\n",
              "    [theme=dark] .colab-df-convert {\n",
              "      background-color: #3B4455;\n",
              "      fill: #D2E3FC;\n",
              "    }\n",
              "\n",
              "    [theme=dark] .colab-df-convert:hover {\n",
              "      background-color: #434B5C;\n",
              "      box-shadow: 0px 1px 3px 1px rgba(0, 0, 0, 0.15);\n",
              "      filter: drop-shadow(0px 1px 2px rgba(0, 0, 0, 0.3));\n",
              "      fill: #FFFFFF;\n",
              "    }\n",
              "  </style>\n",
              "\n",
              "      <script>\n",
              "        const buttonEl =\n",
              "          document.querySelector('#df-659612a6-9f6a-4779-ab48-7e2bb6f83d95 button.colab-df-convert');\n",
              "        buttonEl.style.display =\n",
              "          google.colab.kernel.accessAllowed ? 'block' : 'none';\n",
              "\n",
              "        async function convertToInteractive(key) {\n",
              "          const element = document.querySelector('#df-659612a6-9f6a-4779-ab48-7e2bb6f83d95');\n",
              "          const dataTable =\n",
              "            await google.colab.kernel.invokeFunction('convertToInteractive',\n",
              "                                                     [key], {});\n",
              "          if (!dataTable) return;\n",
              "\n",
              "          const docLinkHtml = 'Like what you see? Visit the ' +\n",
              "            '<a target=\"_blank\" href=https://colab.research.google.com/notebooks/data_table.ipynb>data table notebook</a>'\n",
              "            + ' to learn more about interactive tables.';\n",
              "          element.innerHTML = '';\n",
              "          dataTable['output_type'] = 'display_data';\n",
              "          await google.colab.output.renderOutput(dataTable, element);\n",
              "          const docLink = document.createElement('div');\n",
              "          docLink.innerHTML = docLinkHtml;\n",
              "          element.appendChild(docLink);\n",
              "        }\n",
              "      </script>\n",
              "    </div>\n",
              "  </div>\n",
              "  "
            ],
            "text/plain": [
              "                                  euler  ...                                             symbol\n",
              "0     ./kit-molan/dataset/00001_mmm.xml  ...  /ps/project/conditional_action_gen/asymov/kit-...\n",
              "1     ./kit-molan/dataset/00002_mmm.xml  ...  /ps/project/conditional_action_gen/asymov/kit-...\n",
              "2     ./kit-molan/dataset/00003_mmm.xml  ...  /ps/project/conditional_action_gen/asymov/kit-...\n",
              "3     ./kit-molan/dataset/00004_mmm.xml  ...  /ps/project/conditional_action_gen/asymov/kit-...\n",
              "4     ./kit-molan/dataset/00004_mmm.xml  ...  /ps/project/conditional_action_gen/asymov/kit-...\n",
              "...                                 ...  ...                                                ...\n",
              "7247  ./kit-molan/dataset/03962_mmm.xml  ...  /ps/project/conditional_action_gen/asymov/kit-...\n",
              "7248  ./kit-molan/dataset/03963_mmm.xml  ...  /ps/project/conditional_action_gen/asymov/kit-...\n",
              "7249  ./kit-molan/dataset/03964_mmm.xml  ...  /ps/project/conditional_action_gen/asymov/kit-...\n",
              "7250  ./kit-molan/dataset/03965_mmm.xml  ...  /ps/project/conditional_action_gen/asymov/kit-...\n",
              "7251  ./kit-molan/dataset/03966_mmm.xml  ...  /ps/project/conditional_action_gen/asymov/kit-...\n",
              "\n",
              "[7252 rows x 8 columns]"
            ]
          },
          "execution_count": 18,
          "metadata": {},
          "output_type": "execute_result"
        }
      ],
      "source": [
        "df.sort_values(by = 'euler').reset_index(drop=True)"
      ]
    },
    {
      "cell_type": "code",
      "execution_count": null,
      "metadata": {
        "colab": {
          "base_uri": "https://localhost:8080/"
        },
        "id": "7HmvRgR_7WlH",
        "outputId": "e6b7b7ab-70c1-4d92-d90e-57da57f8755d"
      },
      "outputs": [
        {
          "name": "stderr",
          "output_type": "stream",
          "text": [
            "/usr/local/lib/python3.7/dist-packages/pandas/core/generic.py:2718: PerformanceWarning: \n",
            "your performance may suffer as PyTables will pickle object types that it cannot\n",
            "map directly to c-types [inferred_type->mixed,key->block0_values] [items->Index(['euler', 'descriptions', 'quaternion', 'axis-angle', 'fke', 'rifke',\n",
            "       'perplexity', 'symbol'],\n",
            "      dtype='object')]\n",
            "\n",
            "  encoding=encoding,\n"
          ]
        }
      ],
      "source": [
        "pd.DataFrame(df.sort_values(by = 'euler').reset_index(drop=True)).to_hdf(base_path + 'dataProcessing/data_new.h5', key='df', mode='w')"
      ]
    },
    {
      "cell_type": "code",
      "execution_count": null,
      "metadata": {
        "id": "YY7uWu2-8Na4"
      },
      "outputs": [],
      "source": []
    }
  ],
  "metadata": {
    "colab": {
      "collapsed_sections": [
        "wJx8-gmBaaCp",
        "tx3Tx_pAbFL8",
        "rOQRR1_44C7j",
        "n62HeTtObX_m",
        "6zhEA-GN1IB9"
      ],
      "name": "kit.ipynb",
      "provenance": []
    },
    "kernelspec": {
      "display_name": "Python 3",
      "name": "python3"
    },
    "language_info": {
      "name": "python"
    }
  },
  "nbformat": 4,
  "nbformat_minor": 0
}
